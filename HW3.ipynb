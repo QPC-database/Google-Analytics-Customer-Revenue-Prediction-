{
 "cells": [
  {
   "cell_type": "code",
   "execution_count": 1,
   "metadata": {},
   "outputs": [],
   "source": [
    "def load_df(csv_path='../input/train.csv', nrows=None):\n",
    "    JSON_COLUMNS = ['device', 'geoNetwork', 'totals', 'trafficSource']\n",
    "    \n",
    "    df = pd.read_csv(csv_path, \n",
    "                     converters={column: json.loads for column in JSON_COLUMNS}, \n",
    "                     dtype={'fullVisitorId': 'str'}, # Important!!\n",
    "                     nrows=nrows)\n",
    "    \n",
    "    for column in JSON_COLUMNS:\n",
    "        column_as_df = json_normalize(df[column])\n",
    "        column_as_df.columns = [f\"{column}.{subcolumn}\" for subcolumn in column_as_df.columns]\n",
    "        df = df.drop(column, axis=1).merge(column_as_df, right_index=True, left_index=True)\n",
    "    print(f\"Loaded {os.path.basename(csv_path)}. Shape: {df.shape}\")\n",
    "    return df"
   ]
  },
  {
   "cell_type": "code",
   "execution_count": 5,
   "metadata": {},
   "outputs": [
    {
     "name": "stderr",
     "output_type": "stream",
     "text": [
      "/anaconda3/lib/python3.6/site-packages/IPython/core/interactiveshell.py:2785: DtypeWarning: Columns (3) have mixed types. Specify dtype option on import or set low_memory=False.\n",
      "  interactivity=interactivity, compiler=compiler, result=result)\n"
     ]
    }
   ],
   "source": [
    "import lightgbm\n",
    "import pandas as pd\n",
    "import numpy as np\n",
    "import time\n",
    "import lightgbm as lgb\n",
    "from sklearn.metrics import mean_squared_error\n",
    "from sklearn.model_selection import KFold\n",
    "import matplotlib.pyplot as plt\n",
    "import seaborn as sns\n",
    "\n",
    "import os\n",
    "import json\n",
    "import numpy as np\n",
    "import pandas as pd\n",
    "from pandas.io.json import json_normalize\n",
    "\n",
    "train = pd.read_csv(\"train.csv\",sep=',')\n",
    "test = pd.read_csv(\"test.csv\",sep=',')"
   ]
  },
  {
   "cell_type": "code",
   "execution_count": 6,
   "metadata": {},
   "outputs": [],
   "source": [
    "columns_to_normalize = ['device', 'geoNetwork','totals', 'trafficSource']\n",
    "def normalize_json_data(filename):\n",
    "    path = filename\n",
    "    df = pd.read_csv(path, converters={column: json.loads for column in columns_to_normalize}, \n",
    "                     dtype={'fullVisitorId': 'str'})\n",
    "    \n",
    "    for column in columns_to_normalize:\n",
    "        column_as_df = json_normalize(df[column])\n",
    "        column_as_df.columns = [f\"{column}_{subcolumn}\" for subcolumn in column_as_df.columns]\n",
    "        df = df.drop(column, axis=1).merge(column_as_df, right_index=True, left_index=True)\n",
    "    return df\n",
    "\n",
    "train = normalize_json_data(\"train.csv\")\n",
    "test = normalize_json_data(\"test.csv\")"
   ]
  },
  {
   "cell_type": "code",
   "execution_count": 7,
   "metadata": {},
   "outputs": [
    {
     "data": {
      "text/plain": [
       "(903653, 55)"
      ]
     },
     "execution_count": 7,
     "metadata": {},
     "output_type": "execute_result"
    }
   ],
   "source": [
    "train.shape"
   ]
  },
  {
   "cell_type": "code",
   "execution_count": 8,
   "metadata": {},
   "outputs": [
    {
     "data": {
      "text/plain": [
       "(804684, 53)"
      ]
     },
     "execution_count": 8,
     "metadata": {},
     "output_type": "execute_result"
    }
   ],
   "source": [
    "test.shape"
   ]
  },
  {
   "cell_type": "code",
   "execution_count": 9,
   "metadata": {},
   "outputs": [
    {
     "data": {
      "text/plain": [
       "Index(['channelGrouping', 'date', 'fullVisitorId', 'sessionId',\n",
       "       'socialEngagementType', 'visitId', 'visitNumber', 'visitStartTime',\n",
       "       'device_browser', 'device_browserSize', 'device_browserVersion',\n",
       "       'device_deviceCategory', 'device_flashVersion', 'device_isMobile',\n",
       "       'device_language', 'device_mobileDeviceBranding',\n",
       "       'device_mobileDeviceInfo', 'device_mobileDeviceMarketingName',\n",
       "       'device_mobileDeviceModel', 'device_mobileInputSelector',\n",
       "       'device_operatingSystem', 'device_operatingSystemVersion',\n",
       "       'device_screenColors', 'device_screenResolution', 'geoNetwork_city',\n",
       "       'geoNetwork_cityId', 'geoNetwork_continent', 'geoNetwork_country',\n",
       "       'geoNetwork_latitude', 'geoNetwork_longitude', 'geoNetwork_metro',\n",
       "       'geoNetwork_networkDomain', 'geoNetwork_networkLocation',\n",
       "       'geoNetwork_region', 'geoNetwork_subContinent', 'totals_bounces',\n",
       "       'totals_hits', 'totals_newVisits', 'totals_pageviews',\n",
       "       'totals_transactionRevenue', 'totals_visits', 'trafficSource_adContent',\n",
       "       'trafficSource_adwordsClickInfo.adNetworkType',\n",
       "       'trafficSource_adwordsClickInfo.criteriaParameters',\n",
       "       'trafficSource_adwordsClickInfo.gclId',\n",
       "       'trafficSource_adwordsClickInfo.isVideoAd',\n",
       "       'trafficSource_adwordsClickInfo.page',\n",
       "       'trafficSource_adwordsClickInfo.slot', 'trafficSource_campaign',\n",
       "       'trafficSource_campaignCode', 'trafficSource_isTrueDirect',\n",
       "       'trafficSource_keyword', 'trafficSource_medium',\n",
       "       'trafficSource_referralPath', 'trafficSource_source'],\n",
       "      dtype='object')"
      ]
     },
     "execution_count": 9,
     "metadata": {},
     "output_type": "execute_result"
    }
   ],
   "source": [
    "train.columns"
   ]
  },
  {
   "cell_type": "code",
   "execution_count": 12,
   "metadata": {},
   "outputs": [
    {
     "data": {
      "text/html": [
       "<div>\n",
       "<style scoped>\n",
       "    .dataframe tbody tr th:only-of-type {\n",
       "        vertical-align: middle;\n",
       "    }\n",
       "\n",
       "    .dataframe tbody tr th {\n",
       "        vertical-align: top;\n",
       "    }\n",
       "\n",
       "    .dataframe thead th {\n",
       "        text-align: right;\n",
       "    }\n",
       "</style>\n",
       "<table border=\"1\" class=\"dataframe\">\n",
       "  <thead>\n",
       "    <tr style=\"text-align: right;\">\n",
       "      <th></th>\n",
       "      <th>date</th>\n",
       "      <th>visitId</th>\n",
       "      <th>visitNumber</th>\n",
       "      <th>visitStartTime</th>\n",
       "      <th>device_isMobile</th>\n",
       "    </tr>\n",
       "  </thead>\n",
       "  <tbody>\n",
       "    <tr>\n",
       "      <th>date</th>\n",
       "      <td>1.000000</td>\n",
       "      <td>0.880936</td>\n",
       "      <td>0.007536</td>\n",
       "      <td>0.880936</td>\n",
       "      <td>0.146148</td>\n",
       "    </tr>\n",
       "    <tr>\n",
       "      <th>visitId</th>\n",
       "      <td>0.880936</td>\n",
       "      <td>1.000000</td>\n",
       "      <td>0.002069</td>\n",
       "      <td>1.000000</td>\n",
       "      <td>0.144332</td>\n",
       "    </tr>\n",
       "    <tr>\n",
       "      <th>visitNumber</th>\n",
       "      <td>0.007536</td>\n",
       "      <td>0.002069</td>\n",
       "      <td>1.000000</td>\n",
       "      <td>0.002069</td>\n",
       "      <td>-0.037667</td>\n",
       "    </tr>\n",
       "    <tr>\n",
       "      <th>visitStartTime</th>\n",
       "      <td>0.880936</td>\n",
       "      <td>1.000000</td>\n",
       "      <td>0.002069</td>\n",
       "      <td>1.000000</td>\n",
       "      <td>0.144332</td>\n",
       "    </tr>\n",
       "    <tr>\n",
       "      <th>device_isMobile</th>\n",
       "      <td>0.146148</td>\n",
       "      <td>0.144332</td>\n",
       "      <td>-0.037667</td>\n",
       "      <td>0.144332</td>\n",
       "      <td>1.000000</td>\n",
       "    </tr>\n",
       "  </tbody>\n",
       "</table>\n",
       "</div>"
      ],
      "text/plain": [
       "                     date   visitId  visitNumber  visitStartTime  \\\n",
       "date             1.000000  0.880936     0.007536        0.880936   \n",
       "visitId          0.880936  1.000000     0.002069        1.000000   \n",
       "visitNumber      0.007536  0.002069     1.000000        0.002069   \n",
       "visitStartTime   0.880936  1.000000     0.002069        1.000000   \n",
       "device_isMobile  0.146148  0.144332    -0.037667        0.144332   \n",
       "\n",
       "                 device_isMobile  \n",
       "date                    0.146148  \n",
       "visitId                 0.144332  \n",
       "visitNumber            -0.037667  \n",
       "visitStartTime          0.144332  \n",
       "device_isMobile         1.000000  "
      ]
     },
     "execution_count": 12,
     "metadata": {},
     "output_type": "execute_result"
    }
   ],
   "source": [
    "train.corr(method='pearson')"
   ]
  },
  {
   "cell_type": "code",
   "execution_count": 13,
   "metadata": {},
   "outputs": [],
   "source": [
    "train_numerical_features = train.select_dtypes(include=[np.number])"
   ]
  },
  {
   "cell_type": "code",
   "execution_count": 14,
   "metadata": {},
   "outputs": [
    {
     "data": {
      "text/plain": [
       "Index(['date', 'visitId', 'visitNumber', 'visitStartTime'], dtype='object')"
      ]
     },
     "execution_count": 14,
     "metadata": {},
     "output_type": "execute_result"
    }
   ],
   "source": [
    "train_numerical_features.columns\n"
   ]
  },
  {
   "cell_type": "code",
   "execution_count": 15,
   "metadata": {},
   "outputs": [],
   "source": [
    "test_numerical_features = test.select_dtypes(include=[np.number])"
   ]
  },
  {
   "cell_type": "code",
   "execution_count": 16,
   "metadata": {},
   "outputs": [
    {
     "data": {
      "text/plain": [
       "Index(['date', 'visitId', 'visitNumber', 'visitStartTime'], dtype='object')"
      ]
     },
     "execution_count": 16,
     "metadata": {},
     "output_type": "execute_result"
    }
   ],
   "source": [
    "test_numerical_features.columns"
   ]
  },
  {
   "cell_type": "code",
   "execution_count": 17,
   "metadata": {},
   "outputs": [
    {
     "data": {
      "text/plain": [
       "Index(['channelGrouping', 'fullVisitorId', 'sessionId', 'socialEngagementType',\n",
       "       'device_browser', 'device_browserSize', 'device_browserVersion',\n",
       "       'device_deviceCategory', 'device_flashVersion', 'device_language',\n",
       "       'device_mobileDeviceBranding', 'device_mobileDeviceInfo',\n",
       "       'device_mobileDeviceMarketingName', 'device_mobileDeviceModel',\n",
       "       'device_mobileInputSelector', 'device_operatingSystem',\n",
       "       'device_operatingSystemVersion', 'device_screenColors',\n",
       "       'device_screenResolution', 'geoNetwork_city', 'geoNetwork_cityId',\n",
       "       'geoNetwork_continent', 'geoNetwork_country', 'geoNetwork_latitude',\n",
       "       'geoNetwork_longitude', 'geoNetwork_metro', 'geoNetwork_networkDomain',\n",
       "       'geoNetwork_networkLocation', 'geoNetwork_region',\n",
       "       'geoNetwork_subContinent', 'totals_bounces', 'totals_hits',\n",
       "       'totals_newVisits', 'totals_pageviews', 'totals_visits',\n",
       "       'trafficSource_adContent',\n",
       "       'trafficSource_adwordsClickInfo.adNetworkType',\n",
       "       'trafficSource_adwordsClickInfo.criteriaParameters',\n",
       "       'trafficSource_adwordsClickInfo.gclId',\n",
       "       'trafficSource_adwordsClickInfo.isVideoAd',\n",
       "       'trafficSource_adwordsClickInfo.page',\n",
       "       'trafficSource_adwordsClickInfo.slot', 'trafficSource_campaign',\n",
       "       'trafficSource_isTrueDirect', 'trafficSource_keyword',\n",
       "       'trafficSource_medium', 'trafficSource_referralPath',\n",
       "       'trafficSource_source'],\n",
       "      dtype='object')"
      ]
     },
     "execution_count": 17,
     "metadata": {},
     "output_type": "execute_result"
    }
   ],
   "source": [
    "train_category_features = train.select_dtypes(include=[np.object])\n",
    "test_category_features = test.select_dtypes(include=[np.object])\n",
    "train_category_features.columns\n",
    "test_category_features.columns"
   ]
  },
  {
   "cell_type": "code",
   "execution_count": 18,
   "metadata": {},
   "outputs": [
    {
     "data": {
      "text/html": [
       "<div>\n",
       "<style scoped>\n",
       "    .dataframe tbody tr th:only-of-type {\n",
       "        vertical-align: middle;\n",
       "    }\n",
       "\n",
       "    .dataframe tbody tr th {\n",
       "        vertical-align: top;\n",
       "    }\n",
       "\n",
       "    .dataframe thead th {\n",
       "        text-align: right;\n",
       "    }\n",
       "</style>\n",
       "<table border=\"1\" class=\"dataframe\">\n",
       "  <thead>\n",
       "    <tr style=\"text-align: right;\">\n",
       "      <th></th>\n",
       "      <th>channelGrouping</th>\n",
       "      <th>date</th>\n",
       "      <th>fullVisitorId</th>\n",
       "      <th>sessionId</th>\n",
       "      <th>socialEngagementType</th>\n",
       "      <th>visitId</th>\n",
       "      <th>visitNumber</th>\n",
       "      <th>visitStartTime</th>\n",
       "      <th>device_browser</th>\n",
       "      <th>device_browserSize</th>\n",
       "      <th>...</th>\n",
       "      <th>trafficSource_adwordsClickInfo.isVideoAd</th>\n",
       "      <th>trafficSource_adwordsClickInfo.page</th>\n",
       "      <th>trafficSource_adwordsClickInfo.slot</th>\n",
       "      <th>trafficSource_campaign</th>\n",
       "      <th>trafficSource_campaignCode</th>\n",
       "      <th>trafficSource_isTrueDirect</th>\n",
       "      <th>trafficSource_keyword</th>\n",
       "      <th>trafficSource_medium</th>\n",
       "      <th>trafficSource_referralPath</th>\n",
       "      <th>trafficSource_source</th>\n",
       "    </tr>\n",
       "  </thead>\n",
       "  <tbody>\n",
       "    <tr>\n",
       "      <th>0</th>\n",
       "      <td>Organic Search</td>\n",
       "      <td>20160902</td>\n",
       "      <td>1131660440785968503</td>\n",
       "      <td>1131660440785968503_1472830385</td>\n",
       "      <td>Not Socially Engaged</td>\n",
       "      <td>1472830385</td>\n",
       "      <td>1</td>\n",
       "      <td>1472830385</td>\n",
       "      <td>Chrome</td>\n",
       "      <td>not available in demo dataset</td>\n",
       "      <td>...</td>\n",
       "      <td>NaN</td>\n",
       "      <td>NaN</td>\n",
       "      <td>NaN</td>\n",
       "      <td>(not set)</td>\n",
       "      <td>NaN</td>\n",
       "      <td>NaN</td>\n",
       "      <td>(not provided)</td>\n",
       "      <td>organic</td>\n",
       "      <td>NaN</td>\n",
       "      <td>google</td>\n",
       "    </tr>\n",
       "    <tr>\n",
       "      <th>1</th>\n",
       "      <td>Organic Search</td>\n",
       "      <td>20160902</td>\n",
       "      <td>377306020877927890</td>\n",
       "      <td>377306020877927890_1472880147</td>\n",
       "      <td>Not Socially Engaged</td>\n",
       "      <td>1472880147</td>\n",
       "      <td>1</td>\n",
       "      <td>1472880147</td>\n",
       "      <td>Firefox</td>\n",
       "      <td>not available in demo dataset</td>\n",
       "      <td>...</td>\n",
       "      <td>NaN</td>\n",
       "      <td>NaN</td>\n",
       "      <td>NaN</td>\n",
       "      <td>(not set)</td>\n",
       "      <td>NaN</td>\n",
       "      <td>NaN</td>\n",
       "      <td>(not provided)</td>\n",
       "      <td>organic</td>\n",
       "      <td>NaN</td>\n",
       "      <td>google</td>\n",
       "    </tr>\n",
       "    <tr>\n",
       "      <th>2</th>\n",
       "      <td>Organic Search</td>\n",
       "      <td>20160902</td>\n",
       "      <td>3895546263509774583</td>\n",
       "      <td>3895546263509774583_1472865386</td>\n",
       "      <td>Not Socially Engaged</td>\n",
       "      <td>1472865386</td>\n",
       "      <td>1</td>\n",
       "      <td>1472865386</td>\n",
       "      <td>Chrome</td>\n",
       "      <td>not available in demo dataset</td>\n",
       "      <td>...</td>\n",
       "      <td>NaN</td>\n",
       "      <td>NaN</td>\n",
       "      <td>NaN</td>\n",
       "      <td>(not set)</td>\n",
       "      <td>NaN</td>\n",
       "      <td>NaN</td>\n",
       "      <td>(not provided)</td>\n",
       "      <td>organic</td>\n",
       "      <td>NaN</td>\n",
       "      <td>google</td>\n",
       "    </tr>\n",
       "    <tr>\n",
       "      <th>3</th>\n",
       "      <td>Organic Search</td>\n",
       "      <td>20160902</td>\n",
       "      <td>4763447161404445595</td>\n",
       "      <td>4763447161404445595_1472881213</td>\n",
       "      <td>Not Socially Engaged</td>\n",
       "      <td>1472881213</td>\n",
       "      <td>1</td>\n",
       "      <td>1472881213</td>\n",
       "      <td>UC Browser</td>\n",
       "      <td>not available in demo dataset</td>\n",
       "      <td>...</td>\n",
       "      <td>NaN</td>\n",
       "      <td>NaN</td>\n",
       "      <td>NaN</td>\n",
       "      <td>(not set)</td>\n",
       "      <td>NaN</td>\n",
       "      <td>NaN</td>\n",
       "      <td>google + online</td>\n",
       "      <td>organic</td>\n",
       "      <td>NaN</td>\n",
       "      <td>google</td>\n",
       "    </tr>\n",
       "    <tr>\n",
       "      <th>4</th>\n",
       "      <td>Organic Search</td>\n",
       "      <td>20160902</td>\n",
       "      <td>27294437909732085</td>\n",
       "      <td>27294437909732085_1472822600</td>\n",
       "      <td>Not Socially Engaged</td>\n",
       "      <td>1472822600</td>\n",
       "      <td>2</td>\n",
       "      <td>1472822600</td>\n",
       "      <td>Chrome</td>\n",
       "      <td>not available in demo dataset</td>\n",
       "      <td>...</td>\n",
       "      <td>NaN</td>\n",
       "      <td>NaN</td>\n",
       "      <td>NaN</td>\n",
       "      <td>(not set)</td>\n",
       "      <td>NaN</td>\n",
       "      <td>True</td>\n",
       "      <td>(not provided)</td>\n",
       "      <td>organic</td>\n",
       "      <td>NaN</td>\n",
       "      <td>google</td>\n",
       "    </tr>\n",
       "  </tbody>\n",
       "</table>\n",
       "<p>5 rows × 55 columns</p>\n",
       "</div>"
      ],
      "text/plain": [
       "  channelGrouping      date        fullVisitorId  \\\n",
       "0  Organic Search  20160902  1131660440785968503   \n",
       "1  Organic Search  20160902   377306020877927890   \n",
       "2  Organic Search  20160902  3895546263509774583   \n",
       "3  Organic Search  20160902  4763447161404445595   \n",
       "4  Organic Search  20160902    27294437909732085   \n",
       "\n",
       "                        sessionId  socialEngagementType     visitId  \\\n",
       "0  1131660440785968503_1472830385  Not Socially Engaged  1472830385   \n",
       "1   377306020877927890_1472880147  Not Socially Engaged  1472880147   \n",
       "2  3895546263509774583_1472865386  Not Socially Engaged  1472865386   \n",
       "3  4763447161404445595_1472881213  Not Socially Engaged  1472881213   \n",
       "4    27294437909732085_1472822600  Not Socially Engaged  1472822600   \n",
       "\n",
       "   visitNumber  visitStartTime device_browser             device_browserSize  \\\n",
       "0            1      1472830385         Chrome  not available in demo dataset   \n",
       "1            1      1472880147        Firefox  not available in demo dataset   \n",
       "2            1      1472865386         Chrome  not available in demo dataset   \n",
       "3            1      1472881213     UC Browser  not available in demo dataset   \n",
       "4            2      1472822600         Chrome  not available in demo dataset   \n",
       "\n",
       "          ...          trafficSource_adwordsClickInfo.isVideoAd  \\\n",
       "0         ...                                               NaN   \n",
       "1         ...                                               NaN   \n",
       "2         ...                                               NaN   \n",
       "3         ...                                               NaN   \n",
       "4         ...                                               NaN   \n",
       "\n",
       "  trafficSource_adwordsClickInfo.page trafficSource_adwordsClickInfo.slot  \\\n",
       "0                                 NaN                                 NaN   \n",
       "1                                 NaN                                 NaN   \n",
       "2                                 NaN                                 NaN   \n",
       "3                                 NaN                                 NaN   \n",
       "4                                 NaN                                 NaN   \n",
       "\n",
       "   trafficSource_campaign trafficSource_campaignCode  \\\n",
       "0               (not set)                        NaN   \n",
       "1               (not set)                        NaN   \n",
       "2               (not set)                        NaN   \n",
       "3               (not set)                        NaN   \n",
       "4               (not set)                        NaN   \n",
       "\n",
       "  trafficSource_isTrueDirect trafficSource_keyword trafficSource_medium  \\\n",
       "0                        NaN        (not provided)              organic   \n",
       "1                        NaN        (not provided)              organic   \n",
       "2                        NaN        (not provided)              organic   \n",
       "3                        NaN       google + online              organic   \n",
       "4                       True        (not provided)              organic   \n",
       "\n",
       "  trafficSource_referralPath trafficSource_source  \n",
       "0                        NaN               google  \n",
       "1                        NaN               google  \n",
       "2                        NaN               google  \n",
       "3                        NaN               google  \n",
       "4                        NaN               google  \n",
       "\n",
       "[5 rows x 55 columns]"
      ]
     },
     "execution_count": 18,
     "metadata": {},
     "output_type": "execute_result"
    }
   ],
   "source": [
    "train.head()"
   ]
  },
  {
   "cell_type": "code",
   "execution_count": 19,
   "metadata": {},
   "outputs": [
    {
     "data": {
      "text/plain": [
       "(804684, 53)"
      ]
     },
     "execution_count": 19,
     "metadata": {},
     "output_type": "execute_result"
    }
   ],
   "source": [
    "train.shape\n",
    "test.shape"
   ]
  },
  {
   "cell_type": "code",
   "execution_count": 20,
   "metadata": {},
   "outputs": [
    {
     "data": {
      "text/plain": [
       "(804684, 53)"
      ]
     },
     "execution_count": 20,
     "metadata": {},
     "output_type": "execute_result"
    }
   ],
   "source": [
    "test.shape"
   ]
  },
  {
   "cell_type": "code",
   "execution_count": 21,
   "metadata": {},
   "outputs": [
    {
     "data": {
      "text/plain": [
       "(903653, 55)"
      ]
     },
     "execution_count": 21,
     "metadata": {},
     "output_type": "execute_result"
    }
   ],
   "source": [
    "train.shape"
   ]
  },
  {
   "cell_type": "code",
   "execution_count": 22,
   "metadata": {},
   "outputs": [],
   "source": [
    "train = train.loc[:, (train != train.iloc[0]).any()]\n",
    "test = test.loc[:, (test != test.iloc[0]).any()]"
   ]
  },
  {
   "cell_type": "code",
   "execution_count": 23,
   "metadata": {},
   "outputs": [
    {
     "name": "stdout",
     "output_type": "stream",
     "text": [
      "(903653, 36) (804684, 34)\n"
     ]
    }
   ],
   "source": [
    "print(train.shape, test.shape)"
   ]
  },
  {
   "cell_type": "code",
   "execution_count": 24,
   "metadata": {},
   "outputs": [],
   "source": [
    "train[\"totals_transactionRevenue\"] = train[\"totals_transactionRevenue\"].astype('float')"
   ]
  },
  {
   "cell_type": "code",
   "execution_count": 32,
   "metadata": {},
   "outputs": [],
   "source": [
    "for df in [train, test]:\n",
    "    df['v_date'] = pd.to_datetime(df['visitStartTime'], unit='s')\n",
    "    df['dayofweek'] = df['v_date'].dt.dayofweek\n",
    "    df['hours'] = df['v_date'].dt.hour\n",
    "    df['day'] = df['v_date'].dt.day\n",
    "    df.drop('visitStartTime', axis=1)"
   ]
  },
  {
   "cell_type": "code",
   "execution_count": 33,
   "metadata": {},
   "outputs": [
    {
     "name": "stdout",
     "output_type": "stream",
     "text": [
      "(903653, 42) (804684, 38)\n"
     ]
    }
   ],
   "source": [
    "print(train.shape, test.shape)"
   ]
  },
  {
   "cell_type": "code",
   "execution_count": 35,
   "metadata": {},
   "outputs": [
    {
     "data": {
      "text/html": [
       "<div>\n",
       "<style scoped>\n",
       "    .dataframe tbody tr th:only-of-type {\n",
       "        vertical-align: middle;\n",
       "    }\n",
       "\n",
       "    .dataframe tbody tr th {\n",
       "        vertical-align: top;\n",
       "    }\n",
       "\n",
       "    .dataframe thead th {\n",
       "        text-align: right;\n",
       "    }\n",
       "</style>\n",
       "<table border=\"1\" class=\"dataframe\">\n",
       "  <thead>\n",
       "    <tr style=\"text-align: right;\">\n",
       "      <th></th>\n",
       "      <th>channelGrouping</th>\n",
       "      <th>date</th>\n",
       "      <th>fullVisitorId</th>\n",
       "      <th>sessionId</th>\n",
       "      <th>visitId</th>\n",
       "      <th>visitNumber</th>\n",
       "      <th>visitStartTime</th>\n",
       "      <th>device_browser</th>\n",
       "      <th>device_deviceCategory</th>\n",
       "      <th>device_isMobile</th>\n",
       "      <th>...</th>\n",
       "      <th>trafficSource_keyword</th>\n",
       "      <th>trafficSource_medium</th>\n",
       "      <th>trafficSource_referralPath</th>\n",
       "      <th>trafficSource_source</th>\n",
       "      <th>month</th>\n",
       "      <th>day</th>\n",
       "      <th>weekday</th>\n",
       "      <th>v_date</th>\n",
       "      <th>dayofweek</th>\n",
       "      <th>hours</th>\n",
       "    </tr>\n",
       "  </thead>\n",
       "  <tbody>\n",
       "    <tr>\n",
       "      <th>0</th>\n",
       "      <td>Organic Search</td>\n",
       "      <td>2016------0-9-02</td>\n",
       "      <td>1131660440785968503</td>\n",
       "      <td>1131660440785968503_1472830385</td>\n",
       "      <td>1472830385</td>\n",
       "      <td>1</td>\n",
       "      <td>1472830385</td>\n",
       "      <td>Chrome</td>\n",
       "      <td>desktop</td>\n",
       "      <td>False</td>\n",
       "      <td>...</td>\n",
       "      <td>(not provided)</td>\n",
       "      <td>organic</td>\n",
       "      <td>NaN</td>\n",
       "      <td>google</td>\n",
       "      <td>9</td>\n",
       "      <td>2</td>\n",
       "      <td>4</td>\n",
       "      <td>2016-09-02 15:33:05</td>\n",
       "      <td>4</td>\n",
       "      <td>15</td>\n",
       "    </tr>\n",
       "    <tr>\n",
       "      <th>1</th>\n",
       "      <td>Organic Search</td>\n",
       "      <td>2016------0-9-02</td>\n",
       "      <td>377306020877927890</td>\n",
       "      <td>377306020877927890_1472880147</td>\n",
       "      <td>1472880147</td>\n",
       "      <td>1</td>\n",
       "      <td>1472880147</td>\n",
       "      <td>Firefox</td>\n",
       "      <td>desktop</td>\n",
       "      <td>False</td>\n",
       "      <td>...</td>\n",
       "      <td>(not provided)</td>\n",
       "      <td>organic</td>\n",
       "      <td>NaN</td>\n",
       "      <td>google</td>\n",
       "      <td>9</td>\n",
       "      <td>3</td>\n",
       "      <td>4</td>\n",
       "      <td>2016-09-03 05:22:27</td>\n",
       "      <td>5</td>\n",
       "      <td>5</td>\n",
       "    </tr>\n",
       "    <tr>\n",
       "      <th>2</th>\n",
       "      <td>Organic Search</td>\n",
       "      <td>2016------0-9-02</td>\n",
       "      <td>3895546263509774583</td>\n",
       "      <td>3895546263509774583_1472865386</td>\n",
       "      <td>1472865386</td>\n",
       "      <td>1</td>\n",
       "      <td>1472865386</td>\n",
       "      <td>Chrome</td>\n",
       "      <td>desktop</td>\n",
       "      <td>False</td>\n",
       "      <td>...</td>\n",
       "      <td>(not provided)</td>\n",
       "      <td>organic</td>\n",
       "      <td>NaN</td>\n",
       "      <td>google</td>\n",
       "      <td>9</td>\n",
       "      <td>3</td>\n",
       "      <td>4</td>\n",
       "      <td>2016-09-03 01:16:26</td>\n",
       "      <td>5</td>\n",
       "      <td>1</td>\n",
       "    </tr>\n",
       "    <tr>\n",
       "      <th>3</th>\n",
       "      <td>Organic Search</td>\n",
       "      <td>2016------0-9-02</td>\n",
       "      <td>4763447161404445595</td>\n",
       "      <td>4763447161404445595_1472881213</td>\n",
       "      <td>1472881213</td>\n",
       "      <td>1</td>\n",
       "      <td>1472881213</td>\n",
       "      <td>UC Browser</td>\n",
       "      <td>desktop</td>\n",
       "      <td>False</td>\n",
       "      <td>...</td>\n",
       "      <td>google + online</td>\n",
       "      <td>organic</td>\n",
       "      <td>NaN</td>\n",
       "      <td>google</td>\n",
       "      <td>9</td>\n",
       "      <td>3</td>\n",
       "      <td>4</td>\n",
       "      <td>2016-09-03 05:40:13</td>\n",
       "      <td>5</td>\n",
       "      <td>5</td>\n",
       "    </tr>\n",
       "    <tr>\n",
       "      <th>4</th>\n",
       "      <td>Organic Search</td>\n",
       "      <td>2016------0-9-02</td>\n",
       "      <td>27294437909732085</td>\n",
       "      <td>27294437909732085_1472822600</td>\n",
       "      <td>1472822600</td>\n",
       "      <td>2</td>\n",
       "      <td>1472822600</td>\n",
       "      <td>Chrome</td>\n",
       "      <td>mobile</td>\n",
       "      <td>True</td>\n",
       "      <td>...</td>\n",
       "      <td>(not provided)</td>\n",
       "      <td>organic</td>\n",
       "      <td>NaN</td>\n",
       "      <td>google</td>\n",
       "      <td>9</td>\n",
       "      <td>2</td>\n",
       "      <td>4</td>\n",
       "      <td>2016-09-02 13:23:20</td>\n",
       "      <td>4</td>\n",
       "      <td>13</td>\n",
       "    </tr>\n",
       "  </tbody>\n",
       "</table>\n",
       "<p>5 rows × 42 columns</p>\n",
       "</div>"
      ],
      "text/plain": [
       "  channelGrouping              date        fullVisitorId  \\\n",
       "0  Organic Search  2016------0-9-02  1131660440785968503   \n",
       "1  Organic Search  2016------0-9-02   377306020877927890   \n",
       "2  Organic Search  2016------0-9-02  3895546263509774583   \n",
       "3  Organic Search  2016------0-9-02  4763447161404445595   \n",
       "4  Organic Search  2016------0-9-02    27294437909732085   \n",
       "\n",
       "                        sessionId     visitId  visitNumber  visitStartTime  \\\n",
       "0  1131660440785968503_1472830385  1472830385            1      1472830385   \n",
       "1   377306020877927890_1472880147  1472880147            1      1472880147   \n",
       "2  3895546263509774583_1472865386  1472865386            1      1472865386   \n",
       "3  4763447161404445595_1472881213  1472881213            1      1472881213   \n",
       "4    27294437909732085_1472822600  1472822600            2      1472822600   \n",
       "\n",
       "  device_browser device_deviceCategory  device_isMobile  ...   \\\n",
       "0         Chrome               desktop            False  ...    \n",
       "1        Firefox               desktop            False  ...    \n",
       "2         Chrome               desktop            False  ...    \n",
       "3     UC Browser               desktop            False  ...    \n",
       "4         Chrome                mobile             True  ...    \n",
       "\n",
       "  trafficSource_keyword trafficSource_medium trafficSource_referralPath  \\\n",
       "0        (not provided)              organic                        NaN   \n",
       "1        (not provided)              organic                        NaN   \n",
       "2        (not provided)              organic                        NaN   \n",
       "3       google + online              organic                        NaN   \n",
       "4        (not provided)              organic                        NaN   \n",
       "\n",
       "  trafficSource_source month day weekday              v_date dayofweek hours  \n",
       "0               google     9   2       4 2016-09-02 15:33:05         4    15  \n",
       "1               google     9   3       4 2016-09-03 05:22:27         5     5  \n",
       "2               google     9   3       4 2016-09-03 01:16:26         5     1  \n",
       "3               google     9   3       4 2016-09-03 05:40:13         5     5  \n",
       "4               google     9   2       4 2016-09-02 13:23:20         4    13  \n",
       "\n",
       "[5 rows x 42 columns]"
      ]
     },
     "execution_count": 35,
     "metadata": {},
     "output_type": "execute_result"
    }
   ],
   "source": [
    "train.head()"
   ]
  },
  {
   "cell_type": "code",
   "execution_count": 36,
   "metadata": {},
   "outputs": [
    {
     "data": {
      "text/html": [
       "<div>\n",
       "<style scoped>\n",
       "    .dataframe tbody tr th:only-of-type {\n",
       "        vertical-align: middle;\n",
       "    }\n",
       "\n",
       "    .dataframe tbody tr th {\n",
       "        vertical-align: top;\n",
       "    }\n",
       "\n",
       "    .dataframe thead th {\n",
       "        text-align: right;\n",
       "    }\n",
       "</style>\n",
       "<table border=\"1\" class=\"dataframe\">\n",
       "  <thead>\n",
       "    <tr style=\"text-align: right;\">\n",
       "      <th></th>\n",
       "      <th>fullVisitorId</th>\n",
       "      <th>totals_bounces</th>\n",
       "      <th>totals_hits</th>\n",
       "      <th>totals_newVisits</th>\n",
       "      <th>totals_pageviews</th>\n",
       "      <th>totals_transactionRevenue</th>\n",
       "    </tr>\n",
       "  </thead>\n",
       "  <tbody>\n",
       "    <tr>\n",
       "      <th>0</th>\n",
       "      <td>0000010278554503158</td>\n",
       "      <td>0.0</td>\n",
       "      <td>11.0</td>\n",
       "      <td>1.0</td>\n",
       "      <td>8.0</td>\n",
       "      <td>0.0</td>\n",
       "    </tr>\n",
       "    <tr>\n",
       "      <th>1</th>\n",
       "      <td>0000020424342248747</td>\n",
       "      <td>0.0</td>\n",
       "      <td>17.0</td>\n",
       "      <td>1.0</td>\n",
       "      <td>13.0</td>\n",
       "      <td>0.0</td>\n",
       "    </tr>\n",
       "    <tr>\n",
       "      <th>2</th>\n",
       "      <td>0000027376579751715</td>\n",
       "      <td>0.0</td>\n",
       "      <td>6.0</td>\n",
       "      <td>1.0</td>\n",
       "      <td>5.0</td>\n",
       "      <td>0.0</td>\n",
       "    </tr>\n",
       "    <tr>\n",
       "      <th>3</th>\n",
       "      <td>0000039460501403861</td>\n",
       "      <td>0.0</td>\n",
       "      <td>2.0</td>\n",
       "      <td>1.0</td>\n",
       "      <td>2.0</td>\n",
       "      <td>0.0</td>\n",
       "    </tr>\n",
       "    <tr>\n",
       "      <th>4</th>\n",
       "      <td>0000040862739425590</td>\n",
       "      <td>0.0</td>\n",
       "      <td>5.0</td>\n",
       "      <td>1.0</td>\n",
       "      <td>5.0</td>\n",
       "      <td>0.0</td>\n",
       "    </tr>\n",
       "  </tbody>\n",
       "</table>\n",
       "</div>"
      ],
      "text/plain": [
       "         fullVisitorId  totals_bounces  totals_hits  totals_newVisits  \\\n",
       "0  0000010278554503158             0.0         11.0               1.0   \n",
       "1  0000020424342248747             0.0         17.0               1.0   \n",
       "2  0000027376579751715             0.0          6.0               1.0   \n",
       "3  0000039460501403861             0.0          2.0               1.0   \n",
       "4  0000040862739425590             0.0          5.0               1.0   \n",
       "\n",
       "   totals_pageviews  totals_transactionRevenue  \n",
       "0               8.0                        0.0  \n",
       "1              13.0                        0.0  \n",
       "2               5.0                        0.0  \n",
       "3               2.0                        0.0  \n",
       "4               5.0                        0.0  "
      ]
     },
     "execution_count": 36,
     "metadata": {},
     "output_type": "execute_result"
    }
   ],
   "source": [
    "import warnings\n",
    "warnings.simplefilter(action='ignore', category=FutureWarning)\n",
    "\n",
    "agg_dict = {}\n",
    "for col in [\"totals_bounces\", \"totals_hits\", \"totals_newVisits\", \"totals_pageviews\", \"totals_transactionRevenue\"]:\n",
    "    train[col] = train[col].astype('float')\n",
    "    agg_dict[col] = \"sum\"\n",
    "tmp = train.groupby(\"fullVisitorId\").agg(agg_dict).reset_index()\n",
    "tmp.head()"
   ]
  },
  {
   "cell_type": "code",
   "execution_count": 52,
   "metadata": {},
   "outputs": [],
   "source": [
    "constant_columns = []\n",
    "for column in train.columns:\n",
    "    if len(train[column].value_counts()) == 1:\n",
    "        constant_columns.append(column)\n",
    "\n",
    "irrelevant_columns = [\"visitNumber\", \"date\", \"fullVisitorId\", \"sessionId\", \"visitId\", \"visitStartTime\", \"v_date\", \n",
    "                      \"month\", \"weekday\"]\n",
    "\n"
   ]
  },
  {
   "cell_type": "code",
   "execution_count": 53,
   "metadata": {},
   "outputs": [],
   "source": [
    "colms = irrelevant_columns + constant_columns"
   ]
  },
  {
   "cell_type": "code",
   "execution_count": 54,
   "metadata": {},
   "outputs": [
    {
     "data": {
      "text/plain": [
       "['visitNumber',\n",
       " 'date',\n",
       " 'fullVisitorId',\n",
       " 'sessionId',\n",
       " 'visitId',\n",
       " 'visitStartTime',\n",
       " 'v_date',\n",
       " 'month',\n",
       " 'weekday',\n",
       " 'totals_bounces',\n",
       " 'totals_newVisits',\n",
       " 'trafficSource_adwordsClickInfo.isVideoAd',\n",
       " 'trafficSource_campaignCode',\n",
       " 'trafficSource_isTrueDirect']"
      ]
     },
     "execution_count": 54,
     "metadata": {},
     "output_type": "execute_result"
    }
   ],
   "source": [
    "\n",
    "colms"
   ]
  },
  {
   "cell_type": "code",
   "execution_count": 57,
   "metadata": {},
   "outputs": [],
   "source": [
    "from sklearn.preprocessing import LabelEncoder\n",
    "\n",
    "category_columns = [c for c in train.columns if not c.startswith(\"total\")]\n",
    "category_columns = [c for c in category_columns if c not in colms]\n",
    "\n",
    "#print(category_columns)\n",
    "\n",
    "for c in category_columns:\n",
    "\n",
    "    labelencode = LabelEncoder()\n",
    "    train_vals = list(train[c].values.astype(str))\n",
    "    test_vals = list(test[c].values.astype(str))\n",
    "    \n",
    "    labelencode.fit(train_vals + test_vals)\n",
    "    \n",
    "    train[c] = labelencode.transform(train_vals)\n",
    "    test[c] = labelencode.transform(test_vals)"
   ]
  },
  {
   "cell_type": "code",
   "execution_count": 56,
   "metadata": {},
   "outputs": [
    {
     "data": {
      "text/html": [
       "<div>\n",
       "<style scoped>\n",
       "    .dataframe tbody tr th:only-of-type {\n",
       "        vertical-align: middle;\n",
       "    }\n",
       "\n",
       "    .dataframe tbody tr th {\n",
       "        vertical-align: top;\n",
       "    }\n",
       "\n",
       "    .dataframe thead th {\n",
       "        text-align: right;\n",
       "    }\n",
       "</style>\n",
       "<table border=\"1\" class=\"dataframe\">\n",
       "  <thead>\n",
       "    <tr style=\"text-align: right;\">\n",
       "      <th></th>\n",
       "      <th>channelGrouping</th>\n",
       "      <th>date</th>\n",
       "      <th>fullVisitorId</th>\n",
       "      <th>sessionId</th>\n",
       "      <th>visitId</th>\n",
       "      <th>visitNumber</th>\n",
       "      <th>visitStartTime</th>\n",
       "      <th>device_browser</th>\n",
       "      <th>device_deviceCategory</th>\n",
       "      <th>device_isMobile</th>\n",
       "      <th>...</th>\n",
       "      <th>trafficSource_keyword</th>\n",
       "      <th>trafficSource_medium</th>\n",
       "      <th>trafficSource_referralPath</th>\n",
       "      <th>trafficSource_source</th>\n",
       "      <th>month</th>\n",
       "      <th>day</th>\n",
       "      <th>weekday</th>\n",
       "      <th>v_date</th>\n",
       "      <th>dayofweek</th>\n",
       "      <th>hours</th>\n",
       "    </tr>\n",
       "  </thead>\n",
       "  <tbody>\n",
       "    <tr>\n",
       "      <th>0</th>\n",
       "      <td>4</td>\n",
       "      <td>2016------0-9-02</td>\n",
       "      <td>1131660440785968503</td>\n",
       "      <td>1131660440785968503_1472830385</td>\n",
       "      <td>1472830385</td>\n",
       "      <td>1</td>\n",
       "      <td>1472830385</td>\n",
       "      <td>13</td>\n",
       "      <td>0</td>\n",
       "      <td>0</td>\n",
       "      <td>...</td>\n",
       "      <td>147</td>\n",
       "      <td>5</td>\n",
       "      <td>1678</td>\n",
       "      <td>332</td>\n",
       "      <td>8</td>\n",
       "      <td>3</td>\n",
       "      <td>4</td>\n",
       "      <td>2016-09-02 15:33:05</td>\n",
       "      <td>4</td>\n",
       "      <td>7</td>\n",
       "    </tr>\n",
       "    <tr>\n",
       "      <th>1</th>\n",
       "      <td>4</td>\n",
       "      <td>2016------0-9-02</td>\n",
       "      <td>377306020877927890</td>\n",
       "      <td>377306020877927890_1472880147</td>\n",
       "      <td>1472880147</td>\n",
       "      <td>1</td>\n",
       "      <td>1472880147</td>\n",
       "      <td>18</td>\n",
       "      <td>0</td>\n",
       "      <td>0</td>\n",
       "      <td>...</td>\n",
       "      <td>147</td>\n",
       "      <td>5</td>\n",
       "      <td>1678</td>\n",
       "      <td>332</td>\n",
       "      <td>8</td>\n",
       "      <td>15</td>\n",
       "      <td>4</td>\n",
       "      <td>2016-09-03 05:22:27</td>\n",
       "      <td>5</td>\n",
       "      <td>19</td>\n",
       "    </tr>\n",
       "    <tr>\n",
       "      <th>2</th>\n",
       "      <td>4</td>\n",
       "      <td>2016------0-9-02</td>\n",
       "      <td>3895546263509774583</td>\n",
       "      <td>3895546263509774583_1472865386</td>\n",
       "      <td>1472865386</td>\n",
       "      <td>1</td>\n",
       "      <td>1472865386</td>\n",
       "      <td>13</td>\n",
       "      <td>0</td>\n",
       "      <td>0</td>\n",
       "      <td>...</td>\n",
       "      <td>147</td>\n",
       "      <td>5</td>\n",
       "      <td>1678</td>\n",
       "      <td>332</td>\n",
       "      <td>8</td>\n",
       "      <td>15</td>\n",
       "      <td>4</td>\n",
       "      <td>2016-09-03 01:16:26</td>\n",
       "      <td>5</td>\n",
       "      <td>1</td>\n",
       "    </tr>\n",
       "    <tr>\n",
       "      <th>3</th>\n",
       "      <td>4</td>\n",
       "      <td>2016------0-9-02</td>\n",
       "      <td>4763447161404445595</td>\n",
       "      <td>4763447161404445595_1472881213</td>\n",
       "      <td>1472881213</td>\n",
       "      <td>1</td>\n",
       "      <td>1472881213</td>\n",
       "      <td>55</td>\n",
       "      <td>0</td>\n",
       "      <td>0</td>\n",
       "      <td>...</td>\n",
       "      <td>125</td>\n",
       "      <td>5</td>\n",
       "      <td>1678</td>\n",
       "      <td>332</td>\n",
       "      <td>8</td>\n",
       "      <td>15</td>\n",
       "      <td>4</td>\n",
       "      <td>2016-09-03 05:40:13</td>\n",
       "      <td>5</td>\n",
       "      <td>19</td>\n",
       "    </tr>\n",
       "    <tr>\n",
       "      <th>4</th>\n",
       "      <td>4</td>\n",
       "      <td>2016------0-9-02</td>\n",
       "      <td>27294437909732085</td>\n",
       "      <td>27294437909732085_1472822600</td>\n",
       "      <td>1472822600</td>\n",
       "      <td>2</td>\n",
       "      <td>1472822600</td>\n",
       "      <td>13</td>\n",
       "      <td>1</td>\n",
       "      <td>1</td>\n",
       "      <td>...</td>\n",
       "      <td>147</td>\n",
       "      <td>5</td>\n",
       "      <td>1678</td>\n",
       "      <td>332</td>\n",
       "      <td>8</td>\n",
       "      <td>3</td>\n",
       "      <td>4</td>\n",
       "      <td>2016-09-02 13:23:20</td>\n",
       "      <td>4</td>\n",
       "      <td>5</td>\n",
       "    </tr>\n",
       "  </tbody>\n",
       "</table>\n",
       "<p>5 rows × 42 columns</p>\n",
       "</div>"
      ],
      "text/plain": [
       "   channelGrouping              date        fullVisitorId  \\\n",
       "0                4  2016------0-9-02  1131660440785968503   \n",
       "1                4  2016------0-9-02   377306020877927890   \n",
       "2                4  2016------0-9-02  3895546263509774583   \n",
       "3                4  2016------0-9-02  4763447161404445595   \n",
       "4                4  2016------0-9-02    27294437909732085   \n",
       "\n",
       "                        sessionId     visitId  visitNumber  visitStartTime  \\\n",
       "0  1131660440785968503_1472830385  1472830385            1      1472830385   \n",
       "1   377306020877927890_1472880147  1472880147            1      1472880147   \n",
       "2  3895546263509774583_1472865386  1472865386            1      1472865386   \n",
       "3  4763447161404445595_1472881213  1472881213            1      1472881213   \n",
       "4    27294437909732085_1472822600  1472822600            2      1472822600   \n",
       "\n",
       "   device_browser  device_deviceCategory  device_isMobile  ...    \\\n",
       "0              13                      0                0  ...     \n",
       "1              18                      0                0  ...     \n",
       "2              13                      0                0  ...     \n",
       "3              55                      0                0  ...     \n",
       "4              13                      1                1  ...     \n",
       "\n",
       "   trafficSource_keyword  trafficSource_medium  trafficSource_referralPath  \\\n",
       "0                    147                     5                        1678   \n",
       "1                    147                     5                        1678   \n",
       "2                    147                     5                        1678   \n",
       "3                    125                     5                        1678   \n",
       "4                    147                     5                        1678   \n",
       "\n",
       "   trafficSource_source  month  day  weekday              v_date  dayofweek  \\\n",
       "0                   332      8    3        4 2016-09-02 15:33:05          4   \n",
       "1                   332      8   15        4 2016-09-03 05:22:27          5   \n",
       "2                   332      8   15        4 2016-09-03 01:16:26          5   \n",
       "3                   332      8   15        4 2016-09-03 05:40:13          5   \n",
       "4                   332      8    3        4 2016-09-02 13:23:20          4   \n",
       "\n",
       "   hours  \n",
       "0      7  \n",
       "1     19  \n",
       "2      1  \n",
       "3     19  \n",
       "4      5  \n",
       "\n",
       "[5 rows x 42 columns]"
      ]
     },
     "execution_count": 56,
     "metadata": {},
     "output_type": "execute_result"
    }
   ],
   "source": [
    "train.head()"
   ]
  },
  {
   "cell_type": "code",
   "execution_count": 58,
   "metadata": {},
   "outputs": [],
   "source": [
    "def normalize_numerical_columns(df, isTrain = True):\n",
    "    df[\"totals_hits\"] = df[\"totals_hits\"].astype(float)\n",
    "    df[\"totals_hits\"] = (df[\"totals_hits\"] - min(df[\"totals_hits\"])) / (max(df[\"totals_hits\"]) - min(df[\"totals_hits\"]))\n",
    "\n",
    "    df[\"totals_pageviews\"] = df[\"totals_pageviews\"].astype(float)\n",
    "    df[\"totals_pageviews\"] = (df[\"totals_pageviews\"] - min(df[\"totals_pageviews\"])) / (max(df[\"totals_pageviews\"]) - min(df[\"totals_pageviews\"]))\n",
    "    \n",
    "    if isTrain:\n",
    "        df[\"totals_transactionRevenue\"] = df[\"totals_transactionRevenue\"].fillna(0.0)\n",
    "    return df "
   ]
  },
  {
   "cell_type": "code",
   "execution_count": 59,
   "metadata": {},
   "outputs": [],
   "source": [
    "train = normalize_numerical_columns(train)\n",
    "test = normalize_numerical_columns(test, isTrain = False)"
   ]
  },
  {
   "cell_type": "code",
   "execution_count": 60,
   "metadata": {},
   "outputs": [],
   "source": [
    "from sklearn.model_selection import train_test_split\n",
    "features = [c for c in train.columns if c not in colms]\n",
    "features.remove(\"totals_transactionRevenue\")\n",
    "train[\"totals_transactionRevenue\"] = np.log1p(train[\"totals_transactionRevenue\"].astype(float))"
   ]
  },
  {
   "cell_type": "code",
   "execution_count": 61,
   "metadata": {},
   "outputs": [
    {
     "data": {
      "text/html": [
       "<div>\n",
       "<style scoped>\n",
       "    .dataframe tbody tr th:only-of-type {\n",
       "        vertical-align: middle;\n",
       "    }\n",
       "\n",
       "    .dataframe tbody tr th {\n",
       "        vertical-align: top;\n",
       "    }\n",
       "\n",
       "    .dataframe thead th {\n",
       "        text-align: right;\n",
       "    }\n",
       "</style>\n",
       "<table border=\"1\" class=\"dataframe\">\n",
       "  <thead>\n",
       "    <tr style=\"text-align: right;\">\n",
       "      <th></th>\n",
       "      <th>channelGrouping</th>\n",
       "      <th>date</th>\n",
       "      <th>fullVisitorId</th>\n",
       "      <th>sessionId</th>\n",
       "      <th>visitId</th>\n",
       "      <th>visitNumber</th>\n",
       "      <th>visitStartTime</th>\n",
       "      <th>device_browser</th>\n",
       "      <th>device_deviceCategory</th>\n",
       "      <th>device_isMobile</th>\n",
       "      <th>...</th>\n",
       "      <th>trafficSource_keyword</th>\n",
       "      <th>trafficSource_medium</th>\n",
       "      <th>trafficSource_referralPath</th>\n",
       "      <th>trafficSource_source</th>\n",
       "      <th>month</th>\n",
       "      <th>day</th>\n",
       "      <th>weekday</th>\n",
       "      <th>v_date</th>\n",
       "      <th>dayofweek</th>\n",
       "      <th>hours</th>\n",
       "    </tr>\n",
       "  </thead>\n",
       "  <tbody>\n",
       "    <tr>\n",
       "      <th>0</th>\n",
       "      <td>4</td>\n",
       "      <td>2016------0-9-02</td>\n",
       "      <td>1131660440785968503</td>\n",
       "      <td>1131660440785968503_1472830385</td>\n",
       "      <td>1472830385</td>\n",
       "      <td>1</td>\n",
       "      <td>1472830385</td>\n",
       "      <td>14</td>\n",
       "      <td>0</td>\n",
       "      <td>0</td>\n",
       "      <td>...</td>\n",
       "      <td>524</td>\n",
       "      <td>5</td>\n",
       "      <td>755</td>\n",
       "      <td>260</td>\n",
       "      <td>8</td>\n",
       "      <td>23</td>\n",
       "      <td>4</td>\n",
       "      <td>2016-09-02 15:33:05</td>\n",
       "      <td>4</td>\n",
       "      <td>21</td>\n",
       "    </tr>\n",
       "    <tr>\n",
       "      <th>1</th>\n",
       "      <td>4</td>\n",
       "      <td>2016------0-9-02</td>\n",
       "      <td>377306020877927890</td>\n",
       "      <td>377306020877927890_1472880147</td>\n",
       "      <td>1472880147</td>\n",
       "      <td>1</td>\n",
       "      <td>1472880147</td>\n",
       "      <td>19</td>\n",
       "      <td>0</td>\n",
       "      <td>0</td>\n",
       "      <td>...</td>\n",
       "      <td>524</td>\n",
       "      <td>5</td>\n",
       "      <td>755</td>\n",
       "      <td>260</td>\n",
       "      <td>8</td>\n",
       "      <td>7</td>\n",
       "      <td>4</td>\n",
       "      <td>2016-09-03 05:22:27</td>\n",
       "      <td>5</td>\n",
       "      <td>11</td>\n",
       "    </tr>\n",
       "    <tr>\n",
       "      <th>2</th>\n",
       "      <td>4</td>\n",
       "      <td>2016------0-9-02</td>\n",
       "      <td>3895546263509774583</td>\n",
       "      <td>3895546263509774583_1472865386</td>\n",
       "      <td>1472865386</td>\n",
       "      <td>1</td>\n",
       "      <td>1472865386</td>\n",
       "      <td>14</td>\n",
       "      <td>0</td>\n",
       "      <td>0</td>\n",
       "      <td>...</td>\n",
       "      <td>524</td>\n",
       "      <td>5</td>\n",
       "      <td>755</td>\n",
       "      <td>260</td>\n",
       "      <td>8</td>\n",
       "      <td>7</td>\n",
       "      <td>4</td>\n",
       "      <td>2016-09-03 01:16:26</td>\n",
       "      <td>5</td>\n",
       "      <td>1</td>\n",
       "    </tr>\n",
       "    <tr>\n",
       "      <th>3</th>\n",
       "      <td>4</td>\n",
       "      <td>2016------0-9-02</td>\n",
       "      <td>4763447161404445595</td>\n",
       "      <td>4763447161404445595_1472881213</td>\n",
       "      <td>1472881213</td>\n",
       "      <td>1</td>\n",
       "      <td>1472881213</td>\n",
       "      <td>60</td>\n",
       "      <td>0</td>\n",
       "      <td>0</td>\n",
       "      <td>...</td>\n",
       "      <td>280</td>\n",
       "      <td>5</td>\n",
       "      <td>755</td>\n",
       "      <td>260</td>\n",
       "      <td>8</td>\n",
       "      <td>7</td>\n",
       "      <td>4</td>\n",
       "      <td>2016-09-03 05:40:13</td>\n",
       "      <td>5</td>\n",
       "      <td>11</td>\n",
       "    </tr>\n",
       "    <tr>\n",
       "      <th>4</th>\n",
       "      <td>4</td>\n",
       "      <td>2016------0-9-02</td>\n",
       "      <td>27294437909732085</td>\n",
       "      <td>27294437909732085_1472822600</td>\n",
       "      <td>1472822600</td>\n",
       "      <td>2</td>\n",
       "      <td>1472822600</td>\n",
       "      <td>14</td>\n",
       "      <td>1</td>\n",
       "      <td>1</td>\n",
       "      <td>...</td>\n",
       "      <td>524</td>\n",
       "      <td>5</td>\n",
       "      <td>755</td>\n",
       "      <td>260</td>\n",
       "      <td>8</td>\n",
       "      <td>23</td>\n",
       "      <td>4</td>\n",
       "      <td>2016-09-02 13:23:20</td>\n",
       "      <td>4</td>\n",
       "      <td>19</td>\n",
       "    </tr>\n",
       "  </tbody>\n",
       "</table>\n",
       "<p>5 rows × 42 columns</p>\n",
       "</div>"
      ],
      "text/plain": [
       "   channelGrouping              date        fullVisitorId  \\\n",
       "0                4  2016------0-9-02  1131660440785968503   \n",
       "1                4  2016------0-9-02   377306020877927890   \n",
       "2                4  2016------0-9-02  3895546263509774583   \n",
       "3                4  2016------0-9-02  4763447161404445595   \n",
       "4                4  2016------0-9-02    27294437909732085   \n",
       "\n",
       "                        sessionId     visitId  visitNumber  visitStartTime  \\\n",
       "0  1131660440785968503_1472830385  1472830385            1      1472830385   \n",
       "1   377306020877927890_1472880147  1472880147            1      1472880147   \n",
       "2  3895546263509774583_1472865386  1472865386            1      1472865386   \n",
       "3  4763447161404445595_1472881213  1472881213            1      1472881213   \n",
       "4    27294437909732085_1472822600  1472822600            2      1472822600   \n",
       "\n",
       "   device_browser  device_deviceCategory  device_isMobile  ...    \\\n",
       "0              14                      0                0  ...     \n",
       "1              19                      0                0  ...     \n",
       "2              14                      0                0  ...     \n",
       "3              60                      0                0  ...     \n",
       "4              14                      1                1  ...     \n",
       "\n",
       "   trafficSource_keyword  trafficSource_medium  trafficSource_referralPath  \\\n",
       "0                    524                     5                         755   \n",
       "1                    524                     5                         755   \n",
       "2                    524                     5                         755   \n",
       "3                    280                     5                         755   \n",
       "4                    524                     5                         755   \n",
       "\n",
       "   trafficSource_source  month  day  weekday              v_date  dayofweek  \\\n",
       "0                   260      8   23        4 2016-09-02 15:33:05          4   \n",
       "1                   260      8    7        4 2016-09-03 05:22:27          5   \n",
       "2                   260      8    7        4 2016-09-03 01:16:26          5   \n",
       "3                   260      8    7        4 2016-09-03 05:40:13          5   \n",
       "4                   260      8   23        4 2016-09-02 13:23:20          4   \n",
       "\n",
       "   hours  \n",
       "0     21  \n",
       "1     11  \n",
       "2      1  \n",
       "3     11  \n",
       "4     19  \n",
       "\n",
       "[5 rows x 42 columns]"
      ]
     },
     "execution_count": 61,
     "metadata": {},
     "output_type": "execute_result"
    }
   ],
   "source": [
    "train.head()"
   ]
  },
  {
   "cell_type": "code",
   "execution_count": 62,
   "metadata": {},
   "outputs": [
    {
     "name": "stdout",
     "output_type": "stream",
     "text": [
      "channelGrouping                                -0.000807\n",
      "visitId                                         0.010491\n",
      "visitNumber                                     0.023666\n",
      "visitStartTime                                  0.010491\n",
      "device_browser                                 -0.047720\n",
      "device_deviceCategory                          -0.042843\n",
      "device_isMobile                                -0.046071\n",
      "device_operatingSystem                         -0.032188\n",
      "geoNetwork_city                                -0.034703\n",
      "geoNetwork_continent                           -0.088376\n",
      "geoNetwork_country                              0.057219\n",
      "geoNetwork_metro                                0.075081\n",
      "geoNetwork_networkDomain                       -0.074516\n",
      "geoNetwork_region                               0.040322\n",
      "geoNetwork_subContinent                        -0.044378\n",
      "totals_bounces                                       NaN\n",
      "totals_hits                                     0.378804\n",
      "totals_newVisits                                     NaN\n",
      "totals_pageviews                                0.400732\n",
      "totals_transactionRevenue                       1.000000\n",
      "trafficSource_adContent                         0.004528\n",
      "trafficSource_adwordsClickInfo.adNetworkType   -0.011333\n",
      "trafficSource_adwordsClickInfo.gclId           -0.008931\n",
      "trafficSource_adwordsClickInfo.page            -0.011480\n",
      "trafficSource_adwordsClickInfo.slot            -0.010855\n",
      "trafficSource_campaign                         -0.007956\n",
      "trafficSource_keyword                           0.026663\n",
      "trafficSource_medium                            0.001241\n",
      "trafficSource_referralPath                     -0.099929\n",
      "trafficSource_source                            0.070479\n",
      "month                                          -0.002670\n",
      "day                                             0.000346\n",
      "weekday                                        -0.014851\n",
      "dayofweek                                      -0.015258\n",
      "hours                                          -0.022696\n",
      "dtype: float64\n"
     ]
    }
   ],
   "source": [
    "print(train.corrwith(train['totals_transactionRevenue']))"
   ]
  },
  {
   "cell_type": "code",
   "execution_count": 66,
   "metadata": {},
   "outputs": [
    {
     "data": {
      "image/png": "[encoded data removed]",
      "text/plain": [
       "<Figure size 432x288 with 2 Axes>"
      ]
     },
     "metadata": {},
     "output_type": "display_data"
    }
   ],
   "source": [
    "import seaborn as sns\n",
    "import matplotlib.pyplot as plt\n",
    "spearman_correlation = train.corr(method='spearman')\n",
    "pick_columns=spearman_correlation.nlargest(10, 'totals_transactionRevenue').index\n",
    "correlationmap = np.corrcoef(train[pick_columns].values.T)\n",
    "sns.set(font_scale=1.0)\n",
    "heatmap = sns.heatmap(correlationmap, cbar=True, annot=True, square=True , fmt='.2f', \n",
    "                      yticklabels=pick_columns.values, xticklabels=pick_columns.values)\n",
    "plt.show()"
   ]
  },
  {
   "cell_type": "code",
   "execution_count": 68,
   "metadata": {},
   "outputs": [],
   "source": [
    "train_x, valid_x, train_y, valid_y = train_test_split(train[features], train[\"totals_transactionRevenue\"], \n",
    "                                     test_size=0.25, random_state=20)"
   ]
  },
  {
   "cell_type": "code",
   "execution_count": 71,
   "metadata": {},
   "outputs": [
    {
     "name": "stdout",
     "output_type": "stream",
     "text": [
      "Training until validation scores don't improve for 250 rounds.\n",
      "[100]\tvalid_0's rmse: 1.68408\n",
      "[200]\tvalid_0's rmse: 1.66058\n",
      "[300]\tvalid_0's rmse: 1.65629\n",
      "[400]\tvalid_0's rmse: 1.6556\n",
      "[500]\tvalid_0's rmse: 1.65574\n",
      "[600]\tvalid_0's rmse: 1.65559\n",
      "Early stopping, best iteration is:\n",
      "[357]\tvalid_0's rmse: 1.65547\n"
     ]
    }
   ],
   "source": [
    "import lightgbm as lgb \n",
    "\n",
    "lgb_params = {\"objective\" : \"regression\", \"metric\" : \"rmse\",\n",
    "              \"num_leaves\" : 50, \"learning_rate\" : 0.02, \n",
    "              \"bagging_fraction\" : 0.75, \"feature_fraction\" : 0.8, \"bagging_frequency\" : 9}\n",
    "    \n",
    "lgb_train = lgb.Dataset(train_x, label=train_y)\n",
    "lgb_val = lgb.Dataset(valid_x, label=valid_y)\n",
    "model = lgb.train(lgb_params, lgb_train, 700, valid_sets=[lgb_val], early_stopping_rounds=250, verbose_eval=100)"
   ]
  },
  {
   "cell_type": "code",
   "execution_count": 72,
   "metadata": {},
   "outputs": [
    {
     "name": "stdout",
     "output_type": "stream",
     "text": [
      "Training until validation scores don't improve for 250 rounds.\n",
      "[100]\tvalid_0's rmse: 1.68408\n",
      "[200]\tvalid_0's rmse: 1.66058\n",
      "[300]\tvalid_0's rmse: 1.65629\n",
      "[400]\tvalid_0's rmse: 1.6556\n",
      "[500]\tvalid_0's rmse: 1.65574\n",
      "[600]\tvalid_0's rmse: 1.65559\n",
      "Early stopping, best iteration is:\n",
      "[357]\tvalid_0's rmse: 1.65547\n"
     ]
    }
   ],
   "source": [
    "model = lgb.train(lgb_params, lgb_train, 700, valid_sets=[lgb_val], early_stopping_rounds=250, verbose_eval=100)"
   ]
  },
  {
   "cell_type": "code",
   "execution_count": 73,
   "metadata": {},
   "outputs": [
    {
     "name": "stderr",
     "output_type": "stream",
     "text": [
      "/anaconda3/lib/python3.6/site-packages/ipykernel_launcher.py:4: RuntimeWarning: invalid value encountered in log1p\n",
      "  after removing the cwd from sys.path.\n"
     ]
    },
    {
     "data": {
      "text/html": [
       "<div>\n",
       "<style scoped>\n",
       "    .dataframe tbody tr th:only-of-type {\n",
       "        vertical-align: middle;\n",
       "    }\n",
       "\n",
       "    .dataframe tbody tr th {\n",
       "        vertical-align: top;\n",
       "    }\n",
       "\n",
       "    .dataframe thead th {\n",
       "        text-align: right;\n",
       "    }\n",
       "</style>\n",
       "<table border=\"1\" class=\"dataframe\">\n",
       "  <thead>\n",
       "    <tr style=\"text-align: right;\">\n",
       "      <th></th>\n",
       "      <th>fullVisitorId</th>\n",
       "      <th>PredictedLogRevenue</th>\n",
       "    </tr>\n",
       "  </thead>\n",
       "  <tbody>\n",
       "    <tr>\n",
       "      <th>0</th>\n",
       "      <td>0000000259678714014</td>\n",
       "      <td>0.138513</td>\n",
       "    </tr>\n",
       "    <tr>\n",
       "      <th>1</th>\n",
       "      <td>0000049363351866189</td>\n",
       "      <td>0.000000</td>\n",
       "    </tr>\n",
       "    <tr>\n",
       "      <th>2</th>\n",
       "      <td>0000053049821714864</td>\n",
       "      <td>0.000000</td>\n",
       "    </tr>\n",
       "    <tr>\n",
       "      <th>3</th>\n",
       "      <td>0000059488412965267</td>\n",
       "      <td>0.000000</td>\n",
       "    </tr>\n",
       "    <tr>\n",
       "      <th>4</th>\n",
       "      <td>0000085840370633780</td>\n",
       "      <td>0.009529</td>\n",
       "    </tr>\n",
       "  </tbody>\n",
       "</table>\n",
       "</div>"
      ],
      "text/plain": [
       "         fullVisitorId  PredictedLogRevenue\n",
       "0  0000000259678714014             0.138513\n",
       "1  0000049363351866189             0.000000\n",
       "2  0000053049821714864             0.000000\n",
       "3  0000059488412965267             0.000000\n",
       "4  0000085840370633780             0.009529"
      ]
     },
     "execution_count": 73,
     "metadata": {},
     "output_type": "execute_result"
    }
   ],
   "source": [
    "test_prediction = model.predict(test[features], num_iteration=model.best_iteration)\n",
    "test[\"PredictedLogRevenue\"] = np.expm1(test_prediction)\n",
    "submission = test.groupby(\"fullVisitorId\").agg({\"PredictedLogRevenue\" : \"sum\"}).reset_index()\n",
    "submission[\"PredictedLogRevenue\"] = np.log1p(submission[\"PredictedLogRevenue\"])\n",
    "submission[\"PredictedLogRevenue\"] =  submission[\"PredictedLogRevenue\"].apply(lambda x : 0.0 if x < 0 else x)\n",
    "submission.to_csv(\"submission2.csv\", index=False)\n",
    "submission.head()"
   ]
  },
  {
   "cell_type": "code",
   "execution_count": 74,
   "metadata": {},
   "outputs": [
    {
     "name": "stderr",
     "output_type": "stream",
     "text": [
      "/anaconda3/lib/python3.6/site-packages/ipykernel_launcher.py:4: RuntimeWarning: invalid value encountered in log1p\n",
      "  after removing the cwd from sys.path.\n"
     ]
    },
    {
     "data": {
      "text/html": [
       "<div>\n",
       "<style scoped>\n",
       "    .dataframe tbody tr th:only-of-type {\n",
       "        vertical-align: middle;\n",
       "    }\n",
       "\n",
       "    .dataframe tbody tr th {\n",
       "        vertical-align: top;\n",
       "    }\n",
       "\n",
       "    .dataframe thead th {\n",
       "        text-align: right;\n",
       "    }\n",
       "</style>\n",
       "<table border=\"1\" class=\"dataframe\">\n",
       "  <thead>\n",
       "    <tr style=\"text-align: right;\">\n",
       "      <th></th>\n",
       "      <th>fullVisitorId</th>\n",
       "      <th>PredictedLogRevenue</th>\n",
       "    </tr>\n",
       "  </thead>\n",
       "  <tbody>\n",
       "    <tr>\n",
       "      <th>0</th>\n",
       "      <td>0000000259678714014</td>\n",
       "      <td>0.138513</td>\n",
       "    </tr>\n",
       "    <tr>\n",
       "      <th>1</th>\n",
       "      <td>0000049363351866189</td>\n",
       "      <td>0.000000</td>\n",
       "    </tr>\n",
       "    <tr>\n",
       "      <th>2</th>\n",
       "      <td>0000053049821714864</td>\n",
       "      <td>0.000000</td>\n",
       "    </tr>\n",
       "    <tr>\n",
       "      <th>3</th>\n",
       "      <td>0000059488412965267</td>\n",
       "      <td>0.000000</td>\n",
       "    </tr>\n",
       "    <tr>\n",
       "      <th>4</th>\n",
       "      <td>0000085840370633780</td>\n",
       "      <td>0.009529</td>\n",
       "    </tr>\n",
       "  </tbody>\n",
       "</table>\n",
       "</div>"
      ],
      "text/plain": [
       "         fullVisitorId  PredictedLogRevenue\n",
       "0  0000000259678714014             0.138513\n",
       "1  0000049363351866189             0.000000\n",
       "2  0000053049821714864             0.000000\n",
       "3  0000059488412965267             0.000000\n",
       "4  0000085840370633780             0.009529"
      ]
     },
     "execution_count": 74,
     "metadata": {},
     "output_type": "execute_result"
    }
   ],
   "source": [
    "preds = model.predict(test[features], num_iteration=model.best_iteration)\n",
    "test[\"PredictedLogRevenue\"] = np.expm1(preds)\n",
    "submission = test.groupby(\"fullVisitorId\").agg({\"PredictedLogRevenue\" : \"sum\"}).reset_index()\n",
    "submission[\"PredictedLogRevenue\"] = np.log1p(submission[\"PredictedLogRevenue\"])\n",
    "submission[\"PredictedLogRevenue\"] =  submission[\"PredictedLogRevenue\"].apply(lambda x : 0.0 if x < 0 else x)\n",
    "submission.to_csv(\"baseline.csv\", index=False)\n",
    "submission.head()"
   ]
  },
  {
   "cell_type": "code",
   "execution_count": 75,
   "metadata": {},
   "outputs": [
    {
     "name": "stdout",
     "output_type": "stream",
     "text": [
      "Training until validation scores don't improve for 250 rounds.\n",
      "[100]\tvalid_0's rmse: 1.68408\n",
      "[200]\tvalid_0's rmse: 1.66058\n",
      "[300]\tvalid_0's rmse: 1.65629\n",
      "[400]\tvalid_0's rmse: 1.6556\n",
      "[500]\tvalid_0's rmse: 1.65574\n",
      "[600]\tvalid_0's rmse: 1.65559\n",
      "Early stopping, best iteration is:\n",
      "[357]\tvalid_0's rmse: 1.65547\n"
     ]
    }
   ],
   "source": [
    "lgb_param = {'num_leaves':48,\n",
    "         'min_data_in_leaf': 300, \n",
    "         'objective':'regression',\n",
    "         'max_depth': -1,\n",
    "         'learning_rate':0.005,\n",
    "         \"min_child_samples\":40,\n",
    "         \"boosting\":\"gbdt\",\n",
    "         \"feature_fraction\":0.8,\n",
    "         \"bagging_freq\":1,\n",
    "         \"bagging_fraction\":0.8 ,\n",
    "         \"bagging_seed\": 3,\n",
    "         \"metric\": 'rmse',\n",
    "         \"lambda_l1\": 1,\n",
    "         'lambda_l2': 1,\n",
    "         \"verbosity\": -1}\n",
    "\n",
    "lgb_train = lgb.Dataset(train_x, label=train_y)\n",
    "lgb_val = lgb.Dataset(valid_x, label=valid_y)\n",
    "model = lgb.train(lgb_params, lgb_train, 700, valid_sets=[lgb_val], early_stopping_rounds=250, verbose_eval=100)"
   ]
  },
  {
   "cell_type": "code",
   "execution_count": 76,
   "metadata": {},
   "outputs": [],
   "source": [
    "train_df = train\n",
    "test_df = test"
   ]
  },
  {
   "cell_type": "code",
   "execution_count": 78,
   "metadata": {},
   "outputs": [
    {
     "data": {
      "text/plain": [
       "(903653, 42)"
      ]
     },
     "execution_count": 78,
     "metadata": {},
     "output_type": "execute_result"
    }
   ],
   "source": [
    "train_df.shape"
   ]
  },
  {
   "cell_type": "code",
   "execution_count": 81,
   "metadata": {},
   "outputs": [
    {
     "data": {
      "text/plain": [
       "Index(['channelGrouping', 'date', 'fullVisitorId', 'sessionId', 'visitId',\n",
       "       'visitNumber', 'visitStartTime', 'device_browser',\n",
       "       'device_deviceCategory', 'device_isMobile', 'device_operatingSystem',\n",
       "       'geoNetwork_city', 'geoNetwork_continent', 'geoNetwork_country',\n",
       "       'geoNetwork_metro', 'geoNetwork_networkDomain', 'geoNetwork_region',\n",
       "       'geoNetwork_subContinent', 'totals_bounces', 'totals_hits',\n",
       "       'totals_newVisits', 'totals_pageviews', 'totals_transactionRevenue',\n",
       "       'trafficSource_adContent',\n",
       "       'trafficSource_adwordsClickInfo.adNetworkType',\n",
       "       'trafficSource_adwordsClickInfo.gclId',\n",
       "       'trafficSource_adwordsClickInfo.isVideoAd',\n",
       "       'trafficSource_adwordsClickInfo.page',\n",
       "       'trafficSource_adwordsClickInfo.slot', 'trafficSource_campaign',\n",
       "       'trafficSource_campaignCode', 'trafficSource_isTrueDirect',\n",
       "       'trafficSource_keyword', 'trafficSource_medium',\n",
       "       'trafficSource_referralPath', 'trafficSource_source', 'month', 'day',\n",
       "       'weekday', 'v_date', 'dayofweek', 'hours'],\n",
       "      dtype='object')"
      ]
     },
     "execution_count": 81,
     "metadata": {},
     "output_type": "execute_result"
    }
   ],
   "source": [
    "train_df.columns"
   ]
  },
  {
   "cell_type": "code",
   "execution_count": 83,
   "metadata": {},
   "outputs": [],
   "source": [
    "target = train_df['totals_transactionRevenue']"
   ]
  },
  {
   "cell_type": "code",
   "execution_count": 85,
   "metadata": {},
   "outputs": [],
   "source": [
    "target = train_df['totals_transactionRevenue'].fillna(0).astype(float)\n",
    "target = target.apply(lambda x: np.log(x) if x > 0 else x)\n",
    "del train_df['totals_transactionRevenue']"
   ]
  },
  {
   "cell_type": "code",
   "execution_count": 91,
   "metadata": {},
   "outputs": [
    {
     "ename": "ValueError",
     "evalue": "DataFrame.dtypes for data must be int, float or bool.\nDid not expect the data types in fields date, fullVisitorId, sessionId, trafficSource_adwordsClickInfo.isVideoAd, trafficSource_campaignCode, trafficSource_isTrueDirect, v_date",
     "output_type": "error",
     "traceback": [
      "\u001b[0;31m---------------------------------------------------------------------------\u001b[0m",
      "\u001b[0;31mValueError\u001b[0m                                Traceback (most recent call last)",
      "\u001b[0;32m<ipython-input-91-0d3ee22146cc>\u001b[0m in \u001b[0;36m<module>\u001b[0;34m()\u001b[0m\n\u001b[1;32m     27\u001b[0m \u001b[0;34m\u001b[0m\u001b[0m\n\u001b[1;32m     28\u001b[0m     \u001b[0mnum_round\u001b[0m \u001b[0;34m=\u001b[0m \u001b[0;36m10000\u001b[0m\u001b[0;34m\u001b[0m\u001b[0m\n\u001b[0;32m---> 29\u001b[0;31m     \u001b[0mclf\u001b[0m \u001b[0;34m=\u001b[0m \u001b[0mlgb\u001b[0m\u001b[0;34m.\u001b[0m\u001b[0mtrain\u001b[0m\u001b[0;34m(\u001b[0m\u001b[0mparam\u001b[0m\u001b[0;34m,\u001b[0m \u001b[0mtrn_data\u001b[0m\u001b[0;34m,\u001b[0m \u001b[0mnum_round\u001b[0m\u001b[0;34m,\u001b[0m \u001b[0mvalid_sets\u001b[0m \u001b[0;34m=\u001b[0m \u001b[0;34m[\u001b[0m\u001b[0mtrn_data\u001b[0m\u001b[0;34m,\u001b[0m \u001b[0mval_data\u001b[0m\u001b[0;34m]\u001b[0m\u001b[0;34m,\u001b[0m \u001b[0mverbose_eval\u001b[0m\u001b[0;34m=\u001b[0m\u001b[0;36m400\u001b[0m\u001b[0;34m,\u001b[0m \u001b[0mearly_stopping_rounds\u001b[0m \u001b[0;34m=\u001b[0m \u001b[0;36m500\u001b[0m\u001b[0;34m,\u001b[0m \u001b[0mcategorical_feature\u001b[0m\u001b[0;34m=\u001b[0m\u001b[0mfeatures\u001b[0m\u001b[0;34m)\u001b[0m\u001b[0;34m\u001b[0m\u001b[0m\n\u001b[0m\u001b[1;32m     30\u001b[0m     \u001b[0moof\u001b[0m\u001b[0;34m[\u001b[0m\u001b[0mval_idx\u001b[0m\u001b[0;34m]\u001b[0m \u001b[0;34m=\u001b[0m \u001b[0mclf\u001b[0m\u001b[0;34m.\u001b[0m\u001b[0mpredict\u001b[0m\u001b[0;34m(\u001b[0m\u001b[0mtrain_df\u001b[0m\u001b[0;34m.\u001b[0m\u001b[0miloc\u001b[0m\u001b[0;34m[\u001b[0m\u001b[0mval_idx\u001b[0m\u001b[0;34m]\u001b[0m\u001b[0;34m.\u001b[0m\u001b[0mvalues\u001b[0m\u001b[0;34m,\u001b[0m \u001b[0mnum_iteration\u001b[0m\u001b[0;34m=\u001b[0m\u001b[0mclf\u001b[0m\u001b[0;34m.\u001b[0m\u001b[0mbest_iteration\u001b[0m\u001b[0;34m)\u001b[0m\u001b[0;34m\u001b[0m\u001b[0m\n\u001b[1;32m     31\u001b[0m \u001b[0;34m\u001b[0m\u001b[0m\n",
      "\u001b[0;32m/anaconda3/lib/python3.6/site-packages/lightgbm/engine.py\u001b[0m in \u001b[0;36mtrain\u001b[0;34m(params, train_set, num_boost_round, valid_sets, valid_names, fobj, feval, init_model, feature_name, categorical_feature, early_stopping_rounds, evals_result, verbose_eval, learning_rates, keep_training_booster, callbacks)\u001b[0m\n\u001b[1;32m    190\u001b[0m     \u001b[0;31m# construct booster\u001b[0m\u001b[0;34m\u001b[0m\u001b[0;34m\u001b[0m\u001b[0m\n\u001b[1;32m    191\u001b[0m     \u001b[0;32mtry\u001b[0m\u001b[0;34m:\u001b[0m\u001b[0;34m\u001b[0m\u001b[0m\n\u001b[0;32m--> 192\u001b[0;31m         \u001b[0mbooster\u001b[0m \u001b[0;34m=\u001b[0m \u001b[0mBooster\u001b[0m\u001b[0;34m(\u001b[0m\u001b[0mparams\u001b[0m\u001b[0;34m=\u001b[0m\u001b[0mparams\u001b[0m\u001b[0;34m,\u001b[0m \u001b[0mtrain_set\u001b[0m\u001b[0;34m=\u001b[0m\u001b[0mtrain_set\u001b[0m\u001b[0;34m)\u001b[0m\u001b[0;34m\u001b[0m\u001b[0m\n\u001b[0m\u001b[1;32m    193\u001b[0m         \u001b[0;32mif\u001b[0m \u001b[0mis_valid_contain_train\u001b[0m\u001b[0;34m:\u001b[0m\u001b[0;34m\u001b[0m\u001b[0m\n\u001b[1;32m    194\u001b[0m             \u001b[0mbooster\u001b[0m\u001b[0;34m.\u001b[0m\u001b[0mset_train_data_name\u001b[0m\u001b[0;34m(\u001b[0m\u001b[0mtrain_data_name\u001b[0m\u001b[0;34m)\u001b[0m\u001b[0;34m\u001b[0m\u001b[0m\n",
      "\u001b[0;32m/anaconda3/lib/python3.6/site-packages/lightgbm/basic.py\u001b[0m in \u001b[0;36m__init__\u001b[0;34m(self, params, train_set, model_file, silent)\u001b[0m\n\u001b[1;32m   1485\u001b[0m             \u001b[0mself\u001b[0m\u001b[0;34m.\u001b[0m\u001b[0mhandle\u001b[0m \u001b[0;34m=\u001b[0m \u001b[0mctypes\u001b[0m\u001b[0;34m.\u001b[0m\u001b[0mc_void_p\u001b[0m\u001b[0;34m(\u001b[0m\u001b[0;34m)\u001b[0m\u001b[0;34m\u001b[0m\u001b[0m\n\u001b[1;32m   1486\u001b[0m             _safe_call(_LIB.LGBM_BoosterCreate(\n\u001b[0;32m-> 1487\u001b[0;31m                 \u001b[0mtrain_set\u001b[0m\u001b[0;34m.\u001b[0m\u001b[0mconstruct\u001b[0m\u001b[0;34m(\u001b[0m\u001b[0;34m)\u001b[0m\u001b[0;34m.\u001b[0m\u001b[0mhandle\u001b[0m\u001b[0;34m,\u001b[0m\u001b[0;34m\u001b[0m\u001b[0m\n\u001b[0m\u001b[1;32m   1488\u001b[0m                 \u001b[0mc_str\u001b[0m\u001b[0;34m(\u001b[0m\u001b[0mparams_str\u001b[0m\u001b[0;34m)\u001b[0m\u001b[0;34m,\u001b[0m\u001b[0;34m\u001b[0m\u001b[0m\n\u001b[1;32m   1489\u001b[0m                 ctypes.byref(self.handle)))\n",
      "\u001b[0;32m/anaconda3/lib/python3.6/site-packages/lightgbm/basic.py\u001b[0m in \u001b[0;36mconstruct\u001b[0;34m(self)\u001b[0m\n\u001b[1;32m    983\u001b[0m                                 \u001b[0minit_score\u001b[0m\u001b[0;34m=\u001b[0m\u001b[0mself\u001b[0m\u001b[0;34m.\u001b[0m\u001b[0minit_score\u001b[0m\u001b[0;34m,\u001b[0m \u001b[0mpredictor\u001b[0m\u001b[0;34m=\u001b[0m\u001b[0mself\u001b[0m\u001b[0;34m.\u001b[0m\u001b[0m_predictor\u001b[0m\u001b[0;34m,\u001b[0m\u001b[0;34m\u001b[0m\u001b[0m\n\u001b[1;32m    984\u001b[0m                                 \u001b[0msilent\u001b[0m\u001b[0;34m=\u001b[0m\u001b[0mself\u001b[0m\u001b[0;34m.\u001b[0m\u001b[0msilent\u001b[0m\u001b[0;34m,\u001b[0m \u001b[0mfeature_name\u001b[0m\u001b[0;34m=\u001b[0m\u001b[0mself\u001b[0m\u001b[0;34m.\u001b[0m\u001b[0mfeature_name\u001b[0m\u001b[0;34m,\u001b[0m\u001b[0;34m\u001b[0m\u001b[0m\n\u001b[0;32m--> 985\u001b[0;31m                                 categorical_feature=self.categorical_feature, params=self.params)\n\u001b[0m\u001b[1;32m    986\u001b[0m             \u001b[0;32mif\u001b[0m \u001b[0mself\u001b[0m\u001b[0;34m.\u001b[0m\u001b[0mfree_raw_data\u001b[0m\u001b[0;34m:\u001b[0m\u001b[0;34m\u001b[0m\u001b[0m\n\u001b[1;32m    987\u001b[0m                 \u001b[0mself\u001b[0m\u001b[0;34m.\u001b[0m\u001b[0mdata\u001b[0m \u001b[0;34m=\u001b[0m \u001b[0;32mNone\u001b[0m\u001b[0;34m\u001b[0m\u001b[0m\n",
      "\u001b[0;32m/anaconda3/lib/python3.6/site-packages/lightgbm/basic.py\u001b[0m in \u001b[0;36m_lazy_init\u001b[0;34m(self, data, label, reference, weight, group, init_score, predictor, silent, feature_name, categorical_feature, params)\u001b[0m\n\u001b[1;32m    707\u001b[0m                                                                                              \u001b[0mfeature_name\u001b[0m\u001b[0;34m,\u001b[0m\u001b[0;34m\u001b[0m\u001b[0m\n\u001b[1;32m    708\u001b[0m                                                                                              \u001b[0mcategorical_feature\u001b[0m\u001b[0;34m,\u001b[0m\u001b[0;34m\u001b[0m\u001b[0m\n\u001b[0;32m--> 709\u001b[0;31m                                                                                              self.pandas_categorical)\n\u001b[0m\u001b[1;32m    710\u001b[0m         \u001b[0mlabel\u001b[0m \u001b[0;34m=\u001b[0m \u001b[0m_label_from_pandas\u001b[0m\u001b[0;34m(\u001b[0m\u001b[0mlabel\u001b[0m\u001b[0;34m)\u001b[0m\u001b[0;34m\u001b[0m\u001b[0m\n\u001b[1;32m    711\u001b[0m         \u001b[0mself\u001b[0m\u001b[0;34m.\u001b[0m\u001b[0mdata_has_header\u001b[0m \u001b[0;34m=\u001b[0m \u001b[0;32mFalse\u001b[0m\u001b[0;34m\u001b[0m\u001b[0m\n",
      "\u001b[0;32m/anaconda3/lib/python3.6/site-packages/lightgbm/basic.py\u001b[0m in \u001b[0;36m_data_from_pandas\u001b[0;34m(data, feature_name, categorical_feature, pandas_categorical)\u001b[0m\n\u001b[1;32m    276\u001b[0m             msg = (\"DataFrame.dtypes for data must be int, float or bool.\\n\"\n\u001b[1;32m    277\u001b[0m                    \"Did not expect the data types in fields \")\n\u001b[0;32m--> 278\u001b[0;31m             \u001b[0;32mraise\u001b[0m \u001b[0mValueError\u001b[0m\u001b[0;34m(\u001b[0m\u001b[0mmsg\u001b[0m \u001b[0;34m+\u001b[0m \u001b[0;34m', '\u001b[0m\u001b[0;34m.\u001b[0m\u001b[0mjoin\u001b[0m\u001b[0;34m(\u001b[0m\u001b[0mbad_fields\u001b[0m\u001b[0;34m)\u001b[0m\u001b[0;34m)\u001b[0m\u001b[0;34m\u001b[0m\u001b[0m\n\u001b[0m\u001b[1;32m    279\u001b[0m         \u001b[0mdata\u001b[0m \u001b[0;34m=\u001b[0m \u001b[0mdata\u001b[0m\u001b[0;34m.\u001b[0m\u001b[0mvalues\u001b[0m\u001b[0;34m.\u001b[0m\u001b[0mastype\u001b[0m\u001b[0;34m(\u001b[0m\u001b[0;34m'float'\u001b[0m\u001b[0;34m)\u001b[0m\u001b[0;34m\u001b[0m\u001b[0m\n\u001b[1;32m    280\u001b[0m     \u001b[0;32melse\u001b[0m\u001b[0;34m:\u001b[0m\u001b[0;34m\u001b[0m\u001b[0m\n",
      "\u001b[0;31mValueError\u001b[0m: DataFrame.dtypes for data must be int, float or bool.\nDid not expect the data types in fields date, fullVisitorId, sessionId, trafficSource_adwordsClickInfo.isVideoAd, trafficSource_campaignCode, trafficSource_isTrueDirect, v_date"
     ]
    }
   ],
   "source": [
    "param = {'num_leaves':48,\n",
    "         'min_data_in_leaf': 300, \n",
    "         'objective':'regression',\n",
    "         'max_depth': -1,\n",
    "         'learning_rate':0.005,\n",
    "         \"min_child_samples\":40,\n",
    "         \"boosting\":\"gbdt\",\n",
    "         \"feature_fraction\":0.8,\n",
    "         \"bagging_freq\":1,\n",
    "         \"bagging_fraction\":0.8 ,\n",
    "         \"bagging_seed\": 3,\n",
    "         \"metric\": 'rmse',\n",
    "         \"lambda_l1\": 1,\n",
    "         'lambda_l2': 1,\n",
    "         \"verbosity\": -1}\n",
    "\n",
    "folds = KFold(n_splits=5, shuffle=True, random_state=15)\n",
    "oof = np.zeros(len(train_df))\n",
    "predictions = np.zeros(len(test_df))\n",
    "start = time.time()\n",
    "features_c = list(train_df.columns)\n",
    "feature_importance_df = pd.DataFrame()\n",
    "\n",
    "for fold_, (trn_idx, val_idx) in enumerate(folds.split(train_df.values, target.values)):\n",
    "    trn_data = lgb.Dataset(train_df.iloc[trn_idx], label=target.iloc[trn_idx], categorical_feature=features)\n",
    "    val_data = lgb.Dataset(train_df.iloc[val_idx], label=target.iloc[val_idx], categorical_feature=features)\n",
    "    \n",
    "    num_round = 10000\n",
    "    clf = lgb.train(param, trn_data, num_round, valid_sets = [trn_data, val_data], verbose_eval=400, early_stopping_rounds = 500, categorical_feature=features)\n",
    "    oof[val_idx] = clf.predict(train_df.iloc[val_idx].values, num_iteration=clf.best_iteration)\n",
    "    \n",
    "    fold_importance_df = pd.DataFrame()\n",
    "    fold_importance_df[\"feature\"] = features_c\n",
    "    fold_importance_df[\"importance\"] = clf.feature_importance()\n",
    "    fold_importance_df[\"fold\"] = fold_ + 1\n",
    "    feature_importance_df = pd.concat([feature_importance_df, fold_importance_df], axis=0)\n",
    "    \n",
    "    predictions += clf.predict(test_df.values, num_iteration=clf.best_iteration) / folds.n_splits"
   ]
  },
  {
   "cell_type": "code",
   "execution_count": 90,
   "metadata": {},
   "outputs": [
    {
     "data": {
      "text/plain": [
       "['channelGrouping',\n",
       " 'date',\n",
       " 'fullVisitorId',\n",
       " 'sessionId',\n",
       " 'visitId',\n",
       " 'visitNumber',\n",
       " 'visitStartTime',\n",
       " 'device_browser',\n",
       " 'device_deviceCategory',\n",
       " 'device_isMobile',\n",
       " 'device_operatingSystem',\n",
       " 'geoNetwork_city',\n",
       " 'geoNetwork_continent',\n",
       " 'geoNetwork_country',\n",
       " 'geoNetwork_metro',\n",
       " 'geoNetwork_networkDomain',\n",
       " 'geoNetwork_region',\n",
       " 'geoNetwork_subContinent',\n",
       " 'totals_bounces',\n",
       " 'totals_hits',\n",
       " 'totals_newVisits',\n",
       " 'totals_pageviews',\n",
       " 'trafficSource_adContent',\n",
       " 'trafficSource_adwordsClickInfo.adNetworkType',\n",
       " 'trafficSource_adwordsClickInfo.gclId',\n",
       " 'trafficSource_adwordsClickInfo.isVideoAd',\n",
       " 'trafficSource_adwordsClickInfo.page',\n",
       " 'trafficSource_adwordsClickInfo.slot',\n",
       " 'trafficSource_campaign',\n",
       " 'trafficSource_campaignCode',\n",
       " 'trafficSource_isTrueDirect',\n",
       " 'trafficSource_keyword',\n",
       " 'trafficSource_medium',\n",
       " 'trafficSource_referralPath',\n",
       " 'trafficSource_source',\n",
       " 'month',\n",
       " 'day',\n",
       " 'weekday',\n",
       " 'v_date',\n",
       " 'dayofweek',\n",
       " 'hours']"
      ]
     },
     "execution_count": 90,
     "metadata": {},
     "output_type": "execute_result"
    }
   ],
   "source": [
    "(features)"
   ]
  },
  {
   "cell_type": "code",
   "execution_count": 93,
   "metadata": {},
   "outputs": [],
   "source": [
    "features.remove('date')\n",
    "#['date', 'fullVisitorId', 'sessionId', 'trafficSource_adwordsClickInfo.isVideoAd', \n",
    "            #'trafficSource_campaignCode', 'trafficSource_isTrueDirect', 'v_date']"
   ]
  },
  {
   "cell_type": "code",
   "execution_count": 95,
   "metadata": {},
   "outputs": [],
   "source": [
    "rem = ['date','fullVisitorId', 'sessionId', 'trafficSource_adwordsClickInfo.isVideoAd', \n",
    "            'trafficSource_campaignCode', 'trafficSource_isTrueDirect', 'v_date']\n",
    "for i in rem:\n",
    "    features_c.remove(i)\n"
   ]
  },
  {
   "cell_type": "code",
   "execution_count": 97,
   "metadata": {},
   "outputs": [
    {
     "ename": "ValueError",
     "evalue": "DataFrame.dtypes for data must be int, float or bool.\nDid not expect the data types in fields date, fullVisitorId, sessionId, trafficSource_adwordsClickInfo.isVideoAd, trafficSource_campaignCode, trafficSource_isTrueDirect, v_date",
     "output_type": "error",
     "traceback": [
      "\u001b[0;31m---------------------------------------------------------------------------\u001b[0m",
      "\u001b[0;31mValueError\u001b[0m                                Traceback (most recent call last)",
      "\u001b[0;32m<ipython-input-97-6ccc4214adb8>\u001b[0m in \u001b[0;36m<module>\u001b[0;34m()\u001b[0m\n\u001b[1;32m     33\u001b[0m \u001b[0;34m\u001b[0m\u001b[0m\n\u001b[1;32m     34\u001b[0m     \u001b[0mnum_round\u001b[0m \u001b[0;34m=\u001b[0m \u001b[0;36m10000\u001b[0m\u001b[0;34m\u001b[0m\u001b[0m\n\u001b[0;32m---> 35\u001b[0;31m     \u001b[0mclf\u001b[0m \u001b[0;34m=\u001b[0m \u001b[0mlgb\u001b[0m\u001b[0;34m.\u001b[0m\u001b[0mtrain\u001b[0m\u001b[0;34m(\u001b[0m\u001b[0mparam\u001b[0m\u001b[0;34m,\u001b[0m \u001b[0mtrn_data\u001b[0m\u001b[0;34m,\u001b[0m \u001b[0mnum_round\u001b[0m\u001b[0;34m,\u001b[0m \u001b[0mvalid_sets\u001b[0m \u001b[0;34m=\u001b[0m \u001b[0;34m[\u001b[0m\u001b[0mtrn_data\u001b[0m\u001b[0;34m,\u001b[0m \u001b[0mval_data\u001b[0m\u001b[0;34m]\u001b[0m\u001b[0;34m,\u001b[0m \u001b[0mverbose_eval\u001b[0m\u001b[0;34m=\u001b[0m\u001b[0;36m400\u001b[0m\u001b[0;34m,\u001b[0m \u001b[0mearly_stopping_rounds\u001b[0m \u001b[0;34m=\u001b[0m \u001b[0;36m500\u001b[0m\u001b[0;34m,\u001b[0m \u001b[0mcategorical_feature\u001b[0m\u001b[0;34m=\u001b[0m\u001b[0mfeatures\u001b[0m\u001b[0;34m)\u001b[0m\u001b[0;34m\u001b[0m\u001b[0m\n\u001b[0m\u001b[1;32m     36\u001b[0m     \u001b[0moof\u001b[0m\u001b[0;34m[\u001b[0m\u001b[0mval_idx\u001b[0m\u001b[0;34m]\u001b[0m \u001b[0;34m=\u001b[0m \u001b[0mclf\u001b[0m\u001b[0;34m.\u001b[0m\u001b[0mpredict\u001b[0m\u001b[0;34m(\u001b[0m\u001b[0mtrain_df\u001b[0m\u001b[0;34m.\u001b[0m\u001b[0miloc\u001b[0m\u001b[0;34m[\u001b[0m\u001b[0mval_idx\u001b[0m\u001b[0;34m]\u001b[0m\u001b[0;34m.\u001b[0m\u001b[0mvalues\u001b[0m\u001b[0;34m,\u001b[0m \u001b[0mnum_iteration\u001b[0m\u001b[0;34m=\u001b[0m\u001b[0mclf\u001b[0m\u001b[0;34m.\u001b[0m\u001b[0mbest_iteration\u001b[0m\u001b[0;34m)\u001b[0m\u001b[0;34m\u001b[0m\u001b[0m\n\u001b[1;32m     37\u001b[0m \u001b[0;34m\u001b[0m\u001b[0m\n",
      "\u001b[0;32m/anaconda3/lib/python3.6/site-packages/lightgbm/engine.py\u001b[0m in \u001b[0;36mtrain\u001b[0;34m(params, train_set, num_boost_round, valid_sets, valid_names, fobj, feval, init_model, feature_name, categorical_feature, early_stopping_rounds, evals_result, verbose_eval, learning_rates, keep_training_booster, callbacks)\u001b[0m\n\u001b[1;32m    190\u001b[0m     \u001b[0;31m# construct booster\u001b[0m\u001b[0;34m\u001b[0m\u001b[0;34m\u001b[0m\u001b[0m\n\u001b[1;32m    191\u001b[0m     \u001b[0;32mtry\u001b[0m\u001b[0;34m:\u001b[0m\u001b[0;34m\u001b[0m\u001b[0m\n\u001b[0;32m--> 192\u001b[0;31m         \u001b[0mbooster\u001b[0m \u001b[0;34m=\u001b[0m \u001b[0mBooster\u001b[0m\u001b[0;34m(\u001b[0m\u001b[0mparams\u001b[0m\u001b[0;34m=\u001b[0m\u001b[0mparams\u001b[0m\u001b[0;34m,\u001b[0m \u001b[0mtrain_set\u001b[0m\u001b[0;34m=\u001b[0m\u001b[0mtrain_set\u001b[0m\u001b[0;34m)\u001b[0m\u001b[0;34m\u001b[0m\u001b[0m\n\u001b[0m\u001b[1;32m    193\u001b[0m         \u001b[0;32mif\u001b[0m \u001b[0mis_valid_contain_train\u001b[0m\u001b[0;34m:\u001b[0m\u001b[0;34m\u001b[0m\u001b[0m\n\u001b[1;32m    194\u001b[0m             \u001b[0mbooster\u001b[0m\u001b[0;34m.\u001b[0m\u001b[0mset_train_data_name\u001b[0m\u001b[0;34m(\u001b[0m\u001b[0mtrain_data_name\u001b[0m\u001b[0;34m)\u001b[0m\u001b[0;34m\u001b[0m\u001b[0m\n",
      "\u001b[0;32m/anaconda3/lib/python3.6/site-packages/lightgbm/basic.py\u001b[0m in \u001b[0;36m__init__\u001b[0;34m(self, params, train_set, model_file, silent)\u001b[0m\n\u001b[1;32m   1485\u001b[0m             \u001b[0mself\u001b[0m\u001b[0;34m.\u001b[0m\u001b[0mhandle\u001b[0m \u001b[0;34m=\u001b[0m \u001b[0mctypes\u001b[0m\u001b[0;34m.\u001b[0m\u001b[0mc_void_p\u001b[0m\u001b[0;34m(\u001b[0m\u001b[0;34m)\u001b[0m\u001b[0;34m\u001b[0m\u001b[0m\n\u001b[1;32m   1486\u001b[0m             _safe_call(_LIB.LGBM_BoosterCreate(\n\u001b[0;32m-> 1487\u001b[0;31m                 \u001b[0mtrain_set\u001b[0m\u001b[0;34m.\u001b[0m\u001b[0mconstruct\u001b[0m\u001b[0;34m(\u001b[0m\u001b[0;34m)\u001b[0m\u001b[0;34m.\u001b[0m\u001b[0mhandle\u001b[0m\u001b[0;34m,\u001b[0m\u001b[0;34m\u001b[0m\u001b[0m\n\u001b[0m\u001b[1;32m   1488\u001b[0m                 \u001b[0mc_str\u001b[0m\u001b[0;34m(\u001b[0m\u001b[0mparams_str\u001b[0m\u001b[0;34m)\u001b[0m\u001b[0;34m,\u001b[0m\u001b[0;34m\u001b[0m\u001b[0m\n\u001b[1;32m   1489\u001b[0m                 ctypes.byref(self.handle)))\n",
      "\u001b[0;32m/anaconda3/lib/python3.6/site-packages/lightgbm/basic.py\u001b[0m in \u001b[0;36mconstruct\u001b[0;34m(self)\u001b[0m\n\u001b[1;32m    983\u001b[0m                                 \u001b[0minit_score\u001b[0m\u001b[0;34m=\u001b[0m\u001b[0mself\u001b[0m\u001b[0;34m.\u001b[0m\u001b[0minit_score\u001b[0m\u001b[0;34m,\u001b[0m \u001b[0mpredictor\u001b[0m\u001b[0;34m=\u001b[0m\u001b[0mself\u001b[0m\u001b[0;34m.\u001b[0m\u001b[0m_predictor\u001b[0m\u001b[0;34m,\u001b[0m\u001b[0;34m\u001b[0m\u001b[0m\n\u001b[1;32m    984\u001b[0m                                 \u001b[0msilent\u001b[0m\u001b[0;34m=\u001b[0m\u001b[0mself\u001b[0m\u001b[0;34m.\u001b[0m\u001b[0msilent\u001b[0m\u001b[0;34m,\u001b[0m \u001b[0mfeature_name\u001b[0m\u001b[0;34m=\u001b[0m\u001b[0mself\u001b[0m\u001b[0;34m.\u001b[0m\u001b[0mfeature_name\u001b[0m\u001b[0;34m,\u001b[0m\u001b[0;34m\u001b[0m\u001b[0m\n\u001b[0;32m--> 985\u001b[0;31m                                 categorical_feature=self.categorical_feature, params=self.params)\n\u001b[0m\u001b[1;32m    986\u001b[0m             \u001b[0;32mif\u001b[0m \u001b[0mself\u001b[0m\u001b[0;34m.\u001b[0m\u001b[0mfree_raw_data\u001b[0m\u001b[0;34m:\u001b[0m\u001b[0;34m\u001b[0m\u001b[0m\n\u001b[1;32m    987\u001b[0m                 \u001b[0mself\u001b[0m\u001b[0;34m.\u001b[0m\u001b[0mdata\u001b[0m \u001b[0;34m=\u001b[0m \u001b[0;32mNone\u001b[0m\u001b[0;34m\u001b[0m\u001b[0m\n",
      "\u001b[0;32m/anaconda3/lib/python3.6/site-packages/lightgbm/basic.py\u001b[0m in \u001b[0;36m_lazy_init\u001b[0;34m(self, data, label, reference, weight, group, init_score, predictor, silent, feature_name, categorical_feature, params)\u001b[0m\n\u001b[1;32m    707\u001b[0m                                                                                              \u001b[0mfeature_name\u001b[0m\u001b[0;34m,\u001b[0m\u001b[0;34m\u001b[0m\u001b[0m\n\u001b[1;32m    708\u001b[0m                                                                                              \u001b[0mcategorical_feature\u001b[0m\u001b[0;34m,\u001b[0m\u001b[0;34m\u001b[0m\u001b[0m\n\u001b[0;32m--> 709\u001b[0;31m                                                                                              self.pandas_categorical)\n\u001b[0m\u001b[1;32m    710\u001b[0m         \u001b[0mlabel\u001b[0m \u001b[0;34m=\u001b[0m \u001b[0m_label_from_pandas\u001b[0m\u001b[0;34m(\u001b[0m\u001b[0mlabel\u001b[0m\u001b[0;34m)\u001b[0m\u001b[0;34m\u001b[0m\u001b[0m\n\u001b[1;32m    711\u001b[0m         \u001b[0mself\u001b[0m\u001b[0;34m.\u001b[0m\u001b[0mdata_has_header\u001b[0m \u001b[0;34m=\u001b[0m \u001b[0;32mFalse\u001b[0m\u001b[0;34m\u001b[0m\u001b[0m\n",
      "\u001b[0;32m/anaconda3/lib/python3.6/site-packages/lightgbm/basic.py\u001b[0m in \u001b[0;36m_data_from_pandas\u001b[0;34m(data, feature_name, categorical_feature, pandas_categorical)\u001b[0m\n\u001b[1;32m    276\u001b[0m             msg = (\"DataFrame.dtypes for data must be int, float or bool.\\n\"\n\u001b[1;32m    277\u001b[0m                    \"Did not expect the data types in fields \")\n\u001b[0;32m--> 278\u001b[0;31m             \u001b[0;32mraise\u001b[0m \u001b[0mValueError\u001b[0m\u001b[0;34m(\u001b[0m\u001b[0mmsg\u001b[0m \u001b[0;34m+\u001b[0m \u001b[0;34m', '\u001b[0m\u001b[0;34m.\u001b[0m\u001b[0mjoin\u001b[0m\u001b[0;34m(\u001b[0m\u001b[0mbad_fields\u001b[0m\u001b[0;34m)\u001b[0m\u001b[0;34m)\u001b[0m\u001b[0;34m\u001b[0m\u001b[0m\n\u001b[0m\u001b[1;32m    279\u001b[0m         \u001b[0mdata\u001b[0m \u001b[0;34m=\u001b[0m \u001b[0mdata\u001b[0m\u001b[0;34m.\u001b[0m\u001b[0mvalues\u001b[0m\u001b[0;34m.\u001b[0m\u001b[0mastype\u001b[0m\u001b[0;34m(\u001b[0m\u001b[0;34m'float'\u001b[0m\u001b[0;34m)\u001b[0m\u001b[0;34m\u001b[0m\u001b[0m\n\u001b[1;32m    280\u001b[0m     \u001b[0;32melse\u001b[0m\u001b[0;34m:\u001b[0m\u001b[0;34m\u001b[0m\u001b[0m\n",
      "\u001b[0;31mValueError\u001b[0m: DataFrame.dtypes for data must be int, float or bool.\nDid not expect the data types in fields date, fullVisitorId, sessionId, trafficSource_adwordsClickInfo.isVideoAd, trafficSource_campaignCode, trafficSource_isTrueDirect, v_date"
     ]
    }
   ],
   "source": [
    "param = {'num_leaves':48,\n",
    "         'min_data_in_leaf': 300, \n",
    "         'objective':'regression',\n",
    "         'max_depth': -1,\n",
    "         'learning_rate':0.005,\n",
    "         \"min_child_samples\":40,\n",
    "         \"boosting\":\"gbdt\",\n",
    "         \"feature_fraction\":0.8,\n",
    "         \"bagging_freq\":1,\n",
    "         \"bagging_fraction\":0.8 ,\n",
    "         \"bagging_seed\": 3,\n",
    "         \"metric\": 'rmse',\n",
    "         \"lambda_l1\": 1,\n",
    "         'lambda_l2': 1,\n",
    "         \"verbosity\": -1}\n",
    "\n",
    "folds = KFold(n_splits=5, shuffle=True, random_state=15)\n",
    "oof = np.zeros(len(train_df))\n",
    "predictions = np.zeros(len(test_df))\n",
    "start = time.time()\n",
    "features_c = list(train_df.columns)\n",
    "\n",
    "rem = ['date','fullVisitorId', 'sessionId', 'trafficSource_adwordsClickInfo.isVideoAd', \n",
    "            'trafficSource_campaignCode', 'trafficSource_isTrueDirect', 'v_date']\n",
    "for i in rem:\n",
    "    features_c.remove(i)\n",
    "\n",
    "feature_importance_df = pd.DataFrame()\n",
    "\n",
    "for fold_, (trn_idx, val_idx) in enumerate(folds.split(train_df.values, target.values)):\n",
    "    trn_data = lgb.Dataset(train_df.iloc[trn_idx], label=target.iloc[trn_idx], categorical_feature=features)\n",
    "    val_data = lgb.Dataset(train_df.iloc[val_idx], label=target.iloc[val_idx], categorical_feature=features)\n",
    "    \n",
    "    num_round = 10000\n",
    "    clf = lgb.train(param, trn_data, num_round, valid_sets = [trn_data, val_data], verbose_eval=400, early_stopping_rounds = 500, categorical_feature=features)\n",
    "    oof[val_idx] = clf.predict(train_df.iloc[val_idx].values, num_iteration=clf.best_iteration)\n",
    "    \n",
    "    fold_importance_df = pd.DataFrame()\n",
    "    fold_importance_df[\"feature\"] = features_c\n",
    "    fold_importance_df[\"importance\"] = clf.feature_importance()\n",
    "    fold_importance_df[\"fold\"] = fold_ + 1\n",
    "    feature_importance_df = pd.concat([feature_importance_df, fold_importance_df], axis=0)\n",
    "    \n",
    "    predictions += clf.predict(test_df.values, num_iteration=clf.best_iteration) / folds.n_splits"
   ]
  },
  {
   "cell_type": "code",
   "execution_count": 98,
   "metadata": {},
   "outputs": [],
   "source": [
    "train_fullVisitorId = train['fullVisitorId']\n",
    "train_sessionId = train['sessionId']\n",
    "train_visitId = train['visitId']\n",
    "\n",
    "test_fullVisitorId = test['fullVisitorId']\n",
    "test_sessionId = test['sessionId']\n",
    "test_visitId = test['visitId']"
   ]
  },
  {
   "cell_type": "code",
   "execution_count": 102,
   "metadata": {},
   "outputs": [
    {
     "name": "stdout",
     "output_type": "stream",
     "text": [
      "Training until validation scores don't improve for 250 rounds.\n",
      "[100]\tvalid_0's rmse: 1.68408\n",
      "[200]\tvalid_0's rmse: 1.66058\n",
      "[300]\tvalid_0's rmse: 1.65629\n",
      "[400]\tvalid_0's rmse: 1.6556\n",
      "[500]\tvalid_0's rmse: 1.65574\n",
      "[600]\tvalid_0's rmse: 1.65559\n",
      "Early stopping, best iteration is:\n",
      "[357]\tvalid_0's rmse: 1.65547\n"
     ]
    },
    {
     "ename": "KeyError",
     "evalue": "\"['month' 'weekday'] not in index\"",
     "output_type": "error",
     "traceback": [
      "\u001b[0;31m---------------------------------------------------------------------------\u001b[0m",
      "\u001b[0;31mKeyError\u001b[0m                                  Traceback (most recent call last)",
      "\u001b[0;32m<ipython-input-102-3dd9d81aa6d3>\u001b[0m in \u001b[0;36m<module>\u001b[0;34m()\u001b[0m\n\u001b[1;32m     20\u001b[0m \u001b[0;34m\u001b[0m\u001b[0m\n\u001b[1;32m     21\u001b[0m \u001b[0;34m\u001b[0m\u001b[0m\n\u001b[0;32m---> 22\u001b[0;31m \u001b[0mtest_prediction\u001b[0m \u001b[0;34m=\u001b[0m \u001b[0mmodel\u001b[0m\u001b[0;34m.\u001b[0m\u001b[0mpredict\u001b[0m\u001b[0;34m(\u001b[0m\u001b[0mtest\u001b[0m\u001b[0;34m[\u001b[0m\u001b[0mfeatures\u001b[0m\u001b[0;34m]\u001b[0m\u001b[0;34m,\u001b[0m \u001b[0mnum_iteration\u001b[0m\u001b[0;34m=\u001b[0m\u001b[0mmodel\u001b[0m\u001b[0;34m.\u001b[0m\u001b[0mbest_iteration\u001b[0m\u001b[0;34m)\u001b[0m\u001b[0;34m\u001b[0m\u001b[0m\n\u001b[0m\u001b[1;32m     23\u001b[0m \u001b[0mtest\u001b[0m\u001b[0;34m[\u001b[0m\u001b[0;34m\"PredictedLogRevenue\"\u001b[0m\u001b[0;34m]\u001b[0m \u001b[0;34m=\u001b[0m \u001b[0mnp\u001b[0m\u001b[0;34m.\u001b[0m\u001b[0mexpm1\u001b[0m\u001b[0;34m(\u001b[0m\u001b[0mtest_prediction\u001b[0m\u001b[0;34m)\u001b[0m\u001b[0;34m\u001b[0m\u001b[0m\n",
      "\u001b[0;32m/anaconda3/lib/python3.6/site-packages/pandas/core/frame.py\u001b[0m in \u001b[0;36m__getitem__\u001b[0;34m(self, key)\u001b[0m\n\u001b[1;32m   2677\u001b[0m         \u001b[0;32mif\u001b[0m \u001b[0misinstance\u001b[0m\u001b[0;34m(\u001b[0m\u001b[0mkey\u001b[0m\u001b[0;34m,\u001b[0m \u001b[0;34m(\u001b[0m\u001b[0mSeries\u001b[0m\u001b[0;34m,\u001b[0m \u001b[0mnp\u001b[0m\u001b[0;34m.\u001b[0m\u001b[0mndarray\u001b[0m\u001b[0;34m,\u001b[0m \u001b[0mIndex\u001b[0m\u001b[0;34m,\u001b[0m \u001b[0mlist\u001b[0m\u001b[0;34m)\u001b[0m\u001b[0;34m)\u001b[0m\u001b[0;34m:\u001b[0m\u001b[0;34m\u001b[0m\u001b[0m\n\u001b[1;32m   2678\u001b[0m             \u001b[0;31m# either boolean or fancy integer index\u001b[0m\u001b[0;34m\u001b[0m\u001b[0;34m\u001b[0m\u001b[0m\n\u001b[0;32m-> 2679\u001b[0;31m             \u001b[0;32mreturn\u001b[0m \u001b[0mself\u001b[0m\u001b[0;34m.\u001b[0m\u001b[0m_getitem_array\u001b[0m\u001b[0;34m(\u001b[0m\u001b[0mkey\u001b[0m\u001b[0;34m)\u001b[0m\u001b[0;34m\u001b[0m\u001b[0m\n\u001b[0m\u001b[1;32m   2680\u001b[0m         \u001b[0;32melif\u001b[0m \u001b[0misinstance\u001b[0m\u001b[0;34m(\u001b[0m\u001b[0mkey\u001b[0m\u001b[0;34m,\u001b[0m \u001b[0mDataFrame\u001b[0m\u001b[0;34m)\u001b[0m\u001b[0;34m:\u001b[0m\u001b[0;34m\u001b[0m\u001b[0m\n\u001b[1;32m   2681\u001b[0m             \u001b[0;32mreturn\u001b[0m \u001b[0mself\u001b[0m\u001b[0;34m.\u001b[0m\u001b[0m_getitem_frame\u001b[0m\u001b[0;34m(\u001b[0m\u001b[0mkey\u001b[0m\u001b[0;34m)\u001b[0m\u001b[0;34m\u001b[0m\u001b[0m\n",
      "\u001b[0;32m/anaconda3/lib/python3.6/site-packages/pandas/core/frame.py\u001b[0m in \u001b[0;36m_getitem_array\u001b[0;34m(self, key)\u001b[0m\n\u001b[1;32m   2721\u001b[0m             \u001b[0;32mreturn\u001b[0m \u001b[0mself\u001b[0m\u001b[0;34m.\u001b[0m\u001b[0m_take\u001b[0m\u001b[0;34m(\u001b[0m\u001b[0mindexer\u001b[0m\u001b[0;34m,\u001b[0m \u001b[0maxis\u001b[0m\u001b[0;34m=\u001b[0m\u001b[0;36m0\u001b[0m\u001b[0;34m)\u001b[0m\u001b[0;34m\u001b[0m\u001b[0m\n\u001b[1;32m   2722\u001b[0m         \u001b[0;32melse\u001b[0m\u001b[0;34m:\u001b[0m\u001b[0;34m\u001b[0m\u001b[0m\n\u001b[0;32m-> 2723\u001b[0;31m             \u001b[0mindexer\u001b[0m \u001b[0;34m=\u001b[0m \u001b[0mself\u001b[0m\u001b[0;34m.\u001b[0m\u001b[0mloc\u001b[0m\u001b[0;34m.\u001b[0m\u001b[0m_convert_to_indexer\u001b[0m\u001b[0;34m(\u001b[0m\u001b[0mkey\u001b[0m\u001b[0;34m,\u001b[0m \u001b[0maxis\u001b[0m\u001b[0;34m=\u001b[0m\u001b[0;36m1\u001b[0m\u001b[0;34m)\u001b[0m\u001b[0;34m\u001b[0m\u001b[0m\n\u001b[0m\u001b[1;32m   2724\u001b[0m             \u001b[0;32mreturn\u001b[0m \u001b[0mself\u001b[0m\u001b[0;34m.\u001b[0m\u001b[0m_take\u001b[0m\u001b[0;34m(\u001b[0m\u001b[0mindexer\u001b[0m\u001b[0;34m,\u001b[0m \u001b[0maxis\u001b[0m\u001b[0;34m=\u001b[0m\u001b[0;36m1\u001b[0m\u001b[0;34m)\u001b[0m\u001b[0;34m\u001b[0m\u001b[0m\n\u001b[1;32m   2725\u001b[0m \u001b[0;34m\u001b[0m\u001b[0m\n",
      "\u001b[0;32m/anaconda3/lib/python3.6/site-packages/pandas/core/indexing.py\u001b[0m in \u001b[0;36m_convert_to_indexer\u001b[0;34m(self, obj, axis, is_setter)\u001b[0m\n\u001b[1;32m   1325\u001b[0m                 \u001b[0;32mif\u001b[0m \u001b[0mmask\u001b[0m\u001b[0;34m.\u001b[0m\u001b[0many\u001b[0m\u001b[0;34m(\u001b[0m\u001b[0;34m)\u001b[0m\u001b[0;34m:\u001b[0m\u001b[0;34m\u001b[0m\u001b[0m\n\u001b[1;32m   1326\u001b[0m                     raise KeyError('{mask} not in index'\n\u001b[0;32m-> 1327\u001b[0;31m                                    .format(mask=objarr[mask]))\n\u001b[0m\u001b[1;32m   1328\u001b[0m \u001b[0;34m\u001b[0m\u001b[0m\n\u001b[1;32m   1329\u001b[0m                 \u001b[0;32mreturn\u001b[0m \u001b[0mcom\u001b[0m\u001b[0;34m.\u001b[0m\u001b[0m_values_from_object\u001b[0m\u001b[0;34m(\u001b[0m\u001b[0mindexer\u001b[0m\u001b[0;34m)\u001b[0m\u001b[0;34m\u001b[0m\u001b[0m\n",
      "\u001b[0;31mKeyError\u001b[0m: \"['month' 'weekday'] not in index\""
     ]
    }
   ],
   "source": [
    "lgb_param = {'num_leaves':48,\n",
    "         'min_data_in_leaf': 300, \n",
    "         'objective':'regression',\n",
    "         'max_depth': -1,\n",
    "         'learning_rate':0.005,\n",
    "         \"min_child_samples\":40,\n",
    "         \"boosting\":\"gbdt\",\n",
    "         \"feature_fraction\":0.8,\n",
    "         \"bagging_freq\":1,\n",
    "         \"bagging_fraction\":0.8 ,\n",
    "         \"bagging_seed\": 3,\n",
    "         \"metric\": 'rmse',\n",
    "         \"lambda_l1\": 1,\n",
    "         'lambda_l2': 1,\n",
    "         \"verbosity\": -1}\n",
    "\n",
    "lgb_train = lgb.Dataset(train_x, label=train_y)\n",
    "lgb_val = lgb.Dataset(valid_x, label=valid_y)\n",
    "model = lgb.train(lgb_params, lgb_train, 700, valid_sets=[lgb_val], early_stopping_rounds=250, verbose_eval=100)\n",
    "\n",
    "\n",
    "test_prediction = model.predict(test[features], num_iteration=model.best_iteration)\n",
    "test[\"PredictedLogRevenue\"] = np.expm1(test_prediction)"
   ]
  },
  {
   "cell_type": "code",
   "execution_count": 101,
   "metadata": {},
   "outputs": [
    {
     "ename": "KeyError",
     "evalue": "\"['month' 'weekday'] not in index\"",
     "output_type": "error",
     "traceback": [
      "\u001b[0;31m---------------------------------------------------------------------------\u001b[0m",
      "\u001b[0;31mKeyError\u001b[0m                                  Traceback (most recent call last)",
      "\u001b[0;32m<ipython-input-101-6501302258a1>\u001b[0m in \u001b[0;36m<module>\u001b[0;34m()\u001b[0m\n\u001b[0;32m----> 1\u001b[0;31m \u001b[0mtest_prediction\u001b[0m \u001b[0;34m=\u001b[0m \u001b[0mmodel\u001b[0m\u001b[0;34m.\u001b[0m\u001b[0mpredict\u001b[0m\u001b[0;34m(\u001b[0m\u001b[0mtest\u001b[0m\u001b[0;34m[\u001b[0m\u001b[0mfeatures\u001b[0m\u001b[0;34m]\u001b[0m\u001b[0;34m,\u001b[0m \u001b[0mnum_iteration\u001b[0m\u001b[0;34m=\u001b[0m\u001b[0mmodel\u001b[0m\u001b[0;34m.\u001b[0m\u001b[0mbest_iteration\u001b[0m\u001b[0;34m)\u001b[0m\u001b[0;34m\u001b[0m\u001b[0m\n\u001b[0m\u001b[1;32m      2\u001b[0m \u001b[0mtest\u001b[0m\u001b[0;34m[\u001b[0m\u001b[0;34m\"PredictedLogRevenue\"\u001b[0m\u001b[0;34m]\u001b[0m \u001b[0;34m=\u001b[0m \u001b[0mnp\u001b[0m\u001b[0;34m.\u001b[0m\u001b[0mexpm1\u001b[0m\u001b[0;34m(\u001b[0m\u001b[0mtest_prediction\u001b[0m\u001b[0;34m)\u001b[0m\u001b[0;34m\u001b[0m\u001b[0m\n",
      "\u001b[0;32m/anaconda3/lib/python3.6/site-packages/pandas/core/frame.py\u001b[0m in \u001b[0;36m__getitem__\u001b[0;34m(self, key)\u001b[0m\n\u001b[1;32m   2677\u001b[0m         \u001b[0;32mif\u001b[0m \u001b[0misinstance\u001b[0m\u001b[0;34m(\u001b[0m\u001b[0mkey\u001b[0m\u001b[0;34m,\u001b[0m \u001b[0;34m(\u001b[0m\u001b[0mSeries\u001b[0m\u001b[0;34m,\u001b[0m \u001b[0mnp\u001b[0m\u001b[0;34m.\u001b[0m\u001b[0mndarray\u001b[0m\u001b[0;34m,\u001b[0m \u001b[0mIndex\u001b[0m\u001b[0;34m,\u001b[0m \u001b[0mlist\u001b[0m\u001b[0;34m)\u001b[0m\u001b[0;34m)\u001b[0m\u001b[0;34m:\u001b[0m\u001b[0;34m\u001b[0m\u001b[0m\n\u001b[1;32m   2678\u001b[0m             \u001b[0;31m# either boolean or fancy integer index\u001b[0m\u001b[0;34m\u001b[0m\u001b[0;34m\u001b[0m\u001b[0m\n\u001b[0;32m-> 2679\u001b[0;31m             \u001b[0;32mreturn\u001b[0m \u001b[0mself\u001b[0m\u001b[0;34m.\u001b[0m\u001b[0m_getitem_array\u001b[0m\u001b[0;34m(\u001b[0m\u001b[0mkey\u001b[0m\u001b[0;34m)\u001b[0m\u001b[0;34m\u001b[0m\u001b[0m\n\u001b[0m\u001b[1;32m   2680\u001b[0m         \u001b[0;32melif\u001b[0m \u001b[0misinstance\u001b[0m\u001b[0;34m(\u001b[0m\u001b[0mkey\u001b[0m\u001b[0;34m,\u001b[0m \u001b[0mDataFrame\u001b[0m\u001b[0;34m)\u001b[0m\u001b[0;34m:\u001b[0m\u001b[0;34m\u001b[0m\u001b[0m\n\u001b[1;32m   2681\u001b[0m             \u001b[0;32mreturn\u001b[0m \u001b[0mself\u001b[0m\u001b[0;34m.\u001b[0m\u001b[0m_getitem_frame\u001b[0m\u001b[0;34m(\u001b[0m\u001b[0mkey\u001b[0m\u001b[0;34m)\u001b[0m\u001b[0;34m\u001b[0m\u001b[0m\n",
      "\u001b[0;32m/anaconda3/lib/python3.6/site-packages/pandas/core/frame.py\u001b[0m in \u001b[0;36m_getitem_array\u001b[0;34m(self, key)\u001b[0m\n\u001b[1;32m   2721\u001b[0m             \u001b[0;32mreturn\u001b[0m \u001b[0mself\u001b[0m\u001b[0;34m.\u001b[0m\u001b[0m_take\u001b[0m\u001b[0;34m(\u001b[0m\u001b[0mindexer\u001b[0m\u001b[0;34m,\u001b[0m \u001b[0maxis\u001b[0m\u001b[0;34m=\u001b[0m\u001b[0;36m0\u001b[0m\u001b[0;34m)\u001b[0m\u001b[0;34m\u001b[0m\u001b[0m\n\u001b[1;32m   2722\u001b[0m         \u001b[0;32melse\u001b[0m\u001b[0;34m:\u001b[0m\u001b[0;34m\u001b[0m\u001b[0m\n\u001b[0;32m-> 2723\u001b[0;31m             \u001b[0mindexer\u001b[0m \u001b[0;34m=\u001b[0m \u001b[0mself\u001b[0m\u001b[0;34m.\u001b[0m\u001b[0mloc\u001b[0m\u001b[0;34m.\u001b[0m\u001b[0m_convert_to_indexer\u001b[0m\u001b[0;34m(\u001b[0m\u001b[0mkey\u001b[0m\u001b[0;34m,\u001b[0m \u001b[0maxis\u001b[0m\u001b[0;34m=\u001b[0m\u001b[0;36m1\u001b[0m\u001b[0;34m)\u001b[0m\u001b[0;34m\u001b[0m\u001b[0m\n\u001b[0m\u001b[1;32m   2724\u001b[0m             \u001b[0;32mreturn\u001b[0m \u001b[0mself\u001b[0m\u001b[0;34m.\u001b[0m\u001b[0m_take\u001b[0m\u001b[0;34m(\u001b[0m\u001b[0mindexer\u001b[0m\u001b[0;34m,\u001b[0m \u001b[0maxis\u001b[0m\u001b[0;34m=\u001b[0m\u001b[0;36m1\u001b[0m\u001b[0;34m)\u001b[0m\u001b[0;34m\u001b[0m\u001b[0m\n\u001b[1;32m   2725\u001b[0m \u001b[0;34m\u001b[0m\u001b[0m\n",
      "\u001b[0;32m/anaconda3/lib/python3.6/site-packages/pandas/core/indexing.py\u001b[0m in \u001b[0;36m_convert_to_indexer\u001b[0;34m(self, obj, axis, is_setter)\u001b[0m\n\u001b[1;32m   1325\u001b[0m                 \u001b[0;32mif\u001b[0m \u001b[0mmask\u001b[0m\u001b[0;34m.\u001b[0m\u001b[0many\u001b[0m\u001b[0;34m(\u001b[0m\u001b[0;34m)\u001b[0m\u001b[0;34m:\u001b[0m\u001b[0;34m\u001b[0m\u001b[0m\n\u001b[1;32m   1326\u001b[0m                     raise KeyError('{mask} not in index'\n\u001b[0;32m-> 1327\u001b[0;31m                                    .format(mask=objarr[mask]))\n\u001b[0m\u001b[1;32m   1328\u001b[0m \u001b[0;34m\u001b[0m\u001b[0m\n\u001b[1;32m   1329\u001b[0m                 \u001b[0;32mreturn\u001b[0m \u001b[0mcom\u001b[0m\u001b[0;34m.\u001b[0m\u001b[0m_values_from_object\u001b[0m\u001b[0;34m(\u001b[0m\u001b[0mindexer\u001b[0m\u001b[0;34m)\u001b[0m\u001b[0;34m\u001b[0m\u001b[0m\n",
      "\u001b[0;31mKeyError\u001b[0m: \"['month' 'weekday'] not in index\""
     ]
    }
   ],
   "source": [
    "\n"
   ]
  },
  {
   "cell_type": "code",
   "execution_count": 105,
   "metadata": {},
   "outputs": [],
   "source": [
    "submission = pd.DataFrame()\n",
    "submission['fullVisitorId'] = test_fullVisitorId\n",
    "submission['PredictedLogRevenue'] = predictions\n",
    "grouped_test = submission[['fullVisitorId', 'PredictedLogRevenue']].groupby('fullVisitorId').sum().reset_index()\n",
    "grouped_test.to_csv('submit_4.csv',index=False)"
   ]
  },
  {
   "cell_type": "code",
   "execution_count": 113,
   "metadata": {},
   "outputs": [
    {
     "data": {
      "application/vnd.plotly.v1+json": {
       "data": [
        {
         "marker": {
          "color": "#d6a5ff"
         },
         "orientation": "h",
         "type": "bar",
         "uid": "6c14e4ee-d249-11e8-b829-f0189804b8bf",
         "x": [
          508229,
          40884,
          34262,
          26371,
          20329,
          13086,
          12607,
          10295,
          8670,
          7709,
          7444,
          7342,
          6330,
          5468,
          5223
         ],
         "xaxis": "x",
         "y": [
          522,
          136,
          1,
          173,
          331,
          399,
          66,
          333,
          69,
          265,
          152,
          623,
          717,
          470,
          440
         ],
         "yaxis": "y"
        },
        {
         "marker": {
          "color": "#fca6da"
         },
         "orientation": "h",
         "type": "bar",
         "uid": "6c1541be-d249-11e8-95cf-f0189804b8bf",
         "x": [
          364744,
          51140,
          37393,
          25869,
          24598,
          20522,
          20123,
          19980,
          19783,
          19731,
          15832,
          13225,
          12996,
          12698,
          11662
         ],
         "xaxis": "x2",
         "y": [
          148,
          36,
          147,
          179,
          154,
          135,
          57,
          10,
          168,
          76,
          221,
          62,
          13,
          45,
          105
         ],
         "yaxis": "y2"
        },
        {
         "marker": {
          "color": "#f4d39c"
         },
         "orientation": "h",
         "type": "bar",
         "uid": "6c159efa-d249-11e8-a69e-f0189804b8bf",
         "x": [
          390657,
          77800,
          59321,
          59114,
          58168,
          46919,
          45249,
          41731,
          38443,
          35780,
          15583,
          14893,
          7683,
          2573,
          2406
         ],
         "xaxis": "x3",
         "y": [
          9,
          14,
          12,
          20,
          10,
          3,
          5,
          13,
          19,
          16,
          21,
          1,
          8,
          18,
          17
         ],
         "yaxis": "y3"
        },
        {
         "marker": {
          "color": "#a9fcca"
         },
         "orientation": "h",
         "type": "bar",
         "uid": "6c161314-d249-11e8-8816-f0189804b8bf",
         "x": [
          450377,
          223698,
          198311,
          15054,
          14745,
          1468
         ],
         "xaxis": "x4",
         "y": [
          2,
          3,
          4,
          5,
          1,
          0
         ],
         "yaxis": "y4"
        }
       ],
       "layout": {
        "annotations": [
         {
          "font": {
           "size": 16
          },
          "showarrow": false,
          "text": "Visits: City",
          "x": 0.225,
          "xanchor": "center",
          "xref": "paper",
          "y": 1,
          "yanchor": "bottom",
          "yref": "paper"
         },
         {
          "font": {
           "size": 16
          },
          "showarrow": false,
          "text": "Visits: Country",
          "x": 0.775,
          "xanchor": "center",
          "xref": "paper",
          "y": 1,
          "yanchor": "bottom",
          "yref": "paper"
         },
         {
          "font": {
           "size": 16
          },
          "showarrow": false,
          "text": "Visits: Sub Continent",
          "x": 0.225,
          "xanchor": "center",
          "xref": "paper",
          "y": 0.375,
          "yanchor": "bottom",
          "yref": "paper"
         },
         {
          "font": {
           "size": 16
          },
          "showarrow": false,
          "text": "Visits: Continent",
          "x": 0.775,
          "xanchor": "center",
          "xref": "paper",
          "y": 0.375,
          "yanchor": "bottom",
          "yref": "paper"
         }
        ],
        "height": 600,
        "showlegend": false,
        "width": 1000,
        "xaxis": {
         "anchor": "y",
         "domain": [
          0,
          0.45
         ]
        },
        "xaxis2": {
         "anchor": "y2",
         "domain": [
          0.55,
          1
         ]
        },
        "xaxis3": {
         "anchor": "y3",
         "domain": [
          0,
          0.45
         ]
        },
        "xaxis4": {
         "anchor": "y4",
         "domain": [
          0.55,
          1
         ]
        },
        "yaxis": {
         "anchor": "x",
         "domain": [
          0.625,
          1
         ]
        },
        "yaxis2": {
         "anchor": "x2",
         "domain": [
          0.625,
          1
         ]
        },
        "yaxis3": {
         "anchor": "x3",
         "domain": [
          0,
          0.375
         ]
        },
        "yaxis4": {
         "anchor": "x4",
         "domain": [
          0,
          0.375
         ]
        }
       }
      }
     },
     "metadata": {},
     "output_type": "display_data"
    }
   ],
   "source": [
    "geo_cols = [\"geoNetwork_city\", \"geoNetwork_country\", \"geoNetwork_subContinent\", \"geoNetwork_continent\"]\n",
    "colors = [\"#d6a5ff\", \"#fca6da\", \"#f4d39c\", \"#a9fcca\"]\n",
    "traces = []\n",
    "for i, col in enumerate(geo_cols):\n",
    "    t = train[col].value_counts()\n",
    "    traces.append(go.Bar(marker=dict(color=colors[i]),orientation=\"h\", y = t.index[:15], x = t.values[:15]))\n",
    "\n",
    "fig = tools.make_subplots(rows=2, cols=2, \n",
    "                          subplot_titles=[\"Visits: City\", \"Visits: Country\",\"Visits: Sub Continent\",\"Visits: Continent\"]\n",
    "                          , print_grid=False)\n",
    "fig.append_trace(traces[0], 1, 1)\n",
    "fig.append_trace(traces[1], 1, 2)\n",
    "fig.append_trace(traces[2], 2, 1)\n",
    "fig.append_trace(traces[3], 2, 2)\n",
    "\n",
    "fig['layout'].update(height=600,width=1000, showlegend=False)\n",
    "iplot(fig)\n",
    "\n"
   ]
  },
  {
   "cell_type": "code",
   "execution_count": 109,
   "metadata": {},
   "outputs": [],
   "source": [
    "from plotly.offline import init_notebook_mode, iplot\n",
    "import plotly.graph_objs as go\n",
    "from plotly import tools"
   ]
  },
  {
   "cell_type": "code",
   "execution_count": 127,
   "metadata": {},
   "outputs": [
    {
     "data": {
      "application/vnd.plotly.v1+json": {
       "data": [
        {
         "marker": {
          "color": "red"
         },
         "orientation": "h",
         "type": "bar",
         "uid": "9cf058b8-d24a-11e8-ae9f-f0189804b8bf",
         "x": [
          508229,
          40884,
          34262,
          26371,
          20329,
          13086,
          12607,
          10295,
          8670,
          7709,
          7444,
          7342,
          6330,
          5468,
          5223
         ],
         "xaxis": "x",
         "y": [
          522,
          136,
          1,
          173,
          331,
          399,
          66,
          333,
          69,
          265,
          152,
          623,
          717,
          470,
          440
         ],
         "yaxis": "y"
        },
        {
         "marker": {
          "color": "green"
         },
         "orientation": "h",
         "type": "bar",
         "uid": "9cf0b69e-d24a-11e8-b078-f0189804b8bf",
         "x": [
          364744,
          51140,
          37393,
          25869,
          24598,
          20522,
          20123,
          19980,
          19783,
          19731,
          15832,
          13225,
          12996,
          12698,
          11662
         ],
         "xaxis": "x2",
         "y": [
          148,
          36,
          147,
          179,
          154,
          135,
          57,
          10,
          168,
          76,
          221,
          62,
          13,
          45,
          105
         ],
         "yaxis": "y2"
        },
        {
         "marker": {
          "color": "purple"
         },
         "orientation": "h",
         "type": "bar",
         "uid": "9cf10a42-d24a-11e8-ac0f-f0189804b8bf",
         "x": [
          390657,
          77800,
          59321,
          59114,
          58168,
          46919,
          45249,
          41731,
          38443,
          35780,
          15583,
          14893,
          7683,
          2573,
          2406
         ],
         "xaxis": "x3",
         "y": [
          9,
          14,
          12,
          20,
          10,
          3,
          5,
          13,
          19,
          16,
          21,
          1,
          8,
          18,
          17
         ],
         "yaxis": "y3"
        },
        {
         "marker": {
          "color": "blue"
         },
         "orientation": "h",
         "type": "bar",
         "uid": "9cf15e1e-d24a-11e8-8219-f0189804b8bf",
         "x": [
          450377,
          223698,
          198311,
          15054,
          14745,
          1468
         ],
         "xaxis": "x4",
         "y": [
          2,
          3,
          4,
          5,
          1,
          0
         ],
         "yaxis": "y4"
        }
       ],
       "layout": {
        "annotations": [
         {
          "font": {
           "size": 16
          },
          "showarrow": false,
          "text": "Visits: City",
          "x": 0.225,
          "xanchor": "center",
          "xref": "paper",
          "y": 1,
          "yanchor": "bottom",
          "yref": "paper"
         },
         {
          "font": {
           "size": 16
          },
          "showarrow": false,
          "text": "Visits: Country",
          "x": 0.775,
          "xanchor": "center",
          "xref": "paper",
          "y": 1,
          "yanchor": "bottom",
          "yref": "paper"
         },
         {
          "font": {
           "size": 16
          },
          "showarrow": false,
          "text": "Visits: Sub Continent",
          "x": 0.225,
          "xanchor": "center",
          "xref": "paper",
          "y": 0.375,
          "yanchor": "bottom",
          "yref": "paper"
         },
         {
          "font": {
           "size": 16
          },
          "showarrow": false,
          "text": "Visits: Continent",
          "x": 0.775,
          "xanchor": "center",
          "xref": "paper",
          "y": 0.375,
          "yanchor": "bottom",
          "yref": "paper"
         }
        ],
        "height": 600,
        "showlegend": false,
        "width": 1000,
        "xaxis": {
         "anchor": "y",
         "domain": [
          0,
          0.45
         ]
        },
        "xaxis2": {
         "anchor": "y2",
         "domain": [
          0.55,
          1
         ]
        },
        "xaxis3": {
         "anchor": "y3",
         "domain": [
          0,
          0.45
         ]
        },
        "xaxis4": {
         "anchor": "y4",
         "domain": [
          0.55,
          1
         ]
        },
        "yaxis": {
         "anchor": "x",
         "domain": [
          0.625,
          1
         ]
        },
        "yaxis2": {
         "anchor": "x2",
         "domain": [
          0.625,
          1
         ]
        },
        "yaxis3": {
         "anchor": "x3",
         "domain": [
          0,
          0.375
         ]
        },
        "yaxis4": {
         "anchor": "x4",
         "domain": [
          0,
          0.375
         ]
        }
       }
      },
      "text/html": [
       "<div id=\"8f622f8d-eeca-4733-8c8b-11318596ab81\" style=\"height: 600px; width: 1000px;\" class=\"plotly-graph-div\"></div><script type=\"text/javascript\">require([\"plotly\"], function(Plotly) { window.PLOTLYENV=window.PLOTLYENV || {};window.PLOTLYENV.BASE_URL=\"https://plot.ly\";Plotly.newPlot(\"8f622f8d-eeca-4733-8c8b-11318596ab81\", [{\"marker\": {\"color\": \"red\"}, \"orientation\": \"h\", \"x\": [508229, 40884, 34262, 26371, 20329, 13086, 12607, 10295, 8670, 7709, 7444, 7342, 6330, 5468, 5223], \"y\": [522, 136, 1, 173, 331, 399, 66, 333, 69, 265, 152, 623, 717, 470, 440], \"type\": \"bar\", \"uid\": \"9cf058b8-d24a-11e8-ae9f-f0189804b8bf\", \"xaxis\": \"x\", \"yaxis\": \"y\"}, {\"marker\": {\"color\": \"green\"}, \"orientation\": \"h\", \"x\": [364744, 51140, 37393, 25869, 24598, 20522, 20123, 19980, 19783, 19731, 15832, 13225, 12996, 12698, 11662], \"y\": [148, 36, 147, 179, 154, 135, 57, 10, 168, 76, 221, 62, 13, 45, 105], \"type\": \"bar\", \"uid\": \"9cf0b69e-d24a-11e8-b078-f0189804b8bf\", \"xaxis\": \"x2\", \"yaxis\": \"y2\"}, {\"marker\": {\"color\": \"purple\"}, \"orientation\": \"h\", \"x\": [390657, 77800, 59321, 59114, 58168, 46919, 45249, 41731, 38443, 35780, 15583, 14893, 7683, 2573, 2406], \"y\": [9, 14, 12, 20, 10, 3, 5, 13, 19, 16, 21, 1, 8, 18, 17], \"type\": \"bar\", \"uid\": \"9cf10a42-d24a-11e8-ac0f-f0189804b8bf\", \"xaxis\": \"x3\", \"yaxis\": \"y3\"}, {\"marker\": {\"color\": \"blue\"}, \"orientation\": \"h\", \"x\": [450377, 223698, 198311, 15054, 14745, 1468], \"y\": [2, 3, 4, 5, 1, 0], \"type\": \"bar\", \"uid\": \"9cf15e1e-d24a-11e8-8219-f0189804b8bf\", \"xaxis\": \"x4\", \"yaxis\": \"y4\"}], {\"annotations\": [{\"font\": {\"size\": 16}, \"showarrow\": false, \"text\": \"Visits: City\", \"x\": 0.225, \"xanchor\": \"center\", \"xref\": \"paper\", \"y\": 1.0, \"yanchor\": \"bottom\", \"yref\": \"paper\"}, {\"font\": {\"size\": 16}, \"showarrow\": false, \"text\": \"Visits: Country\", \"x\": 0.775, \"xanchor\": \"center\", \"xref\": \"paper\", \"y\": 1.0, \"yanchor\": \"bottom\", \"yref\": \"paper\"}, {\"font\": {\"size\": 16}, \"showarrow\": false, \"text\": \"Visits: Sub Continent\", \"x\": 0.225, \"xanchor\": \"center\", \"xref\": \"paper\", \"y\": 0.375, \"yanchor\": \"bottom\", \"yref\": \"paper\"}, {\"font\": {\"size\": 16}, \"showarrow\": false, \"text\": \"Visits: Continent\", \"x\": 0.775, \"xanchor\": \"center\", \"xref\": \"paper\", \"y\": 0.375, \"yanchor\": \"bottom\", \"yref\": \"paper\"}], \"xaxis\": {\"anchor\": \"y\", \"domain\": [0.0, 0.45]}, \"yaxis\": {\"anchor\": \"x\", \"domain\": [0.625, 1.0]}, \"xaxis2\": {\"anchor\": \"y2\", \"domain\": [0.55, 1.0]}, \"yaxis2\": {\"anchor\": \"x2\", \"domain\": [0.625, 1.0]}, \"xaxis3\": {\"anchor\": \"y3\", \"domain\": [0.0, 0.45]}, \"yaxis3\": {\"anchor\": \"x3\", \"domain\": [0.0, 0.375]}, \"xaxis4\": {\"anchor\": \"y4\", \"domain\": [0.55, 1.0]}, \"yaxis4\": {\"anchor\": \"x4\", \"domain\": [0.0, 0.375]}, \"height\": 600, \"width\": 1000, \"showlegend\": false}, {\"showLink\": true, \"linkText\": \"Export to plot.ly\"})});</script>"
      ],
      "text/vnd.plotly.v1+html": [
       "<div id=\"8f622f8d-eeca-4733-8c8b-11318596ab81\" style=\"height: 600px; width: 1000px;\" class=\"plotly-graph-div\"></div><script type=\"text/javascript\">require([\"plotly\"], function(Plotly) { window.PLOTLYENV=window.PLOTLYENV || {};window.PLOTLYENV.BASE_URL=\"https://plot.ly\";Plotly.newPlot(\"8f622f8d-eeca-4733-8c8b-11318596ab81\", [{\"marker\": {\"color\": \"red\"}, \"orientation\": \"h\", \"x\": [508229, 40884, 34262, 26371, 20329, 13086, 12607, 10295, 8670, 7709, 7444, 7342, 6330, 5468, 5223], \"y\": [522, 136, 1, 173, 331, 399, 66, 333, 69, 265, 152, 623, 717, 470, 440], \"type\": \"bar\", \"uid\": \"9cf058b8-d24a-11e8-ae9f-f0189804b8bf\", \"xaxis\": \"x\", \"yaxis\": \"y\"}, {\"marker\": {\"color\": \"green\"}, \"orientation\": \"h\", \"x\": [364744, 51140, 37393, 25869, 24598, 20522, 20123, 19980, 19783, 19731, 15832, 13225, 12996, 12698, 11662], \"y\": [148, 36, 147, 179, 154, 135, 57, 10, 168, 76, 221, 62, 13, 45, 105], \"type\": \"bar\", \"uid\": \"9cf0b69e-d24a-11e8-b078-f0189804b8bf\", \"xaxis\": \"x2\", \"yaxis\": \"y2\"}, {\"marker\": {\"color\": \"purple\"}, \"orientation\": \"h\", \"x\": [390657, 77800, 59321, 59114, 58168, 46919, 45249, 41731, 38443, 35780, 15583, 14893, 7683, 2573, 2406], \"y\": [9, 14, 12, 20, 10, 3, 5, 13, 19, 16, 21, 1, 8, 18, 17], \"type\": \"bar\", \"uid\": \"9cf10a42-d24a-11e8-ac0f-f0189804b8bf\", \"xaxis\": \"x3\", \"yaxis\": \"y3\"}, {\"marker\": {\"color\": \"blue\"}, \"orientation\": \"h\", \"x\": [450377, 223698, 198311, 15054, 14745, 1468], \"y\": [2, 3, 4, 5, 1, 0], \"type\": \"bar\", \"uid\": \"9cf15e1e-d24a-11e8-8219-f0189804b8bf\", \"xaxis\": \"x4\", \"yaxis\": \"y4\"}], {\"annotations\": [{\"font\": {\"size\": 16}, \"showarrow\": false, \"text\": \"Visits: City\", \"x\": 0.225, \"xanchor\": \"center\", \"xref\": \"paper\", \"y\": 1.0, \"yanchor\": \"bottom\", \"yref\": \"paper\"}, {\"font\": {\"size\": 16}, \"showarrow\": false, \"text\": \"Visits: Country\", \"x\": 0.775, \"xanchor\": \"center\", \"xref\": \"paper\", \"y\": 1.0, \"yanchor\": \"bottom\", \"yref\": \"paper\"}, {\"font\": {\"size\": 16}, \"showarrow\": false, \"text\": \"Visits: Sub Continent\", \"x\": 0.225, \"xanchor\": \"center\", \"xref\": \"paper\", \"y\": 0.375, \"yanchor\": \"bottom\", \"yref\": \"paper\"}, {\"font\": {\"size\": 16}, \"showarrow\": false, \"text\": \"Visits: Continent\", \"x\": 0.775, \"xanchor\": \"center\", \"xref\": \"paper\", \"y\": 0.375, \"yanchor\": \"bottom\", \"yref\": \"paper\"}], \"xaxis\": {\"anchor\": \"y\", \"domain\": [0.0, 0.45]}, \"yaxis\": {\"anchor\": \"x\", \"domain\": [0.625, 1.0]}, \"xaxis2\": {\"anchor\": \"y2\", \"domain\": [0.55, 1.0]}, \"yaxis2\": {\"anchor\": \"x2\", \"domain\": [0.625, 1.0]}, \"xaxis3\": {\"anchor\": \"y3\", \"domain\": [0.0, 0.45]}, \"yaxis3\": {\"anchor\": \"x3\", \"domain\": [0.0, 0.375]}, \"xaxis4\": {\"anchor\": \"y4\", \"domain\": [0.55, 1.0]}, \"yaxis4\": {\"anchor\": \"x4\", \"domain\": [0.0, 0.375]}, \"height\": 600, \"width\": 1000, \"showlegend\": false}, {\"showLink\": true, \"linkText\": \"Export to plot.ly\"})});</script>"
      ]
     },
     "metadata": {},
     "output_type": "display_data"
    }
   ],
   "source": [
    "geo_cols = [\"geoNetwork_city\", \"geoNetwork_country\", \"geoNetwork_subContinent\", \"geoNetwork_continent\"]\n",
    "colors = [\"red\", \"green\", \"purple\",\"blue\"]\n",
    "traces = []\n",
    "for i, col in enumerate(geo_cols):\n",
    "    t = train[col].value_counts()\n",
    "    traces.append(go.Bar(marker=dict(color=colors[i]),orientation=\"h\", y = t.index[:15], x = t.values[:15]))\n",
    "\n",
    "fig = tools.make_subplots(rows=2, cols=2, \n",
    "                          subplot_titles=[\"Visits: City\", \"Visits: Country\",\"Visits: Sub Continent\",\"Visits: Continent\"]\n",
    "                          , print_grid=False)\n",
    "fig.append_trace(traces[0], 1, 1)\n",
    "fig.append_trace(traces[1], 1, 2)\n",
    "fig.append_trace(traces[2], 2, 1)\n",
    "fig.append_trace(traces[3], 2, 2)\n",
    "\n",
    "fig['layout'].update(height=600,width=1000, showlegend=False)\n",
    "iplot(fig)\n",
    "\n"
   ]
  },
  {
   "cell_type": "code",
   "execution_count": 116,
   "metadata": {},
   "outputs": [],
   "source": [
    "import matplotlib.pyplot as plt"
   ]
  },
  {
   "cell_type": "code",
   "execution_count": 124,
   "metadata": {},
   "outputs": [
    {
     "data": {
      "text/html": [
       "<script>requirejs.config({paths: { 'plotly': ['https://cdn.plot.ly/plotly-latest.min']},});if(!window.Plotly) {{require(['plotly'],function(plotly) {window.Plotly=plotly;});}}</script>"
      ],
      "text/vnd.plotly.v1+html": [
       "<script>requirejs.config({paths: { 'plotly': ['https://cdn.plot.ly/plotly-latest.min']},});if(!window.Plotly) {{require(['plotly'],function(plotly) {window.Plotly=plotly;});}}</script>"
      ]
     },
     "metadata": {},
     "output_type": "display_data"
    }
   ],
   "source": [
    "#Import      Section\n",
    "import numpy as np # linear algebra\n",
    "import pandas as pd # data processing, CSV file I/O (e.g. pd.read_csv)\n",
    "# Import matplotlib & seaborn for visualisation\n",
    "import json\n",
    "from pandas.io.json import json_normalize\n",
    "import seaborn as sns \n",
    "from plotly.offline import init_notebook_mode, iplot\n",
    "import plotly.graph_objs as go\n",
    "from plotly import tools\n",
    "import numpy as np\n",
    "init_notebook_mode(connected=True)\n",
    "import matplotlib as mpl\n",
    "import matplotlib.pyplot as plt\n",
    "%matplotlib inline\n",
    "import scipy.stats as st\n"
   ]
  },
  {
   "cell_type": "code",
   "execution_count": 128,
   "metadata": {},
   "outputs": [
    {
     "name": "stderr",
     "output_type": "stream",
     "text": [
      "/anaconda3/lib/python3.6/site-packages/IPython/core/interactiveshell.py:2785: DtypeWarning:\n",
      "\n",
      "Columns (3) have mixed types. Specify dtype option on import or set low_memory=False.\n",
      "\n"
     ]
    }
   ],
   "source": [
    "df_train = pd.read_csv(\"train.csv\")\n",
    "\n",
    "df_test = pd.read_csv(\"test.csv\")"
   ]
  },
  {
   "cell_type": "code",
   "execution_count": 130,
   "metadata": {},
   "outputs": [],
   "source": [
    "json_columns = ['device', 'geoNetwork','totals', 'trafficSource']\n",
    "def dataframe(filename):\n",
    "    path = filename\n",
    "    df = pd.read_csv(path, converters={column: json.loads for column in json_columns}, \n",
    "                     dtype={'fullVisitorId': 'str'})\n",
    "    \n",
    "    for column in json_columns:\n",
    "        column_as_df = json_normalize(df[column])\n",
    "        column_as_df.columns = [f\"{column}_{subcolumn}\" for subcolumn in column_as_df.columns]\n",
    "        df = df.drop(column, axis=1).merge(column_as_df, right_index=True, left_index=True)\n",
    "    return df\n",
    "\n",
    "train = dataframe(\"train.csv\")\n",
    "test = dataframe(\"test.csv\")"
   ]
  },
  {
   "cell_type": "code",
   "execution_count": 131,
   "metadata": {},
   "outputs": [],
   "source": [
    "train = train.loc[:, (train != train.iloc[0]).any()]\n",
    "\n",
    "test = test.loc[:, (test != test.iloc[0]).any()]"
   ]
  },
  {
   "cell_type": "code",
   "execution_count": 132,
   "metadata": {},
   "outputs": [
    {
     "data": {
      "text/plain": [
       "Index(['channelGrouping', 'date', 'fullVisitorId', 'sessionId', 'visitId',\n",
       "       'visitNumber', 'visitStartTime', 'device_browser',\n",
       "       'device_deviceCategory', 'device_isMobile', 'device_operatingSystem',\n",
       "       'geoNetwork_city', 'geoNetwork_continent', 'geoNetwork_country',\n",
       "       'geoNetwork_metro', 'geoNetwork_networkDomain', 'geoNetwork_region',\n",
       "       'geoNetwork_subContinent', 'totals_bounces', 'totals_hits',\n",
       "       'totals_newVisits', 'totals_pageviews', 'totals_transactionRevenue',\n",
       "       'trafficSource_adContent',\n",
       "       'trafficSource_adwordsClickInfo.adNetworkType',\n",
       "       'trafficSource_adwordsClickInfo.gclId',\n",
       "       'trafficSource_adwordsClickInfo.isVideoAd',\n",
       "       'trafficSource_adwordsClickInfo.page',\n",
       "       'trafficSource_adwordsClickInfo.slot', 'trafficSource_campaign',\n",
       "       'trafficSource_campaignCode', 'trafficSource_isTrueDirect',\n",
       "       'trafficSource_keyword', 'trafficSource_medium',\n",
       "       'trafficSource_referralPath', 'trafficSource_source'],\n",
       "      dtype='object')"
      ]
     },
     "execution_count": 132,
     "metadata": {},
     "output_type": "execute_result"
    }
   ],
   "source": [
    "train.columns\n"
   ]
  },
  {
   "cell_type": "code",
   "execution_count": 148,
   "metadata": {},
   "outputs": [
    {
     "data": {
      "application/vnd.plotly.v1+json": {
       "data": [
        {
         "marker": {
          "color": "red"
         },
         "orientation": "h",
         "type": "bar",
         "uid": "0e4823b4-d251-11e8-a7c3-f0189804b8bf",
         "x": [
          508229,
          201766,
          95913,
          26917,
          12571,
          9995,
          7642,
          7585,
          3790,
          3380,
          2628,
          2475,
          2463,
          2403,
          2227
         ],
         "xaxis": "x",
         "y": [
          "not available in demo dataset",
          "(not set)",
          "San Francisco-Oakland-San Jose CA",
          "New York NY",
          "London",
          "Los Angeles CA",
          "Seattle-Tacoma WA",
          "Chicago IL",
          "Austin TX",
          "Washington DC (Hagerstown MD)",
          "Boston MA-Manchester NH",
          "Houston TX",
          "Atlanta GA",
          "Detroit MI",
          "Roanoke-Lynchburg VA"
         ],
         "yaxis": "y"
        },
        {
         "marker": {
          "color": "green"
         },
         "orientation": "h",
         "type": "bar",
         "uid": "0e488ea8-d251-11e8-88d6-f0189804b8bf",
         "x": [
          508229,
          40884,
          34262,
          26371,
          20329,
          13086,
          12607,
          10295,
          8670,
          7709,
          7444,
          7342,
          6330,
          5468,
          5223
         ],
         "xaxis": "x2",
         "y": [
          "not available in demo dataset",
          "Mountain View",
          "(not set)",
          "New York",
          "San Francisco",
          "Sunnyvale",
          "London",
          "San Jose",
          "Los Angeles",
          "Bangkok",
          "Chicago",
          "Ho Chi Minh City",
          "Istanbul",
          "Bengaluru",
          "Toronto"
         ],
         "yaxis": "y2"
        },
        {
         "marker": {
          "color": "purple"
         },
         "orientation": "h",
         "type": "bar",
         "uid": "0e48fec6-d251-11e8-af3e-f0189804b8bf",
         "x": [
          364744,
          51140,
          37393,
          25869,
          24598,
          20522,
          20123,
          19980,
          19783,
          19731,
          15832,
          13225,
          12996,
          12698,
          11662
         ],
         "xaxis": "x3",
         "y": [
          "United States",
          "India",
          "United Kingdom",
          "Canada",
          "Vietnam",
          "Turkey",
          "Thailand",
          "Germany",
          "Brazil",
          "Japan",
          "France",
          "Mexico",
          "Taiwan",
          "Australia",
          "Russia"
         ],
         "yaxis": "y3"
        },
        {
         "marker": {
          "color": "blue"
         },
         "orientation": "h",
         "type": "bar",
         "uid": "0e4962e2-d251-11e8-a486-f0189804b8bf",
         "x": [
          390657,
          77800,
          59321,
          59114,
          58168,
          46919,
          45249,
          41731,
          38443,
          35780,
          15583,
          14893,
          7683,
          2573,
          2406
         ],
         "xaxis": "x4",
         "y": [
          "Northern America",
          "Southeast Asia",
          "Southern Asia",
          "Western Europe",
          "Northern Europe",
          "Eastern Asia",
          "Eastern Europe",
          "South America",
          "Western Asia",
          "Southern Europe",
          "Central America",
          "Australasia",
          "Northern Africa",
          "Western Africa",
          "Caribbean"
         ],
         "yaxis": "y4"
        },
        {
         "marker": {
          "color": "yellow"
         },
         "orientation": "h",
         "type": "bar",
         "uid": "0e49ba58-d251-11e8-9e00-f0189804b8bf",
         "x": [
          450377,
          223698,
          198311,
          15054,
          14745,
          1468
         ],
         "xaxis": "x5",
         "y": [
          "Americas",
          "Asia",
          "Europe",
          "Oceania",
          "Africa",
          "(not set)"
         ],
         "yaxis": "y5"
        }
       ],
       "layout": {
        "annotations": [
         {
          "font": {
           "size": 16
          },
          "showarrow": false,
          "text": "Visits: Metro",
          "x": 0.225,
          "xanchor": "center",
          "xref": "paper",
          "y": 1,
          "yanchor": "bottom",
          "yref": "paper"
         },
         {
          "font": {
           "size": 16
          },
          "showarrow": false,
          "text": "Visits: City",
          "x": 0.775,
          "xanchor": "center",
          "xref": "paper",
          "y": 1,
          "yanchor": "bottom",
          "yref": "paper"
         },
         {
          "font": {
           "size": 16
          },
          "showarrow": false,
          "text": "Visits: Country",
          "x": 0.225,
          "xanchor": "center",
          "xref": "paper",
          "y": 0.6111111111111112,
          "yanchor": "bottom",
          "yref": "paper"
         },
         {
          "font": {
           "size": 16
          },
          "showarrow": false,
          "text": "Visits: Sub Continent",
          "x": 0.775,
          "xanchor": "center",
          "xref": "paper",
          "y": 0.6111111111111112,
          "yanchor": "bottom",
          "yref": "paper"
         },
         {
          "font": {
           "size": 16
          },
          "showarrow": false,
          "text": "Visits: Continent",
          "x": 0.225,
          "xanchor": "center",
          "xref": "paper",
          "y": 0.22222222222222224,
          "yanchor": "bottom",
          "yref": "paper"
         }
        ],
        "height": 600,
        "showlegend": false,
        "width": 1000,
        "xaxis": {
         "anchor": "y",
         "domain": [
          0,
          0.45
         ]
        },
        "xaxis2": {
         "anchor": "y2",
         "domain": [
          0.55,
          1
         ]
        },
        "xaxis3": {
         "anchor": "y3",
         "domain": [
          0,
          0.45
         ]
        },
        "xaxis4": {
         "anchor": "y4",
         "domain": [
          0.55,
          1
         ]
        },
        "xaxis5": {
         "anchor": "y5",
         "domain": [
          0,
          0.45
         ]
        },
        "xaxis6": {
         "anchor": "y6",
         "domain": [
          0.55,
          1
         ]
        },
        "yaxis": {
         "anchor": "x",
         "domain": [
          0.7777777777777778,
          1
         ]
        },
        "yaxis2": {
         "anchor": "x2",
         "domain": [
          0.7777777777777778,
          1
         ]
        },
        "yaxis3": {
         "anchor": "x3",
         "domain": [
          0.3888888888888889,
          0.6111111111111112
         ]
        },
        "yaxis4": {
         "anchor": "x4",
         "domain": [
          0.3888888888888889,
          0.6111111111111112
         ]
        },
        "yaxis5": {
         "anchor": "x5",
         "domain": [
          0,
          0.22222222222222224
         ]
        },
        "yaxis6": {
         "anchor": "x6",
         "domain": [
          0,
          0.22222222222222224
         ]
        }
       }
      },
      "text/html": [
       "<div id=\"cda1739f-fac2-4dbe-ae9d-91455ddd4b37\" style=\"height: 600px; width: 1000px;\" class=\"plotly-graph-div\"></div><script type=\"text/javascript\">require([\"plotly\"], function(Plotly) { window.PLOTLYENV=window.PLOTLYENV || {};window.PLOTLYENV.BASE_URL=\"https://plot.ly\";Plotly.newPlot(\"cda1739f-fac2-4dbe-ae9d-91455ddd4b37\", [{\"marker\": {\"color\": \"red\"}, \"orientation\": \"h\", \"x\": [508229, 201766, 95913, 26917, 12571, 9995, 7642, 7585, 3790, 3380, 2628, 2475, 2463, 2403, 2227], \"y\": [\"not available in demo dataset\", \"(not set)\", \"San Francisco-Oakland-San Jose CA\", \"New York NY\", \"London\", \"Los Angeles CA\", \"Seattle-Tacoma WA\", \"Chicago IL\", \"Austin TX\", \"Washington DC (Hagerstown MD)\", \"Boston MA-Manchester NH\", \"Houston TX\", \"Atlanta GA\", \"Detroit MI\", \"Roanoke-Lynchburg VA\"], \"type\": \"bar\", \"uid\": \"0e4823b4-d251-11e8-a7c3-f0189804b8bf\", \"xaxis\": \"x\", \"yaxis\": \"y\"}, {\"marker\": {\"color\": \"green\"}, \"orientation\": \"h\", \"x\": [508229, 40884, 34262, 26371, 20329, 13086, 12607, 10295, 8670, 7709, 7444, 7342, 6330, 5468, 5223], \"y\": [\"not available in demo dataset\", \"Mountain View\", \"(not set)\", \"New York\", \"San Francisco\", \"Sunnyvale\", \"London\", \"San Jose\", \"Los Angeles\", \"Bangkok\", \"Chicago\", \"Ho Chi Minh City\", \"Istanbul\", \"Bengaluru\", \"Toronto\"], \"type\": \"bar\", \"uid\": \"0e488ea8-d251-11e8-88d6-f0189804b8bf\", \"xaxis\": \"x2\", \"yaxis\": \"y2\"}, {\"marker\": {\"color\": \"purple\"}, \"orientation\": \"h\", \"x\": [364744, 51140, 37393, 25869, 24598, 20522, 20123, 19980, 19783, 19731, 15832, 13225, 12996, 12698, 11662], \"y\": [\"United States\", \"India\", \"United Kingdom\", \"Canada\", \"Vietnam\", \"Turkey\", \"Thailand\", \"Germany\", \"Brazil\", \"Japan\", \"France\", \"Mexico\", \"Taiwan\", \"Australia\", \"Russia\"], \"type\": \"bar\", \"uid\": \"0e48fec6-d251-11e8-af3e-f0189804b8bf\", \"xaxis\": \"x3\", \"yaxis\": \"y3\"}, {\"marker\": {\"color\": \"blue\"}, \"orientation\": \"h\", \"x\": [390657, 77800, 59321, 59114, 58168, 46919, 45249, 41731, 38443, 35780, 15583, 14893, 7683, 2573, 2406], \"y\": [\"Northern America\", \"Southeast Asia\", \"Southern Asia\", \"Western Europe\", \"Northern Europe\", \"Eastern Asia\", \"Eastern Europe\", \"South America\", \"Western Asia\", \"Southern Europe\", \"Central America\", \"Australasia\", \"Northern Africa\", \"Western Africa\", \"Caribbean\"], \"type\": \"bar\", \"uid\": \"0e4962e2-d251-11e8-a486-f0189804b8bf\", \"xaxis\": \"x4\", \"yaxis\": \"y4\"}, {\"marker\": {\"color\": \"yellow\"}, \"orientation\": \"h\", \"x\": [450377, 223698, 198311, 15054, 14745, 1468], \"y\": [\"Americas\", \"Asia\", \"Europe\", \"Oceania\", \"Africa\", \"(not set)\"], \"type\": \"bar\", \"uid\": \"0e49ba58-d251-11e8-9e00-f0189804b8bf\", \"xaxis\": \"x5\", \"yaxis\": \"y5\"}], {\"annotations\": [{\"font\": {\"size\": 16}, \"showarrow\": false, \"text\": \"Visits: Metro\", \"x\": 0.225, \"xanchor\": \"center\", \"xref\": \"paper\", \"y\": 1.0, \"yanchor\": \"bottom\", \"yref\": \"paper\"}, {\"font\": {\"size\": 16}, \"showarrow\": false, \"text\": \"Visits: City\", \"x\": 0.775, \"xanchor\": \"center\", \"xref\": \"paper\", \"y\": 1.0, \"yanchor\": \"bottom\", \"yref\": \"paper\"}, {\"font\": {\"size\": 16}, \"showarrow\": false, \"text\": \"Visits: Country\", \"x\": 0.225, \"xanchor\": \"center\", \"xref\": \"paper\", \"y\": 0.6111111111111112, \"yanchor\": \"bottom\", \"yref\": \"paper\"}, {\"font\": {\"size\": 16}, \"showarrow\": false, \"text\": \"Visits: Sub Continent\", \"x\": 0.775, \"xanchor\": \"center\", \"xref\": \"paper\", \"y\": 0.6111111111111112, \"yanchor\": \"bottom\", \"yref\": \"paper\"}, {\"font\": {\"size\": 16}, \"showarrow\": false, \"text\": \"Visits: Continent\", \"x\": 0.225, \"xanchor\": \"center\", \"xref\": \"paper\", \"y\": 0.22222222222222224, \"yanchor\": \"bottom\", \"yref\": \"paper\"}], \"xaxis\": {\"anchor\": \"y\", \"domain\": [0.0, 0.45]}, \"yaxis\": {\"anchor\": \"x\", \"domain\": [0.7777777777777778, 1.0]}, \"xaxis2\": {\"anchor\": \"y2\", \"domain\": [0.55, 1.0]}, \"yaxis2\": {\"anchor\": \"x2\", \"domain\": [0.7777777777777778, 1.0]}, \"xaxis3\": {\"anchor\": \"y3\", \"domain\": [0.0, 0.45]}, \"yaxis3\": {\"anchor\": \"x3\", \"domain\": [0.3888888888888889, 0.6111111111111112]}, \"xaxis4\": {\"anchor\": \"y4\", \"domain\": [0.55, 1.0]}, \"yaxis4\": {\"anchor\": \"x4\", \"domain\": [0.3888888888888889, 0.6111111111111112]}, \"xaxis5\": {\"anchor\": \"y5\", \"domain\": [0.0, 0.45]}, \"yaxis5\": {\"anchor\": \"x5\", \"domain\": [0.0, 0.22222222222222224]}, \"xaxis6\": {\"anchor\": \"y6\", \"domain\": [0.55, 1.0]}, \"yaxis6\": {\"anchor\": \"x6\", \"domain\": [0.0, 0.22222222222222224]}, \"height\": 600, \"width\": 1000, \"showlegend\": false}, {\"showLink\": true, \"linkText\": \"Export to plot.ly\"})});</script>"
      ],
      "text/vnd.plotly.v1+html": [
       "<div id=\"cda1739f-fac2-4dbe-ae9d-91455ddd4b37\" style=\"height: 600px; width: 1000px;\" class=\"plotly-graph-div\"></div><script type=\"text/javascript\">require([\"plotly\"], function(Plotly) { window.PLOTLYENV=window.PLOTLYENV || {};window.PLOTLYENV.BASE_URL=\"https://plot.ly\";Plotly.newPlot(\"cda1739f-fac2-4dbe-ae9d-91455ddd4b37\", [{\"marker\": {\"color\": \"red\"}, \"orientation\": \"h\", \"x\": [508229, 201766, 95913, 26917, 12571, 9995, 7642, 7585, 3790, 3380, 2628, 2475, 2463, 2403, 2227], \"y\": [\"not available in demo dataset\", \"(not set)\", \"San Francisco-Oakland-San Jose CA\", \"New York NY\", \"London\", \"Los Angeles CA\", \"Seattle-Tacoma WA\", \"Chicago IL\", \"Austin TX\", \"Washington DC (Hagerstown MD)\", \"Boston MA-Manchester NH\", \"Houston TX\", \"Atlanta GA\", \"Detroit MI\", \"Roanoke-Lynchburg VA\"], \"type\": \"bar\", \"uid\": \"0e4823b4-d251-11e8-a7c3-f0189804b8bf\", \"xaxis\": \"x\", \"yaxis\": \"y\"}, {\"marker\": {\"color\": \"green\"}, \"orientation\": \"h\", \"x\": [508229, 40884, 34262, 26371, 20329, 13086, 12607, 10295, 8670, 7709, 7444, 7342, 6330, 5468, 5223], \"y\": [\"not available in demo dataset\", \"Mountain View\", \"(not set)\", \"New York\", \"San Francisco\", \"Sunnyvale\", \"London\", \"San Jose\", \"Los Angeles\", \"Bangkok\", \"Chicago\", \"Ho Chi Minh City\", \"Istanbul\", \"Bengaluru\", \"Toronto\"], \"type\": \"bar\", \"uid\": \"0e488ea8-d251-11e8-88d6-f0189804b8bf\", \"xaxis\": \"x2\", \"yaxis\": \"y2\"}, {\"marker\": {\"color\": \"purple\"}, \"orientation\": \"h\", \"x\": [364744, 51140, 37393, 25869, 24598, 20522, 20123, 19980, 19783, 19731, 15832, 13225, 12996, 12698, 11662], \"y\": [\"United States\", \"India\", \"United Kingdom\", \"Canada\", \"Vietnam\", \"Turkey\", \"Thailand\", \"Germany\", \"Brazil\", \"Japan\", \"France\", \"Mexico\", \"Taiwan\", \"Australia\", \"Russia\"], \"type\": \"bar\", \"uid\": \"0e48fec6-d251-11e8-af3e-f0189804b8bf\", \"xaxis\": \"x3\", \"yaxis\": \"y3\"}, {\"marker\": {\"color\": \"blue\"}, \"orientation\": \"h\", \"x\": [390657, 77800, 59321, 59114, 58168, 46919, 45249, 41731, 38443, 35780, 15583, 14893, 7683, 2573, 2406], \"y\": [\"Northern America\", \"Southeast Asia\", \"Southern Asia\", \"Western Europe\", \"Northern Europe\", \"Eastern Asia\", \"Eastern Europe\", \"South America\", \"Western Asia\", \"Southern Europe\", \"Central America\", \"Australasia\", \"Northern Africa\", \"Western Africa\", \"Caribbean\"], \"type\": \"bar\", \"uid\": \"0e4962e2-d251-11e8-a486-f0189804b8bf\", \"xaxis\": \"x4\", \"yaxis\": \"y4\"}, {\"marker\": {\"color\": \"yellow\"}, \"orientation\": \"h\", \"x\": [450377, 223698, 198311, 15054, 14745, 1468], \"y\": [\"Americas\", \"Asia\", \"Europe\", \"Oceania\", \"Africa\", \"(not set)\"], \"type\": \"bar\", \"uid\": \"0e49ba58-d251-11e8-9e00-f0189804b8bf\", \"xaxis\": \"x5\", \"yaxis\": \"y5\"}], {\"annotations\": [{\"font\": {\"size\": 16}, \"showarrow\": false, \"text\": \"Visits: Metro\", \"x\": 0.225, \"xanchor\": \"center\", \"xref\": \"paper\", \"y\": 1.0, \"yanchor\": \"bottom\", \"yref\": \"paper\"}, {\"font\": {\"size\": 16}, \"showarrow\": false, \"text\": \"Visits: City\", \"x\": 0.775, \"xanchor\": \"center\", \"xref\": \"paper\", \"y\": 1.0, \"yanchor\": \"bottom\", \"yref\": \"paper\"}, {\"font\": {\"size\": 16}, \"showarrow\": false, \"text\": \"Visits: Country\", \"x\": 0.225, \"xanchor\": \"center\", \"xref\": \"paper\", \"y\": 0.6111111111111112, \"yanchor\": \"bottom\", \"yref\": \"paper\"}, {\"font\": {\"size\": 16}, \"showarrow\": false, \"text\": \"Visits: Sub Continent\", \"x\": 0.775, \"xanchor\": \"center\", \"xref\": \"paper\", \"y\": 0.6111111111111112, \"yanchor\": \"bottom\", \"yref\": \"paper\"}, {\"font\": {\"size\": 16}, \"showarrow\": false, \"text\": \"Visits: Continent\", \"x\": 0.225, \"xanchor\": \"center\", \"xref\": \"paper\", \"y\": 0.22222222222222224, \"yanchor\": \"bottom\", \"yref\": \"paper\"}], \"xaxis\": {\"anchor\": \"y\", \"domain\": [0.0, 0.45]}, \"yaxis\": {\"anchor\": \"x\", \"domain\": [0.7777777777777778, 1.0]}, \"xaxis2\": {\"anchor\": \"y2\", \"domain\": [0.55, 1.0]}, \"yaxis2\": {\"anchor\": \"x2\", \"domain\": [0.7777777777777778, 1.0]}, \"xaxis3\": {\"anchor\": \"y3\", \"domain\": [0.0, 0.45]}, \"yaxis3\": {\"anchor\": \"x3\", \"domain\": [0.3888888888888889, 0.6111111111111112]}, \"xaxis4\": {\"anchor\": \"y4\", \"domain\": [0.55, 1.0]}, \"yaxis4\": {\"anchor\": \"x4\", \"domain\": [0.3888888888888889, 0.6111111111111112]}, \"xaxis5\": {\"anchor\": \"y5\", \"domain\": [0.0, 0.45]}, \"yaxis5\": {\"anchor\": \"x5\", \"domain\": [0.0, 0.22222222222222224]}, \"xaxis6\": {\"anchor\": \"y6\", \"domain\": [0.55, 1.0]}, \"yaxis6\": {\"anchor\": \"x6\", \"domain\": [0.0, 0.22222222222222224]}, \"height\": 600, \"width\": 1000, \"showlegend\": false}, {\"showLink\": true, \"linkText\": \"Export to plot.ly\"})});</script>"
      ]
     },
     "metadata": {},
     "output_type": "display_data"
    },
    {
     "data": {
      "application/vnd.plotly.v1+json": {
       "data": [
        {
         "marker": {
          "color": "red",
          "opacity": 0.5
         },
         "orientation": "h",
         "type": "bar",
         "uid": "0f14d35a-d251-11e8-83f0-f0189804b8bf",
         "x": [
          157571375.464684,
          177472929.2929293,
          99071333.33333333,
          27980000,
          166969632.3529412,
          85143333.33333333,
          115026923.07692307,
          172370874.70449173,
          86980000,
          33355000,
          78959615.38461539,
          89030250,
          137620876.28865978,
          24990000,
          79570000,
          16990000,
          97350178.57142857,
          6990000,
          24680000,
          53098000,
          74990000,
          132727272.72727273,
          149656763.8483965,
          57265000,
          398890000,
          48518333.333333336,
          215839090.9090909,
          145795836.62714097,
          45105000,
          41725000,
          115401818.18181819,
          159545714.2857143,
          52960769.23076923,
          90741538.46153846,
          180210000,
          15960000,
          387998596.49122804,
          181900000,
          30480000,
          32433000,
          95100256.41025642,
          109639071.59986296,
          104702232.14285715,
          16950000,
          108271122.44897959,
          141114022.7123826
         ],
         "xaxis": "x",
         "y": [
          "(not set)",
          "Atlanta GA",
          "Austin TX",
          "Baltimore MD",
          "Boston MA-Manchester NH",
          "Charleston SC",
          "Charlotte NC",
          "Chicago IL",
          "Cincinnati OH",
          "Columbus OH",
          "Dallas-Ft. Worth TX",
          "Denver CO",
          "Detroit MI",
          "El Paso TX",
          "Fresno-Visalia CA",
          "Hartford & New Haven CT",
          "Houston TX",
          "Indianapolis IN",
          "Jacksonville FL",
          "Kansas City MO",
          "Las Vegas NV",
          "London",
          "Los Angeles CA",
          "Miami-Ft. Lauderdale FL",
          "Milwaukee WI",
          "Minneapolis-St. Paul MN",
          "Nashville TN",
          "New York NY",
          "Omaha NE",
          "Orlando-Daytona Beach-Melbourne FL",
          "Philadelphia PA",
          "Phoenix AZ",
          "Pittsburgh PA",
          "Portland OR",
          "Providence-New Bedford,MA",
          "Raleigh-Durham (Fayetteville) NC",
          "Roanoke-Lynchburg VA",
          "Sacramento-Stockton-Modesto CA",
          "Salt Lake City UT",
          "San Antonio TX",
          "San Diego CA",
          "San Francisco-Oakland-San Jose CA",
          "Seattle-Tacoma WA",
          "Syracuse NY",
          "Washington DC (Hagerstown MD)",
          "not available in demo dataset"
         ],
         "yaxis": "y"
        },
        {
         "marker": {
          "color": "green",
          "opacity": 0.5
         },
         "orientation": "h",
         "type": "bar",
         "uid": "0f156074-d251-11e8-89d3-f0189804b8bf",
         "x": [
          88879387.75510204,
          23430000,
          19190000,
          138225233.16062176,
          26580000,
          178376224.48979592,
          94355000,
          99071333.33333333,
          82460000,
          200040000,
          17980000,
          104640000,
          191200000,
          64980000,
          256200000,
          34990000,
          91005294.11764705,
          57925000,
          62666250,
          75960000,
          17950000,
          438840000,
          177821680.6722689,
          120547500,
          172641066.3507109,
          86980000,
          33355000,
          51847500,
          52871111.11111111,
          59450000,
          84177333.33333333,
          20980000,
          253090000,
          24143333.333333332,
          27980000,
          24990000,
          58350000,
          794560000,
          313075000,
          57697894.7368421,
          50000000,
          85143333.33333333,
          63600000,
          16990000,
          196720000,
          97350178.57142857,
          6990000,
          169384905.66037735,
          51205000,
          24680000,
          188925714.2857143,
          97880833.33333333,
          53098000,
          73728217.82178217,
          27180000,
          157283333.33333334,
          38000000,
          40831666.666666664,
          74990000,
          48780000,
          132727272.72727273,
          144970000,
          152996944.44444445,
          194692500,
          74380000,
          127167142.85714285,
          57265000,
          118550714.28571428,
          398890000,
          1168616666.6666667,
          48518333.333333336,
          38571818.18181818,
          104304119.10669975,
          1500000,
          215839090.9090909,
          54800000,
          146177629.48207173,
          180210000,
          107728571.42857143,
          38362500,
          41725000,
          96470000,
          73418958.33333333,
          159580000,
          115401818.18181819,
          211967000,
          52960769.23076923,
          39320000,
          153943333.33333334,
          44790000,
          16990000,
          357160000,
          15960000,
          130435000,
          116712857.14285715,
          44185000,
          458540000,
          181900000,
          387998596.49122804,
          30480000,
          32433000,
          146051456.3106796,
          96718947.36842105,
          138373058.98491085,
          92718712.87128712,
          33590000,
          91749090.9090909,
          88950000,
          105026250,
          101870000,
          80267142.85714285,
          59990000,
          118382324.56140351,
          111132000,
          101142500,
          74900000,
          62600000,
          86579296.7032967,
          108883333.33333333,
          16950000,
          16990000,
          31606666.666666668,
          28492500,
          10990000,
          259725468.75,
          320200000,
          46906666.666666664,
          59990000,
          356790000,
          55170000,
          108271122.44897959,
          28880000,
          47886666.666666664,
          141114022.7123826
         ],
         "xaxis": "x2",
         "y": [
          "(not set)",
          "Ahmedabad",
          "Amsterdam",
          "Ann Arbor",
          "Athens",
          "Atlanta",
          "Atwater",
          "Austin",
          "Bangkok",
          "Barcelona",
          "Barrie",
          "Bellevue",
          "Bengaluru",
          "Berkeley",
          "Berlin",
          "Bogota",
          "Boston",
          "Bothell",
          "Boulder",
          "Bucharest",
          "Buenos Aires",
          "Calgary",
          "Cambridge",
          "Charlotte",
          "Chicago",
          "Cincinnati",
          "Columbus",
          "Council Bluffs",
          "Cupertino",
          "Dallas",
          "Denver",
          "Detroit",
          "Dubai",
          "Dublin",
          "Dundalk",
          "El Paso",
          "Evanston",
          "Fort Collins",
          "Fort Worth",
          "Fremont",
          "Fresno",
          "Goose Creek",
          "Hamburg",
          "Hamden",
          "Hong Kong",
          "Houston",
          "Indianapolis",
          "Irvine",
          "Istanbul",
          "Jacksonville",
          "Jakarta",
          "Jersey City",
          "Kansas City",
          "Kirkland",
          "Kitchener",
          "Kuala Lumpur",
          "La Victoria",
          "Lake Oswego",
          "Las Vegas",
          "Lenoir",
          "London",
          "Los Angeles",
          "Maracaibo",
          "Melbourne",
          "Menlo Park",
          "Mexico City",
          "Miami",
          "Milpitas",
          "Milwaukee",
          "Minato",
          "Minneapolis",
          "Montreal",
          "Mountain View",
          "Mumbai",
          "Nashville",
          "New Delhi",
          "New York",
          "North Attleborough",
          "Oakland",
          "Omaha",
          "Orlando",
          "Ottawa",
          "Palo Alto",
          "Paris",
          "Philadelphia",
          "Phoenix",
          "Pittsburgh",
          "Pleasanton",
          "Portland",
          "Prague",
          "Quezon City",
          "Quito",
          "Raleigh",
          "Redmond",
          "Redwood City",
          "Rio de Janeiro",
          "Riverside",
          "Sacramento",
          "Salem",
          "Salt Lake City",
          "San Antonio",
          "San Bruno",
          "San Diego",
          "San Francisco",
          "San Jose",
          "San Marcos",
          "San Mateo",
          "Sandy Springs",
          "Santa Clara",
          "Santiago",
          "Sao Paulo",
          "Saratoga",
          "Seattle",
          "Seoul",
          "Singapore",
          "South San Francisco",
          "Stockholm",
          "Sunnyvale",
          "Sydney",
          "Syracuse",
          "Tbilisi",
          "Tel Aviv-Yafo",
          "Tempe",
          "Tigard",
          "Toronto",
          "Tunis",
          "Vancouver",
          "Vienna",
          "Walnut Creek",
          "Warsaw",
          "Washington",
          "Yokohama",
          "Zurich",
          "not available in demo dataset"
         ],
         "yaxis": "y2"
        },
        {
         "marker": {
          "color": "purple",
          "opacity": 0.5
         },
         "orientation": "h",
         "type": "bar",
         "uid": "0f1605a4-d251-11e8-a7b8-f0189804b8bf",
         "x": [
          128296666.66666667,
          10990000,
          52488000,
          30480000,
          134250769.23076922,
          198410000,
          64183000,
          172760736.84210527,
          49452000,
          35278333.333333336,
          75608750,
          206330000,
          75440000,
          44790000,
          25000000,
          168732500,
          50960000,
          76890000,
          29490000,
          89216000,
          19490000,
          68667500,
          53110000,
          27180000,
          30075000,
          163106666.66666666,
          33590000,
          69666000,
          167307272.72727272,
          24143333.333333332,
          103266666.66666667,
          102045000,
          395822941.1764706,
          17490000,
          1756233333.3333333,
          119110000,
          40770000,
          157283333.33333334,
          79639500,
          86350000,
          47970000,
          63990000,
          1651200000,
          57950000,
          55865000,
          63790000,
          46010000,
          76666666.66666667,
          215800000,
          109349090.9090909,
          75960000,
          23735000,
          88360000,
          84302000,
          32850000,
          93213750,
          192395000,
          58105000,
          37795000,
          66202222.222222224,
          101099473.68421052,
          92542000,
          51205000,
          116880000,
          123353333.33333333,
          105590625,
          132606651.14580481,
          3500000,
          212300000
         ],
         "xaxis": "x3",
         "y": [
          "(not set)",
          "Anguilla",
          "Argentina",
          "Armenia",
          "Australia",
          "Belgium",
          "Brazil",
          "Canada",
          "Chile",
          "China",
          "Colombia",
          "Curaçao",
          "Cyprus",
          "Czechia",
          "Denmark",
          "Ecuador",
          "Egypt",
          "El Salvador",
          "Finland",
          "France",
          "Georgia",
          "Germany",
          "Greece",
          "Guadeloupe",
          "Guatemala",
          "Hong Kong",
          "Hungary",
          "India",
          "Indonesia",
          "Ireland",
          "Israel",
          "Italy",
          "Japan",
          "Kazakhstan",
          "Kenya",
          "Kuwait",
          "Lebanon",
          "Malaysia",
          "Mexico",
          "Netherlands",
          "New Zealand",
          "Nicaragua",
          "Nigeria",
          "Pakistan",
          "Panama",
          "Peru",
          "Philippines",
          "Poland",
          "Portugal",
          "Puerto Rico",
          "Romania",
          "Russia",
          "Saudi Arabia",
          "Singapore",
          "South Africa",
          "South Korea",
          "Spain",
          "St. Lucia",
          "Sweden",
          "Switzerland",
          "Taiwan",
          "Thailand",
          "Turkey",
          "Ukraine",
          "United Arab Emirates",
          "United Kingdom",
          "United States",
          "Uruguay",
          "Venezuela"
         ],
         "yaxis": "y3"
        },
        {
         "marker": {
          "color": "blue",
          "opacity": 0.5
         },
         "orientation": "h",
         "type": "bar",
         "uid": "0f166698-d251-11e8-a516-f0189804b8bf",
         "x": [
          128296666.66666667,
          128087857.14285715,
          97721875,
          73290384.61538461,
          17490000,
          1756233333.3333333,
          187715593.22033897,
          67628571.42857143,
          50960000,
          133291321.00870502,
          73847407.4074074,
          162625612.24489796,
          117374687.5,
          32850000,
          68600909.0909091,
          120501250,
          1651200000,
          84811428.57142857,
          94744666.66666667
         ],
         "xaxis": "x4",
         "y": [
          "(not set)",
          "Australasia",
          "Caribbean",
          "Central America",
          "Central Asia",
          "Eastern Africa",
          "Eastern Asia",
          "Eastern Europe",
          "Northern Africa",
          "Northern America",
          "Northern Europe",
          "South America",
          "Southeast Asia",
          "Southern Africa",
          "Southern Asia",
          "Southern Europe",
          "Western Africa",
          "Western Asia",
          "Western Europe"
         ],
         "yaxis": "y4"
        },
        {
         "marker": {
          "color": "yellow",
          "opacity": 0.5
         },
         "orientation": "h",
         "type": "bar",
         "uid": "0f16d2e8-d251-11e8-bfd0-f0189804b8bf",
         "x": [
          128296666.66666667,
          1085970000,
          133357404.94549322,
          139214720,
          85405443.03797469,
          128087857.14285715
         ],
         "xaxis": "x5",
         "y": [
          "(not set)",
          "Africa",
          "Americas",
          "Asia",
          "Europe",
          "Oceania"
         ],
         "yaxis": "y5"
        }
       ],
       "layout": {
        "annotations": [
         {
          "font": {
           "size": 16
          },
          "showarrow": false,
          "text": "Mean Revenue by Metro",
          "x": 0.225,
          "xanchor": "center",
          "xref": "paper",
          "y": 1,
          "yanchor": "bottom",
          "yref": "paper"
         },
         {
          "font": {
           "size": 16
          },
          "showarrow": false,
          "text": "Mean Revenue by City",
          "x": 0.775,
          "xanchor": "center",
          "xref": "paper",
          "y": 1,
          "yanchor": "bottom",
          "yref": "paper"
         },
         {
          "font": {
           "size": 16
          },
          "showarrow": false,
          "text": "Mean Revenue by Country",
          "x": 0.225,
          "xanchor": "center",
          "xref": "paper",
          "y": 0.6111111111111112,
          "yanchor": "bottom",
          "yref": "paper"
         },
         {
          "font": {
           "size": 16
          },
          "showarrow": false,
          "text": "Mean Revenue by Sub Continent",
          "x": 0.775,
          "xanchor": "center",
          "xref": "paper",
          "y": 0.6111111111111112,
          "yanchor": "bottom",
          "yref": "paper"
         },
         {
          "font": {
           "size": 16
          },
          "showarrow": false,
          "text": "Mean Revenue by Continent",
          "x": 0.225,
          "xanchor": "center",
          "xref": "paper",
          "y": 0.22222222222222224,
          "yanchor": "bottom",
          "yref": "paper"
         }
        ],
        "height": 600,
        "showlegend": false,
        "width": 1000,
        "xaxis": {
         "anchor": "y",
         "domain": [
          0,
          0.45
         ]
        },
        "xaxis2": {
         "anchor": "y2",
         "domain": [
          0.55,
          1
         ]
        },
        "xaxis3": {
         "anchor": "y3",
         "domain": [
          0,
          0.45
         ]
        },
        "xaxis4": {
         "anchor": "y4",
         "domain": [
          0.55,
          1
         ]
        },
        "xaxis5": {
         "anchor": "y5",
         "domain": [
          0,
          0.45
         ]
        },
        "xaxis6": {
         "anchor": "y6",
         "domain": [
          0.55,
          1
         ]
        },
        "yaxis": {
         "anchor": "x",
         "domain": [
          0.7777777777777778,
          1
         ]
        },
        "yaxis2": {
         "anchor": "x2",
         "domain": [
          0.7777777777777778,
          1
         ]
        },
        "yaxis3": {
         "anchor": "x3",
         "domain": [
          0.3888888888888889,
          0.6111111111111112
         ]
        },
        "yaxis4": {
         "anchor": "x4",
         "domain": [
          0.3888888888888889,
          0.6111111111111112
         ]
        },
        "yaxis5": {
         "anchor": "x5",
         "domain": [
          0,
          0.22222222222222224
         ]
        },
        "yaxis6": {
         "anchor": "x6",
         "domain": [
          0,
          0.22222222222222224
         ]
        }
       }
      },
      "text/html": [
       "<div id=\"f947698d-bbad-4fef-a8a3-497b8021e684\" style=\"height: 600px; width: 1000px;\" class=\"plotly-graph-div\"></div><script type=\"text/javascript\">require([\"plotly\"], function(Plotly) { window.PLOTLYENV=window.PLOTLYENV || {};window.PLOTLYENV.BASE_URL=\"https://plot.ly\";Plotly.newPlot(\"f947698d-bbad-4fef-a8a3-497b8021e684\", [{\"marker\": {\"color\": \"red\", \"opacity\": 0.5}, \"orientation\": \"h\", \"x\": [157571375.464684, 177472929.2929293, 99071333.33333333, 27980000.0, 166969632.3529412, 85143333.33333333, 115026923.07692307, 172370874.70449173, 86980000.0, 33355000.0, 78959615.38461539, 89030250.0, 137620876.28865978, 24990000.0, 79570000.0, 16990000.0, 97350178.57142857, 6990000.0, 24680000.0, 53098000.0, 74990000.0, 132727272.72727273, 149656763.8483965, 57265000.0, 398890000.0, 48518333.333333336, 215839090.9090909, 145795836.62714097, 45105000.0, 41725000.0, 115401818.18181819, 159545714.2857143, 52960769.23076923, 90741538.46153846, 180210000.0, 15960000.0, 387998596.49122804, 181900000.0, 30480000.0, 32433000.0, 95100256.41025642, 109639071.59986296, 104702232.14285715, 16950000.0, 108271122.44897959, 141114022.7123826], \"y\": [\"(not set)\", \"Atlanta GA\", \"Austin TX\", \"Baltimore MD\", \"Boston MA-Manchester NH\", \"Charleston SC\", \"Charlotte NC\", \"Chicago IL\", \"Cincinnati OH\", \"Columbus OH\", \"Dallas-Ft. Worth TX\", \"Denver CO\", \"Detroit MI\", \"El Paso TX\", \"Fresno-Visalia CA\", \"Hartford & New Haven CT\", \"Houston TX\", \"Indianapolis IN\", \"Jacksonville FL\", \"Kansas City MO\", \"Las Vegas NV\", \"London\", \"Los Angeles CA\", \"Miami-Ft. Lauderdale FL\", \"Milwaukee WI\", \"Minneapolis-St. Paul MN\", \"Nashville TN\", \"New York NY\", \"Omaha NE\", \"Orlando-Daytona Beach-Melbourne FL\", \"Philadelphia PA\", \"Phoenix AZ\", \"Pittsburgh PA\", \"Portland OR\", \"Providence-New Bedford,MA\", \"Raleigh-Durham (Fayetteville) NC\", \"Roanoke-Lynchburg VA\", \"Sacramento-Stockton-Modesto CA\", \"Salt Lake City UT\", \"San Antonio TX\", \"San Diego CA\", \"San Francisco-Oakland-San Jose CA\", \"Seattle-Tacoma WA\", \"Syracuse NY\", \"Washington DC (Hagerstown MD)\", \"not available in demo dataset\"], \"type\": \"bar\", \"uid\": \"0f14d35a-d251-11e8-83f0-f0189804b8bf\", \"xaxis\": \"x\", \"yaxis\": \"y\"}, {\"marker\": {\"color\": \"green\", \"opacity\": 0.5}, \"orientation\": \"h\", \"x\": [88879387.75510204, 23430000.0, 19190000.0, 138225233.16062176, 26580000.0, 178376224.48979592, 94355000.0, 99071333.33333333, 82460000.0, 200040000.0, 17980000.0, 104640000.0, 191200000.0, 64980000.0, 256200000.0, 34990000.0, 91005294.11764705, 57925000.0, 62666250.0, 75960000.0, 17950000.0, 438840000.0, 177821680.6722689, 120547500.0, 172641066.3507109, 86980000.0, 33355000.0, 51847500.0, 52871111.11111111, 59450000.0, 84177333.33333333, 20980000.0, 253090000.0, 24143333.333333332, 27980000.0, 24990000.0, 58350000.0, 794560000.0, 313075000.0, 57697894.7368421, 50000000.0, 85143333.33333333, 63600000.0, 16990000.0, 196720000.0, 97350178.57142857, 6990000.0, 169384905.66037735, 51205000.0, 24680000.0, 188925714.2857143, 97880833.33333333, 53098000.0, 73728217.82178217, 27180000.0, 157283333.33333334, 38000000.0, 40831666.666666664, 74990000.0, 48780000.0, 132727272.72727273, 144970000.0, 152996944.44444445, 194692500.0, 74380000.0, 127167142.85714285, 57265000.0, 118550714.28571428, 398890000.0, 1168616666.6666667, 48518333.333333336, 38571818.18181818, 104304119.10669975, 1500000.0, 215839090.9090909, 54800000.0, 146177629.48207173, 180210000.0, 107728571.42857143, 38362500.0, 41725000.0, 96470000.0, 73418958.33333333, 159580000.0, 115401818.18181819, 211967000.0, 52960769.23076923, 39320000.0, 153943333.33333334, 44790000.0, 16990000.0, 357160000.0, 15960000.0, 130435000.0, 116712857.14285715, 44185000.0, 458540000.0, 181900000.0, 387998596.49122804, 30480000.0, 32433000.0, 146051456.3106796, 96718947.36842105, 138373058.98491085, 92718712.87128712, 33590000.0, 91749090.9090909, 88950000.0, 105026250.0, 101870000.0, 80267142.85714285, 59990000.0, 118382324.56140351, 111132000.0, 101142500.0, 74900000.0, 62600000.0, 86579296.7032967, 108883333.33333333, 16950000.0, 16990000.0, 31606666.666666668, 28492500.0, 10990000.0, 259725468.75, 320200000.0, 46906666.666666664, 59990000.0, 356790000.0, 55170000.0, 108271122.44897959, 28880000.0, 47886666.666666664, 141114022.7123826], \"y\": [\"(not set)\", \"Ahmedabad\", \"Amsterdam\", \"Ann Arbor\", \"Athens\", \"Atlanta\", \"Atwater\", \"Austin\", \"Bangkok\", \"Barcelona\", \"Barrie\", \"Bellevue\", \"Bengaluru\", \"Berkeley\", \"Berlin\", \"Bogota\", \"Boston\", \"Bothell\", \"Boulder\", \"Bucharest\", \"Buenos Aires\", \"Calgary\", \"Cambridge\", \"Charlotte\", \"Chicago\", \"Cincinnati\", \"Columbus\", \"Council Bluffs\", \"Cupertino\", \"Dallas\", \"Denver\", \"Detroit\", \"Dubai\", \"Dublin\", \"Dundalk\", \"El Paso\", \"Evanston\", \"Fort Collins\", \"Fort Worth\", \"Fremont\", \"Fresno\", \"Goose Creek\", \"Hamburg\", \"Hamden\", \"Hong Kong\", \"Houston\", \"Indianapolis\", \"Irvine\", \"Istanbul\", \"Jacksonville\", \"Jakarta\", \"Jersey City\", \"Kansas City\", \"Kirkland\", \"Kitchener\", \"Kuala Lumpur\", \"La Victoria\", \"Lake Oswego\", \"Las Vegas\", \"Lenoir\", \"London\", \"Los Angeles\", \"Maracaibo\", \"Melbourne\", \"Menlo Park\", \"Mexico City\", \"Miami\", \"Milpitas\", \"Milwaukee\", \"Minato\", \"Minneapolis\", \"Montreal\", \"Mountain View\", \"Mumbai\", \"Nashville\", \"New Delhi\", \"New York\", \"North Attleborough\", \"Oakland\", \"Omaha\", \"Orlando\", \"Ottawa\", \"Palo Alto\", \"Paris\", \"Philadelphia\", \"Phoenix\", \"Pittsburgh\", \"Pleasanton\", \"Portland\", \"Prague\", \"Quezon City\", \"Quito\", \"Raleigh\", \"Redmond\", \"Redwood City\", \"Rio de Janeiro\", \"Riverside\", \"Sacramento\", \"Salem\", \"Salt Lake City\", \"San Antonio\", \"San Bruno\", \"San Diego\", \"San Francisco\", \"San Jose\", \"San Marcos\", \"San Mateo\", \"Sandy Springs\", \"Santa Clara\", \"Santiago\", \"Sao Paulo\", \"Saratoga\", \"Seattle\", \"Seoul\", \"Singapore\", \"South San Francisco\", \"Stockholm\", \"Sunnyvale\", \"Sydney\", \"Syracuse\", \"Tbilisi\", \"Tel Aviv-Yafo\", \"Tempe\", \"Tigard\", \"Toronto\", \"Tunis\", \"Vancouver\", \"Vienna\", \"Walnut Creek\", \"Warsaw\", \"Washington\", \"Yokohama\", \"Zurich\", \"not available in demo dataset\"], \"type\": \"bar\", \"uid\": \"0f156074-d251-11e8-89d3-f0189804b8bf\", \"xaxis\": \"x2\", \"yaxis\": \"y2\"}, {\"marker\": {\"color\": \"purple\", \"opacity\": 0.5}, \"orientation\": \"h\", \"x\": [128296666.66666667, 10990000.0, 52488000.0, 30480000.0, 134250769.23076922, 198410000.0, 64183000.0, 172760736.84210527, 49452000.0, 35278333.333333336, 75608750.0, 206330000.0, 75440000.0, 44790000.0, 25000000.0, 168732500.0, 50960000.0, 76890000.0, 29490000.0, 89216000.0, 19490000.0, 68667500.0, 53110000.0, 27180000.0, 30075000.0, 163106666.66666666, 33590000.0, 69666000.0, 167307272.72727272, 24143333.333333332, 103266666.66666667, 102045000.0, 395822941.1764706, 17490000.0, 1756233333.3333333, 119110000.0, 40770000.0, 157283333.33333334, 79639500.0, 86350000.0, 47970000.0, 63990000.0, 1651200000.0, 57950000.0, 55865000.0, 63790000.0, 46010000.0, 76666666.66666667, 215800000.0, 109349090.9090909, 75960000.0, 23735000.0, 88360000.0, 84302000.0, 32850000.0, 93213750.0, 192395000.0, 58105000.0, 37795000.0, 66202222.222222224, 101099473.68421052, 92542000.0, 51205000.0, 116880000.0, 123353333.33333333, 105590625.0, 132606651.14580481, 3500000.0, 212300000.0], \"y\": [\"(not set)\", \"Anguilla\", \"Argentina\", \"Armenia\", \"Australia\", \"Belgium\", \"Brazil\", \"Canada\", \"Chile\", \"China\", \"Colombia\", \"Cura\\u00e7ao\", \"Cyprus\", \"Czechia\", \"Denmark\", \"Ecuador\", \"Egypt\", \"El Salvador\", \"Finland\", \"France\", \"Georgia\", \"Germany\", \"Greece\", \"Guadeloupe\", \"Guatemala\", \"Hong Kong\", \"Hungary\", \"India\", \"Indonesia\", \"Ireland\", \"Israel\", \"Italy\", \"Japan\", \"Kazakhstan\", \"Kenya\", \"Kuwait\", \"Lebanon\", \"Malaysia\", \"Mexico\", \"Netherlands\", \"New Zealand\", \"Nicaragua\", \"Nigeria\", \"Pakistan\", \"Panama\", \"Peru\", \"Philippines\", \"Poland\", \"Portugal\", \"Puerto Rico\", \"Romania\", \"Russia\", \"Saudi Arabia\", \"Singapore\", \"South Africa\", \"South Korea\", \"Spain\", \"St. Lucia\", \"Sweden\", \"Switzerland\", \"Taiwan\", \"Thailand\", \"Turkey\", \"Ukraine\", \"United Arab Emirates\", \"United Kingdom\", \"United States\", \"Uruguay\", \"Venezuela\"], \"type\": \"bar\", \"uid\": \"0f1605a4-d251-11e8-a7b8-f0189804b8bf\", \"xaxis\": \"x3\", \"yaxis\": \"y3\"}, {\"marker\": {\"color\": \"blue\", \"opacity\": 0.5}, \"orientation\": \"h\", \"x\": [128296666.66666667, 128087857.14285715, 97721875.0, 73290384.61538461, 17490000.0, 1756233333.3333333, 187715593.22033897, 67628571.42857143, 50960000.0, 133291321.00870502, 73847407.4074074, 162625612.24489796, 117374687.5, 32850000.0, 68600909.0909091, 120501250.0, 1651200000.0, 84811428.57142857, 94744666.66666667], \"y\": [\"(not set)\", \"Australasia\", \"Caribbean\", \"Central America\", \"Central Asia\", \"Eastern Africa\", \"Eastern Asia\", \"Eastern Europe\", \"Northern Africa\", \"Northern America\", \"Northern Europe\", \"South America\", \"Southeast Asia\", \"Southern Africa\", \"Southern Asia\", \"Southern Europe\", \"Western Africa\", \"Western Asia\", \"Western Europe\"], \"type\": \"bar\", \"uid\": \"0f166698-d251-11e8-a516-f0189804b8bf\", \"xaxis\": \"x4\", \"yaxis\": \"y4\"}, {\"marker\": {\"color\": \"yellow\", \"opacity\": 0.5}, \"orientation\": \"h\", \"x\": [128296666.66666667, 1085970000.0, 133357404.94549322, 139214720.0, 85405443.03797469, 128087857.14285715], \"y\": [\"(not set)\", \"Africa\", \"Americas\", \"Asia\", \"Europe\", \"Oceania\"], \"type\": \"bar\", \"uid\": \"0f16d2e8-d251-11e8-bfd0-f0189804b8bf\", \"xaxis\": \"x5\", \"yaxis\": \"y5\"}], {\"annotations\": [{\"font\": {\"size\": 16}, \"showarrow\": false, \"text\": \"Mean Revenue by Metro\", \"x\": 0.225, \"xanchor\": \"center\", \"xref\": \"paper\", \"y\": 1.0, \"yanchor\": \"bottom\", \"yref\": \"paper\"}, {\"font\": {\"size\": 16}, \"showarrow\": false, \"text\": \"Mean Revenue by City\", \"x\": 0.775, \"xanchor\": \"center\", \"xref\": \"paper\", \"y\": 1.0, \"yanchor\": \"bottom\", \"yref\": \"paper\"}, {\"font\": {\"size\": 16}, \"showarrow\": false, \"text\": \"Mean Revenue by Country\", \"x\": 0.225, \"xanchor\": \"center\", \"xref\": \"paper\", \"y\": 0.6111111111111112, \"yanchor\": \"bottom\", \"yref\": \"paper\"}, {\"font\": {\"size\": 16}, \"showarrow\": false, \"text\": \"Mean Revenue by Sub Continent\", \"x\": 0.775, \"xanchor\": \"center\", \"xref\": \"paper\", \"y\": 0.6111111111111112, \"yanchor\": \"bottom\", \"yref\": \"paper\"}, {\"font\": {\"size\": 16}, \"showarrow\": false, \"text\": \"Mean Revenue by Continent\", \"x\": 0.225, \"xanchor\": \"center\", \"xref\": \"paper\", \"y\": 0.22222222222222224, \"yanchor\": \"bottom\", \"yref\": \"paper\"}], \"xaxis\": {\"anchor\": \"y\", \"domain\": [0.0, 0.45]}, \"yaxis\": {\"anchor\": \"x\", \"domain\": [0.7777777777777778, 1.0]}, \"xaxis2\": {\"anchor\": \"y2\", \"domain\": [0.55, 1.0]}, \"yaxis2\": {\"anchor\": \"x2\", \"domain\": [0.7777777777777778, 1.0]}, \"xaxis3\": {\"anchor\": \"y3\", \"domain\": [0.0, 0.45]}, \"yaxis3\": {\"anchor\": \"x3\", \"domain\": [0.3888888888888889, 0.6111111111111112]}, \"xaxis4\": {\"anchor\": \"y4\", \"domain\": [0.55, 1.0]}, \"yaxis4\": {\"anchor\": \"x4\", \"domain\": [0.3888888888888889, 0.6111111111111112]}, \"xaxis5\": {\"anchor\": \"y5\", \"domain\": [0.0, 0.45]}, \"yaxis5\": {\"anchor\": \"x5\", \"domain\": [0.0, 0.22222222222222224]}, \"xaxis6\": {\"anchor\": \"y6\", \"domain\": [0.55, 1.0]}, \"yaxis6\": {\"anchor\": \"x6\", \"domain\": [0.0, 0.22222222222222224]}, \"height\": 600, \"width\": 1000, \"showlegend\": false}, {\"showLink\": true, \"linkText\": \"Export to plot.ly\"})});</script>"
      ],
      "text/vnd.plotly.v1+html": [
       "<div id=\"f947698d-bbad-4fef-a8a3-497b8021e684\" style=\"height: 600px; width: 1000px;\" class=\"plotly-graph-div\"></div><script type=\"text/javascript\">require([\"plotly\"], function(Plotly) { window.PLOTLYENV=window.PLOTLYENV || {};window.PLOTLYENV.BASE_URL=\"https://plot.ly\";Plotly.newPlot(\"f947698d-bbad-4fef-a8a3-497b8021e684\", [{\"marker\": {\"color\": \"red\", \"opacity\": 0.5}, \"orientation\": \"h\", \"x\": [157571375.464684, 177472929.2929293, 99071333.33333333, 27980000.0, 166969632.3529412, 85143333.33333333, 115026923.07692307, 172370874.70449173, 86980000.0, 33355000.0, 78959615.38461539, 89030250.0, 137620876.28865978, 24990000.0, 79570000.0, 16990000.0, 97350178.57142857, 6990000.0, 24680000.0, 53098000.0, 74990000.0, 132727272.72727273, 149656763.8483965, 57265000.0, 398890000.0, 48518333.333333336, 215839090.9090909, 145795836.62714097, 45105000.0, 41725000.0, 115401818.18181819, 159545714.2857143, 52960769.23076923, 90741538.46153846, 180210000.0, 15960000.0, 387998596.49122804, 181900000.0, 30480000.0, 32433000.0, 95100256.41025642, 109639071.59986296, 104702232.14285715, 16950000.0, 108271122.44897959, 141114022.7123826], \"y\": [\"(not set)\", \"Atlanta GA\", \"Austin TX\", \"Baltimore MD\", \"Boston MA-Manchester NH\", \"Charleston SC\", \"Charlotte NC\", \"Chicago IL\", \"Cincinnati OH\", \"Columbus OH\", \"Dallas-Ft. Worth TX\", \"Denver CO\", \"Detroit MI\", \"El Paso TX\", \"Fresno-Visalia CA\", \"Hartford & New Haven CT\", \"Houston TX\", \"Indianapolis IN\", \"Jacksonville FL\", \"Kansas City MO\", \"Las Vegas NV\", \"London\", \"Los Angeles CA\", \"Miami-Ft. Lauderdale FL\", \"Milwaukee WI\", \"Minneapolis-St. Paul MN\", \"Nashville TN\", \"New York NY\", \"Omaha NE\", \"Orlando-Daytona Beach-Melbourne FL\", \"Philadelphia PA\", \"Phoenix AZ\", \"Pittsburgh PA\", \"Portland OR\", \"Providence-New Bedford,MA\", \"Raleigh-Durham (Fayetteville) NC\", \"Roanoke-Lynchburg VA\", \"Sacramento-Stockton-Modesto CA\", \"Salt Lake City UT\", \"San Antonio TX\", \"San Diego CA\", \"San Francisco-Oakland-San Jose CA\", \"Seattle-Tacoma WA\", \"Syracuse NY\", \"Washington DC (Hagerstown MD)\", \"not available in demo dataset\"], \"type\": \"bar\", \"uid\": \"0f14d35a-d251-11e8-83f0-f0189804b8bf\", \"xaxis\": \"x\", \"yaxis\": \"y\"}, {\"marker\": {\"color\": \"green\", \"opacity\": 0.5}, \"orientation\": \"h\", \"x\": [88879387.75510204, 23430000.0, 19190000.0, 138225233.16062176, 26580000.0, 178376224.48979592, 94355000.0, 99071333.33333333, 82460000.0, 200040000.0, 17980000.0, 104640000.0, 191200000.0, 64980000.0, 256200000.0, 34990000.0, 91005294.11764705, 57925000.0, 62666250.0, 75960000.0, 17950000.0, 438840000.0, 177821680.6722689, 120547500.0, 172641066.3507109, 86980000.0, 33355000.0, 51847500.0, 52871111.11111111, 59450000.0, 84177333.33333333, 20980000.0, 253090000.0, 24143333.333333332, 27980000.0, 24990000.0, 58350000.0, 794560000.0, 313075000.0, 57697894.7368421, 50000000.0, 85143333.33333333, 63600000.0, 16990000.0, 196720000.0, 97350178.57142857, 6990000.0, 169384905.66037735, 51205000.0, 24680000.0, 188925714.2857143, 97880833.33333333, 53098000.0, 73728217.82178217, 27180000.0, 157283333.33333334, 38000000.0, 40831666.666666664, 74990000.0, 48780000.0, 132727272.72727273, 144970000.0, 152996944.44444445, 194692500.0, 74380000.0, 127167142.85714285, 57265000.0, 118550714.28571428, 398890000.0, 1168616666.6666667, 48518333.333333336, 38571818.18181818, 104304119.10669975, 1500000.0, 215839090.9090909, 54800000.0, 146177629.48207173, 180210000.0, 107728571.42857143, 38362500.0, 41725000.0, 96470000.0, 73418958.33333333, 159580000.0, 115401818.18181819, 211967000.0, 52960769.23076923, 39320000.0, 153943333.33333334, 44790000.0, 16990000.0, 357160000.0, 15960000.0, 130435000.0, 116712857.14285715, 44185000.0, 458540000.0, 181900000.0, 387998596.49122804, 30480000.0, 32433000.0, 146051456.3106796, 96718947.36842105, 138373058.98491085, 92718712.87128712, 33590000.0, 91749090.9090909, 88950000.0, 105026250.0, 101870000.0, 80267142.85714285, 59990000.0, 118382324.56140351, 111132000.0, 101142500.0, 74900000.0, 62600000.0, 86579296.7032967, 108883333.33333333, 16950000.0, 16990000.0, 31606666.666666668, 28492500.0, 10990000.0, 259725468.75, 320200000.0, 46906666.666666664, 59990000.0, 356790000.0, 55170000.0, 108271122.44897959, 28880000.0, 47886666.666666664, 141114022.7123826], \"y\": [\"(not set)\", \"Ahmedabad\", \"Amsterdam\", \"Ann Arbor\", \"Athens\", \"Atlanta\", \"Atwater\", \"Austin\", \"Bangkok\", \"Barcelona\", \"Barrie\", \"Bellevue\", \"Bengaluru\", \"Berkeley\", \"Berlin\", \"Bogota\", \"Boston\", \"Bothell\", \"Boulder\", \"Bucharest\", \"Buenos Aires\", \"Calgary\", \"Cambridge\", \"Charlotte\", \"Chicago\", \"Cincinnati\", \"Columbus\", \"Council Bluffs\", \"Cupertino\", \"Dallas\", \"Denver\", \"Detroit\", \"Dubai\", \"Dublin\", \"Dundalk\", \"El Paso\", \"Evanston\", \"Fort Collins\", \"Fort Worth\", \"Fremont\", \"Fresno\", \"Goose Creek\", \"Hamburg\", \"Hamden\", \"Hong Kong\", \"Houston\", \"Indianapolis\", \"Irvine\", \"Istanbul\", \"Jacksonville\", \"Jakarta\", \"Jersey City\", \"Kansas City\", \"Kirkland\", \"Kitchener\", \"Kuala Lumpur\", \"La Victoria\", \"Lake Oswego\", \"Las Vegas\", \"Lenoir\", \"London\", \"Los Angeles\", \"Maracaibo\", \"Melbourne\", \"Menlo Park\", \"Mexico City\", \"Miami\", \"Milpitas\", \"Milwaukee\", \"Minato\", \"Minneapolis\", \"Montreal\", \"Mountain View\", \"Mumbai\", \"Nashville\", \"New Delhi\", \"New York\", \"North Attleborough\", \"Oakland\", \"Omaha\", \"Orlando\", \"Ottawa\", \"Palo Alto\", \"Paris\", \"Philadelphia\", \"Phoenix\", \"Pittsburgh\", \"Pleasanton\", \"Portland\", \"Prague\", \"Quezon City\", \"Quito\", \"Raleigh\", \"Redmond\", \"Redwood City\", \"Rio de Janeiro\", \"Riverside\", \"Sacramento\", \"Salem\", \"Salt Lake City\", \"San Antonio\", \"San Bruno\", \"San Diego\", \"San Francisco\", \"San Jose\", \"San Marcos\", \"San Mateo\", \"Sandy Springs\", \"Santa Clara\", \"Santiago\", \"Sao Paulo\", \"Saratoga\", \"Seattle\", \"Seoul\", \"Singapore\", \"South San Francisco\", \"Stockholm\", \"Sunnyvale\", \"Sydney\", \"Syracuse\", \"Tbilisi\", \"Tel Aviv-Yafo\", \"Tempe\", \"Tigard\", \"Toronto\", \"Tunis\", \"Vancouver\", \"Vienna\", \"Walnut Creek\", \"Warsaw\", \"Washington\", \"Yokohama\", \"Zurich\", \"not available in demo dataset\"], \"type\": \"bar\", \"uid\": \"0f156074-d251-11e8-89d3-f0189804b8bf\", \"xaxis\": \"x2\", \"yaxis\": \"y2\"}, {\"marker\": {\"color\": \"purple\", \"opacity\": 0.5}, \"orientation\": \"h\", \"x\": [128296666.66666667, 10990000.0, 52488000.0, 30480000.0, 134250769.23076922, 198410000.0, 64183000.0, 172760736.84210527, 49452000.0, 35278333.333333336, 75608750.0, 206330000.0, 75440000.0, 44790000.0, 25000000.0, 168732500.0, 50960000.0, 76890000.0, 29490000.0, 89216000.0, 19490000.0, 68667500.0, 53110000.0, 27180000.0, 30075000.0, 163106666.66666666, 33590000.0, 69666000.0, 167307272.72727272, 24143333.333333332, 103266666.66666667, 102045000.0, 395822941.1764706, 17490000.0, 1756233333.3333333, 119110000.0, 40770000.0, 157283333.33333334, 79639500.0, 86350000.0, 47970000.0, 63990000.0, 1651200000.0, 57950000.0, 55865000.0, 63790000.0, 46010000.0, 76666666.66666667, 215800000.0, 109349090.9090909, 75960000.0, 23735000.0, 88360000.0, 84302000.0, 32850000.0, 93213750.0, 192395000.0, 58105000.0, 37795000.0, 66202222.222222224, 101099473.68421052, 92542000.0, 51205000.0, 116880000.0, 123353333.33333333, 105590625.0, 132606651.14580481, 3500000.0, 212300000.0], \"y\": [\"(not set)\", \"Anguilla\", \"Argentina\", \"Armenia\", \"Australia\", \"Belgium\", \"Brazil\", \"Canada\", \"Chile\", \"China\", \"Colombia\", \"Cura\\u00e7ao\", \"Cyprus\", \"Czechia\", \"Denmark\", \"Ecuador\", \"Egypt\", \"El Salvador\", \"Finland\", \"France\", \"Georgia\", \"Germany\", \"Greece\", \"Guadeloupe\", \"Guatemala\", \"Hong Kong\", \"Hungary\", \"India\", \"Indonesia\", \"Ireland\", \"Israel\", \"Italy\", \"Japan\", \"Kazakhstan\", \"Kenya\", \"Kuwait\", \"Lebanon\", \"Malaysia\", \"Mexico\", \"Netherlands\", \"New Zealand\", \"Nicaragua\", \"Nigeria\", \"Pakistan\", \"Panama\", \"Peru\", \"Philippines\", \"Poland\", \"Portugal\", \"Puerto Rico\", \"Romania\", \"Russia\", \"Saudi Arabia\", \"Singapore\", \"South Africa\", \"South Korea\", \"Spain\", \"St. Lucia\", \"Sweden\", \"Switzerland\", \"Taiwan\", \"Thailand\", \"Turkey\", \"Ukraine\", \"United Arab Emirates\", \"United Kingdom\", \"United States\", \"Uruguay\", \"Venezuela\"], \"type\": \"bar\", \"uid\": \"0f1605a4-d251-11e8-a7b8-f0189804b8bf\", \"xaxis\": \"x3\", \"yaxis\": \"y3\"}, {\"marker\": {\"color\": \"blue\", \"opacity\": 0.5}, \"orientation\": \"h\", \"x\": [128296666.66666667, 128087857.14285715, 97721875.0, 73290384.61538461, 17490000.0, 1756233333.3333333, 187715593.22033897, 67628571.42857143, 50960000.0, 133291321.00870502, 73847407.4074074, 162625612.24489796, 117374687.5, 32850000.0, 68600909.0909091, 120501250.0, 1651200000.0, 84811428.57142857, 94744666.66666667], \"y\": [\"(not set)\", \"Australasia\", \"Caribbean\", \"Central America\", \"Central Asia\", \"Eastern Africa\", \"Eastern Asia\", \"Eastern Europe\", \"Northern Africa\", \"Northern America\", \"Northern Europe\", \"South America\", \"Southeast Asia\", \"Southern Africa\", \"Southern Asia\", \"Southern Europe\", \"Western Africa\", \"Western Asia\", \"Western Europe\"], \"type\": \"bar\", \"uid\": \"0f166698-d251-11e8-a516-f0189804b8bf\", \"xaxis\": \"x4\", \"yaxis\": \"y4\"}, {\"marker\": {\"color\": \"yellow\", \"opacity\": 0.5}, \"orientation\": \"h\", \"x\": [128296666.66666667, 1085970000.0, 133357404.94549322, 139214720.0, 85405443.03797469, 128087857.14285715], \"y\": [\"(not set)\", \"Africa\", \"Americas\", \"Asia\", \"Europe\", \"Oceania\"], \"type\": \"bar\", \"uid\": \"0f16d2e8-d251-11e8-bfd0-f0189804b8bf\", \"xaxis\": \"x5\", \"yaxis\": \"y5\"}], {\"annotations\": [{\"font\": {\"size\": 16}, \"showarrow\": false, \"text\": \"Mean Revenue by Metro\", \"x\": 0.225, \"xanchor\": \"center\", \"xref\": \"paper\", \"y\": 1.0, \"yanchor\": \"bottom\", \"yref\": \"paper\"}, {\"font\": {\"size\": 16}, \"showarrow\": false, \"text\": \"Mean Revenue by City\", \"x\": 0.775, \"xanchor\": \"center\", \"xref\": \"paper\", \"y\": 1.0, \"yanchor\": \"bottom\", \"yref\": \"paper\"}, {\"font\": {\"size\": 16}, \"showarrow\": false, \"text\": \"Mean Revenue by Country\", \"x\": 0.225, \"xanchor\": \"center\", \"xref\": \"paper\", \"y\": 0.6111111111111112, \"yanchor\": \"bottom\", \"yref\": \"paper\"}, {\"font\": {\"size\": 16}, \"showarrow\": false, \"text\": \"Mean Revenue by Sub Continent\", \"x\": 0.775, \"xanchor\": \"center\", \"xref\": \"paper\", \"y\": 0.6111111111111112, \"yanchor\": \"bottom\", \"yref\": \"paper\"}, {\"font\": {\"size\": 16}, \"showarrow\": false, \"text\": \"Mean Revenue by Continent\", \"x\": 0.225, \"xanchor\": \"center\", \"xref\": \"paper\", \"y\": 0.22222222222222224, \"yanchor\": \"bottom\", \"yref\": \"paper\"}], \"xaxis\": {\"anchor\": \"y\", \"domain\": [0.0, 0.45]}, \"yaxis\": {\"anchor\": \"x\", \"domain\": [0.7777777777777778, 1.0]}, \"xaxis2\": {\"anchor\": \"y2\", \"domain\": [0.55, 1.0]}, \"yaxis2\": {\"anchor\": \"x2\", \"domain\": [0.7777777777777778, 1.0]}, \"xaxis3\": {\"anchor\": \"y3\", \"domain\": [0.0, 0.45]}, \"yaxis3\": {\"anchor\": \"x3\", \"domain\": [0.3888888888888889, 0.6111111111111112]}, \"xaxis4\": {\"anchor\": \"y4\", \"domain\": [0.55, 1.0]}, \"yaxis4\": {\"anchor\": \"x4\", \"domain\": [0.3888888888888889, 0.6111111111111112]}, \"xaxis5\": {\"anchor\": \"y5\", \"domain\": [0.0, 0.45]}, \"yaxis5\": {\"anchor\": \"x5\", \"domain\": [0.0, 0.22222222222222224]}, \"xaxis6\": {\"anchor\": \"y6\", \"domain\": [0.55, 1.0]}, \"yaxis6\": {\"anchor\": \"x6\", \"domain\": [0.0, 0.22222222222222224]}, \"height\": 600, \"width\": 1000, \"showlegend\": false}, {\"showLink\": true, \"linkText\": \"Export to plot.ly\"})});</script>"
      ]
     },
     "metadata": {},
     "output_type": "display_data"
    }
   ],
   "source": [
    "geo_cols = [\"geoNetwork_metro\", \"geoNetwork_city\", \"geoNetwork_country\", \"geoNetwork_subContinent\", \"geoNetwork_continent\"]\n",
    "colors = [\"red\", \"green\", \"purple\",\"blue\", \"yellow\"]\n",
    "traces = []\n",
    "for i, col in enumerate(geo_cols):\n",
    "    t = train[col].value_counts()\n",
    "    traces.append(go.Bar(marker=dict(color=colors[i]),orientation=\"h\", y = t.index[:15], x = t.values[:15]))\n",
    "\n",
    "fig = tools.make_subplots(rows=3, cols=2, \n",
    "                          subplot_titles=[\"Visits: Metro\", \"Visits: City\", \"Visits: Country\",\"Visits: Sub Continent\",\"Visits: Continent\"]\n",
    "                          , print_grid=False)\n",
    "fig.append_trace(traces[0], 1, 1)\n",
    "fig.append_trace(traces[1], 1, 2)\n",
    "fig.append_trace(traces[2], 2, 1)\n",
    "fig.append_trace(traces[3], 2, 2)\n",
    "fig.append_trace(traces[4], 3, 1)\n",
    "\n",
    "fig['layout'].update(height=600,width=1000, showlegend=False)\n",
    "iplot(fig)\n",
    "\n",
    "train[\"totals_transactionRevenue\"] = train[\"totals_transactionRevenue\"].astype('float')\n",
    "\n",
    "fig = tools.make_subplots(rows=3, cols=2, subplot_titles=[\"Mean Revenue by Metro\", \"Mean Revenue by City\", \"Mean Revenue by Country\",\"Mean Revenue by Sub Continent\",\"Mean Revenue by Continent\"], print_grid=False)\n",
    "\n",
    "\n",
    "trs = []\n",
    "for i, col in enumerate(geo_cols):\n",
    "    tmp = train.groupby(col).agg({\"totals_transactionRevenue\": \"mean\"}).reset_index().rename(columns={\"totals_transactionRevenue\" : \"Mean Revenue\"})\n",
    "    tmp = tmp.dropna()\n",
    "    tr = go.Bar(x = tmp[\"Mean Revenue\"], orientation=\"h\", marker=dict(opacity=0.5, color=colors[i]), y = tmp[col])\n",
    "    trs.append(tr)\n",
    "\n",
    "fig.append_trace(trs[0], 1, 1)\n",
    "fig.append_trace(trs[1], 1, 2)\n",
    "fig.append_trace(trs[2], 2, 1)\n",
    "fig.append_trace(trs[3], 2, 2)\n",
    "fig.append_trace(trs[4], 3, 1)\n",
    "\n",
    "fig['layout'].update(height=600,width=1000, showlegend=False)\n",
    "iplot(fig)"
   ]
  },
  {
   "cell_type": "code",
   "execution_count": 154,
   "metadata": {},
   "outputs": [
    {
     "data": {
      "application/vnd.plotly.v1+json": {
       "data": [
        {
         "marker": {
          "color": "red"
         },
         "orientation": "h",
         "type": "bar",
         "uid": "89e419be-d252-11e8-99ad-f0189804b8bf",
         "x": [
          508229,
          201766,
          95913,
          26917,
          12571,
          9995,
          7642,
          7585,
          3790,
          3380,
          2628,
          2475,
          2463,
          2403,
          2227
         ],
         "xaxis": "x",
         "y": [
          "not available in demo dataset",
          "(not set)",
          "San Francisco-Oakland-San Jose CA",
          "New York NY",
          "London",
          "Los Angeles CA",
          "Seattle-Tacoma WA",
          "Chicago IL",
          "Austin TX",
          "Washington DC (Hagerstown MD)",
          "Boston MA-Manchester NH",
          "Houston TX",
          "Atlanta GA",
          "Detroit MI",
          "Roanoke-Lynchburg VA"
         ],
         "yaxis": "y"
        },
        {
         "marker": {
          "color": "green"
         },
         "orientation": "h",
         "type": "bar",
         "uid": "89e47c7e-d252-11e8-b40c-f0189804b8bf",
         "x": [
          508229,
          40884,
          34262,
          26371,
          20329,
          13086,
          12607,
          10295,
          8670,
          7709,
          7444,
          7342,
          6330,
          5468,
          5223
         ],
         "xaxis": "x2",
         "y": [
          "not available in demo dataset",
          "Mountain View",
          "(not set)",
          "New York",
          "San Francisco",
          "Sunnyvale",
          "London",
          "San Jose",
          "Los Angeles",
          "Bangkok",
          "Chicago",
          "Ho Chi Minh City",
          "Istanbul",
          "Bengaluru",
          "Toronto"
         ],
         "yaxis": "y2"
        },
        {
         "marker": {
          "color": "purple"
         },
         "orientation": "h",
         "type": "bar",
         "uid": "89e4da02-d252-11e8-aeb7-f0189804b8bf",
         "x": [
          364744,
          51140,
          37393,
          25869,
          24598,
          20522,
          20123,
          19980,
          19783,
          19731,
          15832,
          13225,
          12996,
          12698,
          11662
         ],
         "xaxis": "x3",
         "y": [
          "United States",
          "India",
          "United Kingdom",
          "Canada",
          "Vietnam",
          "Turkey",
          "Thailand",
          "Germany",
          "Brazil",
          "Japan",
          "France",
          "Mexico",
          "Taiwan",
          "Australia",
          "Russia"
         ],
         "yaxis": "y3"
        },
        {
         "marker": {
          "color": "blue"
         },
         "orientation": "h",
         "type": "bar",
         "uid": "89e53894-d252-11e8-aa3e-f0189804b8bf",
         "x": [
          390657,
          77800,
          59321,
          59114,
          58168,
          46919,
          45249,
          41731,
          38443,
          35780,
          15583,
          14893,
          7683,
          2573,
          2406
         ],
         "xaxis": "x4",
         "y": [
          "Northern America",
          "Southeast Asia",
          "Southern Asia",
          "Western Europe",
          "Northern Europe",
          "Eastern Asia",
          "Eastern Europe",
          "South America",
          "Western Asia",
          "Southern Europe",
          "Central America",
          "Australasia",
          "Northern Africa",
          "Western Africa",
          "Caribbean"
         ],
         "yaxis": "y4"
        },
        {
         "marker": {
          "color": "yellow"
         },
         "orientation": "h",
         "type": "bar",
         "uid": "89e59d3e-d252-11e8-8f12-f0189804b8bf",
         "x": [
          450377,
          223698,
          198311,
          15054,
          14745,
          1468
         ],
         "xaxis": "x5",
         "y": [
          "Americas",
          "Asia",
          "Europe",
          "Oceania",
          "Africa",
          "(not set)"
         ],
         "yaxis": "y5"
        }
       ],
       "layout": {
        "annotations": [
         {
          "font": {
           "size": 16
          },
          "showarrow": false,
          "text": "Count: Metro",
          "x": 0.225,
          "xanchor": "center",
          "xref": "paper",
          "y": 1,
          "yanchor": "bottom",
          "yref": "paper"
         },
         {
          "font": {
           "size": 16
          },
          "showarrow": false,
          "text": "Count: City",
          "x": 0.775,
          "xanchor": "center",
          "xref": "paper",
          "y": 1,
          "yanchor": "bottom",
          "yref": "paper"
         },
         {
          "font": {
           "size": 16
          },
          "showarrow": false,
          "text": "Count: Country",
          "x": 0.225,
          "xanchor": "center",
          "xref": "paper",
          "y": 0.6111111111111112,
          "yanchor": "bottom",
          "yref": "paper"
         },
         {
          "font": {
           "size": 16
          },
          "showarrow": false,
          "text": "Count: Sub Continent",
          "x": 0.775,
          "xanchor": "center",
          "xref": "paper",
          "y": 0.6111111111111112,
          "yanchor": "bottom",
          "yref": "paper"
         },
         {
          "font": {
           "size": 16
          },
          "showarrow": false,
          "text": "Count: Continent",
          "x": 0.225,
          "xanchor": "center",
          "xref": "paper",
          "y": 0.22222222222222224,
          "yanchor": "bottom",
          "yref": "paper"
         }
        ],
        "height": 600,
        "showlegend": false,
        "width": 1000,
        "xaxis": {
         "anchor": "y",
         "domain": [
          0,
          0.45
         ]
        },
        "xaxis2": {
         "anchor": "y2",
         "domain": [
          0.55,
          1
         ]
        },
        "xaxis3": {
         "anchor": "y3",
         "domain": [
          0,
          0.45
         ]
        },
        "xaxis4": {
         "anchor": "y4",
         "domain": [
          0.55,
          1
         ]
        },
        "xaxis5": {
         "anchor": "y5",
         "domain": [
          0,
          0.45
         ]
        },
        "xaxis6": {
         "anchor": "y6",
         "domain": [
          0.55,
          1
         ]
        },
        "yaxis": {
         "anchor": "x",
         "domain": [
          0.7777777777777778,
          1
         ]
        },
        "yaxis2": {
         "anchor": "x2",
         "domain": [
          0.7777777777777778,
          1
         ]
        },
        "yaxis3": {
         "anchor": "x3",
         "domain": [
          0.3888888888888889,
          0.6111111111111112
         ]
        },
        "yaxis4": {
         "anchor": "x4",
         "domain": [
          0.3888888888888889,
          0.6111111111111112
         ]
        },
        "yaxis5": {
         "anchor": "x5",
         "domain": [
          0,
          0.22222222222222224
         ]
        },
        "yaxis6": {
         "anchor": "x6",
         "domain": [
          0,
          0.22222222222222224
         ]
        }
       }
      },
      "text/html": [
       "<div id=\"64791287-ed00-4859-98fc-09d1c04346ea\" style=\"height: 600px; width: 1000px;\" class=\"plotly-graph-div\"></div><script type=\"text/javascript\">require([\"plotly\"], function(Plotly) { window.PLOTLYENV=window.PLOTLYENV || {};window.PLOTLYENV.BASE_URL=\"https://plot.ly\";Plotly.newPlot(\"64791287-ed00-4859-98fc-09d1c04346ea\", [{\"marker\": {\"color\": \"red\"}, \"orientation\": \"h\", \"x\": [508229, 201766, 95913, 26917, 12571, 9995, 7642, 7585, 3790, 3380, 2628, 2475, 2463, 2403, 2227], \"y\": [\"not available in demo dataset\", \"(not set)\", \"San Francisco-Oakland-San Jose CA\", \"New York NY\", \"London\", \"Los Angeles CA\", \"Seattle-Tacoma WA\", \"Chicago IL\", \"Austin TX\", \"Washington DC (Hagerstown MD)\", \"Boston MA-Manchester NH\", \"Houston TX\", \"Atlanta GA\", \"Detroit MI\", \"Roanoke-Lynchburg VA\"], \"type\": \"bar\", \"uid\": \"89e419be-d252-11e8-99ad-f0189804b8bf\", \"xaxis\": \"x\", \"yaxis\": \"y\"}, {\"marker\": {\"color\": \"green\"}, \"orientation\": \"h\", \"x\": [508229, 40884, 34262, 26371, 20329, 13086, 12607, 10295, 8670, 7709, 7444, 7342, 6330, 5468, 5223], \"y\": [\"not available in demo dataset\", \"Mountain View\", \"(not set)\", \"New York\", \"San Francisco\", \"Sunnyvale\", \"London\", \"San Jose\", \"Los Angeles\", \"Bangkok\", \"Chicago\", \"Ho Chi Minh City\", \"Istanbul\", \"Bengaluru\", \"Toronto\"], \"type\": \"bar\", \"uid\": \"89e47c7e-d252-11e8-b40c-f0189804b8bf\", \"xaxis\": \"x2\", \"yaxis\": \"y2\"}, {\"marker\": {\"color\": \"purple\"}, \"orientation\": \"h\", \"x\": [364744, 51140, 37393, 25869, 24598, 20522, 20123, 19980, 19783, 19731, 15832, 13225, 12996, 12698, 11662], \"y\": [\"United States\", \"India\", \"United Kingdom\", \"Canada\", \"Vietnam\", \"Turkey\", \"Thailand\", \"Germany\", \"Brazil\", \"Japan\", \"France\", \"Mexico\", \"Taiwan\", \"Australia\", \"Russia\"], \"type\": \"bar\", \"uid\": \"89e4da02-d252-11e8-aeb7-f0189804b8bf\", \"xaxis\": \"x3\", \"yaxis\": \"y3\"}, {\"marker\": {\"color\": \"blue\"}, \"orientation\": \"h\", \"x\": [390657, 77800, 59321, 59114, 58168, 46919, 45249, 41731, 38443, 35780, 15583, 14893, 7683, 2573, 2406], \"y\": [\"Northern America\", \"Southeast Asia\", \"Southern Asia\", \"Western Europe\", \"Northern Europe\", \"Eastern Asia\", \"Eastern Europe\", \"South America\", \"Western Asia\", \"Southern Europe\", \"Central America\", \"Australasia\", \"Northern Africa\", \"Western Africa\", \"Caribbean\"], \"type\": \"bar\", \"uid\": \"89e53894-d252-11e8-aa3e-f0189804b8bf\", \"xaxis\": \"x4\", \"yaxis\": \"y4\"}, {\"marker\": {\"color\": \"yellow\"}, \"orientation\": \"h\", \"x\": [450377, 223698, 198311, 15054, 14745, 1468], \"y\": [\"Americas\", \"Asia\", \"Europe\", \"Oceania\", \"Africa\", \"(not set)\"], \"type\": \"bar\", \"uid\": \"89e59d3e-d252-11e8-8f12-f0189804b8bf\", \"xaxis\": \"x5\", \"yaxis\": \"y5\"}], {\"annotations\": [{\"font\": {\"size\": 16}, \"showarrow\": false, \"text\": \"Count: Metro\", \"x\": 0.225, \"xanchor\": \"center\", \"xref\": \"paper\", \"y\": 1.0, \"yanchor\": \"bottom\", \"yref\": \"paper\"}, {\"font\": {\"size\": 16}, \"showarrow\": false, \"text\": \"Count: City\", \"x\": 0.775, \"xanchor\": \"center\", \"xref\": \"paper\", \"y\": 1.0, \"yanchor\": \"bottom\", \"yref\": \"paper\"}, {\"font\": {\"size\": 16}, \"showarrow\": false, \"text\": \"Count: Country\", \"x\": 0.225, \"xanchor\": \"center\", \"xref\": \"paper\", \"y\": 0.6111111111111112, \"yanchor\": \"bottom\", \"yref\": \"paper\"}, {\"font\": {\"size\": 16}, \"showarrow\": false, \"text\": \"Count: Sub Continent\", \"x\": 0.775, \"xanchor\": \"center\", \"xref\": \"paper\", \"y\": 0.6111111111111112, \"yanchor\": \"bottom\", \"yref\": \"paper\"}, {\"font\": {\"size\": 16}, \"showarrow\": false, \"text\": \"Count: Continent\", \"x\": 0.225, \"xanchor\": \"center\", \"xref\": \"paper\", \"y\": 0.22222222222222224, \"yanchor\": \"bottom\", \"yref\": \"paper\"}], \"xaxis\": {\"anchor\": \"y\", \"domain\": [0.0, 0.45]}, \"yaxis\": {\"anchor\": \"x\", \"domain\": [0.7777777777777778, 1.0]}, \"xaxis2\": {\"anchor\": \"y2\", \"domain\": [0.55, 1.0]}, \"yaxis2\": {\"anchor\": \"x2\", \"domain\": [0.7777777777777778, 1.0]}, \"xaxis3\": {\"anchor\": \"y3\", \"domain\": [0.0, 0.45]}, \"yaxis3\": {\"anchor\": \"x3\", \"domain\": [0.3888888888888889, 0.6111111111111112]}, \"xaxis4\": {\"anchor\": \"y4\", \"domain\": [0.55, 1.0]}, \"yaxis4\": {\"anchor\": \"x4\", \"domain\": [0.3888888888888889, 0.6111111111111112]}, \"xaxis5\": {\"anchor\": \"y5\", \"domain\": [0.0, 0.45]}, \"yaxis5\": {\"anchor\": \"x5\", \"domain\": [0.0, 0.22222222222222224]}, \"xaxis6\": {\"anchor\": \"y6\", \"domain\": [0.55, 1.0]}, \"yaxis6\": {\"anchor\": \"x6\", \"domain\": [0.0, 0.22222222222222224]}, \"height\": 600, \"width\": 1000, \"showlegend\": false}, {\"showLink\": true, \"linkText\": \"Export to plot.ly\"})});</script>"
      ],
      "text/vnd.plotly.v1+html": [
       "<div id=\"64791287-ed00-4859-98fc-09d1c04346ea\" style=\"height: 600px; width: 1000px;\" class=\"plotly-graph-div\"></div><script type=\"text/javascript\">require([\"plotly\"], function(Plotly) { window.PLOTLYENV=window.PLOTLYENV || {};window.PLOTLYENV.BASE_URL=\"https://plot.ly\";Plotly.newPlot(\"64791287-ed00-4859-98fc-09d1c04346ea\", [{\"marker\": {\"color\": \"red\"}, \"orientation\": \"h\", \"x\": [508229, 201766, 95913, 26917, 12571, 9995, 7642, 7585, 3790, 3380, 2628, 2475, 2463, 2403, 2227], \"y\": [\"not available in demo dataset\", \"(not set)\", \"San Francisco-Oakland-San Jose CA\", \"New York NY\", \"London\", \"Los Angeles CA\", \"Seattle-Tacoma WA\", \"Chicago IL\", \"Austin TX\", \"Washington DC (Hagerstown MD)\", \"Boston MA-Manchester NH\", \"Houston TX\", \"Atlanta GA\", \"Detroit MI\", \"Roanoke-Lynchburg VA\"], \"type\": \"bar\", \"uid\": \"89e419be-d252-11e8-99ad-f0189804b8bf\", \"xaxis\": \"x\", \"yaxis\": \"y\"}, {\"marker\": {\"color\": \"green\"}, \"orientation\": \"h\", \"x\": [508229, 40884, 34262, 26371, 20329, 13086, 12607, 10295, 8670, 7709, 7444, 7342, 6330, 5468, 5223], \"y\": [\"not available in demo dataset\", \"Mountain View\", \"(not set)\", \"New York\", \"San Francisco\", \"Sunnyvale\", \"London\", \"San Jose\", \"Los Angeles\", \"Bangkok\", \"Chicago\", \"Ho Chi Minh City\", \"Istanbul\", \"Bengaluru\", \"Toronto\"], \"type\": \"bar\", \"uid\": \"89e47c7e-d252-11e8-b40c-f0189804b8bf\", \"xaxis\": \"x2\", \"yaxis\": \"y2\"}, {\"marker\": {\"color\": \"purple\"}, \"orientation\": \"h\", \"x\": [364744, 51140, 37393, 25869, 24598, 20522, 20123, 19980, 19783, 19731, 15832, 13225, 12996, 12698, 11662], \"y\": [\"United States\", \"India\", \"United Kingdom\", \"Canada\", \"Vietnam\", \"Turkey\", \"Thailand\", \"Germany\", \"Brazil\", \"Japan\", \"France\", \"Mexico\", \"Taiwan\", \"Australia\", \"Russia\"], \"type\": \"bar\", \"uid\": \"89e4da02-d252-11e8-aeb7-f0189804b8bf\", \"xaxis\": \"x3\", \"yaxis\": \"y3\"}, {\"marker\": {\"color\": \"blue\"}, \"orientation\": \"h\", \"x\": [390657, 77800, 59321, 59114, 58168, 46919, 45249, 41731, 38443, 35780, 15583, 14893, 7683, 2573, 2406], \"y\": [\"Northern America\", \"Southeast Asia\", \"Southern Asia\", \"Western Europe\", \"Northern Europe\", \"Eastern Asia\", \"Eastern Europe\", \"South America\", \"Western Asia\", \"Southern Europe\", \"Central America\", \"Australasia\", \"Northern Africa\", \"Western Africa\", \"Caribbean\"], \"type\": \"bar\", \"uid\": \"89e53894-d252-11e8-aa3e-f0189804b8bf\", \"xaxis\": \"x4\", \"yaxis\": \"y4\"}, {\"marker\": {\"color\": \"yellow\"}, \"orientation\": \"h\", \"x\": [450377, 223698, 198311, 15054, 14745, 1468], \"y\": [\"Americas\", \"Asia\", \"Europe\", \"Oceania\", \"Africa\", \"(not set)\"], \"type\": \"bar\", \"uid\": \"89e59d3e-d252-11e8-8f12-f0189804b8bf\", \"xaxis\": \"x5\", \"yaxis\": \"y5\"}], {\"annotations\": [{\"font\": {\"size\": 16}, \"showarrow\": false, \"text\": \"Count: Metro\", \"x\": 0.225, \"xanchor\": \"center\", \"xref\": \"paper\", \"y\": 1.0, \"yanchor\": \"bottom\", \"yref\": \"paper\"}, {\"font\": {\"size\": 16}, \"showarrow\": false, \"text\": \"Count: City\", \"x\": 0.775, \"xanchor\": \"center\", \"xref\": \"paper\", \"y\": 1.0, \"yanchor\": \"bottom\", \"yref\": \"paper\"}, {\"font\": {\"size\": 16}, \"showarrow\": false, \"text\": \"Count: Country\", \"x\": 0.225, \"xanchor\": \"center\", \"xref\": \"paper\", \"y\": 0.6111111111111112, \"yanchor\": \"bottom\", \"yref\": \"paper\"}, {\"font\": {\"size\": 16}, \"showarrow\": false, \"text\": \"Count: Sub Continent\", \"x\": 0.775, \"xanchor\": \"center\", \"xref\": \"paper\", \"y\": 0.6111111111111112, \"yanchor\": \"bottom\", \"yref\": \"paper\"}, {\"font\": {\"size\": 16}, \"showarrow\": false, \"text\": \"Count: Continent\", \"x\": 0.225, \"xanchor\": \"center\", \"xref\": \"paper\", \"y\": 0.22222222222222224, \"yanchor\": \"bottom\", \"yref\": \"paper\"}], \"xaxis\": {\"anchor\": \"y\", \"domain\": [0.0, 0.45]}, \"yaxis\": {\"anchor\": \"x\", \"domain\": [0.7777777777777778, 1.0]}, \"xaxis2\": {\"anchor\": \"y2\", \"domain\": [0.55, 1.0]}, \"yaxis2\": {\"anchor\": \"x2\", \"domain\": [0.7777777777777778, 1.0]}, \"xaxis3\": {\"anchor\": \"y3\", \"domain\": [0.0, 0.45]}, \"yaxis3\": {\"anchor\": \"x3\", \"domain\": [0.3888888888888889, 0.6111111111111112]}, \"xaxis4\": {\"anchor\": \"y4\", \"domain\": [0.55, 1.0]}, \"yaxis4\": {\"anchor\": \"x4\", \"domain\": [0.3888888888888889, 0.6111111111111112]}, \"xaxis5\": {\"anchor\": \"y5\", \"domain\": [0.0, 0.45]}, \"yaxis5\": {\"anchor\": \"x5\", \"domain\": [0.0, 0.22222222222222224]}, \"xaxis6\": {\"anchor\": \"y6\", \"domain\": [0.55, 1.0]}, \"yaxis6\": {\"anchor\": \"x6\", \"domain\": [0.0, 0.22222222222222224]}, \"height\": 600, \"width\": 1000, \"showlegend\": false}, {\"showLink\": true, \"linkText\": \"Export to plot.ly\"})});</script>"
      ]
     },
     "metadata": {},
     "output_type": "display_data"
    },
    {
     "data": {
      "application/vnd.plotly.v1+json": {
       "data": [
        {
         "marker": {
          "color": "red",
          "opacity": 0.5
         },
         "orientation": "h",
         "type": "bar",
         "uid": "8b34b6b6-d252-11e8-82fd-f0189804b8bf",
         "x": [
          157571375.464684,
          177472929.2929293,
          99071333.33333333,
          27980000,
          166969632.3529412,
          85143333.33333333,
          115026923.07692307,
          172370874.70449173,
          86980000,
          33355000,
          78959615.38461539,
          89030250,
          137620876.28865978,
          24990000,
          79570000,
          16990000,
          97350178.57142857,
          6990000,
          24680000,
          53098000,
          74990000,
          132727272.72727273,
          149656763.8483965,
          57265000,
          398890000,
          48518333.333333336,
          215839090.9090909,
          145795836.62714097,
          45105000,
          41725000,
          115401818.18181819,
          159545714.2857143,
          52960769.23076923,
          90741538.46153846,
          180210000,
          15960000,
          387998596.49122804,
          181900000,
          30480000,
          32433000,
          95100256.41025642,
          109639071.59986296,
          104702232.14285715,
          16950000,
          108271122.44897959,
          141114022.7123826
         ],
         "xaxis": "x",
         "y": [
          "(not set)",
          "Atlanta GA",
          "Austin TX",
          "Baltimore MD",
          "Boston MA-Manchester NH",
          "Charleston SC",
          "Charlotte NC",
          "Chicago IL",
          "Cincinnati OH",
          "Columbus OH",
          "Dallas-Ft. Worth TX",
          "Denver CO",
          "Detroit MI",
          "El Paso TX",
          "Fresno-Visalia CA",
          "Hartford & New Haven CT",
          "Houston TX",
          "Indianapolis IN",
          "Jacksonville FL",
          "Kansas City MO",
          "Las Vegas NV",
          "London",
          "Los Angeles CA",
          "Miami-Ft. Lauderdale FL",
          "Milwaukee WI",
          "Minneapolis-St. Paul MN",
          "Nashville TN",
          "New York NY",
          "Omaha NE",
          "Orlando-Daytona Beach-Melbourne FL",
          "Philadelphia PA",
          "Phoenix AZ",
          "Pittsburgh PA",
          "Portland OR",
          "Providence-New Bedford,MA",
          "Raleigh-Durham (Fayetteville) NC",
          "Roanoke-Lynchburg VA",
          "Sacramento-Stockton-Modesto CA",
          "Salt Lake City UT",
          "San Antonio TX",
          "San Diego CA",
          "San Francisco-Oakland-San Jose CA",
          "Seattle-Tacoma WA",
          "Syracuse NY",
          "Washington DC (Hagerstown MD)",
          "not available in demo dataset"
         ],
         "yaxis": "y"
        },
        {
         "marker": {
          "color": "green",
          "opacity": 0.5
         },
         "orientation": "h",
         "type": "bar",
         "uid": "8b352006-d252-11e8-b656-f0189804b8bf",
         "x": [
          88879387.75510204,
          23430000,
          19190000,
          138225233.16062176,
          26580000,
          178376224.48979592,
          94355000,
          99071333.33333333,
          82460000,
          200040000,
          17980000,
          104640000,
          191200000,
          64980000,
          256200000,
          34990000,
          91005294.11764705,
          57925000,
          62666250,
          75960000,
          17950000,
          438840000,
          177821680.6722689,
          120547500,
          172641066.3507109,
          86980000,
          33355000,
          51847500,
          52871111.11111111,
          59450000,
          84177333.33333333,
          20980000,
          253090000,
          24143333.333333332,
          27980000,
          24990000,
          58350000,
          794560000,
          313075000,
          57697894.7368421,
          50000000,
          85143333.33333333,
          63600000,
          16990000,
          196720000,
          97350178.57142857,
          6990000,
          169384905.66037735,
          51205000,
          24680000,
          188925714.2857143,
          97880833.33333333,
          53098000,
          73728217.82178217,
          27180000,
          157283333.33333334,
          38000000,
          40831666.666666664,
          74990000,
          48780000,
          132727272.72727273,
          144970000,
          152996944.44444445,
          194692500,
          74380000,
          127167142.85714285,
          57265000,
          118550714.28571428,
          398890000,
          1168616666.6666667,
          48518333.333333336,
          38571818.18181818,
          104304119.10669975,
          1500000,
          215839090.9090909,
          54800000,
          146177629.48207173,
          180210000,
          107728571.42857143,
          38362500,
          41725000,
          96470000,
          73418958.33333333,
          159580000,
          115401818.18181819,
          211967000,
          52960769.23076923,
          39320000,
          153943333.33333334,
          44790000,
          16990000,
          357160000,
          15960000,
          130435000,
          116712857.14285715,
          44185000,
          458540000,
          181900000,
          387998596.49122804,
          30480000,
          32433000,
          146051456.3106796,
          96718947.36842105,
          138373058.98491085,
          92718712.87128712,
          33590000,
          91749090.9090909,
          88950000,
          105026250,
          101870000,
          80267142.85714285,
          59990000,
          118382324.56140351,
          111132000,
          101142500,
          74900000,
          62600000,
          86579296.7032967,
          108883333.33333333,
          16950000,
          16990000,
          31606666.666666668,
          28492500,
          10990000,
          259725468.75,
          320200000,
          46906666.666666664,
          59990000,
          356790000,
          55170000,
          108271122.44897959,
          28880000,
          47886666.666666664,
          141114022.7123826
         ],
         "xaxis": "x2",
         "y": [
          "(not set)",
          "Ahmedabad",
          "Amsterdam",
          "Ann Arbor",
          "Athens",
          "Atlanta",
          "Atwater",
          "Austin",
          "Bangkok",
          "Barcelona",
          "Barrie",
          "Bellevue",
          "Bengaluru",
          "Berkeley",
          "Berlin",
          "Bogota",
          "Boston",
          "Bothell",
          "Boulder",
          "Bucharest",
          "Buenos Aires",
          "Calgary",
          "Cambridge",
          "Charlotte",
          "Chicago",
          "Cincinnati",
          "Columbus",
          "Council Bluffs",
          "Cupertino",
          "Dallas",
          "Denver",
          "Detroit",
          "Dubai",
          "Dublin",
          "Dundalk",
          "El Paso",
          "Evanston",
          "Fort Collins",
          "Fort Worth",
          "Fremont",
          "Fresno",
          "Goose Creek",
          "Hamburg",
          "Hamden",
          "Hong Kong",
          "Houston",
          "Indianapolis",
          "Irvine",
          "Istanbul",
          "Jacksonville",
          "Jakarta",
          "Jersey City",
          "Kansas City",
          "Kirkland",
          "Kitchener",
          "Kuala Lumpur",
          "La Victoria",
          "Lake Oswego",
          "Las Vegas",
          "Lenoir",
          "London",
          "Los Angeles",
          "Maracaibo",
          "Melbourne",
          "Menlo Park",
          "Mexico City",
          "Miami",
          "Milpitas",
          "Milwaukee",
          "Minato",
          "Minneapolis",
          "Montreal",
          "Mountain View",
          "Mumbai",
          "Nashville",
          "New Delhi",
          "New York",
          "North Attleborough",
          "Oakland",
          "Omaha",
          "Orlando",
          "Ottawa",
          "Palo Alto",
          "Paris",
          "Philadelphia",
          "Phoenix",
          "Pittsburgh",
          "Pleasanton",
          "Portland",
          "Prague",
          "Quezon City",
          "Quito",
          "Raleigh",
          "Redmond",
          "Redwood City",
          "Rio de Janeiro",
          "Riverside",
          "Sacramento",
          "Salem",
          "Salt Lake City",
          "San Antonio",
          "San Bruno",
          "San Diego",
          "San Francisco",
          "San Jose",
          "San Marcos",
          "San Mateo",
          "Sandy Springs",
          "Santa Clara",
          "Santiago",
          "Sao Paulo",
          "Saratoga",
          "Seattle",
          "Seoul",
          "Singapore",
          "South San Francisco",
          "Stockholm",
          "Sunnyvale",
          "Sydney",
          "Syracuse",
          "Tbilisi",
          "Tel Aviv-Yafo",
          "Tempe",
          "Tigard",
          "Toronto",
          "Tunis",
          "Vancouver",
          "Vienna",
          "Walnut Creek",
          "Warsaw",
          "Washington",
          "Yokohama",
          "Zurich",
          "not available in demo dataset"
         ],
         "yaxis": "y2"
        },
        {
         "marker": {
          "color": "purple",
          "opacity": 0.5
         },
         "orientation": "h",
         "type": "bar",
         "uid": "8b3581fe-d252-11e8-823a-f0189804b8bf",
         "x": [
          128296666.66666667,
          10990000,
          52488000,
          30480000,
          134250769.23076922,
          198410000,
          64183000,
          172760736.84210527,
          49452000,
          35278333.333333336,
          75608750,
          206330000,
          75440000,
          44790000,
          25000000,
          168732500,
          50960000,
          76890000,
          29490000,
          89216000,
          19490000,
          68667500,
          53110000,
          27180000,
          30075000,
          163106666.66666666,
          33590000,
          69666000,
          167307272.72727272,
          24143333.333333332,
          103266666.66666667,
          102045000,
          395822941.1764706,
          17490000,
          1756233333.3333333,
          119110000,
          40770000,
          157283333.33333334,
          79639500,
          86350000,
          47970000,
          63990000,
          1651200000,
          57950000,
          55865000,
          63790000,
          46010000,
          76666666.66666667,
          215800000,
          109349090.9090909,
          75960000,
          23735000,
          88360000,
          84302000,
          32850000,
          93213750,
          192395000,
          58105000,
          37795000,
          66202222.222222224,
          101099473.68421052,
          92542000,
          51205000,
          116880000,
          123353333.33333333,
          105590625,
          132606651.14580481,
          3500000,
          212300000
         ],
         "xaxis": "x3",
         "y": [
          "(not set)",
          "Anguilla",
          "Argentina",
          "Armenia",
          "Australia",
          "Belgium",
          "Brazil",
          "Canada",
          "Chile",
          "China",
          "Colombia",
          "Curaçao",
          "Cyprus",
          "Czechia",
          "Denmark",
          "Ecuador",
          "Egypt",
          "El Salvador",
          "Finland",
          "France",
          "Georgia",
          "Germany",
          "Greece",
          "Guadeloupe",
          "Guatemala",
          "Hong Kong",
          "Hungary",
          "India",
          "Indonesia",
          "Ireland",
          "Israel",
          "Italy",
          "Japan",
          "Kazakhstan",
          "Kenya",
          "Kuwait",
          "Lebanon",
          "Malaysia",
          "Mexico",
          "Netherlands",
          "New Zealand",
          "Nicaragua",
          "Nigeria",
          "Pakistan",
          "Panama",
          "Peru",
          "Philippines",
          "Poland",
          "Portugal",
          "Puerto Rico",
          "Romania",
          "Russia",
          "Saudi Arabia",
          "Singapore",
          "South Africa",
          "South Korea",
          "Spain",
          "St. Lucia",
          "Sweden",
          "Switzerland",
          "Taiwan",
          "Thailand",
          "Turkey",
          "Ukraine",
          "United Arab Emirates",
          "United Kingdom",
          "United States",
          "Uruguay",
          "Venezuela"
         ],
         "yaxis": "y3"
        },
        {
         "marker": {
          "color": "blue",
          "opacity": 0.5
         },
         "orientation": "h",
         "type": "bar",
         "uid": "8b35e194-d252-11e8-8627-f0189804b8bf",
         "x": [
          128296666.66666667,
          128087857.14285715,
          97721875,
          73290384.61538461,
          17490000,
          1756233333.3333333,
          187715593.22033897,
          67628571.42857143,
          50960000,
          133291321.00870502,
          73847407.4074074,
          162625612.24489796,
          117374687.5,
          32850000,
          68600909.0909091,
          120501250,
          1651200000,
          84811428.57142857,
          94744666.66666667
         ],
         "xaxis": "x4",
         "y": [
          "(not set)",
          "Australasia",
          "Caribbean",
          "Central America",
          "Central Asia",
          "Eastern Africa",
          "Eastern Asia",
          "Eastern Europe",
          "Northern Africa",
          "Northern America",
          "Northern Europe",
          "South America",
          "Southeast Asia",
          "Southern Africa",
          "Southern Asia",
          "Southern Europe",
          "Western Africa",
          "Western Asia",
          "Western Europe"
         ],
         "yaxis": "y4"
        },
        {
         "marker": {
          "color": "yellow",
          "opacity": 0.5
         },
         "orientation": "h",
         "type": "bar",
         "uid": "8b364026-d252-11e8-b0d0-f0189804b8bf",
         "x": [
          128296666.66666667,
          1085970000,
          133357404.94549322,
          139214720,
          85405443.03797469,
          128087857.14285715
         ],
         "xaxis": "x5",
         "y": [
          "(not set)",
          "Africa",
          "Americas",
          "Asia",
          "Europe",
          "Oceania"
         ],
         "yaxis": "y5"
        }
       ],
       "layout": {
        "annotations": [
         {
          "font": {
           "size": 16
          },
          "showarrow": false,
          "text": "Avg NonZero TranRevenue by Metro",
          "x": 0.225,
          "xanchor": "center",
          "xref": "paper",
          "y": 1,
          "yanchor": "bottom",
          "yref": "paper"
         },
         {
          "font": {
           "size": 16
          },
          "showarrow": false,
          "text": "Avg NonZero TranRevenue by City",
          "x": 0.775,
          "xanchor": "center",
          "xref": "paper",
          "y": 1,
          "yanchor": "bottom",
          "yref": "paper"
         },
         {
          "font": {
           "size": 16
          },
          "showarrow": false,
          "text": "Avg NonZero TranRevenue by Country",
          "x": 0.225,
          "xanchor": "center",
          "xref": "paper",
          "y": 0.6111111111111112,
          "yanchor": "bottom",
          "yref": "paper"
         },
         {
          "font": {
           "size": 16
          },
          "showarrow": false,
          "text": "Avg NonZero TranRevenue by Sub-Continent",
          "x": 0.775,
          "xanchor": "center",
          "xref": "paper",
          "y": 0.6111111111111112,
          "yanchor": "bottom",
          "yref": "paper"
         },
         {
          "font": {
           "size": 16
          },
          "showarrow": false,
          "text": "Avg NonZero TranRevenue by Continent",
          "x": 0.225,
          "xanchor": "center",
          "xref": "paper",
          "y": 0.22222222222222224,
          "yanchor": "bottom",
          "yref": "paper"
         }
        ],
        "height": 600,
        "showlegend": false,
        "width": 1000,
        "xaxis": {
         "anchor": "y",
         "domain": [
          0,
          0.45
         ]
        },
        "xaxis2": {
         "anchor": "y2",
         "domain": [
          0.55,
          1
         ]
        },
        "xaxis3": {
         "anchor": "y3",
         "domain": [
          0,
          0.45
         ]
        },
        "xaxis4": {
         "anchor": "y4",
         "domain": [
          0.55,
          1
         ]
        },
        "xaxis5": {
         "anchor": "y5",
         "domain": [
          0,
          0.45
         ]
        },
        "xaxis6": {
         "anchor": "y6",
         "domain": [
          0.55,
          1
         ]
        },
        "yaxis": {
         "anchor": "x",
         "domain": [
          0.7777777777777778,
          1
         ]
        },
        "yaxis2": {
         "anchor": "x2",
         "domain": [
          0.7777777777777778,
          1
         ]
        },
        "yaxis3": {
         "anchor": "x3",
         "domain": [
          0.3888888888888889,
          0.6111111111111112
         ]
        },
        "yaxis4": {
         "anchor": "x4",
         "domain": [
          0.3888888888888889,
          0.6111111111111112
         ]
        },
        "yaxis5": {
         "anchor": "x5",
         "domain": [
          0,
          0.22222222222222224
         ]
        },
        "yaxis6": {
         "anchor": "x6",
         "domain": [
          0,
          0.22222222222222224
         ]
        }
       }
      },
      "text/html": [
       "<div id=\"c6de2676-20fa-4cc5-8e34-34e8fe9fbaec\" style=\"height: 600px; width: 1000px;\" class=\"plotly-graph-div\"></div><script type=\"text/javascript\">require([\"plotly\"], function(Plotly) { window.PLOTLYENV=window.PLOTLYENV || {};window.PLOTLYENV.BASE_URL=\"https://plot.ly\";Plotly.newPlot(\"c6de2676-20fa-4cc5-8e34-34e8fe9fbaec\", [{\"marker\": {\"color\": \"red\", \"opacity\": 0.5}, \"orientation\": \"h\", \"x\": [157571375.464684, 177472929.2929293, 99071333.33333333, 27980000.0, 166969632.3529412, 85143333.33333333, 115026923.07692307, 172370874.70449173, 86980000.0, 33355000.0, 78959615.38461539, 89030250.0, 137620876.28865978, 24990000.0, 79570000.0, 16990000.0, 97350178.57142857, 6990000.0, 24680000.0, 53098000.0, 74990000.0, 132727272.72727273, 149656763.8483965, 57265000.0, 398890000.0, 48518333.333333336, 215839090.9090909, 145795836.62714097, 45105000.0, 41725000.0, 115401818.18181819, 159545714.2857143, 52960769.23076923, 90741538.46153846, 180210000.0, 15960000.0, 387998596.49122804, 181900000.0, 30480000.0, 32433000.0, 95100256.41025642, 109639071.59986296, 104702232.14285715, 16950000.0, 108271122.44897959, 141114022.7123826], \"y\": [\"(not set)\", \"Atlanta GA\", \"Austin TX\", \"Baltimore MD\", \"Boston MA-Manchester NH\", \"Charleston SC\", \"Charlotte NC\", \"Chicago IL\", \"Cincinnati OH\", \"Columbus OH\", \"Dallas-Ft. Worth TX\", \"Denver CO\", \"Detroit MI\", \"El Paso TX\", \"Fresno-Visalia CA\", \"Hartford & New Haven CT\", \"Houston TX\", \"Indianapolis IN\", \"Jacksonville FL\", \"Kansas City MO\", \"Las Vegas NV\", \"London\", \"Los Angeles CA\", \"Miami-Ft. Lauderdale FL\", \"Milwaukee WI\", \"Minneapolis-St. Paul MN\", \"Nashville TN\", \"New York NY\", \"Omaha NE\", \"Orlando-Daytona Beach-Melbourne FL\", \"Philadelphia PA\", \"Phoenix AZ\", \"Pittsburgh PA\", \"Portland OR\", \"Providence-New Bedford,MA\", \"Raleigh-Durham (Fayetteville) NC\", \"Roanoke-Lynchburg VA\", \"Sacramento-Stockton-Modesto CA\", \"Salt Lake City UT\", \"San Antonio TX\", \"San Diego CA\", \"San Francisco-Oakland-San Jose CA\", \"Seattle-Tacoma WA\", \"Syracuse NY\", \"Washington DC (Hagerstown MD)\", \"not available in demo dataset\"], \"type\": \"bar\", \"uid\": \"8b34b6b6-d252-11e8-82fd-f0189804b8bf\", \"xaxis\": \"x\", \"yaxis\": \"y\"}, {\"marker\": {\"color\": \"green\", \"opacity\": 0.5}, \"orientation\": \"h\", \"x\": [88879387.75510204, 23430000.0, 19190000.0, 138225233.16062176, 26580000.0, 178376224.48979592, 94355000.0, 99071333.33333333, 82460000.0, 200040000.0, 17980000.0, 104640000.0, 191200000.0, 64980000.0, 256200000.0, 34990000.0, 91005294.11764705, 57925000.0, 62666250.0, 75960000.0, 17950000.0, 438840000.0, 177821680.6722689, 120547500.0, 172641066.3507109, 86980000.0, 33355000.0, 51847500.0, 52871111.11111111, 59450000.0, 84177333.33333333, 20980000.0, 253090000.0, 24143333.333333332, 27980000.0, 24990000.0, 58350000.0, 794560000.0, 313075000.0, 57697894.7368421, 50000000.0, 85143333.33333333, 63600000.0, 16990000.0, 196720000.0, 97350178.57142857, 6990000.0, 169384905.66037735, 51205000.0, 24680000.0, 188925714.2857143, 97880833.33333333, 53098000.0, 73728217.82178217, 27180000.0, 157283333.33333334, 38000000.0, 40831666.666666664, 74990000.0, 48780000.0, 132727272.72727273, 144970000.0, 152996944.44444445, 194692500.0, 74380000.0, 127167142.85714285, 57265000.0, 118550714.28571428, 398890000.0, 1168616666.6666667, 48518333.333333336, 38571818.18181818, 104304119.10669975, 1500000.0, 215839090.9090909, 54800000.0, 146177629.48207173, 180210000.0, 107728571.42857143, 38362500.0, 41725000.0, 96470000.0, 73418958.33333333, 159580000.0, 115401818.18181819, 211967000.0, 52960769.23076923, 39320000.0, 153943333.33333334, 44790000.0, 16990000.0, 357160000.0, 15960000.0, 130435000.0, 116712857.14285715, 44185000.0, 458540000.0, 181900000.0, 387998596.49122804, 30480000.0, 32433000.0, 146051456.3106796, 96718947.36842105, 138373058.98491085, 92718712.87128712, 33590000.0, 91749090.9090909, 88950000.0, 105026250.0, 101870000.0, 80267142.85714285, 59990000.0, 118382324.56140351, 111132000.0, 101142500.0, 74900000.0, 62600000.0, 86579296.7032967, 108883333.33333333, 16950000.0, 16990000.0, 31606666.666666668, 28492500.0, 10990000.0, 259725468.75, 320200000.0, 46906666.666666664, 59990000.0, 356790000.0, 55170000.0, 108271122.44897959, 28880000.0, 47886666.666666664, 141114022.7123826], \"y\": [\"(not set)\", \"Ahmedabad\", \"Amsterdam\", \"Ann Arbor\", \"Athens\", \"Atlanta\", \"Atwater\", \"Austin\", \"Bangkok\", \"Barcelona\", \"Barrie\", \"Bellevue\", \"Bengaluru\", \"Berkeley\", \"Berlin\", \"Bogota\", \"Boston\", \"Bothell\", \"Boulder\", \"Bucharest\", \"Buenos Aires\", \"Calgary\", \"Cambridge\", \"Charlotte\", \"Chicago\", \"Cincinnati\", \"Columbus\", \"Council Bluffs\", \"Cupertino\", \"Dallas\", \"Denver\", \"Detroit\", \"Dubai\", \"Dublin\", \"Dundalk\", \"El Paso\", \"Evanston\", \"Fort Collins\", \"Fort Worth\", \"Fremont\", \"Fresno\", \"Goose Creek\", \"Hamburg\", \"Hamden\", \"Hong Kong\", \"Houston\", \"Indianapolis\", \"Irvine\", \"Istanbul\", \"Jacksonville\", \"Jakarta\", \"Jersey City\", \"Kansas City\", \"Kirkland\", \"Kitchener\", \"Kuala Lumpur\", \"La Victoria\", \"Lake Oswego\", \"Las Vegas\", \"Lenoir\", \"London\", \"Los Angeles\", \"Maracaibo\", \"Melbourne\", \"Menlo Park\", \"Mexico City\", \"Miami\", \"Milpitas\", \"Milwaukee\", \"Minato\", \"Minneapolis\", \"Montreal\", \"Mountain View\", \"Mumbai\", \"Nashville\", \"New Delhi\", \"New York\", \"North Attleborough\", \"Oakland\", \"Omaha\", \"Orlando\", \"Ottawa\", \"Palo Alto\", \"Paris\", \"Philadelphia\", \"Phoenix\", \"Pittsburgh\", \"Pleasanton\", \"Portland\", \"Prague\", \"Quezon City\", \"Quito\", \"Raleigh\", \"Redmond\", \"Redwood City\", \"Rio de Janeiro\", \"Riverside\", \"Sacramento\", \"Salem\", \"Salt Lake City\", \"San Antonio\", \"San Bruno\", \"San Diego\", \"San Francisco\", \"San Jose\", \"San Marcos\", \"San Mateo\", \"Sandy Springs\", \"Santa Clara\", \"Santiago\", \"Sao Paulo\", \"Saratoga\", \"Seattle\", \"Seoul\", \"Singapore\", \"South San Francisco\", \"Stockholm\", \"Sunnyvale\", \"Sydney\", \"Syracuse\", \"Tbilisi\", \"Tel Aviv-Yafo\", \"Tempe\", \"Tigard\", \"Toronto\", \"Tunis\", \"Vancouver\", \"Vienna\", \"Walnut Creek\", \"Warsaw\", \"Washington\", \"Yokohama\", \"Zurich\", \"not available in demo dataset\"], \"type\": \"bar\", \"uid\": \"8b352006-d252-11e8-b656-f0189804b8bf\", \"xaxis\": \"x2\", \"yaxis\": \"y2\"}, {\"marker\": {\"color\": \"purple\", \"opacity\": 0.5}, \"orientation\": \"h\", \"x\": [128296666.66666667, 10990000.0, 52488000.0, 30480000.0, 134250769.23076922, 198410000.0, 64183000.0, 172760736.84210527, 49452000.0, 35278333.333333336, 75608750.0, 206330000.0, 75440000.0, 44790000.0, 25000000.0, 168732500.0, 50960000.0, 76890000.0, 29490000.0, 89216000.0, 19490000.0, 68667500.0, 53110000.0, 27180000.0, 30075000.0, 163106666.66666666, 33590000.0, 69666000.0, 167307272.72727272, 24143333.333333332, 103266666.66666667, 102045000.0, 395822941.1764706, 17490000.0, 1756233333.3333333, 119110000.0, 40770000.0, 157283333.33333334, 79639500.0, 86350000.0, 47970000.0, 63990000.0, 1651200000.0, 57950000.0, 55865000.0, 63790000.0, 46010000.0, 76666666.66666667, 215800000.0, 109349090.9090909, 75960000.0, 23735000.0, 88360000.0, 84302000.0, 32850000.0, 93213750.0, 192395000.0, 58105000.0, 37795000.0, 66202222.222222224, 101099473.68421052, 92542000.0, 51205000.0, 116880000.0, 123353333.33333333, 105590625.0, 132606651.14580481, 3500000.0, 212300000.0], \"y\": [\"(not set)\", \"Anguilla\", \"Argentina\", \"Armenia\", \"Australia\", \"Belgium\", \"Brazil\", \"Canada\", \"Chile\", \"China\", \"Colombia\", \"Cura\\u00e7ao\", \"Cyprus\", \"Czechia\", \"Denmark\", \"Ecuador\", \"Egypt\", \"El Salvador\", \"Finland\", \"France\", \"Georgia\", \"Germany\", \"Greece\", \"Guadeloupe\", \"Guatemala\", \"Hong Kong\", \"Hungary\", \"India\", \"Indonesia\", \"Ireland\", \"Israel\", \"Italy\", \"Japan\", \"Kazakhstan\", \"Kenya\", \"Kuwait\", \"Lebanon\", \"Malaysia\", \"Mexico\", \"Netherlands\", \"New Zealand\", \"Nicaragua\", \"Nigeria\", \"Pakistan\", \"Panama\", \"Peru\", \"Philippines\", \"Poland\", \"Portugal\", \"Puerto Rico\", \"Romania\", \"Russia\", \"Saudi Arabia\", \"Singapore\", \"South Africa\", \"South Korea\", \"Spain\", \"St. Lucia\", \"Sweden\", \"Switzerland\", \"Taiwan\", \"Thailand\", \"Turkey\", \"Ukraine\", \"United Arab Emirates\", \"United Kingdom\", \"United States\", \"Uruguay\", \"Venezuela\"], \"type\": \"bar\", \"uid\": \"8b3581fe-d252-11e8-823a-f0189804b8bf\", \"xaxis\": \"x3\", \"yaxis\": \"y3\"}, {\"marker\": {\"color\": \"blue\", \"opacity\": 0.5}, \"orientation\": \"h\", \"x\": [128296666.66666667, 128087857.14285715, 97721875.0, 73290384.61538461, 17490000.0, 1756233333.3333333, 187715593.22033897, 67628571.42857143, 50960000.0, 133291321.00870502, 73847407.4074074, 162625612.24489796, 117374687.5, 32850000.0, 68600909.0909091, 120501250.0, 1651200000.0, 84811428.57142857, 94744666.66666667], \"y\": [\"(not set)\", \"Australasia\", \"Caribbean\", \"Central America\", \"Central Asia\", \"Eastern Africa\", \"Eastern Asia\", \"Eastern Europe\", \"Northern Africa\", \"Northern America\", \"Northern Europe\", \"South America\", \"Southeast Asia\", \"Southern Africa\", \"Southern Asia\", \"Southern Europe\", \"Western Africa\", \"Western Asia\", \"Western Europe\"], \"type\": \"bar\", \"uid\": \"8b35e194-d252-11e8-8627-f0189804b8bf\", \"xaxis\": \"x4\", \"yaxis\": \"y4\"}, {\"marker\": {\"color\": \"yellow\", \"opacity\": 0.5}, \"orientation\": \"h\", \"x\": [128296666.66666667, 1085970000.0, 133357404.94549322, 139214720.0, 85405443.03797469, 128087857.14285715], \"y\": [\"(not set)\", \"Africa\", \"Americas\", \"Asia\", \"Europe\", \"Oceania\"], \"type\": \"bar\", \"uid\": \"8b364026-d252-11e8-b0d0-f0189804b8bf\", \"xaxis\": \"x5\", \"yaxis\": \"y5\"}], {\"annotations\": [{\"font\": {\"size\": 16}, \"showarrow\": false, \"text\": \"Avg NonZero TranRevenue by Metro\", \"x\": 0.225, \"xanchor\": \"center\", \"xref\": \"paper\", \"y\": 1.0, \"yanchor\": \"bottom\", \"yref\": \"paper\"}, {\"font\": {\"size\": 16}, \"showarrow\": false, \"text\": \"Avg NonZero TranRevenue by City\", \"x\": 0.775, \"xanchor\": \"center\", \"xref\": \"paper\", \"y\": 1.0, \"yanchor\": \"bottom\", \"yref\": \"paper\"}, {\"font\": {\"size\": 16}, \"showarrow\": false, \"text\": \"Avg NonZero TranRevenue by Country\", \"x\": 0.225, \"xanchor\": \"center\", \"xref\": \"paper\", \"y\": 0.6111111111111112, \"yanchor\": \"bottom\", \"yref\": \"paper\"}, {\"font\": {\"size\": 16}, \"showarrow\": false, \"text\": \"Avg NonZero TranRevenue by Sub-Continent\", \"x\": 0.775, \"xanchor\": \"center\", \"xref\": \"paper\", \"y\": 0.6111111111111112, \"yanchor\": \"bottom\", \"yref\": \"paper\"}, {\"font\": {\"size\": 16}, \"showarrow\": false, \"text\": \"Avg NonZero TranRevenue by Continent\", \"x\": 0.225, \"xanchor\": \"center\", \"xref\": \"paper\", \"y\": 0.22222222222222224, \"yanchor\": \"bottom\", \"yref\": \"paper\"}], \"xaxis\": {\"anchor\": \"y\", \"domain\": [0.0, 0.45]}, \"yaxis\": {\"anchor\": \"x\", \"domain\": [0.7777777777777778, 1.0]}, \"xaxis2\": {\"anchor\": \"y2\", \"domain\": [0.55, 1.0]}, \"yaxis2\": {\"anchor\": \"x2\", \"domain\": [0.7777777777777778, 1.0]}, \"xaxis3\": {\"anchor\": \"y3\", \"domain\": [0.0, 0.45]}, \"yaxis3\": {\"anchor\": \"x3\", \"domain\": [0.3888888888888889, 0.6111111111111112]}, \"xaxis4\": {\"anchor\": \"y4\", \"domain\": [0.55, 1.0]}, \"yaxis4\": {\"anchor\": \"x4\", \"domain\": [0.3888888888888889, 0.6111111111111112]}, \"xaxis5\": {\"anchor\": \"y5\", \"domain\": [0.0, 0.45]}, \"yaxis5\": {\"anchor\": \"x5\", \"domain\": [0.0, 0.22222222222222224]}, \"xaxis6\": {\"anchor\": \"y6\", \"domain\": [0.55, 1.0]}, \"yaxis6\": {\"anchor\": \"x6\", \"domain\": [0.0, 0.22222222222222224]}, \"height\": 600, \"width\": 1000, \"showlegend\": false}, {\"showLink\": true, \"linkText\": \"Export to plot.ly\"})});</script>"
      ],
      "text/vnd.plotly.v1+html": [
       "<div id=\"c6de2676-20fa-4cc5-8e34-34e8fe9fbaec\" style=\"height: 600px; width: 1000px;\" class=\"plotly-graph-div\"></div><script type=\"text/javascript\">require([\"plotly\"], function(Plotly) { window.PLOTLYENV=window.PLOTLYENV || {};window.PLOTLYENV.BASE_URL=\"https://plot.ly\";Plotly.newPlot(\"c6de2676-20fa-4cc5-8e34-34e8fe9fbaec\", [{\"marker\": {\"color\": \"red\", \"opacity\": 0.5}, \"orientation\": \"h\", \"x\": [157571375.464684, 177472929.2929293, 99071333.33333333, 27980000.0, 166969632.3529412, 85143333.33333333, 115026923.07692307, 172370874.70449173, 86980000.0, 33355000.0, 78959615.38461539, 89030250.0, 137620876.28865978, 24990000.0, 79570000.0, 16990000.0, 97350178.57142857, 6990000.0, 24680000.0, 53098000.0, 74990000.0, 132727272.72727273, 149656763.8483965, 57265000.0, 398890000.0, 48518333.333333336, 215839090.9090909, 145795836.62714097, 45105000.0, 41725000.0, 115401818.18181819, 159545714.2857143, 52960769.23076923, 90741538.46153846, 180210000.0, 15960000.0, 387998596.49122804, 181900000.0, 30480000.0, 32433000.0, 95100256.41025642, 109639071.59986296, 104702232.14285715, 16950000.0, 108271122.44897959, 141114022.7123826], \"y\": [\"(not set)\", \"Atlanta GA\", \"Austin TX\", \"Baltimore MD\", \"Boston MA-Manchester NH\", \"Charleston SC\", \"Charlotte NC\", \"Chicago IL\", \"Cincinnati OH\", \"Columbus OH\", \"Dallas-Ft. Worth TX\", \"Denver CO\", \"Detroit MI\", \"El Paso TX\", \"Fresno-Visalia CA\", \"Hartford & New Haven CT\", \"Houston TX\", \"Indianapolis IN\", \"Jacksonville FL\", \"Kansas City MO\", \"Las Vegas NV\", \"London\", \"Los Angeles CA\", \"Miami-Ft. Lauderdale FL\", \"Milwaukee WI\", \"Minneapolis-St. Paul MN\", \"Nashville TN\", \"New York NY\", \"Omaha NE\", \"Orlando-Daytona Beach-Melbourne FL\", \"Philadelphia PA\", \"Phoenix AZ\", \"Pittsburgh PA\", \"Portland OR\", \"Providence-New Bedford,MA\", \"Raleigh-Durham (Fayetteville) NC\", \"Roanoke-Lynchburg VA\", \"Sacramento-Stockton-Modesto CA\", \"Salt Lake City UT\", \"San Antonio TX\", \"San Diego CA\", \"San Francisco-Oakland-San Jose CA\", \"Seattle-Tacoma WA\", \"Syracuse NY\", \"Washington DC (Hagerstown MD)\", \"not available in demo dataset\"], \"type\": \"bar\", \"uid\": \"8b34b6b6-d252-11e8-82fd-f0189804b8bf\", \"xaxis\": \"x\", \"yaxis\": \"y\"}, {\"marker\": {\"color\": \"green\", \"opacity\": 0.5}, \"orientation\": \"h\", \"x\": [88879387.75510204, 23430000.0, 19190000.0, 138225233.16062176, 26580000.0, 178376224.48979592, 94355000.0, 99071333.33333333, 82460000.0, 200040000.0, 17980000.0, 104640000.0, 191200000.0, 64980000.0, 256200000.0, 34990000.0, 91005294.11764705, 57925000.0, 62666250.0, 75960000.0, 17950000.0, 438840000.0, 177821680.6722689, 120547500.0, 172641066.3507109, 86980000.0, 33355000.0, 51847500.0, 52871111.11111111, 59450000.0, 84177333.33333333, 20980000.0, 253090000.0, 24143333.333333332, 27980000.0, 24990000.0, 58350000.0, 794560000.0, 313075000.0, 57697894.7368421, 50000000.0, 85143333.33333333, 63600000.0, 16990000.0, 196720000.0, 97350178.57142857, 6990000.0, 169384905.66037735, 51205000.0, 24680000.0, 188925714.2857143, 97880833.33333333, 53098000.0, 73728217.82178217, 27180000.0, 157283333.33333334, 38000000.0, 40831666.666666664, 74990000.0, 48780000.0, 132727272.72727273, 144970000.0, 152996944.44444445, 194692500.0, 74380000.0, 127167142.85714285, 57265000.0, 118550714.28571428, 398890000.0, 1168616666.6666667, 48518333.333333336, 38571818.18181818, 104304119.10669975, 1500000.0, 215839090.9090909, 54800000.0, 146177629.48207173, 180210000.0, 107728571.42857143, 38362500.0, 41725000.0, 96470000.0, 73418958.33333333, 159580000.0, 115401818.18181819, 211967000.0, 52960769.23076923, 39320000.0, 153943333.33333334, 44790000.0, 16990000.0, 357160000.0, 15960000.0, 130435000.0, 116712857.14285715, 44185000.0, 458540000.0, 181900000.0, 387998596.49122804, 30480000.0, 32433000.0, 146051456.3106796, 96718947.36842105, 138373058.98491085, 92718712.87128712, 33590000.0, 91749090.9090909, 88950000.0, 105026250.0, 101870000.0, 80267142.85714285, 59990000.0, 118382324.56140351, 111132000.0, 101142500.0, 74900000.0, 62600000.0, 86579296.7032967, 108883333.33333333, 16950000.0, 16990000.0, 31606666.666666668, 28492500.0, 10990000.0, 259725468.75, 320200000.0, 46906666.666666664, 59990000.0, 356790000.0, 55170000.0, 108271122.44897959, 28880000.0, 47886666.666666664, 141114022.7123826], \"y\": [\"(not set)\", \"Ahmedabad\", \"Amsterdam\", \"Ann Arbor\", \"Athens\", \"Atlanta\", \"Atwater\", \"Austin\", \"Bangkok\", \"Barcelona\", \"Barrie\", \"Bellevue\", \"Bengaluru\", \"Berkeley\", \"Berlin\", \"Bogota\", \"Boston\", \"Bothell\", \"Boulder\", \"Bucharest\", \"Buenos Aires\", \"Calgary\", \"Cambridge\", \"Charlotte\", \"Chicago\", \"Cincinnati\", \"Columbus\", \"Council Bluffs\", \"Cupertino\", \"Dallas\", \"Denver\", \"Detroit\", \"Dubai\", \"Dublin\", \"Dundalk\", \"El Paso\", \"Evanston\", \"Fort Collins\", \"Fort Worth\", \"Fremont\", \"Fresno\", \"Goose Creek\", \"Hamburg\", \"Hamden\", \"Hong Kong\", \"Houston\", \"Indianapolis\", \"Irvine\", \"Istanbul\", \"Jacksonville\", \"Jakarta\", \"Jersey City\", \"Kansas City\", \"Kirkland\", \"Kitchener\", \"Kuala Lumpur\", \"La Victoria\", \"Lake Oswego\", \"Las Vegas\", \"Lenoir\", \"London\", \"Los Angeles\", \"Maracaibo\", \"Melbourne\", \"Menlo Park\", \"Mexico City\", \"Miami\", \"Milpitas\", \"Milwaukee\", \"Minato\", \"Minneapolis\", \"Montreal\", \"Mountain View\", \"Mumbai\", \"Nashville\", \"New Delhi\", \"New York\", \"North Attleborough\", \"Oakland\", \"Omaha\", \"Orlando\", \"Ottawa\", \"Palo Alto\", \"Paris\", \"Philadelphia\", \"Phoenix\", \"Pittsburgh\", \"Pleasanton\", \"Portland\", \"Prague\", \"Quezon City\", \"Quito\", \"Raleigh\", \"Redmond\", \"Redwood City\", \"Rio de Janeiro\", \"Riverside\", \"Sacramento\", \"Salem\", \"Salt Lake City\", \"San Antonio\", \"San Bruno\", \"San Diego\", \"San Francisco\", \"San Jose\", \"San Marcos\", \"San Mateo\", \"Sandy Springs\", \"Santa Clara\", \"Santiago\", \"Sao Paulo\", \"Saratoga\", \"Seattle\", \"Seoul\", \"Singapore\", \"South San Francisco\", \"Stockholm\", \"Sunnyvale\", \"Sydney\", \"Syracuse\", \"Tbilisi\", \"Tel Aviv-Yafo\", \"Tempe\", \"Tigard\", \"Toronto\", \"Tunis\", \"Vancouver\", \"Vienna\", \"Walnut Creek\", \"Warsaw\", \"Washington\", \"Yokohama\", \"Zurich\", \"not available in demo dataset\"], \"type\": \"bar\", \"uid\": \"8b352006-d252-11e8-b656-f0189804b8bf\", \"xaxis\": \"x2\", \"yaxis\": \"y2\"}, {\"marker\": {\"color\": \"purple\", \"opacity\": 0.5}, \"orientation\": \"h\", \"x\": [128296666.66666667, 10990000.0, 52488000.0, 30480000.0, 134250769.23076922, 198410000.0, 64183000.0, 172760736.84210527, 49452000.0, 35278333.333333336, 75608750.0, 206330000.0, 75440000.0, 44790000.0, 25000000.0, 168732500.0, 50960000.0, 76890000.0, 29490000.0, 89216000.0, 19490000.0, 68667500.0, 53110000.0, 27180000.0, 30075000.0, 163106666.66666666, 33590000.0, 69666000.0, 167307272.72727272, 24143333.333333332, 103266666.66666667, 102045000.0, 395822941.1764706, 17490000.0, 1756233333.3333333, 119110000.0, 40770000.0, 157283333.33333334, 79639500.0, 86350000.0, 47970000.0, 63990000.0, 1651200000.0, 57950000.0, 55865000.0, 63790000.0, 46010000.0, 76666666.66666667, 215800000.0, 109349090.9090909, 75960000.0, 23735000.0, 88360000.0, 84302000.0, 32850000.0, 93213750.0, 192395000.0, 58105000.0, 37795000.0, 66202222.222222224, 101099473.68421052, 92542000.0, 51205000.0, 116880000.0, 123353333.33333333, 105590625.0, 132606651.14580481, 3500000.0, 212300000.0], \"y\": [\"(not set)\", \"Anguilla\", \"Argentina\", \"Armenia\", \"Australia\", \"Belgium\", \"Brazil\", \"Canada\", \"Chile\", \"China\", \"Colombia\", \"Cura\\u00e7ao\", \"Cyprus\", \"Czechia\", \"Denmark\", \"Ecuador\", \"Egypt\", \"El Salvador\", \"Finland\", \"France\", \"Georgia\", \"Germany\", \"Greece\", \"Guadeloupe\", \"Guatemala\", \"Hong Kong\", \"Hungary\", \"India\", \"Indonesia\", \"Ireland\", \"Israel\", \"Italy\", \"Japan\", \"Kazakhstan\", \"Kenya\", \"Kuwait\", \"Lebanon\", \"Malaysia\", \"Mexico\", \"Netherlands\", \"New Zealand\", \"Nicaragua\", \"Nigeria\", \"Pakistan\", \"Panama\", \"Peru\", \"Philippines\", \"Poland\", \"Portugal\", \"Puerto Rico\", \"Romania\", \"Russia\", \"Saudi Arabia\", \"Singapore\", \"South Africa\", \"South Korea\", \"Spain\", \"St. Lucia\", \"Sweden\", \"Switzerland\", \"Taiwan\", \"Thailand\", \"Turkey\", \"Ukraine\", \"United Arab Emirates\", \"United Kingdom\", \"United States\", \"Uruguay\", \"Venezuela\"], \"type\": \"bar\", \"uid\": \"8b3581fe-d252-11e8-823a-f0189804b8bf\", \"xaxis\": \"x3\", \"yaxis\": \"y3\"}, {\"marker\": {\"color\": \"blue\", \"opacity\": 0.5}, \"orientation\": \"h\", \"x\": [128296666.66666667, 128087857.14285715, 97721875.0, 73290384.61538461, 17490000.0, 1756233333.3333333, 187715593.22033897, 67628571.42857143, 50960000.0, 133291321.00870502, 73847407.4074074, 162625612.24489796, 117374687.5, 32850000.0, 68600909.0909091, 120501250.0, 1651200000.0, 84811428.57142857, 94744666.66666667], \"y\": [\"(not set)\", \"Australasia\", \"Caribbean\", \"Central America\", \"Central Asia\", \"Eastern Africa\", \"Eastern Asia\", \"Eastern Europe\", \"Northern Africa\", \"Northern America\", \"Northern Europe\", \"South America\", \"Southeast Asia\", \"Southern Africa\", \"Southern Asia\", \"Southern Europe\", \"Western Africa\", \"Western Asia\", \"Western Europe\"], \"type\": \"bar\", \"uid\": \"8b35e194-d252-11e8-8627-f0189804b8bf\", \"xaxis\": \"x4\", \"yaxis\": \"y4\"}, {\"marker\": {\"color\": \"yellow\", \"opacity\": 0.5}, \"orientation\": \"h\", \"x\": [128296666.66666667, 1085970000.0, 133357404.94549322, 139214720.0, 85405443.03797469, 128087857.14285715], \"y\": [\"(not set)\", \"Africa\", \"Americas\", \"Asia\", \"Europe\", \"Oceania\"], \"type\": \"bar\", \"uid\": \"8b364026-d252-11e8-b0d0-f0189804b8bf\", \"xaxis\": \"x5\", \"yaxis\": \"y5\"}], {\"annotations\": [{\"font\": {\"size\": 16}, \"showarrow\": false, \"text\": \"Avg NonZero TranRevenue by Metro\", \"x\": 0.225, \"xanchor\": \"center\", \"xref\": \"paper\", \"y\": 1.0, \"yanchor\": \"bottom\", \"yref\": \"paper\"}, {\"font\": {\"size\": 16}, \"showarrow\": false, \"text\": \"Avg NonZero TranRevenue by City\", \"x\": 0.775, \"xanchor\": \"center\", \"xref\": \"paper\", \"y\": 1.0, \"yanchor\": \"bottom\", \"yref\": \"paper\"}, {\"font\": {\"size\": 16}, \"showarrow\": false, \"text\": \"Avg NonZero TranRevenue by Country\", \"x\": 0.225, \"xanchor\": \"center\", \"xref\": \"paper\", \"y\": 0.6111111111111112, \"yanchor\": \"bottom\", \"yref\": \"paper\"}, {\"font\": {\"size\": 16}, \"showarrow\": false, \"text\": \"Avg NonZero TranRevenue by Sub-Continent\", \"x\": 0.775, \"xanchor\": \"center\", \"xref\": \"paper\", \"y\": 0.6111111111111112, \"yanchor\": \"bottom\", \"yref\": \"paper\"}, {\"font\": {\"size\": 16}, \"showarrow\": false, \"text\": \"Avg NonZero TranRevenue by Continent\", \"x\": 0.225, \"xanchor\": \"center\", \"xref\": \"paper\", \"y\": 0.22222222222222224, \"yanchor\": \"bottom\", \"yref\": \"paper\"}], \"xaxis\": {\"anchor\": \"y\", \"domain\": [0.0, 0.45]}, \"yaxis\": {\"anchor\": \"x\", \"domain\": [0.7777777777777778, 1.0]}, \"xaxis2\": {\"anchor\": \"y2\", \"domain\": [0.55, 1.0]}, \"yaxis2\": {\"anchor\": \"x2\", \"domain\": [0.7777777777777778, 1.0]}, \"xaxis3\": {\"anchor\": \"y3\", \"domain\": [0.0, 0.45]}, \"yaxis3\": {\"anchor\": \"x3\", \"domain\": [0.3888888888888889, 0.6111111111111112]}, \"xaxis4\": {\"anchor\": \"y4\", \"domain\": [0.55, 1.0]}, \"yaxis4\": {\"anchor\": \"x4\", \"domain\": [0.3888888888888889, 0.6111111111111112]}, \"xaxis5\": {\"anchor\": \"y5\", \"domain\": [0.0, 0.45]}, \"yaxis5\": {\"anchor\": \"x5\", \"domain\": [0.0, 0.22222222222222224]}, \"xaxis6\": {\"anchor\": \"y6\", \"domain\": [0.55, 1.0]}, \"yaxis6\": {\"anchor\": \"x6\", \"domain\": [0.0, 0.22222222222222224]}, \"height\": 600, \"width\": 1000, \"showlegend\": false}, {\"showLink\": true, \"linkText\": \"Export to plot.ly\"})});</script>"
      ]
     },
     "metadata": {},
     "output_type": "display_data"
    }
   ],
   "source": [
    "geo_info = [\"geoNetwork_metro\", \"geoNetwork_city\", \"geoNetwork_country\", \n",
    "            \"geoNetwork_subContinent\", \"geoNetwork_continent\"]\n",
    "\n",
    "colors = [\"red\", \"green\", \"purple\",\"blue\", \"yellow\"]\n",
    "traces = []\n",
    "\n",
    "for i, col in enumerate(geo_info):\n",
    "    t = train[col].value_counts()\n",
    "    traces.append(go.Bar(marker=dict(color=colors[i]),orientation=\"h\", y = t.index[:15], x = t.values[:15]))\n",
    "\n",
    "fig = tools.make_subplots(rows=3, cols=2, \n",
    "                          subplot_titles=[\"Count: Metro\", \"Count: City\", \"Count: Country\",\n",
    "                                          \"Count: Sub Continent\", \"Count: Continent\"]\n",
    "                          , print_grid=False)\n",
    "\n",
    "fig.append_trace(traces[0], 1, 1)\n",
    "fig.append_trace(traces[1], 1, 2)\n",
    "fig.append_trace(traces[2], 2, 1)\n",
    "fig.append_trace(traces[3], 2, 2)\n",
    "fig.append_trace(traces[4], 3, 1)\n",
    "\n",
    "fig['layout'].update(height=600,width=1000, showlegend=False)\n",
    "iplot(fig)\n",
    "\n",
    "train[\"totals_transactionRevenue\"] = train[\"totals_transactionRevenue\"].astype('float')\n",
    "\n",
    "fig = tools.make_subplots(rows=3, cols=2, subplot_titles=[\"Avg NonZero TranRevenue by Metro\", \n",
    "                                                          \"Avg NonZero TranRevenue by City\", \n",
    "                                                          \"Avg NonZero TranRevenue by Country\",\n",
    "                                                          \"Avg NonZero TranRevenue by Sub-Continent\",\n",
    "                                                          \"Avg NonZero TranRevenue by Continent\"], \n",
    "                                                          print_grid=False)\n",
    "\n",
    "\n",
    "trs = []\n",
    "for i, col in enumerate(geo_info):\n",
    "    tmp = train.groupby(col).agg({\"totals_transactionRevenue\": \"mean\"}).reset_index().rename(columns={\"totals_transactionRevenue\" : \n",
    "                                                                                                      \"Mean Revenue\"})\n",
    "    tmp = tmp.dropna()\n",
    "    tr = go.Bar(x = tmp[\"Mean Revenue\"], orientation=\"h\", marker=dict(opacity=0.5, color=colors[i]), y = tmp[col])\n",
    "    trs.append(tr)\n",
    "\n",
    "fig.append_trace(trs[0], 1, 1)\n",
    "fig.append_trace(trs[1], 1, 2)\n",
    "fig.append_trace(trs[2], 2, 1)\n",
    "fig.append_trace(trs[3], 2, 2)\n",
    "fig.append_trace(trs[4], 3, 1)\n",
    "\n",
    "fig['layout'].update(height=600,width=1000, showlegend=False)\n",
    "iplot(fig)"
   ]
  },
  {
   "cell_type": "code",
   "execution_count": 158,
   "metadata": {},
   "outputs": [
    {
     "data": {
      "text/html": [
       "<div>\n",
       "<style scoped>\n",
       "    .dataframe tbody tr th:only-of-type {\n",
       "        vertical-align: middle;\n",
       "    }\n",
       "\n",
       "    .dataframe tbody tr th {\n",
       "        vertical-align: top;\n",
       "    }\n",
       "\n",
       "    .dataframe thead th {\n",
       "        text-align: right;\n",
       "    }\n",
       "</style>\n",
       "<table border=\"1\" class=\"dataframe\">\n",
       "  <thead>\n",
       "    <tr style=\"text-align: right;\">\n",
       "      <th></th>\n",
       "      <th>channelGrouping</th>\n",
       "      <th>date</th>\n",
       "      <th>fullVisitorId</th>\n",
       "      <th>sessionId</th>\n",
       "      <th>visitId</th>\n",
       "      <th>visitNumber</th>\n",
       "      <th>visitStartTime</th>\n",
       "      <th>device_browser</th>\n",
       "      <th>device_deviceCategory</th>\n",
       "      <th>device_isMobile</th>\n",
       "      <th>...</th>\n",
       "      <th>trafficSource_adwordsClickInfo.isVideoAd</th>\n",
       "      <th>trafficSource_adwordsClickInfo.page</th>\n",
       "      <th>trafficSource_adwordsClickInfo.slot</th>\n",
       "      <th>trafficSource_campaign</th>\n",
       "      <th>trafficSource_campaignCode</th>\n",
       "      <th>trafficSource_isTrueDirect</th>\n",
       "      <th>trafficSource_keyword</th>\n",
       "      <th>trafficSource_medium</th>\n",
       "      <th>trafficSource_referralPath</th>\n",
       "      <th>trafficSource_source</th>\n",
       "    </tr>\n",
       "  </thead>\n",
       "  <tbody>\n",
       "    <tr>\n",
       "      <th>0</th>\n",
       "      <td>Organic Search</td>\n",
       "      <td>20160902</td>\n",
       "      <td>1131660440785968503</td>\n",
       "      <td>1131660440785968503_1472830385</td>\n",
       "      <td>1472830385</td>\n",
       "      <td>1</td>\n",
       "      <td>1472830385</td>\n",
       "      <td>Chrome</td>\n",
       "      <td>desktop</td>\n",
       "      <td>False</td>\n",
       "      <td>...</td>\n",
       "      <td>NaN</td>\n",
       "      <td>NaN</td>\n",
       "      <td>NaN</td>\n",
       "      <td>(not set)</td>\n",
       "      <td>NaN</td>\n",
       "      <td>NaN</td>\n",
       "      <td>(not provided)</td>\n",
       "      <td>organic</td>\n",
       "      <td>NaN</td>\n",
       "      <td>google</td>\n",
       "    </tr>\n",
       "    <tr>\n",
       "      <th>1</th>\n",
       "      <td>Organic Search</td>\n",
       "      <td>20160902</td>\n",
       "      <td>377306020877927890</td>\n",
       "      <td>377306020877927890_1472880147</td>\n",
       "      <td>1472880147</td>\n",
       "      <td>1</td>\n",
       "      <td>1472880147</td>\n",
       "      <td>Firefox</td>\n",
       "      <td>desktop</td>\n",
       "      <td>False</td>\n",
       "      <td>...</td>\n",
       "      <td>NaN</td>\n",
       "      <td>NaN</td>\n",
       "      <td>NaN</td>\n",
       "      <td>(not set)</td>\n",
       "      <td>NaN</td>\n",
       "      <td>NaN</td>\n",
       "      <td>(not provided)</td>\n",
       "      <td>organic</td>\n",
       "      <td>NaN</td>\n",
       "      <td>google</td>\n",
       "    </tr>\n",
       "    <tr>\n",
       "      <th>2</th>\n",
       "      <td>Organic Search</td>\n",
       "      <td>20160902</td>\n",
       "      <td>3895546263509774583</td>\n",
       "      <td>3895546263509774583_1472865386</td>\n",
       "      <td>1472865386</td>\n",
       "      <td>1</td>\n",
       "      <td>1472865386</td>\n",
       "      <td>Chrome</td>\n",
       "      <td>desktop</td>\n",
       "      <td>False</td>\n",
       "      <td>...</td>\n",
       "      <td>NaN</td>\n",
       "      <td>NaN</td>\n",
       "      <td>NaN</td>\n",
       "      <td>(not set)</td>\n",
       "      <td>NaN</td>\n",
       "      <td>NaN</td>\n",
       "      <td>(not provided)</td>\n",
       "      <td>organic</td>\n",
       "      <td>NaN</td>\n",
       "      <td>google</td>\n",
       "    </tr>\n",
       "    <tr>\n",
       "      <th>3</th>\n",
       "      <td>Organic Search</td>\n",
       "      <td>20160902</td>\n",
       "      <td>4763447161404445595</td>\n",
       "      <td>4763447161404445595_1472881213</td>\n",
       "      <td>1472881213</td>\n",
       "      <td>1</td>\n",
       "      <td>1472881213</td>\n",
       "      <td>UC Browser</td>\n",
       "      <td>desktop</td>\n",
       "      <td>False</td>\n",
       "      <td>...</td>\n",
       "      <td>NaN</td>\n",
       "      <td>NaN</td>\n",
       "      <td>NaN</td>\n",
       "      <td>(not set)</td>\n",
       "      <td>NaN</td>\n",
       "      <td>NaN</td>\n",
       "      <td>google + online</td>\n",
       "      <td>organic</td>\n",
       "      <td>NaN</td>\n",
       "      <td>google</td>\n",
       "    </tr>\n",
       "    <tr>\n",
       "      <th>4</th>\n",
       "      <td>Organic Search</td>\n",
       "      <td>20160902</td>\n",
       "      <td>27294437909732085</td>\n",
       "      <td>27294437909732085_1472822600</td>\n",
       "      <td>1472822600</td>\n",
       "      <td>2</td>\n",
       "      <td>1472822600</td>\n",
       "      <td>Chrome</td>\n",
       "      <td>mobile</td>\n",
       "      <td>True</td>\n",
       "      <td>...</td>\n",
       "      <td>NaN</td>\n",
       "      <td>NaN</td>\n",
       "      <td>NaN</td>\n",
       "      <td>(not set)</td>\n",
       "      <td>NaN</td>\n",
       "      <td>True</td>\n",
       "      <td>(not provided)</td>\n",
       "      <td>organic</td>\n",
       "      <td>NaN</td>\n",
       "      <td>google</td>\n",
       "    </tr>\n",
       "  </tbody>\n",
       "</table>\n",
       "<p>5 rows × 36 columns</p>\n",
       "</div>"
      ],
      "text/plain": [
       "  channelGrouping      date        fullVisitorId  \\\n",
       "0  Organic Search  20160902  1131660440785968503   \n",
       "1  Organic Search  20160902   377306020877927890   \n",
       "2  Organic Search  20160902  3895546263509774583   \n",
       "3  Organic Search  20160902  4763447161404445595   \n",
       "4  Organic Search  20160902    27294437909732085   \n",
       "\n",
       "                        sessionId     visitId  visitNumber  visitStartTime  \\\n",
       "0  1131660440785968503_1472830385  1472830385            1      1472830385   \n",
       "1   377306020877927890_1472880147  1472880147            1      1472880147   \n",
       "2  3895546263509774583_1472865386  1472865386            1      1472865386   \n",
       "3  4763447161404445595_1472881213  1472881213            1      1472881213   \n",
       "4    27294437909732085_1472822600  1472822600            2      1472822600   \n",
       "\n",
       "  device_browser device_deviceCategory  device_isMobile         ...           \\\n",
       "0         Chrome               desktop            False         ...            \n",
       "1        Firefox               desktop            False         ...            \n",
       "2         Chrome               desktop            False         ...            \n",
       "3     UC Browser               desktop            False         ...            \n",
       "4         Chrome                mobile             True         ...            \n",
       "\n",
       "  trafficSource_adwordsClickInfo.isVideoAd  \\\n",
       "0                                      NaN   \n",
       "1                                      NaN   \n",
       "2                                      NaN   \n",
       "3                                      NaN   \n",
       "4                                      NaN   \n",
       "\n",
       "  trafficSource_adwordsClickInfo.page trafficSource_adwordsClickInfo.slot  \\\n",
       "0                                 NaN                                 NaN   \n",
       "1                                 NaN                                 NaN   \n",
       "2                                 NaN                                 NaN   \n",
       "3                                 NaN                                 NaN   \n",
       "4                                 NaN                                 NaN   \n",
       "\n",
       "  trafficSource_campaign trafficSource_campaignCode  \\\n",
       "0              (not set)                        NaN   \n",
       "1              (not set)                        NaN   \n",
       "2              (not set)                        NaN   \n",
       "3              (not set)                        NaN   \n",
       "4              (not set)                        NaN   \n",
       "\n",
       "  trafficSource_isTrueDirect trafficSource_keyword trafficSource_medium  \\\n",
       "0                        NaN        (not provided)              organic   \n",
       "1                        NaN        (not provided)              organic   \n",
       "2                        NaN        (not provided)              organic   \n",
       "3                        NaN       google + online              organic   \n",
       "4                       True        (not provided)              organic   \n",
       "\n",
       "  trafficSource_referralPath trafficSource_source  \n",
       "0                        NaN               google  \n",
       "1                        NaN               google  \n",
       "2                        NaN               google  \n",
       "3                        NaN               google  \n",
       "4                        NaN               google  \n",
       "\n",
       "[5 rows x 36 columns]"
      ]
     },
     "execution_count": 158,
     "metadata": {},
     "output_type": "execute_result"
    }
   ],
   "source": [
    "train.head()"
   ]
  },
  {
   "cell_type": "code",
   "execution_count": 159,
   "metadata": {},
   "outputs": [],
   "source": [
    "def extractdate(df):\n",
    "    df['date'] = df['date'].astype(str)\n",
    "    df[\"date\"] = df[\"date\"].apply(lambda x : x[:4] + \"-\" + x[4:6] + \"-\" + x[6:])\n",
    "    df[\"date\"] = pd.to_datetime(df[\"date\"])\n",
    "    \n",
    "    df[\"month\"]   = df['date'].dt.month\n",
    "    df[\"day\"]     = df['date'].dt.day\n",
    "    df[\"weekday\"] = df['date'].dt.weekday\n",
    "    return df\n",
    "\n",
    "train=extractdate(train)"
   ]
  },
  {
   "cell_type": "code",
   "execution_count": 160,
   "metadata": {},
   "outputs": [],
   "source": [
    "test=extractdate(test)"
   ]
  },
  {
   "cell_type": "code",
   "execution_count": 162,
   "metadata": {},
   "outputs": [
    {
     "data": {
      "text/plain": [
       "[]"
      ]
     },
     "execution_count": 162,
     "metadata": {},
     "output_type": "execute_result"
    }
   ],
   "source": [
    "const_cols = [c for c in train.columns if train[c].nunique(dropna=False)==1 ]\n",
    "const_cols"
   ]
  },
  {
   "cell_type": "code",
   "execution_count": 165,
   "metadata": {},
   "outputs": [
    {
     "data": {
      "application/vnd.plotly.v1+json": {
       "data": [
        {
         "marker": {
          "color": "Red"
         },
         "type": "bar",
         "uid": "56f0b30a-d257-11e8-87b3-f0189804b8bf",
         "x": [
          "(not set)",
          "Data Share Promo",
          "AW - Dynamic Search Ads Whole Site",
          "AW - Accessories",
          "test-liyuhz",
          "AW - Electronics",
          "Retail (DO NOT EDIT owners nophakun and tianyu)",
          "AW - Apparel",
          "All Products",
          "Data Share"
         ],
         "xaxis": "x",
         "y": [
          865347,
          16403,
          14244,
          7070,
          392,
          96,
          50,
          46,
          4,
          1
         ],
         "yaxis": "y"
        },
        {
         "marker": {
          "color": "blue"
         },
         "type": "bar",
         "uid": "56f136cc-d257-11e8-840c-f0189804b8bf",
         "x": [
          "organic",
          "referral",
          "(none)",
          "cpc",
          "affiliate",
          "cpm",
          "(not set)"
         ],
         "xaxis": "x2",
         "y": [
          381561,
          330955,
          143026,
          25326,
          16403,
          6262,
          120
         ],
         "yaxis": "y2"
        }
       ],
       "layout": {
        "annotations": [
         {
          "font": {
           "size": 16
          },
          "showarrow": false,
          "text": "Traffic Source Campaign (not-set removed)",
          "x": 0.225,
          "xanchor": "center",
          "xref": "paper",
          "y": 1,
          "yanchor": "bottom",
          "yref": "paper"
         },
         {
          "font": {
           "size": 16
          },
          "showarrow": false,
          "text": "Traffic Source Medium",
          "x": 0.775,
          "xanchor": "center",
          "xref": "paper",
          "y": 1,
          "yanchor": "bottom",
          "yref": "paper"
         }
        ],
        "height": 400,
        "margin": {
         "b": 100
        },
        "showlegend": false,
        "xaxis": {
         "anchor": "y",
         "domain": [
          0,
          0.45
         ]
        },
        "xaxis2": {
         "anchor": "y2",
         "domain": [
          0.55,
          1
         ]
        },
        "yaxis": {
         "anchor": "x",
         "domain": [
          0,
          1
         ]
        },
        "yaxis2": {
         "anchor": "x2",
         "domain": [
          0,
          1
         ]
        }
       }
      },
      "text/html": [
       "<div id=\"727b75d9-39a0-4134-998c-e82ce49462ec\" style=\"height: 400px; width: 100%;\" class=\"plotly-graph-div\"></div><script type=\"text/javascript\">require([\"plotly\"], function(Plotly) { window.PLOTLYENV=window.PLOTLYENV || {};window.PLOTLYENV.BASE_URL=\"https://plot.ly\";Plotly.newPlot(\"727b75d9-39a0-4134-998c-e82ce49462ec\", [{\"marker\": {\"color\": \"Red\"}, \"x\": [\"(not set)\", \"Data Share Promo\", \"AW - Dynamic Search Ads Whole Site\", \"AW - Accessories\", \"test-liyuhz\", \"AW - Electronics\", \"Retail (DO NOT EDIT owners nophakun and tianyu)\", \"AW - Apparel\", \"All Products\", \"Data Share\"], \"y\": [865347, 16403, 14244, 7070, 392, 96, 50, 46, 4, 1], \"type\": \"bar\", \"uid\": \"56f0b30a-d257-11e8-87b3-f0189804b8bf\", \"xaxis\": \"x\", \"yaxis\": \"y\"}, {\"marker\": {\"color\": \"blue\"}, \"x\": [\"organic\", \"referral\", \"(none)\", \"cpc\", \"affiliate\", \"cpm\", \"(not set)\"], \"y\": [381561, 330955, 143026, 25326, 16403, 6262, 120], \"type\": \"bar\", \"uid\": \"56f136cc-d257-11e8-840c-f0189804b8bf\", \"xaxis\": \"x2\", \"yaxis\": \"y2\"}], {\"annotations\": [{\"font\": {\"size\": 16}, \"showarrow\": false, \"text\": \"Traffic Source Campaign (not-set removed)\", \"x\": 0.225, \"xanchor\": \"center\", \"xref\": \"paper\", \"y\": 1.0, \"yanchor\": \"bottom\", \"yref\": \"paper\"}, {\"font\": {\"size\": 16}, \"showarrow\": false, \"text\": \"Traffic Source Medium\", \"x\": 0.775, \"xanchor\": \"center\", \"xref\": \"paper\", \"y\": 1.0, \"yanchor\": \"bottom\", \"yref\": \"paper\"}], \"xaxis\": {\"anchor\": \"y\", \"domain\": [0.0, 0.45]}, \"yaxis\": {\"anchor\": \"x\", \"domain\": [0.0, 1.0]}, \"xaxis2\": {\"anchor\": \"y2\", \"domain\": [0.55, 1.0]}, \"yaxis2\": {\"anchor\": \"x2\", \"domain\": [0.0, 1.0]}, \"margin\": {\"b\": 100}, \"height\": 400, \"showlegend\": false}, {\"showLink\": true, \"linkText\": \"Export to plot.ly\"})});</script>"
      ],
      "text/vnd.plotly.v1+html": [
       "<div id=\"727b75d9-39a0-4134-998c-e82ce49462ec\" style=\"height: 400px; width: 100%;\" class=\"plotly-graph-div\"></div><script type=\"text/javascript\">require([\"plotly\"], function(Plotly) { window.PLOTLYENV=window.PLOTLYENV || {};window.PLOTLYENV.BASE_URL=\"https://plot.ly\";Plotly.newPlot(\"727b75d9-39a0-4134-998c-e82ce49462ec\", [{\"marker\": {\"color\": \"Red\"}, \"x\": [\"(not set)\", \"Data Share Promo\", \"AW - Dynamic Search Ads Whole Site\", \"AW - Accessories\", \"test-liyuhz\", \"AW - Electronics\", \"Retail (DO NOT EDIT owners nophakun and tianyu)\", \"AW - Apparel\", \"All Products\", \"Data Share\"], \"y\": [865347, 16403, 14244, 7070, 392, 96, 50, 46, 4, 1], \"type\": \"bar\", \"uid\": \"56f0b30a-d257-11e8-87b3-f0189804b8bf\", \"xaxis\": \"x\", \"yaxis\": \"y\"}, {\"marker\": {\"color\": \"blue\"}, \"x\": [\"organic\", \"referral\", \"(none)\", \"cpc\", \"affiliate\", \"cpm\", \"(not set)\"], \"y\": [381561, 330955, 143026, 25326, 16403, 6262, 120], \"type\": \"bar\", \"uid\": \"56f136cc-d257-11e8-840c-f0189804b8bf\", \"xaxis\": \"x2\", \"yaxis\": \"y2\"}], {\"annotations\": [{\"font\": {\"size\": 16}, \"showarrow\": false, \"text\": \"Traffic Source Campaign (not-set removed)\", \"x\": 0.225, \"xanchor\": \"center\", \"xref\": \"paper\", \"y\": 1.0, \"yanchor\": \"bottom\", \"yref\": \"paper\"}, {\"font\": {\"size\": 16}, \"showarrow\": false, \"text\": \"Traffic Source Medium\", \"x\": 0.775, \"xanchor\": \"center\", \"xref\": \"paper\", \"y\": 1.0, \"yanchor\": \"bottom\", \"yref\": \"paper\"}], \"xaxis\": {\"anchor\": \"y\", \"domain\": [0.0, 0.45]}, \"yaxis\": {\"anchor\": \"x\", \"domain\": [0.0, 1.0]}, \"xaxis2\": {\"anchor\": \"y2\", \"domain\": [0.55, 1.0]}, \"yaxis2\": {\"anchor\": \"x2\", \"domain\": [0.0, 1.0]}, \"margin\": {\"b\": 100}, \"height\": 400, \"showlegend\": false}, {\"showLink\": true, \"linkText\": \"Export to plot.ly\"})});</script>"
      ]
     },
     "metadata": {},
     "output_type": "display_data"
    }
   ],
   "source": [
    "fig = tools.make_subplots(rows=1, cols=2,subplot_titles=[\"Traffic Source Campaign (not-set removed)\", \n",
    "                                                         \"Traffic Source Medium\"], print_grid=False)\n",
    " \n",
    "colors = [\"Red\", \"Red\", \"blue\", \"green\"]\n",
    "t1 = train[\"trafficSource_campaign\"].value_counts()\n",
    "t2 = train[\"trafficSource_medium\"].value_counts()\n",
    "\n",
    "tr1 = go.Bar(x = t1.index, y = t1.values, marker=dict(color=colors[1]))\n",
    "tr2 = go.Bar(x = t2.index, y = t2.values, marker=dict(color=colors[2]))\n",
    "\n",
    "fig.append_trace(tr1, 1, 1)\n",
    "fig.append_trace(tr2, 1, 2)\n",
    "\n",
    "\n",
    "fig['layout'].update(height=400, margin=dict(b=100), showlegend=False)\n",
    "iplot(fig)"
   ]
  },
  {
   "cell_type": "code",
   "execution_count": 181,
   "metadata": {},
   "outputs": [],
   "source": [
    "def horizontal_bar_chart(cnt_srs, color):\n",
    "    trace = go.Bar(\n",
    "        y=cnt_srs.index[::-1],\n",
    "        x=cnt_srs.values[::-1],\n",
    "        showlegend=False,\n",
    "        orientation = 'h',\n",
    "        marker=dict(\n",
    "            color=color,\n",
    "        ),\n",
    "    )\n",
    "    return trace"
   ]
  },
  {
   "cell_type": "code",
   "execution_count": 182,
   "metadata": {},
   "outputs": [
    {
     "data": {
      "application/vnd.plotly.v1+json": {
       "data": [
        {
         "marker": {
          "color": "Red"
         },
         "type": "bar",
         "uid": "56f0b30a-d257-11e8-87b3-f0189804b8bf",
         "x": [
          "(not set)",
          "Data Share Promo",
          "AW - Dynamic Search Ads Whole Site",
          "AW - Accessories",
          "test-liyuhz",
          "AW - Electronics",
          "Retail (DO NOT EDIT owners nophakun and tianyu)",
          "AW - Apparel",
          "All Products",
          "Data Share"
         ],
         "xaxis": "x",
         "y": [
          865347,
          16403,
          14244,
          7070,
          392,
          96,
          50,
          46,
          4,
          1
         ],
         "yaxis": "y"
        },
        {
         "marker": {
          "color": "blue"
         },
         "type": "bar",
         "uid": "56f136cc-d257-11e8-840c-f0189804b8bf",
         "x": [
          "organic",
          "referral",
          "(none)",
          "cpc",
          "affiliate",
          "cpm",
          "(not set)"
         ],
         "xaxis": "x2",
         "y": [
          381561,
          330955,
          143026,
          25326,
          16403,
          6262,
          120
         ],
         "yaxis": "y2"
        },
        {
         "marker": {
          "color": "rgba(50, 171, 96, 0.6)"
         },
         "orientation": "h",
         "showlegend": false,
         "type": "bar",
         "uid": "d0e70bcc-d258-11e8-8404-f0189804b8bf",
         "x": [
          2427,
          5643,
          6139,
          6850,
          7865,
          10205,
          19375,
          37069,
          182245,
          620364
         ],
         "xaxis": "x",
         "y": [
          "UC Browser",
          "Opera",
          "Opera Mini",
          "Safari (in-app)",
          "Android Webview",
          "Edge",
          "Internet Explorer",
          "Firefox",
          "Safari",
          "Chrome"
         ],
         "yaxis": "y"
        },
        {
         "marker": {
          "color": "rgba(50, 171, 96, 0.6)"
         },
         "orientation": "h",
         "showlegend": false,
         "type": "bar",
         "uid": "d0e76cc0-d258-11e8-9c63-f0189804b8bf",
         "x": [
          0,
          5,
          0,
          12,
          6,
          58,
          109,
          191,
          780,
          10353
         ],
         "xaxis": "x2",
         "y": [
          "UC Browser",
          "Opera",
          "Opera Mini",
          "Safari (in-app)",
          "Android Webview",
          "Edge",
          "Internet Explorer",
          "Firefox",
          "Safari",
          "Chrome"
         ],
         "yaxis": "y2"
        },
        {
         "marker": {
          "color": "rgba(50, 171, 96, 0.6)"
         },
         "orientation": "h",
         "showlegend": false,
         "type": "bar",
         "uid": "d83d9c42-d258-11e8-bed0-f0189804b8bf",
         "x": [
          2427,
          5643,
          6139,
          6850,
          7865,
          10205,
          19375,
          37069,
          182245,
          620364
         ],
         "xaxis": "x",
         "y": [
          "UC Browser",
          "Opera",
          "Opera Mini",
          "Safari (in-app)",
          "Android Webview",
          "Edge",
          "Internet Explorer",
          "Firefox",
          "Safari",
          "Chrome"
         ],
         "yaxis": "y"
        },
        {
         "marker": {
          "color": "rgba(50, 171, 96, 0.6)"
         },
         "orientation": "h",
         "showlegend": false,
         "type": "bar",
         "uid": "d83e01f0-d258-11e8-9470-f0189804b8bf",
         "x": [
          0,
          5,
          0,
          12,
          6,
          58,
          109,
          191,
          780,
          10353
         ],
         "xaxis": "x2",
         "y": [
          "UC Browser",
          "Opera",
          "Opera Mini",
          "Safari (in-app)",
          "Android Webview",
          "Edge",
          "Internet Explorer",
          "Firefox",
          "Safari",
          "Chrome"
         ],
         "yaxis": "y2"
        },
        {
         "marker": {
          "color": "rgba(50, 171, 96, 0.6)"
         },
         "orientation": "h",
         "showlegend": false,
         "type": "bar",
         "uid": "1efc5f1a-d259-11e8-a868-f0189804b8bf",
         "x": [
          2427,
          5643,
          6139,
          6850,
          7865,
          10205,
          19375,
          37069,
          182245,
          620364
         ],
         "xaxis": "x",
         "y": [
          "UC Browser",
          "Opera",
          "Opera Mini",
          "Safari (in-app)",
          "Android Webview",
          "Edge",
          "Internet Explorer",
          "Firefox",
          "Safari",
          "Chrome"
         ],
         "yaxis": "y"
        },
        {
         "marker": {
          "color": "rgba(50, 171, 96, 0.6)"
         },
         "orientation": "h",
         "showlegend": false,
         "type": "bar",
         "uid": "1efcd3e6-d259-11e8-a055-f0189804b8bf",
         "x": [
          0,
          5,
          0,
          12,
          6,
          58,
          109,
          191,
          780,
          10353
         ],
         "xaxis": "x2",
         "y": [
          "UC Browser",
          "Opera",
          "Opera Mini",
          "Safari (in-app)",
          "Android Webview",
          "Edge",
          "Internet Explorer",
          "Firefox",
          "Safari",
          "Chrome"
         ],
         "yaxis": "y2"
        },
        {
         "marker": {
          "color": "rgba(50, 171, 96, 0.6)"
         },
         "orientation": "h",
         "showlegend": false,
         "type": "bar",
         "uid": "26edb7b4-d259-11e8-8658-f0189804b8bf",
         "x": [
          2427,
          5643,
          6139,
          6850,
          7865,
          10205,
          19375,
          37069,
          182245,
          620364
         ],
         "xaxis": "x",
         "y": [
          "UC Browser",
          "Opera",
          "Opera Mini",
          "Safari (in-app)",
          "Android Webview",
          "Edge",
          "Internet Explorer",
          "Firefox",
          "Safari",
          "Chrome"
         ],
         "yaxis": "y"
        },
        {
         "marker": {
          "color": "rgba(50, 171, 96, 0.6)"
         },
         "orientation": "h",
         "showlegend": false,
         "type": "bar",
         "uid": "26ee29d8-d259-11e8-964c-f0189804b8bf",
         "x": [
          0,
          5,
          0,
          12,
          6,
          58,
          109,
          191,
          780,
          10353
         ],
         "xaxis": "x2",
         "y": [
          "UC Browser",
          "Opera",
          "Opera Mini",
          "Safari (in-app)",
          "Android Webview",
          "Edge",
          "Internet Explorer",
          "Firefox",
          "Safari",
          "Chrome"
         ],
         "yaxis": "y2"
        },
        {
         "marker": {
          "color": "rgba(50, 171, 96, 0.6)"
         },
         "orientation": "h",
         "showlegend": false,
         "type": "bar",
         "uid": "4dfe1524-d259-11e8-a5b9-f0189804b8bf",
         "x": [
          2427,
          5643,
          6139,
          6850,
          7865,
          10205,
          19375,
          37069,
          182245,
          620364
         ],
         "xaxis": "x",
         "y": [
          "UC Browser",
          "Opera",
          "Opera Mini",
          "Safari (in-app)",
          "Android Webview",
          "Edge",
          "Internet Explorer",
          "Firefox",
          "Safari",
          "Chrome"
         ],
         "yaxis": "y"
        },
        {
         "marker": {
          "color": "rgba(50, 171, 96, 0.6)"
         },
         "orientation": "h",
         "showlegend": false,
         "type": "bar",
         "uid": "4dfeab74-d259-11e8-a29f-f0189804b8bf",
         "x": [
          0,
          5,
          0,
          12,
          6,
          58,
          109,
          191,
          780,
          10353
         ],
         "xaxis": "x2",
         "y": [
          "UC Browser",
          "Opera",
          "Opera Mini",
          "Safari (in-app)",
          "Android Webview",
          "Edge",
          "Internet Explorer",
          "Firefox",
          "Safari",
          "Chrome"
         ],
         "yaxis": "y2"
        },
        {
         "marker": {
          "color": "rgba(50, 171, 96, 0.6)"
         },
         "orientation": "h",
         "showlegend": false,
         "type": "bar",
         "uid": "536ff49e-d259-11e8-bcfc-f0189804b8bf",
         "x": [
          2427,
          5643,
          6139,
          6850,
          7865,
          10205,
          19375,
          37069,
          182245,
          620364
         ],
         "xaxis": "x",
         "y": [
          "UC Browser",
          "Opera",
          "Opera Mini",
          "Safari (in-app)",
          "Android Webview",
          "Edge",
          "Internet Explorer",
          "Firefox",
          "Safari",
          "Chrome"
         ],
         "yaxis": "y"
        },
        {
         "marker": {
          "color": "rgba(50, 171, 96, 0.6)"
         },
         "orientation": "h",
         "showlegend": false,
         "type": "bar",
         "uid": "53706a66-d259-11e8-9b23-f0189804b8bf",
         "x": [
          0,
          5,
          0,
          12,
          6,
          58,
          109,
          191,
          780,
          10353
         ],
         "xaxis": "x2",
         "y": [
          "UC Browser",
          "Opera",
          "Opera Mini",
          "Safari (in-app)",
          "Android Webview",
          "Edge",
          "Internet Explorer",
          "Firefox",
          "Safari",
          "Chrome"
         ],
         "yaxis": "y2"
        },
        {
         "marker": {
          "color": "rgba(50, 171, 96, 0.6)"
         },
         "orientation": "h",
         "showlegend": false,
         "type": "bar",
         "uid": "572ad52e-d259-11e8-b02e-f0189804b8bf",
         "x": [
          2427,
          5643,
          6139,
          6850,
          7865,
          10205,
          19375,
          37069,
          182245,
          620364
         ],
         "xaxis": "x",
         "y": [
          "UC Browser",
          "Opera",
          "Opera Mini",
          "Safari (in-app)",
          "Android Webview",
          "Edge",
          "Internet Explorer",
          "Firefox",
          "Safari",
          "Chrome"
         ],
         "yaxis": "y"
        },
        {
         "marker": {
          "color": "rgba(50, 171, 96, 0.6)"
         },
         "orientation": "h",
         "showlegend": false,
         "type": "bar",
         "uid": "572b3a46-d259-11e8-8e4c-f0189804b8bf",
         "x": [
          0,
          5,
          0,
          12,
          6,
          58,
          109,
          191,
          780,
          10353
         ],
         "xaxis": "x2",
         "y": [
          "UC Browser",
          "Opera",
          "Opera Mini",
          "Safari (in-app)",
          "Android Webview",
          "Edge",
          "Internet Explorer",
          "Firefox",
          "Safari",
          "Chrome"
         ],
         "yaxis": "y2"
        },
        {
         "marker": {
          "color": "rgba(50, 171, 96, 0.6)"
         },
         "orientation": "h",
         "showlegend": false,
         "type": "bar",
         "uid": "8edcf588-d259-11e8-aa4f-f0189804b8bf",
         "x": [
          2427,
          5643,
          6139,
          6850,
          7865,
          10205,
          19375,
          37069,
          182245,
          620364
         ],
         "xaxis": "x",
         "y": [
          "UC Browser",
          "Opera",
          "Opera Mini",
          "Safari (in-app)",
          "Android Webview",
          "Edge",
          "Internet Explorer",
          "Firefox",
          "Safari",
          "Chrome"
         ],
         "yaxis": "y"
        },
        {
         "marker": {
          "color": "rgba(50, 171, 96, 0.6)"
         },
         "orientation": "h",
         "showlegend": false,
         "type": "bar",
         "uid": "8edd6efa-d259-11e8-9701-f0189804b8bf",
         "x": [
          0,
          5,
          0,
          12,
          6,
          58,
          109,
          191,
          780,
          10353
         ],
         "xaxis": "x2",
         "y": [
          "UC Browser",
          "Opera",
          "Opera Mini",
          "Safari (in-app)",
          "Android Webview",
          "Edge",
          "Internet Explorer",
          "Firefox",
          "Safari",
          "Chrome"
         ],
         "yaxis": "y2"
        },
        {
         "marker": {
          "color": "rgba(50, 171, 96, 0.6)"
         },
         "orientation": "h",
         "showlegend": false,
         "type": "bar",
         "uid": "9250485a-d259-11e8-8bc4-f0189804b8bf",
         "x": [
          2427,
          5643,
          6139,
          6850,
          7865,
          10205,
          19375,
          37069,
          182245,
          620364
         ],
         "xaxis": "x",
         "y": [
          "UC Browser",
          "Opera",
          "Opera Mini",
          "Safari (in-app)",
          "Android Webview",
          "Edge",
          "Internet Explorer",
          "Firefox",
          "Safari",
          "Chrome"
         ],
         "yaxis": "y"
        },
        {
         "marker": {
          "color": "rgba(50, 171, 96, 0.6)"
         },
         "orientation": "h",
         "showlegend": false,
         "type": "bar",
         "uid": "9250eb66-d259-11e8-8ca6-f0189804b8bf",
         "x": [
          0,
          5,
          0,
          12,
          6,
          58,
          109,
          191,
          780,
          10353
         ],
         "xaxis": "x2",
         "y": [
          "UC Browser",
          "Opera",
          "Opera Mini",
          "Safari (in-app)",
          "Android Webview",
          "Edge",
          "Internet Explorer",
          "Firefox",
          "Safari",
          "Chrome"
         ],
         "yaxis": "y2"
        },
        {
         "marker": {
          "color": "rgba(50, 171, 96, 0.6)"
         },
         "orientation": "h",
         "showlegend": false,
         "type": "bar",
         "uid": "9c566622-d259-11e8-9ab4-f0189804b8bf",
         "x": [
          2427,
          5643,
          6139,
          6850,
          7865,
          10205,
          19375,
          37069,
          182245,
          620364
         ],
         "xaxis": "x",
         "y": [
          "UC Browser",
          "Opera",
          "Opera Mini",
          "Safari (in-app)",
          "Android Webview",
          "Edge",
          "Internet Explorer",
          "Firefox",
          "Safari",
          "Chrome"
         ],
         "yaxis": "y"
        },
        {
         "marker": {
          "color": "rgba(50, 171, 96, 0.6)"
         },
         "orientation": "h",
         "showlegend": false,
         "type": "bar",
         "uid": "9c56ce78-d259-11e8-8aa4-f0189804b8bf",
         "x": [
          0,
          5,
          0,
          12,
          6,
          58,
          109,
          191,
          780,
          10353
         ],
         "xaxis": "x2",
         "y": [
          "UC Browser",
          "Opera",
          "Opera Mini",
          "Safari (in-app)",
          "Android Webview",
          "Edge",
          "Internet Explorer",
          "Firefox",
          "Safari",
          "Chrome"
         ],
         "yaxis": "y2"
        }
       ],
       "layout": {
        "annotations": [
         {
          "font": {
           "size": 16
          },
          "showarrow": false,
          "text": "Traffic Source Campaign (not-set removed)",
          "x": 0.225,
          "xanchor": "center",
          "xref": "paper",
          "y": 1,
          "yanchor": "bottom",
          "yref": "paper"
         },
         {
          "font": {
           "size": 16
          },
          "showarrow": false,
          "text": "Traffic Source Medium",
          "x": 0.775,
          "xanchor": "center",
          "xref": "paper",
          "y": 1,
          "yanchor": "bottom",
          "yref": "paper"
         }
        ],
        "height": 900,
        "margin": {
         "b": 100
        },
        "paper_bgcolor": "rgb(233,233,233)",
        "showlegend": false,
        "title": "Device Plots",
        "width": 900,
        "xaxis": {
         "anchor": "y",
         "domain": [
          0,
          0.45
         ]
        },
        "xaxis2": {
         "anchor": "y2",
         "domain": [
          0.55,
          1
         ]
        },
        "yaxis": {
         "anchor": "x",
         "domain": [
          0,
          1
         ]
        },
        "yaxis2": {
         "anchor": "x2",
         "domain": [
          0,
          1
         ]
        }
       }
      },
      "text/html": [
       "<div id=\"aadb7522-9e6c-4273-b651-cd1c720a9a79\" style=\"height: 900px; width: 900px;\" class=\"plotly-graph-div\"></div><script type=\"text/javascript\">require([\"plotly\"], function(Plotly) { window.PLOTLYENV=window.PLOTLYENV || {};window.PLOTLYENV.BASE_URL=\"https://plot.ly\";Plotly.newPlot(\"aadb7522-9e6c-4273-b651-cd1c720a9a79\", [{\"marker\": {\"color\": \"Red\"}, \"x\": [\"(not set)\", \"Data Share Promo\", \"AW - Dynamic Search Ads Whole Site\", \"AW - Accessories\", \"test-liyuhz\", \"AW - Electronics\", \"Retail (DO NOT EDIT owners nophakun and tianyu)\", \"AW - Apparel\", \"All Products\", \"Data Share\"], \"y\": [865347, 16403, 14244, 7070, 392, 96, 50, 46, 4, 1], \"type\": \"bar\", \"uid\": \"56f0b30a-d257-11e8-87b3-f0189804b8bf\", \"xaxis\": \"x\", \"yaxis\": \"y\"}, {\"marker\": {\"color\": \"blue\"}, \"x\": [\"organic\", \"referral\", \"(none)\", \"cpc\", \"affiliate\", \"cpm\", \"(not set)\"], \"y\": [381561, 330955, 143026, 25326, 16403, 6262, 120], \"type\": \"bar\", \"uid\": \"56f136cc-d257-11e8-840c-f0189804b8bf\", \"xaxis\": \"x2\", \"yaxis\": \"y2\"}, {\"marker\": {\"color\": \"rgba(50, 171, 96, 0.6)\"}, \"orientation\": \"h\", \"showlegend\": false, \"x\": [2427, 5643, 6139, 6850, 7865, 10205, 19375, 37069, 182245, 620364], \"y\": [\"UC Browser\", \"Opera\", \"Opera Mini\", \"Safari (in-app)\", \"Android Webview\", \"Edge\", \"Internet Explorer\", \"Firefox\", \"Safari\", \"Chrome\"], \"type\": \"bar\", \"uid\": \"d0e70bcc-d258-11e8-8404-f0189804b8bf\", \"xaxis\": \"x\", \"yaxis\": \"y\"}, {\"marker\": {\"color\": \"rgba(50, 171, 96, 0.6)\"}, \"orientation\": \"h\", \"showlegend\": false, \"x\": [0, 5, 0, 12, 6, 58, 109, 191, 780, 10353], \"y\": [\"UC Browser\", \"Opera\", \"Opera Mini\", \"Safari (in-app)\", \"Android Webview\", \"Edge\", \"Internet Explorer\", \"Firefox\", \"Safari\", \"Chrome\"], \"type\": \"bar\", \"uid\": \"d0e76cc0-d258-11e8-9c63-f0189804b8bf\", \"xaxis\": \"x2\", \"yaxis\": \"y2\"}, {\"marker\": {\"color\": \"rgba(50, 171, 96, 0.6)\"}, \"orientation\": \"h\", \"showlegend\": false, \"x\": [2427, 5643, 6139, 6850, 7865, 10205, 19375, 37069, 182245, 620364], \"y\": [\"UC Browser\", \"Opera\", \"Opera Mini\", \"Safari (in-app)\", \"Android Webview\", \"Edge\", \"Internet Explorer\", \"Firefox\", \"Safari\", \"Chrome\"], \"type\": \"bar\", \"uid\": \"d83d9c42-d258-11e8-bed0-f0189804b8bf\", \"xaxis\": \"x\", \"yaxis\": \"y\"}, {\"marker\": {\"color\": \"rgba(50, 171, 96, 0.6)\"}, \"orientation\": \"h\", \"showlegend\": false, \"x\": [0, 5, 0, 12, 6, 58, 109, 191, 780, 10353], \"y\": [\"UC Browser\", \"Opera\", \"Opera Mini\", \"Safari (in-app)\", \"Android Webview\", \"Edge\", \"Internet Explorer\", \"Firefox\", \"Safari\", \"Chrome\"], \"type\": \"bar\", \"uid\": \"d83e01f0-d258-11e8-9470-f0189804b8bf\", \"xaxis\": \"x2\", \"yaxis\": \"y2\"}, {\"marker\": {\"color\": \"rgba(50, 171, 96, 0.6)\"}, \"orientation\": \"h\", \"showlegend\": false, \"x\": [2427, 5643, 6139, 6850, 7865, 10205, 19375, 37069, 182245, 620364], \"y\": [\"UC Browser\", \"Opera\", \"Opera Mini\", \"Safari (in-app)\", \"Android Webview\", \"Edge\", \"Internet Explorer\", \"Firefox\", \"Safari\", \"Chrome\"], \"type\": \"bar\", \"uid\": \"1efc5f1a-d259-11e8-a868-f0189804b8bf\", \"xaxis\": \"x\", \"yaxis\": \"y\"}, {\"marker\": {\"color\": \"rgba(50, 171, 96, 0.6)\"}, \"orientation\": \"h\", \"showlegend\": false, \"x\": [0, 5, 0, 12, 6, 58, 109, 191, 780, 10353], \"y\": [\"UC Browser\", \"Opera\", \"Opera Mini\", \"Safari (in-app)\", \"Android Webview\", \"Edge\", \"Internet Explorer\", \"Firefox\", \"Safari\", \"Chrome\"], \"type\": \"bar\", \"uid\": \"1efcd3e6-d259-11e8-a055-f0189804b8bf\", \"xaxis\": \"x2\", \"yaxis\": \"y2\"}, {\"marker\": {\"color\": \"rgba(50, 171, 96, 0.6)\"}, \"orientation\": \"h\", \"showlegend\": false, \"x\": [2427, 5643, 6139, 6850, 7865, 10205, 19375, 37069, 182245, 620364], \"y\": [\"UC Browser\", \"Opera\", \"Opera Mini\", \"Safari (in-app)\", \"Android Webview\", \"Edge\", \"Internet Explorer\", \"Firefox\", \"Safari\", \"Chrome\"], \"type\": \"bar\", \"uid\": \"26edb7b4-d259-11e8-8658-f0189804b8bf\", \"xaxis\": \"x\", \"yaxis\": \"y\"}, {\"marker\": {\"color\": \"rgba(50, 171, 96, 0.6)\"}, \"orientation\": \"h\", \"showlegend\": false, \"x\": [0, 5, 0, 12, 6, 58, 109, 191, 780, 10353], \"y\": [\"UC Browser\", \"Opera\", \"Opera Mini\", \"Safari (in-app)\", \"Android Webview\", \"Edge\", \"Internet Explorer\", \"Firefox\", \"Safari\", \"Chrome\"], \"type\": \"bar\", \"uid\": \"26ee29d8-d259-11e8-964c-f0189804b8bf\", \"xaxis\": \"x2\", \"yaxis\": \"y2\"}, {\"marker\": {\"color\": \"rgba(50, 171, 96, 0.6)\"}, \"orientation\": \"h\", \"showlegend\": false, \"x\": [2427, 5643, 6139, 6850, 7865, 10205, 19375, 37069, 182245, 620364], \"y\": [\"UC Browser\", \"Opera\", \"Opera Mini\", \"Safari (in-app)\", \"Android Webview\", \"Edge\", \"Internet Explorer\", \"Firefox\", \"Safari\", \"Chrome\"], \"type\": \"bar\", \"uid\": \"4dfe1524-d259-11e8-a5b9-f0189804b8bf\", \"xaxis\": \"x\", \"yaxis\": \"y\"}, {\"marker\": {\"color\": \"rgba(50, 171, 96, 0.6)\"}, \"orientation\": \"h\", \"showlegend\": false, \"x\": [0, 5, 0, 12, 6, 58, 109, 191, 780, 10353], \"y\": [\"UC Browser\", \"Opera\", \"Opera Mini\", \"Safari (in-app)\", \"Android Webview\", \"Edge\", \"Internet Explorer\", \"Firefox\", \"Safari\", \"Chrome\"], \"type\": \"bar\", \"uid\": \"4dfeab74-d259-11e8-a29f-f0189804b8bf\", \"xaxis\": \"x2\", \"yaxis\": \"y2\"}, {\"marker\": {\"color\": \"rgba(50, 171, 96, 0.6)\"}, \"orientation\": \"h\", \"showlegend\": false, \"x\": [2427, 5643, 6139, 6850, 7865, 10205, 19375, 37069, 182245, 620364], \"y\": [\"UC Browser\", \"Opera\", \"Opera Mini\", \"Safari (in-app)\", \"Android Webview\", \"Edge\", \"Internet Explorer\", \"Firefox\", \"Safari\", \"Chrome\"], \"type\": \"bar\", \"uid\": \"536ff49e-d259-11e8-bcfc-f0189804b8bf\", \"xaxis\": \"x\", \"yaxis\": \"y\"}, {\"marker\": {\"color\": \"rgba(50, 171, 96, 0.6)\"}, \"orientation\": \"h\", \"showlegend\": false, \"x\": [0, 5, 0, 12, 6, 58, 109, 191, 780, 10353], \"y\": [\"UC Browser\", \"Opera\", \"Opera Mini\", \"Safari (in-app)\", \"Android Webview\", \"Edge\", \"Internet Explorer\", \"Firefox\", \"Safari\", \"Chrome\"], \"type\": \"bar\", \"uid\": \"53706a66-d259-11e8-9b23-f0189804b8bf\", \"xaxis\": \"x2\", \"yaxis\": \"y2\"}, {\"marker\": {\"color\": \"rgba(50, 171, 96, 0.6)\"}, \"orientation\": \"h\", \"showlegend\": false, \"x\": [2427, 5643, 6139, 6850, 7865, 10205, 19375, 37069, 182245, 620364], \"y\": [\"UC Browser\", \"Opera\", \"Opera Mini\", \"Safari (in-app)\", \"Android Webview\", \"Edge\", \"Internet Explorer\", \"Firefox\", \"Safari\", \"Chrome\"], \"type\": \"bar\", \"uid\": \"572ad52e-d259-11e8-b02e-f0189804b8bf\", \"xaxis\": \"x\", \"yaxis\": \"y\"}, {\"marker\": {\"color\": \"rgba(50, 171, 96, 0.6)\"}, \"orientation\": \"h\", \"showlegend\": false, \"x\": [0, 5, 0, 12, 6, 58, 109, 191, 780, 10353], \"y\": [\"UC Browser\", \"Opera\", \"Opera Mini\", \"Safari (in-app)\", \"Android Webview\", \"Edge\", \"Internet Explorer\", \"Firefox\", \"Safari\", \"Chrome\"], \"type\": \"bar\", \"uid\": \"572b3a46-d259-11e8-8e4c-f0189804b8bf\", \"xaxis\": \"x2\", \"yaxis\": \"y2\"}, {\"marker\": {\"color\": \"rgba(50, 171, 96, 0.6)\"}, \"orientation\": \"h\", \"showlegend\": false, \"x\": [2427, 5643, 6139, 6850, 7865, 10205, 19375, 37069, 182245, 620364], \"y\": [\"UC Browser\", \"Opera\", \"Opera Mini\", \"Safari (in-app)\", \"Android Webview\", \"Edge\", \"Internet Explorer\", \"Firefox\", \"Safari\", \"Chrome\"], \"type\": \"bar\", \"uid\": \"8edcf588-d259-11e8-aa4f-f0189804b8bf\", \"xaxis\": \"x\", \"yaxis\": \"y\"}, {\"marker\": {\"color\": \"rgba(50, 171, 96, 0.6)\"}, \"orientation\": \"h\", \"showlegend\": false, \"x\": [0, 5, 0, 12, 6, 58, 109, 191, 780, 10353], \"y\": [\"UC Browser\", \"Opera\", \"Opera Mini\", \"Safari (in-app)\", \"Android Webview\", \"Edge\", \"Internet Explorer\", \"Firefox\", \"Safari\", \"Chrome\"], \"type\": \"bar\", \"uid\": \"8edd6efa-d259-11e8-9701-f0189804b8bf\", \"xaxis\": \"x2\", \"yaxis\": \"y2\"}, {\"marker\": {\"color\": \"rgba(50, 171, 96, 0.6)\"}, \"orientation\": \"h\", \"showlegend\": false, \"x\": [2427, 5643, 6139, 6850, 7865, 10205, 19375, 37069, 182245, 620364], \"y\": [\"UC Browser\", \"Opera\", \"Opera Mini\", \"Safari (in-app)\", \"Android Webview\", \"Edge\", \"Internet Explorer\", \"Firefox\", \"Safari\", \"Chrome\"], \"type\": \"bar\", \"uid\": \"9250485a-d259-11e8-8bc4-f0189804b8bf\", \"xaxis\": \"x\", \"yaxis\": \"y\"}, {\"marker\": {\"color\": \"rgba(50, 171, 96, 0.6)\"}, \"orientation\": \"h\", \"showlegend\": false, \"x\": [0, 5, 0, 12, 6, 58, 109, 191, 780, 10353], \"y\": [\"UC Browser\", \"Opera\", \"Opera Mini\", \"Safari (in-app)\", \"Android Webview\", \"Edge\", \"Internet Explorer\", \"Firefox\", \"Safari\", \"Chrome\"], \"type\": \"bar\", \"uid\": \"9250eb66-d259-11e8-8ca6-f0189804b8bf\", \"xaxis\": \"x2\", \"yaxis\": \"y2\"}, {\"marker\": {\"color\": \"rgba(50, 171, 96, 0.6)\"}, \"orientation\": \"h\", \"showlegend\": false, \"x\": [2427, 5643, 6139, 6850, 7865, 10205, 19375, 37069, 182245, 620364], \"y\": [\"UC Browser\", \"Opera\", \"Opera Mini\", \"Safari (in-app)\", \"Android Webview\", \"Edge\", \"Internet Explorer\", \"Firefox\", \"Safari\", \"Chrome\"], \"type\": \"bar\", \"uid\": \"9c566622-d259-11e8-9ab4-f0189804b8bf\", \"xaxis\": \"x\", \"yaxis\": \"y\"}, {\"marker\": {\"color\": \"rgba(50, 171, 96, 0.6)\"}, \"orientation\": \"h\", \"showlegend\": false, \"x\": [0, 5, 0, 12, 6, 58, 109, 191, 780, 10353], \"y\": [\"UC Browser\", \"Opera\", \"Opera Mini\", \"Safari (in-app)\", \"Android Webview\", \"Edge\", \"Internet Explorer\", \"Firefox\", \"Safari\", \"Chrome\"], \"type\": \"bar\", \"uid\": \"9c56ce78-d259-11e8-8aa4-f0189804b8bf\", \"xaxis\": \"x2\", \"yaxis\": \"y2\"}], {\"annotations\": [{\"font\": {\"size\": 16}, \"showarrow\": false, \"text\": \"Traffic Source Campaign (not-set removed)\", \"x\": 0.225, \"xanchor\": \"center\", \"xref\": \"paper\", \"y\": 1.0, \"yanchor\": \"bottom\", \"yref\": \"paper\"}, {\"font\": {\"size\": 16}, \"showarrow\": false, \"text\": \"Traffic Source Medium\", \"x\": 0.775, \"xanchor\": \"center\", \"xref\": \"paper\", \"y\": 1.0, \"yanchor\": \"bottom\", \"yref\": \"paper\"}], \"xaxis\": {\"anchor\": \"y\", \"domain\": [0.0, 0.45]}, \"yaxis\": {\"anchor\": \"x\", \"domain\": [0.0, 1.0]}, \"xaxis2\": {\"anchor\": \"y2\", \"domain\": [0.55, 1.0]}, \"yaxis2\": {\"anchor\": \"x2\", \"domain\": [0.0, 1.0]}, \"margin\": {\"b\": 100}, \"height\": 900, \"showlegend\": false, \"width\": 900, \"paper_bgcolor\": \"rgb(233,233,233)\", \"title\": \"Device Plots\"}, {\"showLink\": true, \"linkText\": \"Export to plot.ly\"})});</script>"
      ],
      "text/vnd.plotly.v1+html": [
       "<div id=\"aadb7522-9e6c-4273-b651-cd1c720a9a79\" style=\"height: 900px; width: 900px;\" class=\"plotly-graph-div\"></div><script type=\"text/javascript\">require([\"plotly\"], function(Plotly) { window.PLOTLYENV=window.PLOTLYENV || {};window.PLOTLYENV.BASE_URL=\"https://plot.ly\";Plotly.newPlot(\"aadb7522-9e6c-4273-b651-cd1c720a9a79\", [{\"marker\": {\"color\": \"Red\"}, \"x\": [\"(not set)\", \"Data Share Promo\", \"AW - Dynamic Search Ads Whole Site\", \"AW - Accessories\", \"test-liyuhz\", \"AW - Electronics\", \"Retail (DO NOT EDIT owners nophakun and tianyu)\", \"AW - Apparel\", \"All Products\", \"Data Share\"], \"y\": [865347, 16403, 14244, 7070, 392, 96, 50, 46, 4, 1], \"type\": \"bar\", \"uid\": \"56f0b30a-d257-11e8-87b3-f0189804b8bf\", \"xaxis\": \"x\", \"yaxis\": \"y\"}, {\"marker\": {\"color\": \"blue\"}, \"x\": [\"organic\", \"referral\", \"(none)\", \"cpc\", \"affiliate\", \"cpm\", \"(not set)\"], \"y\": [381561, 330955, 143026, 25326, 16403, 6262, 120], \"type\": \"bar\", \"uid\": \"56f136cc-d257-11e8-840c-f0189804b8bf\", \"xaxis\": \"x2\", \"yaxis\": \"y2\"}, {\"marker\": {\"color\": \"rgba(50, 171, 96, 0.6)\"}, \"orientation\": \"h\", \"showlegend\": false, \"x\": [2427, 5643, 6139, 6850, 7865, 10205, 19375, 37069, 182245, 620364], \"y\": [\"UC Browser\", \"Opera\", \"Opera Mini\", \"Safari (in-app)\", \"Android Webview\", \"Edge\", \"Internet Explorer\", \"Firefox\", \"Safari\", \"Chrome\"], \"type\": \"bar\", \"uid\": \"d0e70bcc-d258-11e8-8404-f0189804b8bf\", \"xaxis\": \"x\", \"yaxis\": \"y\"}, {\"marker\": {\"color\": \"rgba(50, 171, 96, 0.6)\"}, \"orientation\": \"h\", \"showlegend\": false, \"x\": [0, 5, 0, 12, 6, 58, 109, 191, 780, 10353], \"y\": [\"UC Browser\", \"Opera\", \"Opera Mini\", \"Safari (in-app)\", \"Android Webview\", \"Edge\", \"Internet Explorer\", \"Firefox\", \"Safari\", \"Chrome\"], \"type\": \"bar\", \"uid\": \"d0e76cc0-d258-11e8-9c63-f0189804b8bf\", \"xaxis\": \"x2\", \"yaxis\": \"y2\"}, {\"marker\": {\"color\": \"rgba(50, 171, 96, 0.6)\"}, \"orientation\": \"h\", \"showlegend\": false, \"x\": [2427, 5643, 6139, 6850, 7865, 10205, 19375, 37069, 182245, 620364], \"y\": [\"UC Browser\", \"Opera\", \"Opera Mini\", \"Safari (in-app)\", \"Android Webview\", \"Edge\", \"Internet Explorer\", \"Firefox\", \"Safari\", \"Chrome\"], \"type\": \"bar\", \"uid\": \"d83d9c42-d258-11e8-bed0-f0189804b8bf\", \"xaxis\": \"x\", \"yaxis\": \"y\"}, {\"marker\": {\"color\": \"rgba(50, 171, 96, 0.6)\"}, \"orientation\": \"h\", \"showlegend\": false, \"x\": [0, 5, 0, 12, 6, 58, 109, 191, 780, 10353], \"y\": [\"UC Browser\", \"Opera\", \"Opera Mini\", \"Safari (in-app)\", \"Android Webview\", \"Edge\", \"Internet Explorer\", \"Firefox\", \"Safari\", \"Chrome\"], \"type\": \"bar\", \"uid\": \"d83e01f0-d258-11e8-9470-f0189804b8bf\", \"xaxis\": \"x2\", \"yaxis\": \"y2\"}, {\"marker\": {\"color\": \"rgba(50, 171, 96, 0.6)\"}, \"orientation\": \"h\", \"showlegend\": false, \"x\": [2427, 5643, 6139, 6850, 7865, 10205, 19375, 37069, 182245, 620364], \"y\": [\"UC Browser\", \"Opera\", \"Opera Mini\", \"Safari (in-app)\", \"Android Webview\", \"Edge\", \"Internet Explorer\", \"Firefox\", \"Safari\", \"Chrome\"], \"type\": \"bar\", \"uid\": \"1efc5f1a-d259-11e8-a868-f0189804b8bf\", \"xaxis\": \"x\", \"yaxis\": \"y\"}, {\"marker\": {\"color\": \"rgba(50, 171, 96, 0.6)\"}, \"orientation\": \"h\", \"showlegend\": false, \"x\": [0, 5, 0, 12, 6, 58, 109, 191, 780, 10353], \"y\": [\"UC Browser\", \"Opera\", \"Opera Mini\", \"Safari (in-app)\", \"Android Webview\", \"Edge\", \"Internet Explorer\", \"Firefox\", \"Safari\", \"Chrome\"], \"type\": \"bar\", \"uid\": \"1efcd3e6-d259-11e8-a055-f0189804b8bf\", \"xaxis\": \"x2\", \"yaxis\": \"y2\"}, {\"marker\": {\"color\": \"rgba(50, 171, 96, 0.6)\"}, \"orientation\": \"h\", \"showlegend\": false, \"x\": [2427, 5643, 6139, 6850, 7865, 10205, 19375, 37069, 182245, 620364], \"y\": [\"UC Browser\", \"Opera\", \"Opera Mini\", \"Safari (in-app)\", \"Android Webview\", \"Edge\", \"Internet Explorer\", \"Firefox\", \"Safari\", \"Chrome\"], \"type\": \"bar\", \"uid\": \"26edb7b4-d259-11e8-8658-f0189804b8bf\", \"xaxis\": \"x\", \"yaxis\": \"y\"}, {\"marker\": {\"color\": \"rgba(50, 171, 96, 0.6)\"}, \"orientation\": \"h\", \"showlegend\": false, \"x\": [0, 5, 0, 12, 6, 58, 109, 191, 780, 10353], \"y\": [\"UC Browser\", \"Opera\", \"Opera Mini\", \"Safari (in-app)\", \"Android Webview\", \"Edge\", \"Internet Explorer\", \"Firefox\", \"Safari\", \"Chrome\"], \"type\": \"bar\", \"uid\": \"26ee29d8-d259-11e8-964c-f0189804b8bf\", \"xaxis\": \"x2\", \"yaxis\": \"y2\"}, {\"marker\": {\"color\": \"rgba(50, 171, 96, 0.6)\"}, \"orientation\": \"h\", \"showlegend\": false, \"x\": [2427, 5643, 6139, 6850, 7865, 10205, 19375, 37069, 182245, 620364], \"y\": [\"UC Browser\", \"Opera\", \"Opera Mini\", \"Safari (in-app)\", \"Android Webview\", \"Edge\", \"Internet Explorer\", \"Firefox\", \"Safari\", \"Chrome\"], \"type\": \"bar\", \"uid\": \"4dfe1524-d259-11e8-a5b9-f0189804b8bf\", \"xaxis\": \"x\", \"yaxis\": \"y\"}, {\"marker\": {\"color\": \"rgba(50, 171, 96, 0.6)\"}, \"orientation\": \"h\", \"showlegend\": false, \"x\": [0, 5, 0, 12, 6, 58, 109, 191, 780, 10353], \"y\": [\"UC Browser\", \"Opera\", \"Opera Mini\", \"Safari (in-app)\", \"Android Webview\", \"Edge\", \"Internet Explorer\", \"Firefox\", \"Safari\", \"Chrome\"], \"type\": \"bar\", \"uid\": \"4dfeab74-d259-11e8-a29f-f0189804b8bf\", \"xaxis\": \"x2\", \"yaxis\": \"y2\"}, {\"marker\": {\"color\": \"rgba(50, 171, 96, 0.6)\"}, \"orientation\": \"h\", \"showlegend\": false, \"x\": [2427, 5643, 6139, 6850, 7865, 10205, 19375, 37069, 182245, 620364], \"y\": [\"UC Browser\", \"Opera\", \"Opera Mini\", \"Safari (in-app)\", \"Android Webview\", \"Edge\", \"Internet Explorer\", \"Firefox\", \"Safari\", \"Chrome\"], \"type\": \"bar\", \"uid\": \"536ff49e-d259-11e8-bcfc-f0189804b8bf\", \"xaxis\": \"x\", \"yaxis\": \"y\"}, {\"marker\": {\"color\": \"rgba(50, 171, 96, 0.6)\"}, \"orientation\": \"h\", \"showlegend\": false, \"x\": [0, 5, 0, 12, 6, 58, 109, 191, 780, 10353], \"y\": [\"UC Browser\", \"Opera\", \"Opera Mini\", \"Safari (in-app)\", \"Android Webview\", \"Edge\", \"Internet Explorer\", \"Firefox\", \"Safari\", \"Chrome\"], \"type\": \"bar\", \"uid\": \"53706a66-d259-11e8-9b23-f0189804b8bf\", \"xaxis\": \"x2\", \"yaxis\": \"y2\"}, {\"marker\": {\"color\": \"rgba(50, 171, 96, 0.6)\"}, \"orientation\": \"h\", \"showlegend\": false, \"x\": [2427, 5643, 6139, 6850, 7865, 10205, 19375, 37069, 182245, 620364], \"y\": [\"UC Browser\", \"Opera\", \"Opera Mini\", \"Safari (in-app)\", \"Android Webview\", \"Edge\", \"Internet Explorer\", \"Firefox\", \"Safari\", \"Chrome\"], \"type\": \"bar\", \"uid\": \"572ad52e-d259-11e8-b02e-f0189804b8bf\", \"xaxis\": \"x\", \"yaxis\": \"y\"}, {\"marker\": {\"color\": \"rgba(50, 171, 96, 0.6)\"}, \"orientation\": \"h\", \"showlegend\": false, \"x\": [0, 5, 0, 12, 6, 58, 109, 191, 780, 10353], \"y\": [\"UC Browser\", \"Opera\", \"Opera Mini\", \"Safari (in-app)\", \"Android Webview\", \"Edge\", \"Internet Explorer\", \"Firefox\", \"Safari\", \"Chrome\"], \"type\": \"bar\", \"uid\": \"572b3a46-d259-11e8-8e4c-f0189804b8bf\", \"xaxis\": \"x2\", \"yaxis\": \"y2\"}, {\"marker\": {\"color\": \"rgba(50, 171, 96, 0.6)\"}, \"orientation\": \"h\", \"showlegend\": false, \"x\": [2427, 5643, 6139, 6850, 7865, 10205, 19375, 37069, 182245, 620364], \"y\": [\"UC Browser\", \"Opera\", \"Opera Mini\", \"Safari (in-app)\", \"Android Webview\", \"Edge\", \"Internet Explorer\", \"Firefox\", \"Safari\", \"Chrome\"], \"type\": \"bar\", \"uid\": \"8edcf588-d259-11e8-aa4f-f0189804b8bf\", \"xaxis\": \"x\", \"yaxis\": \"y\"}, {\"marker\": {\"color\": \"rgba(50, 171, 96, 0.6)\"}, \"orientation\": \"h\", \"showlegend\": false, \"x\": [0, 5, 0, 12, 6, 58, 109, 191, 780, 10353], \"y\": [\"UC Browser\", \"Opera\", \"Opera Mini\", \"Safari (in-app)\", \"Android Webview\", \"Edge\", \"Internet Explorer\", \"Firefox\", \"Safari\", \"Chrome\"], \"type\": \"bar\", \"uid\": \"8edd6efa-d259-11e8-9701-f0189804b8bf\", \"xaxis\": \"x2\", \"yaxis\": \"y2\"}, {\"marker\": {\"color\": \"rgba(50, 171, 96, 0.6)\"}, \"orientation\": \"h\", \"showlegend\": false, \"x\": [2427, 5643, 6139, 6850, 7865, 10205, 19375, 37069, 182245, 620364], \"y\": [\"UC Browser\", \"Opera\", \"Opera Mini\", \"Safari (in-app)\", \"Android Webview\", \"Edge\", \"Internet Explorer\", \"Firefox\", \"Safari\", \"Chrome\"], \"type\": \"bar\", \"uid\": \"9250485a-d259-11e8-8bc4-f0189804b8bf\", \"xaxis\": \"x\", \"yaxis\": \"y\"}, {\"marker\": {\"color\": \"rgba(50, 171, 96, 0.6)\"}, \"orientation\": \"h\", \"showlegend\": false, \"x\": [0, 5, 0, 12, 6, 58, 109, 191, 780, 10353], \"y\": [\"UC Browser\", \"Opera\", \"Opera Mini\", \"Safari (in-app)\", \"Android Webview\", \"Edge\", \"Internet Explorer\", \"Firefox\", \"Safari\", \"Chrome\"], \"type\": \"bar\", \"uid\": \"9250eb66-d259-11e8-8ca6-f0189804b8bf\", \"xaxis\": \"x2\", \"yaxis\": \"y2\"}, {\"marker\": {\"color\": \"rgba(50, 171, 96, 0.6)\"}, \"orientation\": \"h\", \"showlegend\": false, \"x\": [2427, 5643, 6139, 6850, 7865, 10205, 19375, 37069, 182245, 620364], \"y\": [\"UC Browser\", \"Opera\", \"Opera Mini\", \"Safari (in-app)\", \"Android Webview\", \"Edge\", \"Internet Explorer\", \"Firefox\", \"Safari\", \"Chrome\"], \"type\": \"bar\", \"uid\": \"9c566622-d259-11e8-9ab4-f0189804b8bf\", \"xaxis\": \"x\", \"yaxis\": \"y\"}, {\"marker\": {\"color\": \"rgba(50, 171, 96, 0.6)\"}, \"orientation\": \"h\", \"showlegend\": false, \"x\": [0, 5, 0, 12, 6, 58, 109, 191, 780, 10353], \"y\": [\"UC Browser\", \"Opera\", \"Opera Mini\", \"Safari (in-app)\", \"Android Webview\", \"Edge\", \"Internet Explorer\", \"Firefox\", \"Safari\", \"Chrome\"], \"type\": \"bar\", \"uid\": \"9c56ce78-d259-11e8-8aa4-f0189804b8bf\", \"xaxis\": \"x2\", \"yaxis\": \"y2\"}], {\"annotations\": [{\"font\": {\"size\": 16}, \"showarrow\": false, \"text\": \"Traffic Source Campaign (not-set removed)\", \"x\": 0.225, \"xanchor\": \"center\", \"xref\": \"paper\", \"y\": 1.0, \"yanchor\": \"bottom\", \"yref\": \"paper\"}, {\"font\": {\"size\": 16}, \"showarrow\": false, \"text\": \"Traffic Source Medium\", \"x\": 0.775, \"xanchor\": \"center\", \"xref\": \"paper\", \"y\": 1.0, \"yanchor\": \"bottom\", \"yref\": \"paper\"}], \"xaxis\": {\"anchor\": \"y\", \"domain\": [0.0, 0.45]}, \"yaxis\": {\"anchor\": \"x\", \"domain\": [0.0, 1.0]}, \"xaxis2\": {\"anchor\": \"y2\", \"domain\": [0.55, 1.0]}, \"yaxis2\": {\"anchor\": \"x2\", \"domain\": [0.0, 1.0]}, \"margin\": {\"b\": 100}, \"height\": 900, \"showlegend\": false, \"width\": 900, \"paper_bgcolor\": \"rgb(233,233,233)\", \"title\": \"Device Plots\"}, {\"showLink\": true, \"linkText\": \"Export to plot.ly\"})});</script>"
      ]
     },
     "metadata": {},
     "output_type": "display_data"
    }
   ],
   "source": [
    "count_source = train.groupby('device_browser')['totals_transactionRevenue'].agg(['size', 'count', 'mean'])\n",
    "count_source.columns = [\"count\", \"non-zero TranRevenue Count\", \"Mean\"]\n",
    "count_source = count_source.sort_values(by=\"count\", ascending=False)\n",
    "t1 = horizontal_bar_chart(count_source[\"count\"].head(10), 'rgba(50, 171, 96, 0.6)')\n",
    "t2 = horizontal_bar_chart(count_source[\"non-zero TranRevenue Count\"].head(10), 'rgba(50, 171, 96, 0.6)')\n",
    "t3 = horizontal_bar_chart(count_source[\"Mean\"].head(10), 'rgba(50, 171, 96, 0.6)')\n",
    "\n",
    "fig.append_trace(t1, 1, 1)\n",
    "fig.append_trace(t2, 1, 2)\n",
    "#fig.append_trace(t3, 1, 3)\n",
    "\n",
    "fig['layout'].update(height=900, width=900, paper_bgcolor='rgb(233,233,233)', title=\"Device Plots\")\n",
    "iplot(fig, filename='device-plots')"
   ]
  },
  {
   "cell_type": "code",
   "execution_count": 183,
   "metadata": {},
   "outputs": [
    {
     "data": {
      "application/vnd.plotly.v1+json": {
       "data": [
        {
         "marker": {
          "color": "Red"
         },
         "type": "bar",
         "uid": "ac2ad0a6-d259-11e8-aeb3-f0189804b8bf",
         "x": [
          "(not set)",
          "Data Share Promo",
          "AW - Dynamic Search Ads Whole Site",
          "AW - Accessories",
          "test-liyuhz",
          "AW - Electronics",
          "Retail (DO NOT EDIT owners nophakun and tianyu)",
          "AW - Apparel",
          "All Products",
          "Data Share"
         ],
         "xaxis": "x",
         "y": [
          865347,
          16403,
          14244,
          7070,
          392,
          96,
          50,
          46,
          4,
          1
         ],
         "yaxis": "y"
        },
        {
         "marker": {
          "color": "blue"
         },
         "type": "bar",
         "uid": "ac2c3a2c-d259-11e8-8c22-f0189804b8bf",
         "x": [
          "organic",
          "referral",
          "(none)",
          "cpc",
          "affiliate",
          "cpm",
          "(not set)"
         ],
         "xaxis": "x2",
         "y": [
          381561,
          330955,
          143026,
          25326,
          16403,
          6262,
          120
         ],
         "yaxis": "y2"
        }
       ],
       "layout": {
        "annotations": [
         {
          "font": {
           "size": 16
          },
          "showarrow": false,
          "text": "Traffic Source Campaign (not-set removed)",
          "x": 0.225,
          "xanchor": "center",
          "xref": "paper",
          "y": 1,
          "yanchor": "bottom",
          "yref": "paper"
         },
         {
          "font": {
           "size": 16
          },
          "showarrow": false,
          "text": "Traffic Source Medium",
          "x": 0.775,
          "xanchor": "center",
          "xref": "paper",
          "y": 1,
          "yanchor": "bottom",
          "yref": "paper"
         }
        ],
        "height": 400,
        "margin": {
         "b": 100
        },
        "showlegend": false,
        "xaxis": {
         "anchor": "y",
         "domain": [
          0,
          0.45
         ]
        },
        "xaxis2": {
         "anchor": "y2",
         "domain": [
          0.55,
          1
         ]
        },
        "yaxis": {
         "anchor": "x",
         "domain": [
          0,
          1
         ]
        },
        "yaxis2": {
         "anchor": "x2",
         "domain": [
          0,
          1
         ]
        }
       }
      },
      "text/html": [
       "<div id=\"9dfc4944-d090-401f-a7f2-5a08affc53a2\" style=\"height: 400px; width: 100%;\" class=\"plotly-graph-div\"></div><script type=\"text/javascript\">require([\"plotly\"], function(Plotly) { window.PLOTLYENV=window.PLOTLYENV || {};window.PLOTLYENV.BASE_URL=\"https://plot.ly\";Plotly.newPlot(\"9dfc4944-d090-401f-a7f2-5a08affc53a2\", [{\"marker\": {\"color\": \"Red\"}, \"x\": [\"(not set)\", \"Data Share Promo\", \"AW - Dynamic Search Ads Whole Site\", \"AW - Accessories\", \"test-liyuhz\", \"AW - Electronics\", \"Retail (DO NOT EDIT owners nophakun and tianyu)\", \"AW - Apparel\", \"All Products\", \"Data Share\"], \"y\": [865347, 16403, 14244, 7070, 392, 96, 50, 46, 4, 1], \"type\": \"bar\", \"uid\": \"ac2ad0a6-d259-11e8-aeb3-f0189804b8bf\", \"xaxis\": \"x\", \"yaxis\": \"y\"}, {\"marker\": {\"color\": \"blue\"}, \"x\": [\"organic\", \"referral\", \"(none)\", \"cpc\", \"affiliate\", \"cpm\", \"(not set)\"], \"y\": [381561, 330955, 143026, 25326, 16403, 6262, 120], \"type\": \"bar\", \"uid\": \"ac2c3a2c-d259-11e8-8c22-f0189804b8bf\", \"xaxis\": \"x2\", \"yaxis\": \"y2\"}], {\"annotations\": [{\"font\": {\"size\": 16}, \"showarrow\": false, \"text\": \"Traffic Source Campaign (not-set removed)\", \"x\": 0.225, \"xanchor\": \"center\", \"xref\": \"paper\", \"y\": 1.0, \"yanchor\": \"bottom\", \"yref\": \"paper\"}, {\"font\": {\"size\": 16}, \"showarrow\": false, \"text\": \"Traffic Source Medium\", \"x\": 0.775, \"xanchor\": \"center\", \"xref\": \"paper\", \"y\": 1.0, \"yanchor\": \"bottom\", \"yref\": \"paper\"}], \"xaxis\": {\"anchor\": \"y\", \"domain\": [0.0, 0.45]}, \"yaxis\": {\"anchor\": \"x\", \"domain\": [0.0, 1.0]}, \"xaxis2\": {\"anchor\": \"y2\", \"domain\": [0.55, 1.0]}, \"yaxis2\": {\"anchor\": \"x2\", \"domain\": [0.0, 1.0]}, \"margin\": {\"b\": 100}, \"height\": 400, \"showlegend\": false}, {\"showLink\": true, \"linkText\": \"Export to plot.ly\"})});</script>"
      ],
      "text/vnd.plotly.v1+html": [
       "<div id=\"9dfc4944-d090-401f-a7f2-5a08affc53a2\" style=\"height: 400px; width: 100%;\" class=\"plotly-graph-div\"></div><script type=\"text/javascript\">require([\"plotly\"], function(Plotly) { window.PLOTLYENV=window.PLOTLYENV || {};window.PLOTLYENV.BASE_URL=\"https://plot.ly\";Plotly.newPlot(\"9dfc4944-d090-401f-a7f2-5a08affc53a2\", [{\"marker\": {\"color\": \"Red\"}, \"x\": [\"(not set)\", \"Data Share Promo\", \"AW - Dynamic Search Ads Whole Site\", \"AW - Accessories\", \"test-liyuhz\", \"AW - Electronics\", \"Retail (DO NOT EDIT owners nophakun and tianyu)\", \"AW - Apparel\", \"All Products\", \"Data Share\"], \"y\": [865347, 16403, 14244, 7070, 392, 96, 50, 46, 4, 1], \"type\": \"bar\", \"uid\": \"ac2ad0a6-d259-11e8-aeb3-f0189804b8bf\", \"xaxis\": \"x\", \"yaxis\": \"y\"}, {\"marker\": {\"color\": \"blue\"}, \"x\": [\"organic\", \"referral\", \"(none)\", \"cpc\", \"affiliate\", \"cpm\", \"(not set)\"], \"y\": [381561, 330955, 143026, 25326, 16403, 6262, 120], \"type\": \"bar\", \"uid\": \"ac2c3a2c-d259-11e8-8c22-f0189804b8bf\", \"xaxis\": \"x2\", \"yaxis\": \"y2\"}], {\"annotations\": [{\"font\": {\"size\": 16}, \"showarrow\": false, \"text\": \"Traffic Source Campaign (not-set removed)\", \"x\": 0.225, \"xanchor\": \"center\", \"xref\": \"paper\", \"y\": 1.0, \"yanchor\": \"bottom\", \"yref\": \"paper\"}, {\"font\": {\"size\": 16}, \"showarrow\": false, \"text\": \"Traffic Source Medium\", \"x\": 0.775, \"xanchor\": \"center\", \"xref\": \"paper\", \"y\": 1.0, \"yanchor\": \"bottom\", \"yref\": \"paper\"}], \"xaxis\": {\"anchor\": \"y\", \"domain\": [0.0, 0.45]}, \"yaxis\": {\"anchor\": \"x\", \"domain\": [0.0, 1.0]}, \"xaxis2\": {\"anchor\": \"y2\", \"domain\": [0.55, 1.0]}, \"yaxis2\": {\"anchor\": \"x2\", \"domain\": [0.0, 1.0]}, \"margin\": {\"b\": 100}, \"height\": 400, \"showlegend\": false}, {\"showLink\": true, \"linkText\": \"Export to plot.ly\"})});</script>"
      ]
     },
     "metadata": {},
     "output_type": "display_data"
    }
   ],
   "source": [
    "fig = tools.make_subplots(rows=1, cols=2,subplot_titles=[\"Traffic Source Campaign (not-set removed)\", \n",
    "                                                         \"Traffic Source Medium\"], print_grid=False)\n",
    " \n",
    "colors = [\"Red\", \"Red\", \"blue\", \"green\"]\n",
    "t1 = train[\"trafficSource_campaign\"].value_counts()\n",
    "t2 = train[\"trafficSource_medium\"].value_counts()\n",
    "\n",
    "tr1 = go.Bar(x = t1.index, y = t1.values, marker=dict(color=colors[1]))\n",
    "tr2 = go.Bar(x = t2.index, y = t2.values, marker=dict(color=colors[2]))\n",
    "\n",
    "fig.append_trace(tr1, 1, 1)\n",
    "fig.append_trace(tr2, 1, 2)\n",
    "\n",
    "\n",
    "fig['layout'].update(height=400, margin=dict(b=100), showlegend=False)\n",
    "iplot(fig)"
   ]
  },
  {
   "cell_type": "code",
   "execution_count": 184,
   "metadata": {},
   "outputs": [
    {
     "data": {
      "application/vnd.plotly.v1+json": {
       "data": [
        {
         "marker": {
          "color": "Red"
         },
         "type": "bar",
         "uid": "ac2ad0a6-d259-11e8-aeb3-f0189804b8bf",
         "x": [
          "(not set)",
          "Data Share Promo",
          "AW - Dynamic Search Ads Whole Site",
          "AW - Accessories",
          "test-liyuhz",
          "AW - Electronics",
          "Retail (DO NOT EDIT owners nophakun and tianyu)",
          "AW - Apparel",
          "All Products",
          "Data Share"
         ],
         "xaxis": "x",
         "y": [
          865347,
          16403,
          14244,
          7070,
          392,
          96,
          50,
          46,
          4,
          1
         ],
         "yaxis": "y"
        },
        {
         "marker": {
          "color": "blue"
         },
         "type": "bar",
         "uid": "ac2c3a2c-d259-11e8-8c22-f0189804b8bf",
         "x": [
          "organic",
          "referral",
          "(none)",
          "cpc",
          "affiliate",
          "cpm",
          "(not set)"
         ],
         "xaxis": "x2",
         "y": [
          381561,
          330955,
          143026,
          25326,
          16403,
          6262,
          120
         ],
         "yaxis": "y2"
        },
        {
         "marker": {
          "color": "rgba(50, 171, 96, 0.6)"
         },
         "orientation": "h",
         "showlegend": false,
         "type": "bar",
         "uid": "b2d88998-d259-11e8-9c13-f0189804b8bf",
         "x": [
          2427,
          5643,
          6139,
          6850,
          7865,
          10205,
          19375,
          37069,
          182245,
          620364
         ],
         "xaxis": "x",
         "y": [
          "UC Browser",
          "Opera",
          "Opera Mini",
          "Safari (in-app)",
          "Android Webview",
          "Edge",
          "Internet Explorer",
          "Firefox",
          "Safari",
          "Chrome"
         ],
         "yaxis": "y"
        },
        {
         "marker": {
          "color": "rgba(50, 171, 96, 0.6)"
         },
         "orientation": "h",
         "showlegend": false,
         "type": "bar",
         "uid": "b2d94d1a-d259-11e8-b22c-f0189804b8bf",
         "x": [
          0,
          5,
          0,
          12,
          6,
          58,
          109,
          191,
          780,
          10353
         ],
         "xaxis": "x2",
         "y": [
          "UC Browser",
          "Opera",
          "Opera Mini",
          "Safari (in-app)",
          "Android Webview",
          "Edge",
          "Internet Explorer",
          "Firefox",
          "Safari",
          "Chrome"
         ],
         "yaxis": "y2"
        }
       ],
       "layout": {
        "annotations": [
         {
          "font": {
           "size": 16
          },
          "showarrow": false,
          "text": "Traffic Source Campaign (not-set removed)",
          "x": 0.225,
          "xanchor": "center",
          "xref": "paper",
          "y": 1,
          "yanchor": "bottom",
          "yref": "paper"
         },
         {
          "font": {
           "size": 16
          },
          "showarrow": false,
          "text": "Traffic Source Medium",
          "x": 0.775,
          "xanchor": "center",
          "xref": "paper",
          "y": 1,
          "yanchor": "bottom",
          "yref": "paper"
         }
        ],
        "height": 900,
        "margin": {
         "b": 100
        },
        "paper_bgcolor": "rgb(233,233,233)",
        "showlegend": false,
        "title": "Device Plots",
        "width": 900,
        "xaxis": {
         "anchor": "y",
         "domain": [
          0,
          0.45
         ]
        },
        "xaxis2": {
         "anchor": "y2",
         "domain": [
          0.55,
          1
         ]
        },
        "yaxis": {
         "anchor": "x",
         "domain": [
          0,
          1
         ]
        },
        "yaxis2": {
         "anchor": "x2",
         "domain": [
          0,
          1
         ]
        }
       }
      },
      "text/html": [
       "<div id=\"f35562fb-7ef2-4983-a4bc-8311cbdbd427\" style=\"height: 900px; width: 900px;\" class=\"plotly-graph-div\"></div><script type=\"text/javascript\">require([\"plotly\"], function(Plotly) { window.PLOTLYENV=window.PLOTLYENV || {};window.PLOTLYENV.BASE_URL=\"https://plot.ly\";Plotly.newPlot(\"f35562fb-7ef2-4983-a4bc-8311cbdbd427\", [{\"marker\": {\"color\": \"Red\"}, \"x\": [\"(not set)\", \"Data Share Promo\", \"AW - Dynamic Search Ads Whole Site\", \"AW - Accessories\", \"test-liyuhz\", \"AW - Electronics\", \"Retail (DO NOT EDIT owners nophakun and tianyu)\", \"AW - Apparel\", \"All Products\", \"Data Share\"], \"y\": [865347, 16403, 14244, 7070, 392, 96, 50, 46, 4, 1], \"type\": \"bar\", \"uid\": \"ac2ad0a6-d259-11e8-aeb3-f0189804b8bf\", \"xaxis\": \"x\", \"yaxis\": \"y\"}, {\"marker\": {\"color\": \"blue\"}, \"x\": [\"organic\", \"referral\", \"(none)\", \"cpc\", \"affiliate\", \"cpm\", \"(not set)\"], \"y\": [381561, 330955, 143026, 25326, 16403, 6262, 120], \"type\": \"bar\", \"uid\": \"ac2c3a2c-d259-11e8-8c22-f0189804b8bf\", \"xaxis\": \"x2\", \"yaxis\": \"y2\"}, {\"marker\": {\"color\": \"rgba(50, 171, 96, 0.6)\"}, \"orientation\": \"h\", \"showlegend\": false, \"x\": [2427, 5643, 6139, 6850, 7865, 10205, 19375, 37069, 182245, 620364], \"y\": [\"UC Browser\", \"Opera\", \"Opera Mini\", \"Safari (in-app)\", \"Android Webview\", \"Edge\", \"Internet Explorer\", \"Firefox\", \"Safari\", \"Chrome\"], \"type\": \"bar\", \"uid\": \"b2d88998-d259-11e8-9c13-f0189804b8bf\", \"xaxis\": \"x\", \"yaxis\": \"y\"}, {\"marker\": {\"color\": \"rgba(50, 171, 96, 0.6)\"}, \"orientation\": \"h\", \"showlegend\": false, \"x\": [0, 5, 0, 12, 6, 58, 109, 191, 780, 10353], \"y\": [\"UC Browser\", \"Opera\", \"Opera Mini\", \"Safari (in-app)\", \"Android Webview\", \"Edge\", \"Internet Explorer\", \"Firefox\", \"Safari\", \"Chrome\"], \"type\": \"bar\", \"uid\": \"b2d94d1a-d259-11e8-b22c-f0189804b8bf\", \"xaxis\": \"x2\", \"yaxis\": \"y2\"}], {\"annotations\": [{\"font\": {\"size\": 16}, \"showarrow\": false, \"text\": \"Traffic Source Campaign (not-set removed)\", \"x\": 0.225, \"xanchor\": \"center\", \"xref\": \"paper\", \"y\": 1.0, \"yanchor\": \"bottom\", \"yref\": \"paper\"}, {\"font\": {\"size\": 16}, \"showarrow\": false, \"text\": \"Traffic Source Medium\", \"x\": 0.775, \"xanchor\": \"center\", \"xref\": \"paper\", \"y\": 1.0, \"yanchor\": \"bottom\", \"yref\": \"paper\"}], \"xaxis\": {\"anchor\": \"y\", \"domain\": [0.0, 0.45]}, \"yaxis\": {\"anchor\": \"x\", \"domain\": [0.0, 1.0]}, \"xaxis2\": {\"anchor\": \"y2\", \"domain\": [0.55, 1.0]}, \"yaxis2\": {\"anchor\": \"x2\", \"domain\": [0.0, 1.0]}, \"margin\": {\"b\": 100}, \"height\": 900, \"showlegend\": false, \"width\": 900, \"paper_bgcolor\": \"rgb(233,233,233)\", \"title\": \"Device Plots\"}, {\"showLink\": true, \"linkText\": \"Export to plot.ly\"})});</script>"
      ],
      "text/vnd.plotly.v1+html": [
       "<div id=\"f35562fb-7ef2-4983-a4bc-8311cbdbd427\" style=\"height: 900px; width: 900px;\" class=\"plotly-graph-div\"></div><script type=\"text/javascript\">require([\"plotly\"], function(Plotly) { window.PLOTLYENV=window.PLOTLYENV || {};window.PLOTLYENV.BASE_URL=\"https://plot.ly\";Plotly.newPlot(\"f35562fb-7ef2-4983-a4bc-8311cbdbd427\", [{\"marker\": {\"color\": \"Red\"}, \"x\": [\"(not set)\", \"Data Share Promo\", \"AW - Dynamic Search Ads Whole Site\", \"AW - Accessories\", \"test-liyuhz\", \"AW - Electronics\", \"Retail (DO NOT EDIT owners nophakun and tianyu)\", \"AW - Apparel\", \"All Products\", \"Data Share\"], \"y\": [865347, 16403, 14244, 7070, 392, 96, 50, 46, 4, 1], \"type\": \"bar\", \"uid\": \"ac2ad0a6-d259-11e8-aeb3-f0189804b8bf\", \"xaxis\": \"x\", \"yaxis\": \"y\"}, {\"marker\": {\"color\": \"blue\"}, \"x\": [\"organic\", \"referral\", \"(none)\", \"cpc\", \"affiliate\", \"cpm\", \"(not set)\"], \"y\": [381561, 330955, 143026, 25326, 16403, 6262, 120], \"type\": \"bar\", \"uid\": \"ac2c3a2c-d259-11e8-8c22-f0189804b8bf\", \"xaxis\": \"x2\", \"yaxis\": \"y2\"}, {\"marker\": {\"color\": \"rgba(50, 171, 96, 0.6)\"}, \"orientation\": \"h\", \"showlegend\": false, \"x\": [2427, 5643, 6139, 6850, 7865, 10205, 19375, 37069, 182245, 620364], \"y\": [\"UC Browser\", \"Opera\", \"Opera Mini\", \"Safari (in-app)\", \"Android Webview\", \"Edge\", \"Internet Explorer\", \"Firefox\", \"Safari\", \"Chrome\"], \"type\": \"bar\", \"uid\": \"b2d88998-d259-11e8-9c13-f0189804b8bf\", \"xaxis\": \"x\", \"yaxis\": \"y\"}, {\"marker\": {\"color\": \"rgba(50, 171, 96, 0.6)\"}, \"orientation\": \"h\", \"showlegend\": false, \"x\": [0, 5, 0, 12, 6, 58, 109, 191, 780, 10353], \"y\": [\"UC Browser\", \"Opera\", \"Opera Mini\", \"Safari (in-app)\", \"Android Webview\", \"Edge\", \"Internet Explorer\", \"Firefox\", \"Safari\", \"Chrome\"], \"type\": \"bar\", \"uid\": \"b2d94d1a-d259-11e8-b22c-f0189804b8bf\", \"xaxis\": \"x2\", \"yaxis\": \"y2\"}], {\"annotations\": [{\"font\": {\"size\": 16}, \"showarrow\": false, \"text\": \"Traffic Source Campaign (not-set removed)\", \"x\": 0.225, \"xanchor\": \"center\", \"xref\": \"paper\", \"y\": 1.0, \"yanchor\": \"bottom\", \"yref\": \"paper\"}, {\"font\": {\"size\": 16}, \"showarrow\": false, \"text\": \"Traffic Source Medium\", \"x\": 0.775, \"xanchor\": \"center\", \"xref\": \"paper\", \"y\": 1.0, \"yanchor\": \"bottom\", \"yref\": \"paper\"}], \"xaxis\": {\"anchor\": \"y\", \"domain\": [0.0, 0.45]}, \"yaxis\": {\"anchor\": \"x\", \"domain\": [0.0, 1.0]}, \"xaxis2\": {\"anchor\": \"y2\", \"domain\": [0.55, 1.0]}, \"yaxis2\": {\"anchor\": \"x2\", \"domain\": [0.0, 1.0]}, \"margin\": {\"b\": 100}, \"height\": 900, \"showlegend\": false, \"width\": 900, \"paper_bgcolor\": \"rgb(233,233,233)\", \"title\": \"Device Plots\"}, {\"showLink\": true, \"linkText\": \"Export to plot.ly\"})});</script>"
      ]
     },
     "metadata": {},
     "output_type": "display_data"
    }
   ],
   "source": [
    "count_source = train.groupby('device_browser')['totals_transactionRevenue'].agg(['size', 'count', 'mean'])\n",
    "count_source.columns = [\"count\", \"non-zero TranRevenue Count\", \"Mean\"]\n",
    "count_source = count_source.sort_values(by=\"count\", ascending=False)\n",
    "t1 = horizontal_bar_chart(count_source[\"count\"].head(10), 'rgba(50, 171, 96, 0.6)')\n",
    "t2 = horizontal_bar_chart(count_source[\"non-zero TranRevenue Count\"].head(10), 'rgba(50, 171, 96, 0.6)')\n",
    "t3 = horizontal_bar_chart(count_source[\"Mean\"].head(10), 'rgba(50, 171, 96, 0.6)')\n",
    "\n",
    "fig.append_trace(t1, 1, 1)\n",
    "fig.append_trace(t2, 1, 2)\n",
    "#fig.append_trace(t3, 1, 3)\n",
    "\n",
    "fig['layout'].update(height=900, width=900, paper_bgcolor='rgb(233,233,233)', title=\"Device Plots\")\n",
    "iplot(fig, filename='device-plots')"
   ]
  },
  {
   "cell_type": "code",
   "execution_count": 193,
   "metadata": {},
   "outputs": [
    {
     "data": {
      "application/vnd.plotly.v1+json": {
       "data": [
        {
         "marker": {
          "color": "Red",
          "opacity": 0.5
         },
         "orientation": "h",
         "type": "bar",
         "uid": "11fb326c-d25b-11e8-bcef-f0189804b8bf",
         "x": [
          29990000,
          19141666.666666668,
          133594606.39428185,
          111775344.8275862,
          467624712.04188484,
          75738990.82568808,
          43070000,
          67176256.41025642,
          12814166.666666666
         ],
         "xaxis": "x",
         "y": [
          "Amazon Silk",
          "Android Webview",
          "Chrome",
          "Edge",
          "Firefox",
          "Internet Explorer",
          "Opera",
          "Safari",
          "Safari (in-app)"
         ],
         "yaxis": "y"
        },
        {
         "marker": {
          "color": "Red",
          "opacity": 0.5
         },
         "orientation": "h",
         "type": "bar",
         "uid": "11fbed4c-d25b-11e8-a689-f0189804b8bf",
         "x": [
          141101866.60314435,
          58434049.295774646,
          56079404.76190476
         ],
         "xaxis": "x2",
         "y": [
          "desktop",
          "mobile",
          "tablet"
         ],
         "yaxis": "y2"
        },
        {
         "marker": {
          "color": "blue",
          "opacity": 0.5
         },
         "orientation": "h",
         "type": "bar",
         "uid": "11fcaa28-d25b-11e8-a397-f0189804b8bf",
         "x": [
          77818586.72376874,
          185048038.22937626,
          56151406.64961637,
          133267318.70525987,
          172071338.24166307,
          26400000,
          41356156.71641791
         ],
         "xaxis": "x3",
         "y": [
          "Android",
          "Chrome OS",
          "Linux",
          "Macintosh",
          "Windows",
          "Windows Phone",
          "iOS"
         ],
         "yaxis": "y3"
        }
       ],
       "layout": {
        "annotations": [
         {
          "font": {
           "size": 16
          },
          "showarrow": false,
          "text": "Device Browser with TranRevenue",
          "x": 0.5,
          "xanchor": "center",
          "xref": "paper",
          "y": 1,
          "yanchor": "bottom",
          "yref": "paper"
         },
         {
          "font": {
           "size": 16
          },
          "showarrow": false,
          "text": "Device Category with TranRevenue",
          "x": 0.5,
          "xanchor": "center",
          "xref": "paper",
          "y": 0.6111111111111112,
          "yanchor": "bottom",
          "yref": "paper"
         },
         {
          "font": {
           "size": 16
          },
          "showarrow": false,
          "text": "Device Operating System with TranRevenue",
          "x": 0.5,
          "xanchor": "center",
          "xref": "paper",
          "y": 0.22222222222222224,
          "yanchor": "bottom",
          "yref": "paper"
         }
        ],
        "height": 500,
        "showlegend": false,
        "width": 800,
        "xaxis": {
         "anchor": "y",
         "domain": [
          0,
          1
         ]
        },
        "xaxis2": {
         "anchor": "y2",
         "domain": [
          0,
          1
         ]
        },
        "xaxis3": {
         "anchor": "y3",
         "domain": [
          0,
          1
         ]
        },
        "yaxis": {
         "anchor": "x",
         "domain": [
          0.7777777777777778,
          1
         ]
        },
        "yaxis2": {
         "anchor": "x2",
         "domain": [
          0.3888888888888889,
          0.6111111111111112
         ]
        },
        "yaxis3": {
         "anchor": "x3",
         "domain": [
          0,
          0.22222222222222224
         ]
        }
       }
      },
      "text/html": [
       "<div id=\"e464881f-c6c1-4588-a44c-92bcf8bf4c47\" style=\"height: 500px; width: 800px;\" class=\"plotly-graph-div\"></div><script type=\"text/javascript\">require([\"plotly\"], function(Plotly) { window.PLOTLYENV=window.PLOTLYENV || {};window.PLOTLYENV.BASE_URL=\"https://plot.ly\";Plotly.newPlot(\"e464881f-c6c1-4588-a44c-92bcf8bf4c47\", [{\"marker\": {\"color\": \"Red\", \"opacity\": 0.5}, \"orientation\": \"h\", \"x\": [29990000.0, 19141666.666666668, 133594606.39428185, 111775344.8275862, 467624712.04188484, 75738990.82568808, 43070000.0, 67176256.41025642, 12814166.666666666], \"y\": [\"Amazon Silk\", \"Android Webview\", \"Chrome\", \"Edge\", \"Firefox\", \"Internet Explorer\", \"Opera\", \"Safari\", \"Safari (in-app)\"], \"type\": \"bar\", \"uid\": \"11fb326c-d25b-11e8-bcef-f0189804b8bf\", \"xaxis\": \"x\", \"yaxis\": \"y\"}, {\"marker\": {\"color\": \"Red\", \"opacity\": 0.5}, \"orientation\": \"h\", \"x\": [141101866.60314435, 58434049.295774646, 56079404.76190476], \"y\": [\"desktop\", \"mobile\", \"tablet\"], \"type\": \"bar\", \"uid\": \"11fbed4c-d25b-11e8-a689-f0189804b8bf\", \"xaxis\": \"x2\", \"yaxis\": \"y2\"}, {\"marker\": {\"color\": \"blue\", \"opacity\": 0.5}, \"orientation\": \"h\", \"x\": [77818586.72376874, 185048038.22937626, 56151406.64961637, 133267318.70525987, 172071338.24166307, 26400000.0, 41356156.71641791], \"y\": [\"Android\", \"Chrome OS\", \"Linux\", \"Macintosh\", \"Windows\", \"Windows Phone\", \"iOS\"], \"type\": \"bar\", \"uid\": \"11fcaa28-d25b-11e8-a397-f0189804b8bf\", \"xaxis\": \"x3\", \"yaxis\": \"y3\"}], {\"annotations\": [{\"font\": {\"size\": 16}, \"showarrow\": false, \"text\": \"Device Browser with TranRevenue\", \"x\": 0.5, \"xanchor\": \"center\", \"xref\": \"paper\", \"y\": 1.0, \"yanchor\": \"bottom\", \"yref\": \"paper\"}, {\"font\": {\"size\": 16}, \"showarrow\": false, \"text\": \"Device Category with TranRevenue\", \"x\": 0.5, \"xanchor\": \"center\", \"xref\": \"paper\", \"y\": 0.6111111111111112, \"yanchor\": \"bottom\", \"yref\": \"paper\"}, {\"font\": {\"size\": 16}, \"showarrow\": false, \"text\": \"Device Operating System with TranRevenue\", \"x\": 0.5, \"xanchor\": \"center\", \"xref\": \"paper\", \"y\": 0.22222222222222224, \"yanchor\": \"bottom\", \"yref\": \"paper\"}], \"xaxis\": {\"anchor\": \"y\", \"domain\": [0.0, 1.0]}, \"yaxis\": {\"anchor\": \"x\", \"domain\": [0.7777777777777778, 1.0]}, \"xaxis2\": {\"anchor\": \"y2\", \"domain\": [0.0, 1.0]}, \"yaxis2\": {\"anchor\": \"x2\", \"domain\": [0.3888888888888889, 0.6111111111111112]}, \"xaxis3\": {\"anchor\": \"y3\", \"domain\": [0.0, 1.0]}, \"yaxis3\": {\"anchor\": \"x3\", \"domain\": [0.0, 0.22222222222222224]}, \"height\": 500, \"width\": 800, \"showlegend\": false}, {\"showLink\": true, \"linkText\": \"Export to plot.ly\"})});</script>"
      ],
      "text/vnd.plotly.v1+html": [
       "<div id=\"e464881f-c6c1-4588-a44c-92bcf8bf4c47\" style=\"height: 500px; width: 800px;\" class=\"plotly-graph-div\"></div><script type=\"text/javascript\">require([\"plotly\"], function(Plotly) { window.PLOTLYENV=window.PLOTLYENV || {};window.PLOTLYENV.BASE_URL=\"https://plot.ly\";Plotly.newPlot(\"e464881f-c6c1-4588-a44c-92bcf8bf4c47\", [{\"marker\": {\"color\": \"Red\", \"opacity\": 0.5}, \"orientation\": \"h\", \"x\": [29990000.0, 19141666.666666668, 133594606.39428185, 111775344.8275862, 467624712.04188484, 75738990.82568808, 43070000.0, 67176256.41025642, 12814166.666666666], \"y\": [\"Amazon Silk\", \"Android Webview\", \"Chrome\", \"Edge\", \"Firefox\", \"Internet Explorer\", \"Opera\", \"Safari\", \"Safari (in-app)\"], \"type\": \"bar\", \"uid\": \"11fb326c-d25b-11e8-bcef-f0189804b8bf\", \"xaxis\": \"x\", \"yaxis\": \"y\"}, {\"marker\": {\"color\": \"Red\", \"opacity\": 0.5}, \"orientation\": \"h\", \"x\": [141101866.60314435, 58434049.295774646, 56079404.76190476], \"y\": [\"desktop\", \"mobile\", \"tablet\"], \"type\": \"bar\", \"uid\": \"11fbed4c-d25b-11e8-a689-f0189804b8bf\", \"xaxis\": \"x2\", \"yaxis\": \"y2\"}, {\"marker\": {\"color\": \"blue\", \"opacity\": 0.5}, \"orientation\": \"h\", \"x\": [77818586.72376874, 185048038.22937626, 56151406.64961637, 133267318.70525987, 172071338.24166307, 26400000.0, 41356156.71641791], \"y\": [\"Android\", \"Chrome OS\", \"Linux\", \"Macintosh\", \"Windows\", \"Windows Phone\", \"iOS\"], \"type\": \"bar\", \"uid\": \"11fcaa28-d25b-11e8-a397-f0189804b8bf\", \"xaxis\": \"x3\", \"yaxis\": \"y3\"}], {\"annotations\": [{\"font\": {\"size\": 16}, \"showarrow\": false, \"text\": \"Device Browser with TranRevenue\", \"x\": 0.5, \"xanchor\": \"center\", \"xref\": \"paper\", \"y\": 1.0, \"yanchor\": \"bottom\", \"yref\": \"paper\"}, {\"font\": {\"size\": 16}, \"showarrow\": false, \"text\": \"Device Category with TranRevenue\", \"x\": 0.5, \"xanchor\": \"center\", \"xref\": \"paper\", \"y\": 0.6111111111111112, \"yanchor\": \"bottom\", \"yref\": \"paper\"}, {\"font\": {\"size\": 16}, \"showarrow\": false, \"text\": \"Device Operating System with TranRevenue\", \"x\": 0.5, \"xanchor\": \"center\", \"xref\": \"paper\", \"y\": 0.22222222222222224, \"yanchor\": \"bottom\", \"yref\": \"paper\"}], \"xaxis\": {\"anchor\": \"y\", \"domain\": [0.0, 1.0]}, \"yaxis\": {\"anchor\": \"x\", \"domain\": [0.7777777777777778, 1.0]}, \"xaxis2\": {\"anchor\": \"y2\", \"domain\": [0.0, 1.0]}, \"yaxis2\": {\"anchor\": \"x2\", \"domain\": [0.3888888888888889, 0.6111111111111112]}, \"xaxis3\": {\"anchor\": \"y3\", \"domain\": [0.0, 1.0]}, \"yaxis3\": {\"anchor\": \"x3\", \"domain\": [0.0, 0.22222222222222224]}, \"height\": 500, \"width\": 800, \"showlegend\": false}, {\"showLink\": true, \"linkText\": \"Export to plot.ly\"})});</script>"
      ]
     },
     "metadata": {},
     "output_type": "display_data"
    }
   ],
   "source": [
    "device_info = [\"device_browser\", \"device_deviceCategory\", \"device_operatingSystem\"]\n",
    "\n",
    "train[\"totals_transactionRevenue\"] = train[\"totals_transactionRevenue\"].astype('float')\n",
    "\n",
    "fig = tools.make_subplots(rows=3, cols=1, subplot_titles=[\"Device Browser with TranRevenue\",\n",
    "                                                           \"Device Category with TranRevenue\",\n",
    "                                                            \"Device Operating System with TranRevenue\"], \n",
    "                                                          print_grid=False)\n",
    "\n",
    "\n",
    "trs = []\n",
    "for i, col in enumerate(device_info):\n",
    "    tmp = train.groupby(col).agg({\"totals_transactionRevenue\": \"mean\"}).reset_index().rename(columns={\"totals_transactionRevenue\" : \n",
    "                                                                                                      \"Mean Revenue\"})\n",
    "    tmp = tmp.dropna()\n",
    "    tr = go.Bar(x = tmp[\"Mean Revenue\"], orientation=\"h\", marker=dict(opacity=0.5, color=colors[i]), y = tmp[col])\n",
    "    trs.append(tr)\n",
    "\n",
    "fig.append_trace(trs[0], 1, 1)\n",
    "fig.append_trace(trs[1], 2, 1)\n",
    "fig.append_trace(trs[2], 3, 1)\n",
    "\n",
    "fig['layout'].update(height=500,width=800, showlegend=False)\n",
    "iplot(fig)"
   ]
  },
  {
   "cell_type": "code",
   "execution_count": 195,
   "metadata": {},
   "outputs": [
    {
     "data": {
      "application/vnd.plotly.v1+json": {
       "data": [
        {
         "marker": {
          "color": "red",
          "opacity": 0.5
         },
         "type": "bar",
         "uid": "d360fb80-d25b-11e8-84f2-f0189804b8bf",
         "x": [
          1,
          2,
          3,
          4,
          5,
          6,
          7,
          8,
          9,
          10,
          11,
          12
         ],
         "xaxis": "x",
         "y": [
          140427245.33715925,
          153610903.95480227,
          148317406.56851643,
          171108620.68965518,
          109158278.02690583,
          128508974.63002114,
          120755848.69059166,
          140250860.58519793,
          146718556.46100116,
          129964529.81651376,
          129503667.02937976,
          110794215.05376343
         ],
         "yaxis": "y"
        },
        {
         "marker": {
          "color": "blue",
          "opacity": 0.5
         },
         "type": "bar",
         "uid": "d3616f02-d25b-11e8-a71f-f0189804b8bf",
         "x": [
          1,
          2,
          3,
          4,
          5,
          6,
          7,
          8,
          9,
          10,
          11,
          12,
          13,
          14,
          15,
          16,
          17,
          18,
          19,
          20,
          21,
          22,
          23,
          24,
          25,
          26,
          27,
          28,
          29,
          30,
          31
         ],
         "xaxis": "x2",
         "y": [
          129524643.73464373,
          114172289.15662651,
          109578130.8411215,
          80944391.02564102,
          190391520.19002375,
          129282255.43478261,
          150445576.4075067,
          120780383.56164384,
          129864656.86274509,
          127296405.4054054,
          99069239.43661971,
          132066313.64562118,
          127451258.90736341,
          165186753.55450237,
          131462926.82926829,
          154622022.72727272,
          119134397.32142857,
          165707610.38961038,
          125931647.33178654,
          133323807.10659899,
          134248753.31564987,
          124976363.63636364,
          136472515.33742332,
          141481198.73817036,
          120540333.33333333,
          124408075.80174927,
          147865437.15846995,
          141326658.47665846,
          114910185.75851393,
          128524747.77448072,
          183157168.14159292
         ],
         "yaxis": "y2"
        },
        {
         "marker": {
          "color": "green",
          "opacity": 0.5
         },
         "type": "bar",
         "uid": "d361d6a4-d25b-11e8-b8e3-f0189804b8bf",
         "x": [
          0,
          1,
          2,
          3,
          4,
          5,
          6
         ],
         "xaxis": "x3",
         "y": [
          132449006.81596884,
          152211009.9009901,
          154577131.0201968,
          141519747.6340694,
          137656551.35710484,
          74676930.94629157,
          80086293.55860612
         ],
         "yaxis": "y3"
        }
       ],
       "layout": {
        "annotations": [
         {
          "font": {
           "size": 16
          },
          "showarrow": false,
          "text": "TranRevenue v/s Month",
          "x": 0.14444444444444446,
          "xanchor": "center",
          "xref": "paper",
          "y": 1,
          "yanchor": "bottom",
          "yref": "paper"
         },
         {
          "font": {
           "size": 16
          },
          "showarrow": false,
          "text": "TranRevenue v/s Day",
          "x": 0.5,
          "xanchor": "center",
          "xref": "paper",
          "y": 1,
          "yanchor": "bottom",
          "yref": "paper"
         },
         {
          "font": {
           "size": 16
          },
          "showarrow": false,
          "text": "TranRevenue v/s WeekDay",
          "x": 0.8555555555555556,
          "xanchor": "center",
          "xref": "paper",
          "y": 1,
          "yanchor": "bottom",
          "yref": "paper"
         }
        ],
        "height": 400,
        "showlegend": false,
        "xaxis": {
         "anchor": "y",
         "domain": [
          0,
          0.2888888888888889
         ]
        },
        "xaxis2": {
         "anchor": "y2",
         "domain": [
          0.35555555555555557,
          0.6444444444444445
         ]
        },
        "xaxis3": {
         "anchor": "y3",
         "domain": [
          0.7111111111111111,
          1
         ]
        },
        "yaxis": {
         "anchor": "x",
         "domain": [
          0,
          1
         ]
        },
        "yaxis2": {
         "anchor": "x2",
         "domain": [
          0,
          1
         ]
        },
        "yaxis3": {
         "anchor": "x3",
         "domain": [
          0,
          1
         ]
        }
       }
      },
      "text/html": [
       "<div id=\"85056031-c4a5-420b-914e-a251e49a7a51\" style=\"height: 400px; width: 100%;\" class=\"plotly-graph-div\"></div><script type=\"text/javascript\">require([\"plotly\"], function(Plotly) { window.PLOTLYENV=window.PLOTLYENV || {};window.PLOTLYENV.BASE_URL=\"https://plot.ly\";Plotly.newPlot(\"85056031-c4a5-420b-914e-a251e49a7a51\", [{\"marker\": {\"color\": \"red\", \"opacity\": 0.5}, \"x\": [1, 2, 3, 4, 5, 6, 7, 8, 9, 10, 11, 12], \"y\": [140427245.33715925, 153610903.95480227, 148317406.56851643, 171108620.68965518, 109158278.02690583, 128508974.63002114, 120755848.69059166, 140250860.58519793, 146718556.46100116, 129964529.81651376, 129503667.02937976, 110794215.05376343], \"type\": \"bar\", \"uid\": \"d360fb80-d25b-11e8-84f2-f0189804b8bf\", \"xaxis\": \"x\", \"yaxis\": \"y\"}, {\"marker\": {\"color\": \"blue\", \"opacity\": 0.5}, \"x\": [1, 2, 3, 4, 5, 6, 7, 8, 9, 10, 11, 12, 13, 14, 15, 16, 17, 18, 19, 20, 21, 22, 23, 24, 25, 26, 27, 28, 29, 30, 31], \"y\": [129524643.73464373, 114172289.15662651, 109578130.8411215, 80944391.02564102, 190391520.19002375, 129282255.43478261, 150445576.4075067, 120780383.56164384, 129864656.86274509, 127296405.4054054, 99069239.43661971, 132066313.64562118, 127451258.90736341, 165186753.55450237, 131462926.82926829, 154622022.72727272, 119134397.32142857, 165707610.38961038, 125931647.33178654, 133323807.10659899, 134248753.31564987, 124976363.63636364, 136472515.33742332, 141481198.73817036, 120540333.33333333, 124408075.80174927, 147865437.15846995, 141326658.47665846, 114910185.75851393, 128524747.77448072, 183157168.14159292], \"type\": \"bar\", \"uid\": \"d3616f02-d25b-11e8-a71f-f0189804b8bf\", \"xaxis\": \"x2\", \"yaxis\": \"y2\"}, {\"marker\": {\"color\": \"green\", \"opacity\": 0.5}, \"x\": [0, 1, 2, 3, 4, 5, 6], \"y\": [132449006.81596884, 152211009.9009901, 154577131.0201968, 141519747.6340694, 137656551.35710484, 74676930.94629157, 80086293.55860612], \"type\": \"bar\", \"uid\": \"d361d6a4-d25b-11e8-b8e3-f0189804b8bf\", \"xaxis\": \"x3\", \"yaxis\": \"y3\"}], {\"annotations\": [{\"font\": {\"size\": 16}, \"showarrow\": false, \"text\": \"TranRevenue v/s Month\", \"x\": 0.14444444444444446, \"xanchor\": \"center\", \"xref\": \"paper\", \"y\": 1.0, \"yanchor\": \"bottom\", \"yref\": \"paper\"}, {\"font\": {\"size\": 16}, \"showarrow\": false, \"text\": \"TranRevenue v/s Day\", \"x\": 0.5, \"xanchor\": \"center\", \"xref\": \"paper\", \"y\": 1.0, \"yanchor\": \"bottom\", \"yref\": \"paper\"}, {\"font\": {\"size\": 16}, \"showarrow\": false, \"text\": \"TranRevenue v/s WeekDay\", \"x\": 0.8555555555555556, \"xanchor\": \"center\", \"xref\": \"paper\", \"y\": 1.0, \"yanchor\": \"bottom\", \"yref\": \"paper\"}], \"xaxis\": {\"anchor\": \"y\", \"domain\": [0.0, 0.2888888888888889]}, \"yaxis\": {\"anchor\": \"x\", \"domain\": [0.0, 1.0]}, \"xaxis2\": {\"anchor\": \"y2\", \"domain\": [0.35555555555555557, 0.6444444444444445]}, \"yaxis2\": {\"anchor\": \"x2\", \"domain\": [0.0, 1.0]}, \"xaxis3\": {\"anchor\": \"y3\", \"domain\": [0.7111111111111111, 1.0]}, \"yaxis3\": {\"anchor\": \"x3\", \"domain\": [0.0, 1.0]}, \"height\": 400, \"showlegend\": false}, {\"showLink\": true, \"linkText\": \"Export to plot.ly\"})});</script>"
      ],
      "text/vnd.plotly.v1+html": [
       "<div id=\"85056031-c4a5-420b-914e-a251e49a7a51\" style=\"height: 400px; width: 100%;\" class=\"plotly-graph-div\"></div><script type=\"text/javascript\">require([\"plotly\"], function(Plotly) { window.PLOTLYENV=window.PLOTLYENV || {};window.PLOTLYENV.BASE_URL=\"https://plot.ly\";Plotly.newPlot(\"85056031-c4a5-420b-914e-a251e49a7a51\", [{\"marker\": {\"color\": \"red\", \"opacity\": 0.5}, \"x\": [1, 2, 3, 4, 5, 6, 7, 8, 9, 10, 11, 12], \"y\": [140427245.33715925, 153610903.95480227, 148317406.56851643, 171108620.68965518, 109158278.02690583, 128508974.63002114, 120755848.69059166, 140250860.58519793, 146718556.46100116, 129964529.81651376, 129503667.02937976, 110794215.05376343], \"type\": \"bar\", \"uid\": \"d360fb80-d25b-11e8-84f2-f0189804b8bf\", \"xaxis\": \"x\", \"yaxis\": \"y\"}, {\"marker\": {\"color\": \"blue\", \"opacity\": 0.5}, \"x\": [1, 2, 3, 4, 5, 6, 7, 8, 9, 10, 11, 12, 13, 14, 15, 16, 17, 18, 19, 20, 21, 22, 23, 24, 25, 26, 27, 28, 29, 30, 31], \"y\": [129524643.73464373, 114172289.15662651, 109578130.8411215, 80944391.02564102, 190391520.19002375, 129282255.43478261, 150445576.4075067, 120780383.56164384, 129864656.86274509, 127296405.4054054, 99069239.43661971, 132066313.64562118, 127451258.90736341, 165186753.55450237, 131462926.82926829, 154622022.72727272, 119134397.32142857, 165707610.38961038, 125931647.33178654, 133323807.10659899, 134248753.31564987, 124976363.63636364, 136472515.33742332, 141481198.73817036, 120540333.33333333, 124408075.80174927, 147865437.15846995, 141326658.47665846, 114910185.75851393, 128524747.77448072, 183157168.14159292], \"type\": \"bar\", \"uid\": \"d3616f02-d25b-11e8-a71f-f0189804b8bf\", \"xaxis\": \"x2\", \"yaxis\": \"y2\"}, {\"marker\": {\"color\": \"green\", \"opacity\": 0.5}, \"x\": [0, 1, 2, 3, 4, 5, 6], \"y\": [132449006.81596884, 152211009.9009901, 154577131.0201968, 141519747.6340694, 137656551.35710484, 74676930.94629157, 80086293.55860612], \"type\": \"bar\", \"uid\": \"d361d6a4-d25b-11e8-b8e3-f0189804b8bf\", \"xaxis\": \"x3\", \"yaxis\": \"y3\"}], {\"annotations\": [{\"font\": {\"size\": 16}, \"showarrow\": false, \"text\": \"TranRevenue v/s Month\", \"x\": 0.14444444444444446, \"xanchor\": \"center\", \"xref\": \"paper\", \"y\": 1.0, \"yanchor\": \"bottom\", \"yref\": \"paper\"}, {\"font\": {\"size\": 16}, \"showarrow\": false, \"text\": \"TranRevenue v/s Day\", \"x\": 0.5, \"xanchor\": \"center\", \"xref\": \"paper\", \"y\": 1.0, \"yanchor\": \"bottom\", \"yref\": \"paper\"}, {\"font\": {\"size\": 16}, \"showarrow\": false, \"text\": \"TranRevenue v/s WeekDay\", \"x\": 0.8555555555555556, \"xanchor\": \"center\", \"xref\": \"paper\", \"y\": 1.0, \"yanchor\": \"bottom\", \"yref\": \"paper\"}], \"xaxis\": {\"anchor\": \"y\", \"domain\": [0.0, 0.2888888888888889]}, \"yaxis\": {\"anchor\": \"x\", \"domain\": [0.0, 1.0]}, \"xaxis2\": {\"anchor\": \"y2\", \"domain\": [0.35555555555555557, 0.6444444444444445]}, \"yaxis2\": {\"anchor\": \"x2\", \"domain\": [0.0, 1.0]}, \"xaxis3\": {\"anchor\": \"y3\", \"domain\": [0.7111111111111111, 1.0]}, \"yaxis3\": {\"anchor\": \"x3\", \"domain\": [0.0, 1.0]}, \"height\": 400, \"showlegend\": false}, {\"showLink\": true, \"linkText\": \"Export to plot.ly\"})});</script>"
      ]
     },
     "metadata": {},
     "output_type": "display_data"
    }
   ],
   "source": [
    "tmp1 = train.groupby('month').agg({\"totals_transactionRevenue\" : \"mean\"}).reset_index()\n",
    "tmp2 = train.groupby('day').agg({\"totals_transactionRevenue\" : \"mean\"}).reset_index()\n",
    "tmp3 = train.groupby('weekday').agg({\"totals_transactionRevenue\" : \"mean\"}).reset_index()\n",
    "\n",
    "fig = tools.make_subplots(rows=1, cols=3, subplot_titles=[\"TranRevenue v/s Month\", \"TranRevenue v/s Day\", \"TranRevenue v/s WeekDay\"], print_grid=False)\n",
    "tr1 = go.Bar(x = tmp1.month, marker=dict(color=\"red\", opacity=0.5), y = tmp1.totals_transactionRevenue)\n",
    "tr2 = go.Bar(x = tmp2.day, marker=dict(color=\"blue\", opacity=0.5), y = tmp2.totals_transactionRevenue)\n",
    "tr3 = go.Bar(x = tmp3.weekday, marker=dict(color=\"green\", opacity=0.5), y = tmp3.totals_transactionRevenue)\n",
    "\n",
    "fig.append_trace(tr1, 1, 1)\n",
    "fig.append_trace(tr2, 1, 2)\n",
    "fig.append_trace(tr3, 1, 3)\n",
    "fig['layout'].update(height=400, showlegend=False)\n",
    "iplot(fig)"
   ]
  },
  {
   "cell_type": "code",
   "execution_count": 196,
   "metadata": {},
   "outputs": [
    {
     "name": "stdout",
     "output_type": "stream",
     "text": [
      "Variables not in test but in train :  {'trafficSource_campaignCode', 'totals_transactionRevenue'}\n"
     ]
    }
   ],
   "source": [
    "print(\"Variables not in test but in train : \", set(train.columns).difference(set(test.columns)))"
   ]
  },
  {
   "cell_type": "code",
   "execution_count": 198,
   "metadata": {},
   "outputs": [
    {
     "data": {
      "text/plain": [
       "Index(['channelGrouping', 'date', 'fullVisitorId', 'sessionId', 'visitId',\n",
       "       'visitNumber', 'visitStartTime', 'device_browser',\n",
       "       'device_deviceCategory', 'device_isMobile', 'device_operatingSystem',\n",
       "       'geoNetwork_city', 'geoNetwork_continent', 'geoNetwork_country',\n",
       "       'geoNetwork_metro', 'geoNetwork_networkDomain', 'geoNetwork_region',\n",
       "       'geoNetwork_subContinent', 'totals_bounces', 'totals_hits',\n",
       "       'totals_newVisits', 'totals_pageviews', 'totals_transactionRevenue',\n",
       "       'trafficSource_adContent',\n",
       "       'trafficSource_adwordsClickInfo.adNetworkType',\n",
       "       'trafficSource_adwordsClickInfo.gclId',\n",
       "       'trafficSource_adwordsClickInfo.isVideoAd',\n",
       "       'trafficSource_adwordsClickInfo.page',\n",
       "       'trafficSource_adwordsClickInfo.slot', 'trafficSource_campaign',\n",
       "       'trafficSource_campaignCode', 'trafficSource_isTrueDirect',\n",
       "       'trafficSource_keyword', 'trafficSource_medium',\n",
       "       'trafficSource_referralPath', 'trafficSource_source', 'month', 'day',\n",
       "       'weekday'],\n",
       "      dtype='object')"
      ]
     },
     "execution_count": 198,
     "metadata": {},
     "output_type": "execute_result"
    }
   ],
   "source": [
    "train.columns"
   ]
  },
  {
   "cell_type": "code",
   "execution_count": 199,
   "metadata": {},
   "outputs": [
    {
     "data": {
      "text/plain": [
       "Index(['channelGrouping', 'date', 'fullVisitorId', 'sessionId', 'visitId',\n",
       "       'visitNumber', 'visitStartTime', 'device_browser',\n",
       "       'device_deviceCategory', 'device_isMobile', 'device_operatingSystem',\n",
       "       'geoNetwork_city', 'geoNetwork_continent', 'geoNetwork_country',\n",
       "       'geoNetwork_metro', 'geoNetwork_networkDomain', 'geoNetwork_region',\n",
       "       'geoNetwork_subContinent', 'totals_bounces', 'totals_hits',\n",
       "       'totals_newVisits', 'totals_pageviews', 'trafficSource_adContent',\n",
       "       'trafficSource_adwordsClickInfo.adNetworkType',\n",
       "       'trafficSource_adwordsClickInfo.gclId',\n",
       "       'trafficSource_adwordsClickInfo.isVideoAd',\n",
       "       'trafficSource_adwordsClickInfo.page',\n",
       "       'trafficSource_adwordsClickInfo.slot', 'trafficSource_campaign',\n",
       "       'trafficSource_campaignCode', 'trafficSource_isTrueDirect',\n",
       "       'trafficSource_keyword', 'trafficSource_medium',\n",
       "       'trafficSource_referralPath', 'trafficSource_source', 'month', 'day',\n",
       "       'weekday', 'v_date', 'dayofweek', 'hours'],\n",
       "      dtype='object')"
      ]
     },
     "execution_count": 199,
     "metadata": {},
     "output_type": "execute_result"
    }
   ],
   "source": [
    "train_df.columns"
   ]
  },
  {
   "cell_type": "code",
   "execution_count": 203,
   "metadata": {},
   "outputs": [],
   "source": [
    "constant_columns= [c for c in train.columns if train[c].nunique(dropna=False)==1 ]"
   ]
  },
  {
   "cell_type": "code",
   "execution_count": 204,
   "metadata": {},
   "outputs": [
    {
     "data": {
      "text/plain": [
       "[]"
      ]
     },
     "execution_count": 204,
     "metadata": {},
     "output_type": "execute_result"
    }
   ],
   "source": [
    "const_cols"
   ]
  },
  {
   "cell_type": "code",
   "execution_count": 205,
   "metadata": {},
   "outputs": [
    {
     "data": {
      "text/html": [
       "<div>\n",
       "<style scoped>\n",
       "    .dataframe tbody tr th:only-of-type {\n",
       "        vertical-align: middle;\n",
       "    }\n",
       "\n",
       "    .dataframe tbody tr th {\n",
       "        vertical-align: top;\n",
       "    }\n",
       "\n",
       "    .dataframe thead th {\n",
       "        text-align: right;\n",
       "    }\n",
       "</style>\n",
       "<table border=\"1\" class=\"dataframe\">\n",
       "  <thead>\n",
       "    <tr style=\"text-align: right;\">\n",
       "      <th></th>\n",
       "      <th>channelGrouping</th>\n",
       "      <th>date</th>\n",
       "      <th>fullVisitorId</th>\n",
       "      <th>sessionId</th>\n",
       "      <th>visitId</th>\n",
       "      <th>visitNumber</th>\n",
       "      <th>visitStartTime</th>\n",
       "      <th>device_browser</th>\n",
       "      <th>device_deviceCategory</th>\n",
       "      <th>device_isMobile</th>\n",
       "      <th>...</th>\n",
       "      <th>trafficSource_campaign</th>\n",
       "      <th>trafficSource_campaignCode</th>\n",
       "      <th>trafficSource_isTrueDirect</th>\n",
       "      <th>trafficSource_keyword</th>\n",
       "      <th>trafficSource_medium</th>\n",
       "      <th>trafficSource_referralPath</th>\n",
       "      <th>trafficSource_source</th>\n",
       "      <th>month</th>\n",
       "      <th>day</th>\n",
       "      <th>weekday</th>\n",
       "    </tr>\n",
       "  </thead>\n",
       "  <tbody>\n",
       "    <tr>\n",
       "      <th>0</th>\n",
       "      <td>Organic Search</td>\n",
       "      <td>2016-09-02</td>\n",
       "      <td>1131660440785968503</td>\n",
       "      <td>1131660440785968503_1472830385</td>\n",
       "      <td>1472830385</td>\n",
       "      <td>1</td>\n",
       "      <td>1472830385</td>\n",
       "      <td>Chrome</td>\n",
       "      <td>desktop</td>\n",
       "      <td>False</td>\n",
       "      <td>...</td>\n",
       "      <td>(not set)</td>\n",
       "      <td>NaN</td>\n",
       "      <td>NaN</td>\n",
       "      <td>(not provided)</td>\n",
       "      <td>organic</td>\n",
       "      <td>NaN</td>\n",
       "      <td>google</td>\n",
       "      <td>9</td>\n",
       "      <td>2</td>\n",
       "      <td>4</td>\n",
       "    </tr>\n",
       "    <tr>\n",
       "      <th>1</th>\n",
       "      <td>Organic Search</td>\n",
       "      <td>2016-09-02</td>\n",
       "      <td>377306020877927890</td>\n",
       "      <td>377306020877927890_1472880147</td>\n",
       "      <td>1472880147</td>\n",
       "      <td>1</td>\n",
       "      <td>1472880147</td>\n",
       "      <td>Firefox</td>\n",
       "      <td>desktop</td>\n",
       "      <td>False</td>\n",
       "      <td>...</td>\n",
       "      <td>(not set)</td>\n",
       "      <td>NaN</td>\n",
       "      <td>NaN</td>\n",
       "      <td>(not provided)</td>\n",
       "      <td>organic</td>\n",
       "      <td>NaN</td>\n",
       "      <td>google</td>\n",
       "      <td>9</td>\n",
       "      <td>2</td>\n",
       "      <td>4</td>\n",
       "    </tr>\n",
       "    <tr>\n",
       "      <th>2</th>\n",
       "      <td>Organic Search</td>\n",
       "      <td>2016-09-02</td>\n",
       "      <td>3895546263509774583</td>\n",
       "      <td>3895546263509774583_1472865386</td>\n",
       "      <td>1472865386</td>\n",
       "      <td>1</td>\n",
       "      <td>1472865386</td>\n",
       "      <td>Chrome</td>\n",
       "      <td>desktop</td>\n",
       "      <td>False</td>\n",
       "      <td>...</td>\n",
       "      <td>(not set)</td>\n",
       "      <td>NaN</td>\n",
       "      <td>NaN</td>\n",
       "      <td>(not provided)</td>\n",
       "      <td>organic</td>\n",
       "      <td>NaN</td>\n",
       "      <td>google</td>\n",
       "      <td>9</td>\n",
       "      <td>2</td>\n",
       "      <td>4</td>\n",
       "    </tr>\n",
       "    <tr>\n",
       "      <th>3</th>\n",
       "      <td>Organic Search</td>\n",
       "      <td>2016-09-02</td>\n",
       "      <td>4763447161404445595</td>\n",
       "      <td>4763447161404445595_1472881213</td>\n",
       "      <td>1472881213</td>\n",
       "      <td>1</td>\n",
       "      <td>1472881213</td>\n",
       "      <td>UC Browser</td>\n",
       "      <td>desktop</td>\n",
       "      <td>False</td>\n",
       "      <td>...</td>\n",
       "      <td>(not set)</td>\n",
       "      <td>NaN</td>\n",
       "      <td>NaN</td>\n",
       "      <td>google + online</td>\n",
       "      <td>organic</td>\n",
       "      <td>NaN</td>\n",
       "      <td>google</td>\n",
       "      <td>9</td>\n",
       "      <td>2</td>\n",
       "      <td>4</td>\n",
       "    </tr>\n",
       "    <tr>\n",
       "      <th>4</th>\n",
       "      <td>Organic Search</td>\n",
       "      <td>2016-09-02</td>\n",
       "      <td>27294437909732085</td>\n",
       "      <td>27294437909732085_1472822600</td>\n",
       "      <td>1472822600</td>\n",
       "      <td>2</td>\n",
       "      <td>1472822600</td>\n",
       "      <td>Chrome</td>\n",
       "      <td>mobile</td>\n",
       "      <td>True</td>\n",
       "      <td>...</td>\n",
       "      <td>(not set)</td>\n",
       "      <td>NaN</td>\n",
       "      <td>True</td>\n",
       "      <td>(not provided)</td>\n",
       "      <td>organic</td>\n",
       "      <td>NaN</td>\n",
       "      <td>google</td>\n",
       "      <td>9</td>\n",
       "      <td>2</td>\n",
       "      <td>4</td>\n",
       "    </tr>\n",
       "  </tbody>\n",
       "</table>\n",
       "<p>5 rows × 39 columns</p>\n",
       "</div>"
      ],
      "text/plain": [
       "  channelGrouping       date        fullVisitorId  \\\n",
       "0  Organic Search 2016-09-02  1131660440785968503   \n",
       "1  Organic Search 2016-09-02   377306020877927890   \n",
       "2  Organic Search 2016-09-02  3895546263509774583   \n",
       "3  Organic Search 2016-09-02  4763447161404445595   \n",
       "4  Organic Search 2016-09-02    27294437909732085   \n",
       "\n",
       "                        sessionId     visitId  visitNumber  visitStartTime  \\\n",
       "0  1131660440785968503_1472830385  1472830385            1      1472830385   \n",
       "1   377306020877927890_1472880147  1472880147            1      1472880147   \n",
       "2  3895546263509774583_1472865386  1472865386            1      1472865386   \n",
       "3  4763447161404445595_1472881213  1472881213            1      1472881213   \n",
       "4    27294437909732085_1472822600  1472822600            2      1472822600   \n",
       "\n",
       "  device_browser device_deviceCategory  device_isMobile   ...    \\\n",
       "0         Chrome               desktop            False   ...     \n",
       "1        Firefox               desktop            False   ...     \n",
       "2         Chrome               desktop            False   ...     \n",
       "3     UC Browser               desktop            False   ...     \n",
       "4         Chrome                mobile             True   ...     \n",
       "\n",
       "  trafficSource_campaign trafficSource_campaignCode  \\\n",
       "0              (not set)                        NaN   \n",
       "1              (not set)                        NaN   \n",
       "2              (not set)                        NaN   \n",
       "3              (not set)                        NaN   \n",
       "4              (not set)                        NaN   \n",
       "\n",
       "  trafficSource_isTrueDirect trafficSource_keyword trafficSource_medium  \\\n",
       "0                        NaN        (not provided)              organic   \n",
       "1                        NaN        (not provided)              organic   \n",
       "2                        NaN        (not provided)              organic   \n",
       "3                        NaN       google + online              organic   \n",
       "4                       True        (not provided)              organic   \n",
       "\n",
       "  trafficSource_referralPath trafficSource_source month day weekday  \n",
       "0                        NaN               google     9   2       4  \n",
       "1                        NaN               google     9   2       4  \n",
       "2                        NaN               google     9   2       4  \n",
       "3                        NaN               google     9   2       4  \n",
       "4                        NaN               google     9   2       4  \n",
       "\n",
       "[5 rows x 39 columns]"
      ]
     },
     "execution_count": 205,
     "metadata": {},
     "output_type": "execute_result"
    }
   ],
   "source": [
    "train.head()"
   ]
  },
  {
   "cell_type": "code",
   "execution_count": 206,
   "metadata": {},
   "outputs": [],
   "source": [
    "drop_columns = constant_columns + ['sessionId']"
   ]
  },
  {
   "cell_type": "code",
   "execution_count": 207,
   "metadata": {},
   "outputs": [],
   "source": [
    "drop_columns+=['trafficSource_campaignCode']"
   ]
  },
  {
   "cell_type": "code",
   "execution_count": 209,
   "metadata": {},
   "outputs": [],
   "source": [
    "train = train_df.drop(drop_columns, axis=1)\n",
    "#test = test_df.drop(drop_columns, axis=1)"
   ]
  },
  {
   "cell_type": "code",
   "execution_count": 210,
   "metadata": {},
   "outputs": [],
   "source": [
    "test = test_df.drop(\"sessionId\", axis=1)"
   ]
  },
  {
   "cell_type": "code",
   "execution_count": 213,
   "metadata": {},
   "outputs": [
    {
     "data": {
      "text/plain": [
       "Index(['channelGrouping', 'date', 'fullVisitorId', 'visitId', 'visitNumber',\n",
       "       'visitStartTime', 'device_browser', 'device_deviceCategory',\n",
       "       'device_isMobile', 'device_operatingSystem', 'geoNetwork_city',\n",
       "       'geoNetwork_continent', 'geoNetwork_country', 'geoNetwork_metro',\n",
       "       'geoNetwork_networkDomain', 'geoNetwork_region',\n",
       "       'geoNetwork_subContinent', 'totals_bounces', 'totals_hits',\n",
       "       'totals_newVisits', 'totals_pageviews', 'trafficSource_adContent',\n",
       "       'trafficSource_adwordsClickInfo.adNetworkType',\n",
       "       'trafficSource_adwordsClickInfo.gclId',\n",
       "       'trafficSource_adwordsClickInfo.isVideoAd',\n",
       "       'trafficSource_adwordsClickInfo.page',\n",
       "       'trafficSource_adwordsClickInfo.slot', 'trafficSource_campaign',\n",
       "       'trafficSource_isTrueDirect', 'trafficSource_keyword',\n",
       "       'trafficSource_medium', 'trafficSource_referralPath',\n",
       "       'trafficSource_source', 'month', 'day', 'weekday', 'v_date',\n",
       "       'dayofweek', 'hours'],\n",
       "      dtype='object')"
      ]
     },
     "execution_count": 213,
     "metadata": {},
     "output_type": "execute_result"
    }
   ],
   "source": [
    "train.columns"
   ]
  },
  {
   "cell_type": "code",
   "execution_count": 214,
   "metadata": {},
   "outputs": [
    {
     "ename": "KeyboardInterrupt",
     "evalue": "",
     "output_type": "error",
     "traceback": [
      "\u001b[0;31m---------------------------------------------------------------------------\u001b[0m",
      "\u001b[0;31mKeyboardInterrupt\u001b[0m                         Traceback (most recent call last)",
      "\u001b[0;32m<ipython-input-214-757e0aec9aeb>\u001b[0m in \u001b[0;36m<module>\u001b[0;34m()\u001b[0m\n\u001b[1;32m     12\u001b[0m \u001b[0;34m\u001b[0m\u001b[0m\n\u001b[1;32m     13\u001b[0m \u001b[0mtrain\u001b[0m \u001b[0;34m=\u001b[0m \u001b[0mdataframe\u001b[0m\u001b[0;34m(\u001b[0m\u001b[0;34m\"train.csv\"\u001b[0m\u001b[0;34m)\u001b[0m\u001b[0;34m\u001b[0m\u001b[0m\n\u001b[0;32m---> 14\u001b[0;31m \u001b[0mtest\u001b[0m \u001b[0;34m=\u001b[0m \u001b[0mdataframe\u001b[0m\u001b[0;34m(\u001b[0m\u001b[0;34m\"test.csv\"\u001b[0m\u001b[0;34m)\u001b[0m\u001b[0;34m\u001b[0m\u001b[0m\n\u001b[0m",
      "\u001b[0;32m<ipython-input-214-757e0aec9aeb>\u001b[0m in \u001b[0;36mdataframe\u001b[0;34m(filename)\u001b[0m\n\u001b[1;32m      8\u001b[0m         \u001b[0mcolumn_as_df\u001b[0m \u001b[0;34m=\u001b[0m \u001b[0mjson_normalize\u001b[0m\u001b[0;34m(\u001b[0m\u001b[0mdf\u001b[0m\u001b[0;34m[\u001b[0m\u001b[0mcolumn\u001b[0m\u001b[0;34m]\u001b[0m\u001b[0;34m)\u001b[0m\u001b[0;34m\u001b[0m\u001b[0m\n\u001b[1;32m      9\u001b[0m         \u001b[0mcolumn_as_df\u001b[0m\u001b[0;34m.\u001b[0m\u001b[0mcolumns\u001b[0m \u001b[0;34m=\u001b[0m \u001b[0;34m[\u001b[0m\u001b[0;34mf\"{column}_{subcolumn}\"\u001b[0m \u001b[0;32mfor\u001b[0m \u001b[0msubcolumn\u001b[0m \u001b[0;32min\u001b[0m \u001b[0mcolumn_as_df\u001b[0m\u001b[0;34m.\u001b[0m\u001b[0mcolumns\u001b[0m\u001b[0;34m]\u001b[0m\u001b[0;34m\u001b[0m\u001b[0m\n\u001b[0;32m---> 10\u001b[0;31m         \u001b[0mdf\u001b[0m \u001b[0;34m=\u001b[0m \u001b[0mdf\u001b[0m\u001b[0;34m.\u001b[0m\u001b[0mdrop\u001b[0m\u001b[0;34m(\u001b[0m\u001b[0mcolumn\u001b[0m\u001b[0;34m,\u001b[0m \u001b[0maxis\u001b[0m\u001b[0;34m=\u001b[0m\u001b[0;36m1\u001b[0m\u001b[0;34m)\u001b[0m\u001b[0;34m.\u001b[0m\u001b[0mmerge\u001b[0m\u001b[0;34m(\u001b[0m\u001b[0mcolumn_as_df\u001b[0m\u001b[0;34m,\u001b[0m \u001b[0mright_index\u001b[0m\u001b[0;34m=\u001b[0m\u001b[0;32mTrue\u001b[0m\u001b[0;34m,\u001b[0m \u001b[0mleft_index\u001b[0m\u001b[0;34m=\u001b[0m\u001b[0;32mTrue\u001b[0m\u001b[0;34m)\u001b[0m\u001b[0;34m\u001b[0m\u001b[0m\n\u001b[0m\u001b[1;32m     11\u001b[0m     \u001b[0;32mreturn\u001b[0m \u001b[0mdf\u001b[0m\u001b[0;34m\u001b[0m\u001b[0m\n\u001b[1;32m     12\u001b[0m \u001b[0;34m\u001b[0m\u001b[0m\n",
      "\u001b[0;31mKeyboardInterrupt\u001b[0m: "
     ]
    }
   ],
   "source": [
    "json_columns = ['device', 'geoNetwork','totals', 'trafficSource']\n",
    "def dataframe(filename):\n",
    "    path = filename\n",
    "    df = pd.read_csv(path, converters={column: json.loads for column in json_columns}, \n",
    "                     dtype={'fullVisitorId': 'str'})\n",
    "    \n",
    "    for column in json_columns:\n",
    "        column_as_df = json_normalize(df[column])\n",
    "        column_as_df.columns = [f\"{column}_{subcolumn}\" for subcolumn in column_as_df.columns]\n",
    "        df = df.drop(column, axis=1).merge(column_as_df, right_index=True, left_index=True)\n",
    "    return df\n",
    "\n",
    "train = dataframe(\"train.csv\")\n",
    "test = dataframe(\"test.csv\")"
   ]
  },
  {
   "cell_type": "code",
   "execution_count": 2,
   "metadata": {},
   "outputs": [
    {
     "ename": "NameError",
     "evalue": "name 'train_df' is not defined",
     "output_type": "error",
     "traceback": [
      "\u001b[0;31m---------------------------------------------------------------------------\u001b[0m",
      "\u001b[0;31mNameError\u001b[0m                                 Traceback (most recent call last)",
      "\u001b[0;32m<ipython-input-2-ea99a0224e67>\u001b[0m in \u001b[0;36m<module>\u001b[0;34m()\u001b[0m\n\u001b[0;32m----> 1\u001b[0;31m \u001b[0mtrain_df\u001b[0m\u001b[0;34m.\u001b[0m\u001b[0mshape\u001b[0m\u001b[0;34m\u001b[0m\u001b[0m\n\u001b[0m",
      "\u001b[0;31mNameError\u001b[0m: name 'train_df' is not defined"
     ]
    }
   ],
   "source": [
    "train_df.shape"
   ]
  },
  {
   "cell_type": "code",
   "execution_count": 3,
   "metadata": {},
   "outputs": [
    {
     "name": "stderr",
     "output_type": "stream",
     "text": [
      "/anaconda3/lib/python3.6/site-packages/lightgbm/__init__.py:46: UserWarning: Starting from version 2.2.1, the library file in distribution wheels for macOS is built by the Apple Clang (Xcode_9.4.1) compiler.\n",
      "This means that in case of installing LightGBM from PyPI via the ``pip install lightgbm`` command, you don't need to install the gcc compiler anymore.\n",
      "Instead of that, you need to install the OpenMP library, which is required for running LightGBM on the system with the Apple Clang compiler.\n",
      "You can install the OpenMP library by the following command: ``brew install libomp``.\n",
      "  \"You can install the OpenMP library by the following command: ``brew install libomp``.\", UserWarning)\n"
     ]
    }
   ],
   "source": [
    "import lightgbm\n",
    "import pandas as pd\n",
    "import numpy as np\n",
    "import time\n",
    "import lightgbm as lgb\n",
    "from sklearn.metrics import mean_squared_error\n",
    "from sklearn.model_selection import KFold\n",
    "import matplotlib.pyplot as plt\n",
    "import seaborn as sns\n",
    "\n",
    "import os\n",
    "import json\n",
    "import numpy as np\n",
    "import pandas as pd\n",
    "from pandas.io.json import json_normalize\n",
    "\n",
    "normalize_columns = ['device', 'geoNetwork','totals', 'trafficSource']\n",
    "def normalize_json_data(filename):\n",
    "    path = filename\n",
    "    df = pd.read_csv(path, converters={column: json.loads for column in normalize_columns}, \n",
    "                     dtype={'fullVisitorId': 'str'})\n",
    "    \n",
    "    for column in normalize_columns:\n",
    "        column_as_df = json_normalize(df[column])\n",
    "        column_as_df.columns = [f\"{column}_{subcolumn}\" for subcolumn in column_as_df.columns]\n",
    "        df = df.drop(column, axis=1).merge(column_as_df, right_index=True, left_index=True)\n",
    "    return df\n",
    "\n",
    "train = normalize_json_data(\"train.csv\")\n",
    "test = normalize_json_data(\"test.csv\")"
   ]
  },
  {
   "cell_type": "code",
   "execution_count": 4,
   "metadata": {},
   "outputs": [],
   "source": [
    "train[\"totals_transactionRevenue\"] = train[\"totals_transactionRevenue\"].astype('float')"
   ]
  },
  {
   "cell_type": "code",
   "execution_count": null,
   "metadata": {},
   "outputs": [],
   "source": []
  }
 ],
 "metadata": {
  "kernelspec": {
   "display_name": "Python 3",
   "language": "python",
   "name": "python3"
  },
  "language_info": {
   "codemirror_mode": {
    "name": "ipython",
    "version": 3
   },
   "file_extension": ".py",
   "mimetype": "text/x-python",
   "name": "python",
   "nbconvert_exporter": "python",
   "pygments_lexer": "ipython3",
   "version": "3.6.5"
  }
 },
 "nbformat": 4,
 "nbformat_minor": 2
}
